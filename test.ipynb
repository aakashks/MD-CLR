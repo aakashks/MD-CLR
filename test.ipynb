{
 "cells": [
  {
   "cell_type": "code",
   "execution_count": 1,
   "metadata": {},
   "outputs": [],
   "source": [
    "OUTPUT_FOLDER = \"/scratch/aakash_ks.iitr/dr-scnn/\"\n",
    "DATA_FOLDER = \"/scratch/aakash_ks.iitr/data/diabetic-retinopathy/\"\n",
    "TRAIN_DATA_FOLDER = DATA_FOLDER + 'resized_train/'"
   ]
  },
  {
   "cell_type": "code",
   "execution_count": 2,
   "metadata": {},
   "outputs": [],
   "source": [
    "# PyTorch modules\n",
    "import torch\n",
    "from torch import nn \n",
    "from torch.utils import data \n",
    "import torch.nn.functional as F \n",
    "from torchvision import transforms, models\n",
    "\n",
    "# other modules\n",
    "import os\n",
    "import pandas as pd\n",
    "import numpy as np\n",
    "from PIL import Image\n",
    "from glob import glob\n",
    "import random\n",
    "import itertools"
   ]
  },
  {
   "cell_type": "code",
   "execution_count": 3,
   "metadata": {},
   "outputs": [],
   "source": [
    "train_data = pd.read_csv(os.path.join(DATA_FOLDER, 'trainLabels.csv'))"
   ]
  },
  {
   "cell_type": "code",
   "execution_count": 140,
   "metadata": {},
   "outputs": [],
   "source": [
    "def freeze_initial_layers(model, freeze_up_to_layer=2):\n",
    "    # The ResNet50 features block is typically named 'layerX' in PyTorch\n",
    "    layer_names = ['conv1', 'bn1', 'layer1', 'layer2', 'layer3', 'layer4']\n",
    "    # Iterate over model children (first level only, adjust as needed)\n",
    "    for name, child in model.named_children():\n",
    "        if name in layer_names[:freeze_up_to_layer]:\n",
    "            for param in child.parameters():\n",
    "                param.requires_grad = False\n",
    "            print(f'Layer {name} has been frozen.')\n",
    "        else:\n",
    "            print(f'Layer {name} is trainable.')"
   ]
  },
  {
   "cell_type": "code",
   "execution_count": 141,
   "metadata": {},
   "outputs": [
    {
     "name": "stdout",
     "output_type": "stream",
     "text": [
      "Layer conv1 has been frozen.\n",
      "Layer bn1 has been frozen.\n",
      "Layer act1 is trainable.\n",
      "Layer maxpool is trainable.\n",
      "Layer layer1 has been frozen.\n",
      "Layer layer2 is trainable.\n",
      "Layer layer3 is trainable.\n",
      "Layer layer4 is trainable.\n",
      "Layer global_pool is trainable.\n",
      "Layer fc is trainable.\n"
     ]
    }
   ],
   "source": [
    "freeze_initial_layers(model, freeze_up_to_layer=3)  # Adjust the index to select up to which layer to freeze"
   ]
  }
 ],
 "metadata": {
  "kernelspec": {
   "display_name": "Python 3 (ipykernel)",
   "language": "python",
   "name": "python3"
  },
  "language_info": {
   "codemirror_mode": {
    "name": "ipython",
    "version": 3
   },
   "file_extension": ".py",
   "mimetype": "text/x-python",
   "name": "python",
   "nbconvert_exporter": "python",
   "pygments_lexer": "ipython3",
   "version": "3.11.9"
  }
 },
 "nbformat": 4,
 "nbformat_minor": 2
}
