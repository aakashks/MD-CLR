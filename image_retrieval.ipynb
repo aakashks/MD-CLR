{
 "cells": [
  {
   "cell_type": "code",
   "execution_count": null,
   "metadata": {},
   "outputs": [],
   "source": [
    "OUTPUT_FOLDER = \"/scratch/aakash_ks.iitr/dr-scnn/\"\n",
    "DATA_FOLDER = \"/scratch/aakash_ks.iitr/data/diabetic-retinopathy/\"\n",
    "# TRAIN_DATA_FOLDER = DATA_FOLDER + 'resized_train/'\n",
    "TRAIN_DATA_FOLDER = DATA_FOLDER + 'resized_train_c/'\n",
    "TEST_DATA_FOLDER = DATA_FOLDER + 'test/'"
   ]
  }
 ],
 "metadata": {
  "language_info": {
   "name": "python"
  }
 },
 "nbformat": 4,
 "nbformat_minor": 2
}
