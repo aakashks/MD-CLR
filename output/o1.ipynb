{
 "cells": [
  {
   "cell_type": "markdown",
   "id": "172f682b",
   "metadata": {
    "id": "JC-p4CpT1_Lc",
    "papermill": {
     "duration": 0.017774,
     "end_time": "2024-05-12T00:00:19.417856",
     "exception": false,
     "start_time": "2024-05-12T00:00:19.400082",
     "status": "completed"
    },
    "tags": []
   },
   "source": [
    "# Load Data"
   ]
  },
  {
   "cell_type": "code",
   "execution_count": 1,
   "id": "c984e54c",
   "metadata": {
    "execution": {
     "iopub.execute_input": "2024-05-12T00:00:19.447153Z",
     "iopub.status.busy": "2024-05-12T00:00:19.446702Z",
     "iopub.status.idle": "2024-05-12T00:00:19.458348Z",
     "shell.execute_reply": "2024-05-12T00:00:19.457371Z"
    },
    "id": "gr9MjCphpOPx",
    "papermill": {
     "duration": 0.02828,
     "end_time": "2024-05-12T00:00:19.460762",
     "exception": false,
     "start_time": "2024-05-12T00:00:19.432482",
     "status": "completed"
    },
    "tags": []
   },
   "outputs": [],
   "source": [
    "# where we will unpack data\n",
    "# OUTPUT_FOLDER = \"/kaggle/working/\"\n",
    "# DATA_FOLDER = \"/kaggle/input/solfune-satellite/\"\n",
    "# TRAIN_DATA_FOLDER = DATA_FOLDER + 'train/'\n",
    "\n",
    "OUTPUT_FOLDER = \"/scratch/aakash_ks.iitr/dr-scnn/\"\n",
    "DATA_FOLDER = \"/scratch/aakash_ks.iitr/data/diabetic-retinopathy/\"\n",
    "TRAIN_DATA_FOLDER = DATA_FOLDER + 'resized_train_c/'\n",
    "# TEST_DATA_FOLDER = DATA_FOLDER + 'test/'"
   ]
  },
  {
   "cell_type": "markdown",
   "id": "ab6e5719",
   "metadata": {
    "id": "dOaKi5h92DBb",
    "papermill": {
     "duration": 0.010482,
     "end_time": "2024-05-12T00:00:19.482632",
     "exception": false,
     "start_time": "2024-05-12T00:00:19.472150",
     "status": "completed"
    },
    "tags": []
   },
   "source": [
    "# Imports"
   ]
  },
  {
   "cell_type": "code",
   "execution_count": 2,
   "id": "87abeefd",
   "metadata": {
    "execution": {
     "iopub.execute_input": "2024-05-12T00:00:19.504374Z",
     "iopub.status.busy": "2024-05-12T00:00:19.503800Z",
     "iopub.status.idle": "2024-05-12T00:00:20.756585Z",
     "shell.execute_reply": "2024-05-12T00:00:20.755840Z"
    },
    "id": "NNdj2cxdkpiv",
    "papermill": {
     "duration": 1.266817,
     "end_time": "2024-05-12T00:00:20.759574",
     "exception": false,
     "start_time": "2024-05-12T00:00:19.492757",
     "status": "completed"
    },
    "tags": []
   },
   "outputs": [],
   "source": [
    "import os\n",
    "import random\n",
    "import numpy as np\n",
    "import pandas as pd\n",
    "import matplotlib.pyplot as plt\n",
    "import seaborn as sns\n",
    "from tqdm import tqdm\n",
    "\n",
    "from PIL import Image"
   ]
  },
  {
   "cell_type": "code",
   "execution_count": 3,
   "id": "8424e1d3",
   "metadata": {
    "execution": {
     "iopub.execute_input": "2024-05-12T00:00:20.791421Z",
     "iopub.status.busy": "2024-05-12T00:00:20.790912Z",
     "iopub.status.idle": "2024-05-12T00:00:24.573705Z",
     "shell.execute_reply": "2024-05-12T00:00:24.573136Z"
    },
    "id": "7yoCqGCB2jIS",
    "papermill": {
     "duration": 3.800665,
     "end_time": "2024-05-12T00:00:24.576615",
     "exception": false,
     "start_time": "2024-05-12T00:00:20.775950",
     "status": "completed"
    },
    "tags": []
   },
   "outputs": [
    {
     "name": "stderr",
     "output_type": "stream",
     "text": [
      "/home/aakash_ks.iitr/miniconda3/envs/py311/lib/python3.11/site-packages/tqdm/auto.py:21: TqdmWarning: IProgress not found. Please update jupyter and ipywidgets. See https://ipywidgets.readthedocs.io/en/stable/user_install.html\n",
      "  from .autonotebook import tqdm as notebook_tqdm\n"
     ]
    }
   ],
   "source": [
    "import torch\n",
    "import torch.nn.functional as F\n",
    "import torch.nn as nn\n",
    "\n",
    "from torch.utils.data import DataLoader, Dataset, WeightedRandomSampler\n",
    "from torchvision.transforms import v2\n",
    "\n",
    "import timm"
   ]
  },
  {
   "cell_type": "code",
   "execution_count": 4,
   "id": "8b3a39f0",
   "metadata": {
    "execution": {
     "iopub.execute_input": "2024-05-12T00:00:24.613482Z",
     "iopub.status.busy": "2024-05-12T00:00:24.613186Z",
     "iopub.status.idle": "2024-05-12T00:00:24.630922Z",
     "shell.execute_reply": "2024-05-12T00:00:24.630143Z"
    },
    "id": "8Ejzj4rDx_GK",
    "papermill": {
     "duration": 0.036932,
     "end_time": "2024-05-12T00:00:24.633095",
     "exception": false,
     "start_time": "2024-05-12T00:00:24.596163",
     "status": "completed"
    },
    "tags": []
   },
   "outputs": [],
   "source": [
    "NUM_CLASSES = 5\n",
    "\n",
    "class CFG:\n",
    "    seed = 42\n",
    "    N_folds = 5\n",
    "    train_folds = [0] # [0,1,2,3,4]\n",
    "\n",
    "    device = 'cuda' if torch.cuda.is_available() else 'cpu'\n",
    "    apex=True # use half precision\n",
    "\n",
    "    # model_name = \"maxvit_tiny_tf_512\"\n",
    "    model_name = \"resnet50.a1_in1k\"\n",
    "    epochs = 20\n",
    "    # weights =  torch.tensor([0.206119, 0.793881],dtype=torch.float32)\n",
    "\n",
    "    clip_val = 1000.\n",
    "    batch_size = 64\n",
    "    # gradient_accumulation_steps = 1\n",
    "\n",
    "    lr = 1e-4\n",
    "    weight_decay=1e-2\n",
    "    \n",
    "    resolution = 224"
   ]
  },
  {
   "cell_type": "code",
   "execution_count": 5,
   "id": "37b54230",
   "metadata": {
    "execution": {
     "iopub.execute_input": "2024-05-12T00:00:24.658813Z",
     "iopub.status.busy": "2024-05-12T00:00:24.657948Z",
     "iopub.status.idle": "2024-05-12T00:00:29.850911Z",
     "shell.execute_reply": "2024-05-12T00:00:29.850357Z"
    },
    "papermill": {
     "duration": 5.207826,
     "end_time": "2024-05-12T00:00:29.853006",
     "exception": false,
     "start_time": "2024-05-12T00:00:24.645180",
     "status": "completed"
    },
    "tags": []
   },
   "outputs": [
    {
     "name": "stderr",
     "output_type": "stream",
     "text": [
      "\u001b[34m\u001b[1mwandb\u001b[0m: Currently logged in as: \u001b[33maakashks_\u001b[0m. Use \u001b[1m`wandb login --relogin`\u001b[0m to force relogin\n"
     ]
    },
    {
     "name": "stderr",
     "output_type": "stream",
     "text": [
      "\u001b[34m\u001b[1mwandb\u001b[0m: wandb version 0.17.0 is available!  To upgrade, please run:\n",
      "\u001b[34m\u001b[1mwandb\u001b[0m:  $ pip install wandb --upgrade\n"
     ]
    },
    {
     "name": "stderr",
     "output_type": "stream",
     "text": [
      "\u001b[34m\u001b[1mwandb\u001b[0m: Tracking run with wandb version 0.16.5\n"
     ]
    },
    {
     "name": "stderr",
     "output_type": "stream",
     "text": [
      "\u001b[34m\u001b[1mwandb\u001b[0m: Run data is saved locally in \u001b[35m\u001b[1m/scratch/aakash_ks.iitr/dr-scnn/wandb/run-20240512_053026-dd64tuin\u001b[0m\n",
      "\u001b[34m\u001b[1mwandb\u001b[0m: Run \u001b[1m`wandb offline`\u001b[0m to turn off syncing.\n"
     ]
    },
    {
     "name": "stderr",
     "output_type": "stream",
     "text": [
      "\u001b[34m\u001b[1mwandb\u001b[0m: Syncing run \u001b[33msmooth-armadillo-46\u001b[0m\n"
     ]
    },
    {
     "name": "stderr",
     "output_type": "stream",
     "text": [
      "\u001b[34m\u001b[1mwandb\u001b[0m: ⭐️ View project at \u001b[34m\u001b[4mhttps://wandb.ai/aakashks_/hello-world\u001b[0m\n"
     ]
    },
    {
     "name": "stderr",
     "output_type": "stream",
     "text": [
      "\u001b[34m\u001b[1mwandb\u001b[0m: 🚀 View run at \u001b[34m\u001b[4mhttps://wandb.ai/aakashks_/hello-world/runs/dd64tuin/workspace\u001b[0m\n"
     ]
    }
   ],
   "source": [
    "import wandb\n",
    "# from kaggle_secrets import UserSecretsClient\n",
    "# user_secrets = UserSecretsClient()\n",
    "# wandb.login(key=user_secrets.get_secret(\"wandb_api\"))\n",
    "\n",
    "run = wandb.init(\n",
    "    project=\"hello-world\", \n",
    "    dir=OUTPUT_FOLDER,\n",
    "    config={\n",
    "    k:v for k, v in CFG.__dict__.items() if not k.startswith('__')}\n",
    ")"
   ]
  },
  {
   "cell_type": "code",
   "execution_count": 6,
   "id": "2f20fc1a",
   "metadata": {
    "execution": {
     "iopub.execute_input": "2024-05-12T00:00:29.878032Z",
     "iopub.status.busy": "2024-05-12T00:00:29.877766Z",
     "iopub.status.idle": "2024-05-12T00:00:29.881244Z",
     "shell.execute_reply": "2024-05-12T00:00:29.880403Z"
    },
    "papermill": {
     "duration": 0.017044,
     "end_time": "2024-05-12T00:00:29.882800",
     "exception": false,
     "start_time": "2024-05-12T00:00:29.865756",
     "status": "completed"
    },
    "tags": []
   },
   "outputs": [],
   "source": [
    "device = torch.device(CFG.device)"
   ]
  },
  {
   "cell_type": "markdown",
   "id": "a1a734b6",
   "metadata": {
    "id": "7Ve34id2b7uu",
    "papermill": {
     "duration": 0.009547,
     "end_time": "2024-05-12T00:00:29.902557",
     "exception": false,
     "start_time": "2024-05-12T00:00:29.893010",
     "status": "completed"
    },
    "tags": []
   },
   "source": [
    "# Load train data"
   ]
  },
  {
   "cell_type": "code",
   "execution_count": 7,
   "id": "61f287d1",
   "metadata": {
    "execution": {
     "iopub.execute_input": "2024-05-12T00:00:29.921717Z",
     "iopub.status.busy": "2024-05-12T00:00:29.921493Z",
     "iopub.status.idle": "2024-05-12T00:00:29.971863Z",
     "shell.execute_reply": "2024-05-12T00:00:29.971117Z"
    },
    "id": "mq-oqFtvkpix",
    "papermill": {
     "duration": 0.062536,
     "end_time": "2024-05-12T00:00:29.974468",
     "exception": false,
     "start_time": "2024-05-12T00:00:29.911932",
     "status": "completed"
    },
    "tags": []
   },
   "outputs": [
    {
     "data": {
      "text/html": [
       "<div>\n",
       "<style scoped>\n",
       "    .dataframe tbody tr th:only-of-type {\n",
       "        vertical-align: middle;\n",
       "    }\n",
       "\n",
       "    .dataframe tbody tr th {\n",
       "        vertical-align: top;\n",
       "    }\n",
       "\n",
       "    .dataframe thead th {\n",
       "        text-align: right;\n",
       "    }\n",
       "</style>\n",
       "<table border=\"1\" class=\"dataframe\">\n",
       "  <thead>\n",
       "    <tr style=\"text-align: right;\">\n",
       "      <th></th>\n",
       "      <th>Unnamed: 0.1</th>\n",
       "      <th>Unnamed: 0</th>\n",
       "      <th>image</th>\n",
       "      <th>level</th>\n",
       "    </tr>\n",
       "  </thead>\n",
       "  <tbody>\n",
       "    <tr>\n",
       "      <th>0</th>\n",
       "      <td>0</td>\n",
       "      <td>0</td>\n",
       "      <td>10_left</td>\n",
       "      <td>0</td>\n",
       "    </tr>\n",
       "    <tr>\n",
       "      <th>1</th>\n",
       "      <td>1</td>\n",
       "      <td>1</td>\n",
       "      <td>10_right</td>\n",
       "      <td>0</td>\n",
       "    </tr>\n",
       "    <tr>\n",
       "      <th>2</th>\n",
       "      <td>2</td>\n",
       "      <td>2</td>\n",
       "      <td>13_left</td>\n",
       "      <td>0</td>\n",
       "    </tr>\n",
       "    <tr>\n",
       "      <th>3</th>\n",
       "      <td>3</td>\n",
       "      <td>3</td>\n",
       "      <td>13_right</td>\n",
       "      <td>0</td>\n",
       "    </tr>\n",
       "    <tr>\n",
       "      <th>4</th>\n",
       "      <td>4</td>\n",
       "      <td>4</td>\n",
       "      <td>15_left</td>\n",
       "      <td>1</td>\n",
       "    </tr>\n",
       "    <tr>\n",
       "      <th>...</th>\n",
       "      <td>...</td>\n",
       "      <td>...</td>\n",
       "      <td>...</td>\n",
       "      <td>...</td>\n",
       "    </tr>\n",
       "    <tr>\n",
       "      <th>35103</th>\n",
       "      <td>35104</td>\n",
       "      <td>35121</td>\n",
       "      <td>44347_right</td>\n",
       "      <td>0</td>\n",
       "    </tr>\n",
       "    <tr>\n",
       "      <th>35104</th>\n",
       "      <td>35105</td>\n",
       "      <td>35122</td>\n",
       "      <td>44348_left</td>\n",
       "      <td>0</td>\n",
       "    </tr>\n",
       "    <tr>\n",
       "      <th>35105</th>\n",
       "      <td>35106</td>\n",
       "      <td>35123</td>\n",
       "      <td>44348_right</td>\n",
       "      <td>0</td>\n",
       "    </tr>\n",
       "    <tr>\n",
       "      <th>35106</th>\n",
       "      <td>35107</td>\n",
       "      <td>35124</td>\n",
       "      <td>44349_left</td>\n",
       "      <td>0</td>\n",
       "    </tr>\n",
       "    <tr>\n",
       "      <th>35107</th>\n",
       "      <td>35108</td>\n",
       "      <td>35125</td>\n",
       "      <td>44349_right</td>\n",
       "      <td>1</td>\n",
       "    </tr>\n",
       "  </tbody>\n",
       "</table>\n",
       "<p>35108 rows × 4 columns</p>\n",
       "</div>"
      ],
      "text/plain": [
       "       Unnamed: 0.1  Unnamed: 0        image  level\n",
       "0                 0           0      10_left      0\n",
       "1                 1           1     10_right      0\n",
       "2                 2           2      13_left      0\n",
       "3                 3           3     13_right      0\n",
       "4                 4           4      15_left      1\n",
       "...             ...         ...          ...    ...\n",
       "35103         35104       35121  44347_right      0\n",
       "35104         35105       35122   44348_left      0\n",
       "35105         35106       35123  44348_right      0\n",
       "35106         35107       35124   44349_left      0\n",
       "35107         35108       35125  44349_right      1\n",
       "\n",
       "[35108 rows x 4 columns]"
      ]
     },
     "execution_count": 7,
     "metadata": {},
     "output_type": "execute_result"
    }
   ],
   "source": [
    "train_data = pd.read_csv(os.path.join(DATA_FOLDER, 'trainLabels_cropped.csv'))\n",
    "train_data"
   ]
  },
  {
   "cell_type": "code",
   "execution_count": 8,
   "id": "a03d24c8",
   "metadata": {
    "execution": {
     "iopub.execute_input": "2024-05-12T00:00:30.008348Z",
     "iopub.status.busy": "2024-05-12T00:00:30.007901Z",
     "iopub.status.idle": "2024-05-12T00:00:30.054971Z",
     "shell.execute_reply": "2024-05-12T00:00:30.054125Z"
    },
    "papermill": {
     "duration": 0.065682,
     "end_time": "2024-05-12T00:00:30.057857",
     "exception": false,
     "start_time": "2024-05-12T00:00:29.992175",
     "status": "completed"
    },
    "tags": []
   },
   "outputs": [
    {
     "data": {
      "text/plain": [
       "19944"
      ]
     },
     "execution_count": 8,
     "metadata": {},
     "output_type": "execute_result"
    }
   ],
   "source": [
    "# remove all images from the csv if they are not in the folder\n",
    "lst = map(lambda x: x[:-5], os.listdir(TRAIN_DATA_FOLDER))\n",
    "train_data = train_data[train_data.image.isin(lst)]\n",
    "len(train_data)"
   ]
  },
  {
   "cell_type": "code",
   "execution_count": 9,
   "id": "1a5e75b9",
   "metadata": {
    "execution": {
     "iopub.execute_input": "2024-05-12T00:00:30.092280Z",
     "iopub.status.busy": "2024-05-12T00:00:30.091946Z",
     "iopub.status.idle": "2024-05-12T00:00:30.099968Z",
     "shell.execute_reply": "2024-05-12T00:00:30.099129Z"
    },
    "papermill": {
     "duration": 0.026344,
     "end_time": "2024-05-12T00:00:30.102165",
     "exception": false,
     "start_time": "2024-05-12T00:00:30.075821",
     "status": "completed"
    },
    "tags": []
   },
   "outputs": [
    {
     "data": {
      "text/plain": [
       "level\n",
       "0    14637\n",
       "2     2982\n",
       "1     1405\n",
       "3      498\n",
       "4      422\n",
       "Name: count, dtype: int64"
      ]
     },
     "execution_count": 9,
     "metadata": {},
     "output_type": "execute_result"
    }
   ],
   "source": [
    "train_data.level.value_counts()"
   ]
  },
  {
   "cell_type": "code",
   "execution_count": 10,
   "id": "2d56dad8",
   "metadata": {
    "execution": {
     "iopub.execute_input": "2024-05-12T00:00:30.129219Z",
     "iopub.status.busy": "2024-05-12T00:00:30.128761Z",
     "iopub.status.idle": "2024-05-12T00:00:30.142209Z",
     "shell.execute_reply": "2024-05-12T00:00:30.141319Z"
    },
    "papermill": {
     "duration": 0.028562,
     "end_time": "2024-05-12T00:00:30.144117",
     "exception": false,
     "start_time": "2024-05-12T00:00:30.115555",
     "status": "completed"
    },
    "tags": []
   },
   "outputs": [
    {
     "data": {
      "text/plain": [
       "level\n",
       "1    1000\n",
       "2    1000\n",
       "0    1000\n",
       "3     498\n",
       "4     422\n",
       "Name: count, dtype: int64"
      ]
     },
     "execution_count": 10,
     "metadata": {},
     "output_type": "execute_result"
    }
   ],
   "source": [
    "# take only 100 samples from each class\n",
    "train_data = train_data.groupby('level').head(1000).reset_index(drop=True)\n",
    "train_data.level.value_counts()"
   ]
  },
  {
   "cell_type": "markdown",
   "id": "1d292019",
   "metadata": {
    "id": "1Mu24W3Xkpix",
    "papermill": {
     "duration": 0.010613,
     "end_time": "2024-05-12T00:00:30.166240",
     "exception": false,
     "start_time": "2024-05-12T00:00:30.155627",
     "status": "completed"
    },
    "tags": []
   },
   "source": [
    "# Dataset"
   ]
  },
  {
   "cell_type": "code",
   "execution_count": 11,
   "id": "e62f7895",
   "metadata": {
    "execution": {
     "iopub.execute_input": "2024-05-12T00:00:30.187932Z",
     "iopub.status.busy": "2024-05-12T00:00:30.187401Z",
     "iopub.status.idle": "2024-05-12T00:00:30.199942Z",
     "shell.execute_reply": "2024-05-12T00:00:30.198962Z"
    },
    "papermill": {
     "duration": 0.025105,
     "end_time": "2024-05-12T00:00:30.201622",
     "exception": false,
     "start_time": "2024-05-12T00:00:30.176517",
     "status": "completed"
    },
    "tags": []
   },
   "outputs": [],
   "source": [
    "from torchvision.transforms import functional as func\n",
    "\n",
    "class CustomTransform:\n",
    "    def __init__(self, output_size=(CFG.resolution, CFG.resolution), radius_factor=0.9):\n",
    "        self.output_size = output_size\n",
    "        self.radius_factor = radius_factor\n",
    "\n",
    "    def __call__(self, img):\n",
    "        # Assuming img is a PIL Image\n",
    "        # Normalize and preprocess as previously defined\n",
    "        img = func.resize(img, int(min(img.size) / self.radius_factor))\n",
    "        img_tensor = func.to_tensor(img)\n",
    "        mean, std = img_tensor.mean([1, 2]), img_tensor.std([1, 2])\n",
    "        img_normalized = func.normalize(img_tensor, mean.tolist(), std.tolist())\n",
    "        kernel_size = 15\n",
    "        padding = kernel_size // 2\n",
    "        avg_pool = torch.nn.AvgPool2d(kernel_size, stride=1, padding=padding)\n",
    "        local_avg = avg_pool(img_normalized.unsqueeze(0)).squeeze(0)\n",
    "        img_subtracted = img_normalized - local_avg\n",
    "        center_crop_size = int(min(img_subtracted.shape[1:]) * self.radius_factor)\n",
    "        img_cropped = func.center_crop(img_subtracted, [center_crop_size, center_crop_size])\n",
    "\n",
    "        # Apply augmentations\n",
    "        img_resized = func.resize(img_cropped, self.output_size)\n",
    "\n",
    "        return img_resized"
   ]
  },
  {
   "cell_type": "code",
   "execution_count": 12,
   "id": "5dfa94d4",
   "metadata": {
    "execution": {
     "iopub.execute_input": "2024-05-12T00:00:30.220781Z",
     "iopub.status.busy": "2024-05-12T00:00:30.220284Z",
     "iopub.status.idle": "2024-05-12T00:00:30.228408Z",
     "shell.execute_reply": "2024-05-12T00:00:30.227428Z"
    },
    "papermill": {
     "duration": 0.019374,
     "end_time": "2024-05-12T00:00:30.229935",
     "exception": false,
     "start_time": "2024-05-12T00:00:30.210561",
     "status": "completed"
    },
    "tags": []
   },
   "outputs": [],
   "source": [
    "# train_transforms = CustomTransform()\n",
    "\n",
    "train_transforms = v2.Compose([\n",
    "    CustomTransform(),\n",
    "    # v2.RandomResizedCrop(CFG.resolution, scale=(0.8, 1.0)),  # Krizhevsky style random cropping\n",
    "    v2.RandomHorizontalFlip(),  # Random horizontal flip\n",
    "    v2.RandomVerticalFlip(),  # Random vertical flip\n",
    "    v2.GaussianBlur(kernel_size=(5, 5), sigma=(0.1, 2)),  # Gaussian blur with random kernel size and sigma\n",
    "    v2.RandomRotation(degrees=(0, 90)),  # Random rotation between 0 and 360 degrees\n",
    "    v2.ToDtype(torch.float32, scale=False),\n",
    "])\n",
    "\n",
    "val_transforms = v2.Compose([\n",
    "    CustomTransform(),\n",
    "    v2.ToDtype(torch.float32, scale=False),\n",
    "])"
   ]
  },
  {
   "cell_type": "code",
   "execution_count": 13,
   "id": "d39d80c3",
   "metadata": {
    "execution": {
     "iopub.execute_input": "2024-05-12T00:00:30.247568Z",
     "iopub.status.busy": "2024-05-12T00:00:30.247101Z",
     "iopub.status.idle": "2024-05-12T00:00:30.254641Z",
     "shell.execute_reply": "2024-05-12T00:00:30.253758Z"
    },
    "id": "_mAcIdn2kpiy",
    "papermill": {
     "duration": 0.017828,
     "end_time": "2024-05-12T00:00:30.255986",
     "exception": false,
     "start_time": "2024-05-12T00:00:30.238158",
     "status": "completed"
    },
    "scrolled": true,
    "tags": []
   },
   "outputs": [],
   "source": [
    "class ImageTrainDataset(Dataset):\n",
    "    def __init__(\n",
    "        self,\n",
    "        folder,\n",
    "        data,\n",
    "        transforms,\n",
    "    ):\n",
    "        self.folder = folder\n",
    "        self.data = data\n",
    "        self.transforms = transforms\n",
    "\n",
    "    def __len__(self):\n",
    "        return len(self.data)\n",
    "\n",
    "    def __getitem__(self, index):\n",
    "        d = self.data.loc[index]\n",
    "        image = Image.open(f\"{self.folder}{d.image}.jpeg\")\n",
    "        image = self.transforms(image)\n",
    "        label = d.level\n",
    "\n",
    "        return image, torch.tensor(label, dtype=torch.long)"
   ]
  },
  {
   "cell_type": "code",
   "execution_count": 14,
   "id": "12c6f510",
   "metadata": {
    "execution": {
     "iopub.execute_input": "2024-05-12T00:00:30.271855Z",
     "iopub.status.busy": "2024-05-12T00:00:30.271519Z",
     "iopub.status.idle": "2024-05-12T00:00:30.275343Z",
     "shell.execute_reply": "2024-05-12T00:00:30.274526Z"
    },
    "papermill": {
     "duration": 0.013144,
     "end_time": "2024-05-12T00:00:30.276561",
     "exception": false,
     "start_time": "2024-05-12T00:00:30.263417",
     "status": "completed"
    },
    "tags": []
   },
   "outputs": [],
   "source": [
    "# # visualize the transformations\n",
    "# train_dataset = ImageTrainDataset(TRAIN_DATA_FOLDER, train_data, train_transforms)\n",
    "# image, label = train_dataset[10]\n",
    "# transformed_img_pil = func.to_pil_image(image)\n",
    "# plt.imshow(transformed_img_pil)"
   ]
  },
  {
   "cell_type": "markdown",
   "id": "dd1cf614",
   "metadata": {
    "id": "OzgB1JpAv3qg",
    "papermill": {
     "duration": 0.006779,
     "end_time": "2024-05-12T00:00:30.290381",
     "exception": false,
     "start_time": "2024-05-12T00:00:30.283602",
     "status": "completed"
    },
    "tags": []
   },
   "source": [
    "# Metric"
   ]
  },
  {
   "cell_type": "code",
   "execution_count": 15,
   "id": "55d48ee9",
   "metadata": {
    "execution": {
     "iopub.execute_input": "2024-05-12T00:00:30.305225Z",
     "iopub.status.busy": "2024-05-12T00:00:30.304724Z",
     "iopub.status.idle": "2024-05-12T00:00:30.449716Z",
     "shell.execute_reply": "2024-05-12T00:00:30.448758Z"
    },
    "id": "WNxSAhBrxJ-G",
    "papermill": {
     "duration": 0.155299,
     "end_time": "2024-05-12T00:00:30.452502",
     "exception": false,
     "start_time": "2024-05-12T00:00:30.297203",
     "status": "completed"
    },
    "tags": []
   },
   "outputs": [],
   "source": [
    "from sklearn.metrics import f1_score as sklearn_f1\n",
    "from sklearn.metrics import confusion_matrix, roc_auc_score"
   ]
  },
  {
   "cell_type": "code",
   "execution_count": 16,
   "id": "a17ef5a0",
   "metadata": {
    "execution": {
     "iopub.execute_input": "2024-05-12T00:00:30.488346Z",
     "iopub.status.busy": "2024-05-12T00:00:30.487897Z",
     "iopub.status.idle": "2024-05-12T00:00:30.492966Z",
     "shell.execute_reply": "2024-05-12T00:00:30.491923Z"
    },
    "id": "n0u9VgXTv7VU",
    "papermill": {
     "duration": 0.024387,
     "end_time": "2024-05-12T00:00:30.495394",
     "exception": false,
     "start_time": "2024-05-12T00:00:30.471007",
     "status": "completed"
    },
    "tags": []
   },
   "outputs": [],
   "source": [
    "# def find_best_threshold(targets, predictions):\n",
    "#     score_5 = sklearn_f1(targets, predictions > 0.5)\n",
    "#     best_score = 0\n",
    "#     best_th = -1\n",
    "#     for i in range(100):\n",
    "#         threshold =  i/100\n",
    "#         _score = sklearn_f1(targets, predictions > threshold)\n",
    "#         if _score > best_score:\n",
    "#             best_score = _score\n",
    "#             best_th = threshold\n",
    "\n",
    "#     tn, fp, fn, tp = confusion_matrix(targets.numpy(), predictions.numpy() > best_th).ravel()\n",
    "#     print(f\"tp: {tp}, tn: {tn}, fp: {fp}, fn: {fn}\")\n",
    "#     return score_5, best_score, best_th"
   ]
  },
  {
   "cell_type": "markdown",
   "id": "4442b103",
   "metadata": {
    "id": "Zyfw9PLdkpiz",
    "papermill": {
     "duration": 0.012492,
     "end_time": "2024-05-12T00:00:30.521581",
     "exception": false,
     "start_time": "2024-05-12T00:00:30.509089",
     "status": "completed"
    },
    "tags": []
   },
   "source": [
    "# Train and evaluate functions"
   ]
  },
  {
   "cell_type": "code",
   "execution_count": 17,
   "id": "c98acc6c",
   "metadata": {
    "execution": {
     "iopub.execute_input": "2024-05-12T00:00:30.546221Z",
     "iopub.status.busy": "2024-05-12T00:00:30.545650Z",
     "iopub.status.idle": "2024-05-12T00:00:30.551339Z",
     "shell.execute_reply": "2024-05-12T00:00:30.550312Z"
    },
    "papermill": {
     "duration": 0.019707,
     "end_time": "2024-05-12T00:00:30.553018",
     "exception": false,
     "start_time": "2024-05-12T00:00:30.533311",
     "status": "completed"
    },
    "tags": []
   },
   "outputs": [],
   "source": [
    "class style:\n",
    "    BLUE = '\\033[94m'\n",
    "    GREEN = '\\033[92m'\n",
    "    YELLOW = '\\033[93m'\n",
    "    END = '\\033[0m'\n",
    "    BOLD = '\\033[1m'"
   ]
  },
  {
   "cell_type": "code",
   "execution_count": 18,
   "id": "5dd4cfa0",
   "metadata": {
    "execution": {
     "iopub.execute_input": "2024-05-12T00:00:30.574820Z",
     "iopub.status.busy": "2024-05-12T00:00:30.574303Z",
     "iopub.status.idle": "2024-05-12T00:00:30.580528Z",
     "shell.execute_reply": "2024-05-12T00:00:30.579577Z"
    },
    "id": "KKt67LPn9YtB",
    "papermill": {
     "duration": 0.01886,
     "end_time": "2024-05-12T00:00:30.582179",
     "exception": false,
     "start_time": "2024-05-12T00:00:30.563319",
     "status": "completed"
    },
    "tags": []
   },
   "outputs": [],
   "source": [
    "def seed_everything(seed=42):\n",
    "    random.seed(seed)\n",
    "    os.environ['PYTHONHASHSEED'] = str(seed)\n",
    "    np.random.seed(seed)\n",
    "    torch.manual_seed(seed)\n",
    "    torch.cuda.manual_seed(seed)"
   ]
  },
  {
   "cell_type": "code",
   "execution_count": 19,
   "id": "1d9f1253",
   "metadata": {
    "execution": {
     "iopub.execute_input": "2024-05-12T00:00:30.637515Z",
     "iopub.status.busy": "2024-05-12T00:00:30.636921Z",
     "iopub.status.idle": "2024-05-12T00:00:30.649699Z",
     "shell.execute_reply": "2024-05-12T00:00:30.648524Z"
    },
    "id": "yXcFJ6IYkpiz",
    "papermill": {
     "duration": 0.02374,
     "end_time": "2024-05-12T00:00:30.651244",
     "exception": false,
     "start_time": "2024-05-12T00:00:30.627504",
     "status": "completed"
    },
    "tags": []
   },
   "outputs": [],
   "source": [
    "def evaluate_model(cfg, model, data_loader, loss_criterion, epoch=-1):\n",
    "    # loss_fn = nn.CrossEntropyLoss(weight=cfg.weights.to(device), label_smoothing=0.1)\n",
    "    loss_fn = loss_criterion\n",
    "\n",
    "    model.eval()\n",
    "    val_loss = 0\n",
    "\n",
    "    targets = []\n",
    "    predictions = []\n",
    "\n",
    "    total_len = len(data_loader)\n",
    "    tk0 = tqdm(enumerate(data_loader), total=total_len)\n",
    "    for step, (images, labels) in tk0:\n",
    "        images = images.to(device)\n",
    "        target = labels.to(device)\n",
    "\n",
    "        with torch.no_grad():\n",
    "            logits = model(images)\n",
    "\n",
    "        loss = loss_fn(logits, target)\n",
    "        val_loss += loss.item()\n",
    "\n",
    "        targets.append(target.detach().cpu())\n",
    "        predictions.append(logits.detach().cpu())\n",
    "        del images, target, logits\n",
    "\n",
    "    targets = torch.cat(targets, dim=0)\n",
    "    predictions = torch.cat(predictions, dim=0)\n",
    "    predictions = F.sigmoid(predictions)\n",
    "\n",
    "    val_loss /= total_len\n",
    "    # base_score, best_score, best_th = find_best_threshold(targets, predictions[:, 1])\n",
    "    # roc_auc = roc_auc_score(targets.numpy(), predictions[:, 1].numpy())\n",
    "    roc_auc = 1\n",
    "\n",
    "    print(f'Epoch {epoch} validation loss = {val_loss:.4f} auc = {roc_auc:.4f}')\n",
    "    return val_loss, roc_auc"
   ]
  },
  {
   "cell_type": "code",
   "execution_count": 20,
   "id": "840e33f6",
   "metadata": {
    "execution": {
     "iopub.execute_input": "2024-05-12T00:00:30.667668Z",
     "iopub.status.busy": "2024-05-12T00:00:30.667295Z",
     "iopub.status.idle": "2024-05-12T00:00:30.683066Z",
     "shell.execute_reply": "2024-05-12T00:00:30.682141Z"
    },
    "id": "nZFniP2hkpi0",
    "papermill": {
     "duration": 0.02577,
     "end_time": "2024-05-12T00:00:30.684491",
     "exception": false,
     "start_time": "2024-05-12T00:00:30.658721",
     "status": "completed"
    },
    "tags": []
   },
   "outputs": [],
   "source": [
    "def train_epoch(cfg, model, train_loader, loss_criterion, optimizer, scheduler, epoch):\n",
    "    scaler = torch.cuda.amp.GradScaler(enabled=cfg.apex)\n",
    "    # loss_fn = nn.CrossEntropyLoss(weight=cfg.weights.to(device), label_smoothing=0.1)\n",
    "    loss_fn = loss_criterion\n",
    "\n",
    "    model.train()\n",
    "    train_loss = 0\n",
    "    learning_rate_history = []\n",
    "\n",
    "    targets = []\n",
    "    predictions = []\n",
    "\n",
    "    total_len = len(train_loader)\n",
    "    tk0 = tqdm(enumerate(train_loader), total=total_len)\n",
    "    for step, (images, labels) in tk0:\n",
    "        images = images.to(device, non_blocking=True)\n",
    "        target = labels.to(device, non_blocking=True)\n",
    "\n",
    "        # https://pytorch.org/blog/accelerating-training-on-nvidia-gpus-with-pytorch-automatic-mixed-precision/\n",
    "        with torch.cuda.amp.autocast(enabled=cfg.apex):\n",
    "            logits = model(images)\n",
    "            loss = loss_fn(logits, target)\n",
    "\n",
    "        scaler.scale(loss).backward()\n",
    "        torch.nn.utils.clip_grad_norm_(model.parameters(), max_norm=cfg.clip_val)\n",
    "\n",
    "        train_loss += loss.item()\n",
    "        scaler.step(optimizer)\n",
    "        scaler.update()\n",
    "        optimizer.zero_grad()\n",
    "\n",
    "        if scheduler is None:\n",
    "            lr = optimizer.param_groups[0]['lr']\n",
    "        else:\n",
    "            scheduler.step()\n",
    "            lr = scheduler.get_last_lr()[0]\n",
    "\n",
    "        tk0.set_description(f\"Epoch {epoch} training {step+1}/{total_len} [LR {lr:0.6f}] - loss: {train_loss/(step+1):.4f}\")\n",
    "        learning_rate_history.append(lr)\n",
    "\n",
    "        targets.append(target.detach().cpu())\n",
    "        predictions.append(logits.detach().cpu())\n",
    "        del images, target\n",
    "\n",
    "    targets = torch.cat(targets, dim=0)\n",
    "    predictions = torch.cat(predictions, dim=0)\n",
    "    predictions = F.sigmoid(predictions)\n",
    "\n",
    "    train_loss /= total_len\n",
    "    # roc_auc = roc_auc_score(targets.numpy(), predictions[:, 1].numpy())\n",
    "    roc_auc = 1\n",
    "\n",
    "    print(f'Epoch {epoch} train loss = {train_loss:.4f}, auc = {roc_auc:.4f}')\n",
    "    return train_loss, learning_rate_history, roc_auc"
   ]
  },
  {
   "cell_type": "markdown",
   "id": "039fdd3b",
   "metadata": {
    "id": "qN83vJk4xCA3",
    "papermill": {
     "duration": 0.006863,
     "end_time": "2024-05-12T00:00:30.698335",
     "exception": false,
     "start_time": "2024-05-12T00:00:30.691472",
     "status": "completed"
    },
    "tags": []
   },
   "source": [
    "# Train model"
   ]
  },
  {
   "cell_type": "markdown",
   "id": "949c01a5",
   "metadata": {
    "id": "8NyHYtzwZT8h",
    "papermill": {
     "duration": 0.006622,
     "end_time": "2024-05-12T00:00:30.711669",
     "exception": false,
     "start_time": "2024-05-12T00:00:30.705047",
     "status": "completed"
    },
    "tags": []
   },
   "source": [
    "## Split data\n",
    "\n",
    "The distribution of classes in the training data is not balance so using StratifiedKFold will ensure that the distrubution of positive and negative samples in all folds will match the original distributions."
   ]
  },
  {
   "cell_type": "code",
   "execution_count": 21,
   "id": "2a203531",
   "metadata": {
    "execution": {
     "iopub.execute_input": "2024-05-12T00:00:30.725958Z",
     "iopub.status.busy": "2024-05-12T00:00:30.725521Z",
     "iopub.status.idle": "2024-05-12T00:00:30.730304Z",
     "shell.execute_reply": "2024-05-12T00:00:30.729058Z"
    },
    "id": "HaYXa749AEes",
    "outputId": "65b6c941-0e6e-4503-b513-574264d657ce",
    "papermill": {
     "duration": 0.013496,
     "end_time": "2024-05-12T00:00:30.731619",
     "exception": false,
     "start_time": "2024-05-12T00:00:30.718123",
     "status": "completed"
    },
    "tags": []
   },
   "outputs": [],
   "source": [
    "# plt.figure(figsize=(4,2))\n",
    "# sns.histplot(train_data[\"label\"])"
   ]
  },
  {
   "cell_type": "code",
   "execution_count": 22,
   "id": "f292e7fa",
   "metadata": {
    "execution": {
     "iopub.execute_input": "2024-05-12T00:00:30.745715Z",
     "iopub.status.busy": "2024-05-12T00:00:30.745192Z",
     "iopub.status.idle": "2024-05-12T00:00:30.778093Z",
     "shell.execute_reply": "2024-05-12T00:00:30.777146Z"
    },
    "id": "DRHeo8pr56FX",
    "papermill": {
     "duration": 0.041834,
     "end_time": "2024-05-12T00:00:30.779686",
     "exception": false,
     "start_time": "2024-05-12T00:00:30.737852",
     "status": "completed"
    },
    "tags": []
   },
   "outputs": [],
   "source": [
    "from sklearn.model_selection import StratifiedKFold\n",
    "\n",
    "sgkf = StratifiedKFold(n_splits=CFG.N_folds, random_state=CFG.seed, shuffle=True)\n",
    "for i, (train_index, test_index) in enumerate(sgkf.split(train_data[\"image\"].values, train_data[\"level\"].values)):\n",
    "    train_data.loc[test_index, \"fold\"] = i"
   ]
  },
  {
   "cell_type": "code",
   "execution_count": 23,
   "id": "bc7d3a22",
   "metadata": {
    "execution": {
     "iopub.execute_input": "2024-05-12T00:00:30.799756Z",
     "iopub.status.busy": "2024-05-12T00:00:30.799177Z",
     "iopub.status.idle": "2024-05-12T00:00:30.803402Z",
     "shell.execute_reply": "2024-05-12T00:00:30.802357Z"
    },
    "papermill": {
     "duration": 0.015854,
     "end_time": "2024-05-12T00:00:30.804911",
     "exception": false,
     "start_time": "2024-05-12T00:00:30.789057",
     "status": "completed"
    },
    "tags": []
   },
   "outputs": [],
   "source": [
    "# from torchgeo import models\n",
    "# from torch import nn"
   ]
  },
  {
   "cell_type": "code",
   "execution_count": 24,
   "id": "a96463ba",
   "metadata": {
    "execution": {
     "iopub.execute_input": "2024-05-12T00:00:30.823165Z",
     "iopub.status.busy": "2024-05-12T00:00:30.822754Z",
     "iopub.status.idle": "2024-05-12T00:00:30.827594Z",
     "shell.execute_reply": "2024-05-12T00:00:30.826791Z"
    },
    "papermill": {
     "duration": 0.015505,
     "end_time": "2024-05-12T00:00:30.828949",
     "exception": false,
     "start_time": "2024-05-12T00:00:30.813444",
     "status": "completed"
    },
    "tags": []
   },
   "outputs": [],
   "source": [
    "def create_model():\n",
    "    model = timm.create_model(CFG.model_name, in_chans=3, num_classes=NUM_CLASSES, pretrained=True)\n",
    "\n",
    "#     model = models.resnet50(models.ResNet50_Weights.SENTINEL2_ALL_DINO)\n",
    "#     wd = torch.concat([model.conv1.weight[:, :13, ...], model.conv1.weight[:, :7, ...]], dim=1)\n",
    "#     model.conv1 = nn.Conv2d(20, 64, 7, 2, 3, bias=False)\n",
    "#     model.conv1.weight = nn.Parameter(wd)\n",
    "#     model.fc = nn.Linear(in_features=2048, out_features=2, bias=True)\n",
    "\n",
    "    return model.to(CFG.device)"
   ]
  },
  {
   "cell_type": "markdown",
   "id": "7945519f",
   "metadata": {
    "id": "rF9BFqS8AXBY",
    "papermill": {
     "duration": 0.007695,
     "end_time": "2024-05-12T00:00:30.844452",
     "exception": false,
     "start_time": "2024-05-12T00:00:30.836757",
     "status": "completed"
    },
    "tags": []
   },
   "source": [
    "## Train folds"
   ]
  },
  {
   "cell_type": "code",
   "execution_count": 25,
   "id": "c6b988da",
   "metadata": {
    "execution": {
     "iopub.execute_input": "2024-05-12T00:00:30.860833Z",
     "iopub.status.busy": "2024-05-12T00:00:30.860475Z"
    },
    "id": "7CFfmp3CxDG5",
    "outputId": "952103d3-bbd9-449f-e9cf-26d5c2608aea",
    "papermill": {
     "duration": null,
     "end_time": null,
     "exception": false,
     "start_time": "2024-05-12T00:00:30.851991",
     "status": "running"
    },
    "scrolled": true,
    "tags": []
   },
   "outputs": [
    {
     "name": "stdout",
     "output_type": "stream",
     "text": [
      "Model parameters: 23_518_277\n"
     ]
    },
    {
     "name": "stderr",
     "output_type": "stream",
     "text": [
      "\r",
      "  0%|                                                                              | 0/49 [00:00<?, ?it/s]"
     ]
    },
    {
     "name": "stderr",
     "output_type": "stream",
     "text": [
      "\r",
      "Epoch 0 training 1/49 [LR 0.000100] - loss: 1.6049:   0%|                          | 0/49 [01:03<?, ?it/s]"
     ]
    },
    {
     "name": "stderr",
     "output_type": "stream",
     "text": [
      "\r",
      "Epoch 0 training 1/49 [LR 0.000100] - loss: 1.6049:   2%|▎                 | 1/49 [01:03<51:00, 63.77s/it]"
     ]
    },
    {
     "name": "stderr",
     "output_type": "stream",
     "text": [
      "\r",
      "Epoch 0 training 2/49 [LR 0.000100] - loss: 1.6032:   2%|▎                 | 1/49 [01:03<51:00, 63.77s/it]"
     ]
    },
    {
     "name": "stderr",
     "output_type": "stream",
     "text": [
      "\r",
      "Epoch 0 training 2/49 [LR 0.000100] - loss: 1.6032:   4%|▋                 | 2/49 [01:03<20:37, 26.32s/it]"
     ]
    },
    {
     "name": "stderr",
     "output_type": "stream",
     "text": [
      "\r",
      "Epoch 0 training 3/49 [LR 0.000100] - loss: 1.6024:   4%|▋                 | 2/49 [01:03<20:37, 26.32s/it]"
     ]
    },
    {
     "name": "stderr",
     "output_type": "stream",
     "text": [
      "\r",
      "Epoch 0 training 4/49 [LR 0.000100] - loss: 1.6037:   4%|▋                 | 2/49 [01:04<20:37, 26.32s/it]"
     ]
    },
    {
     "name": "stderr",
     "output_type": "stream",
     "text": [
      "\r",
      "Epoch 0 training 4/49 [LR 0.000100] - loss: 1.6037:   8%|█▍                | 4/49 [01:04<07:24,  9.88s/it]"
     ]
    },
    {
     "name": "stderr",
     "output_type": "stream",
     "text": [
      "\r",
      "Epoch 0 training 5/49 [LR 0.000100] - loss: 1.6016:   8%|█▍                | 4/49 [01:04<07:24,  9.88s/it]"
     ]
    },
    {
     "name": "stderr",
     "output_type": "stream",
     "text": [
      "\r",
      "Epoch 0 training 6/49 [LR 0.000100] - loss: 1.6002:   8%|█▍                | 4/49 [01:04<07:24,  9.88s/it]"
     ]
    },
    {
     "name": "stderr",
     "output_type": "stream",
     "text": [
      "\r",
      "Epoch 0 training 6/49 [LR 0.000100] - loss: 1.6002:  12%|██▏               | 6/49 [01:04<03:45,  5.26s/it]"
     ]
    },
    {
     "name": "stderr",
     "output_type": "stream",
     "text": [
      "\r",
      "Epoch 0 training 7/49 [LR 0.000100] - loss: 1.5976:  12%|██▏               | 6/49 [01:04<03:45,  5.26s/it]"
     ]
    },
    {
     "name": "stderr",
     "output_type": "stream",
     "text": [
      "\r",
      "Epoch 0 training 8/49 [LR 0.000100] - loss: 1.5955:  12%|██▏               | 6/49 [01:04<03:45,  5.26s/it]"
     ]
    },
    {
     "name": "stderr",
     "output_type": "stream",
     "text": [
      "\r",
      "Epoch 0 training 8/49 [LR 0.000100] - loss: 1.5955:  16%|██▉               | 8/49 [01:04<02:10,  3.18s/it]"
     ]
    },
    {
     "name": "stderr",
     "output_type": "stream",
     "text": [
      "\r",
      "Epoch 0 training 9/49 [LR 0.000100] - loss: 1.5949:  16%|██▉               | 8/49 [01:04<02:10,  3.18s/it]"
     ]
    },
    {
     "name": "stderr",
     "output_type": "stream",
     "text": [
      "\r",
      "Epoch 0 training 10/49 [LR 0.000100] - loss: 1.5936:  16%|██▊              | 8/49 [01:04<02:10,  3.18s/it]"
     ]
    },
    {
     "name": "stderr",
     "output_type": "stream",
     "text": [
      "\r",
      "Epoch 0 training 10/49 [LR 0.000100] - loss: 1.5936:  20%|███▎            | 10/49 [01:04<01:20,  2.05s/it]"
     ]
    },
    {
     "name": "stderr",
     "output_type": "stream",
     "text": [
      "\r",
      "Epoch 0 training 11/49 [LR 0.000100] - loss: 1.5915:  20%|███▎            | 10/49 [01:04<01:20,  2.05s/it]"
     ]
    },
    {
     "name": "stderr",
     "output_type": "stream",
     "text": [
      "\r",
      "Epoch 0 training 12/49 [LR 0.000100] - loss: 1.5914:  20%|███▎            | 10/49 [01:04<01:20,  2.05s/it]"
     ]
    },
    {
     "name": "stderr",
     "output_type": "stream",
     "text": [
      "\r",
      "Epoch 0 training 12/49 [LR 0.000100] - loss: 1.5914:  24%|███▉            | 12/49 [01:04<00:51,  1.38s/it]"
     ]
    },
    {
     "name": "stderr",
     "output_type": "stream",
     "text": [
      "\r",
      "Epoch 0 training 13/49 [LR 0.000100] - loss: 1.5890:  24%|███▉            | 12/49 [01:04<00:51,  1.38s/it]"
     ]
    },
    {
     "name": "stderr",
     "output_type": "stream",
     "text": [
      "\r",
      "Epoch 0 training 14/49 [LR 0.000100] - loss: 1.5874:  24%|███▉            | 12/49 [01:05<00:51,  1.38s/it]"
     ]
    },
    {
     "name": "stderr",
     "output_type": "stream",
     "text": [
      "\r",
      "Epoch 0 training 14/49 [LR 0.000100] - loss: 1.5874:  29%|████▌           | 14/49 [01:05<00:33,  1.04it/s]"
     ]
    },
    {
     "name": "stderr",
     "output_type": "stream",
     "text": [
      "\r",
      "Epoch 0 training 15/49 [LR 0.000100] - loss: 1.5867:  29%|████▌           | 14/49 [01:05<00:33,  1.04it/s]"
     ]
    },
    {
     "name": "stderr",
     "output_type": "stream",
     "text": [
      "\r",
      "Epoch 0 training 16/49 [LR 0.000100] - loss: 1.5860:  29%|████▌           | 14/49 [01:05<00:33,  1.04it/s]"
     ]
    },
    {
     "name": "stderr",
     "output_type": "stream",
     "text": [
      "\r",
      "Epoch 0 training 16/49 [LR 0.000100] - loss: 1.5860:  33%|█████▏          | 16/49 [01:05<00:22,  1.46it/s]"
     ]
    },
    {
     "name": "stderr",
     "output_type": "stream",
     "text": [
      "\r",
      "Epoch 0 training 16/49 [LR 0.000100] - loss: 1.5860:  33%|█████▏          | 16/49 [01:19<00:22,  1.46it/s]"
     ]
    },
    {
     "name": "stderr",
     "output_type": "stream",
     "text": [
      "\r",
      "Epoch 0 training 17/49 [LR 0.000100] - loss: 1.5854:  33%|█████▏          | 16/49 [02:01<00:22,  1.46it/s]"
     ]
    },
    {
     "name": "stderr",
     "output_type": "stream",
     "text": [
      "\r",
      "Epoch 0 training 17/49 [LR 0.000100] - loss: 1.5854:  35%|█████▌          | 17/49 [02:01<05:54, 11.07s/it]"
     ]
    },
    {
     "name": "stderr",
     "output_type": "stream",
     "text": [
      "\r",
      "Epoch 0 training 18/49 [LR 0.000100] - loss: 1.5836:  35%|█████▌          | 17/49 [02:02<05:54, 11.07s/it]"
     ]
    },
    {
     "name": "stderr",
     "output_type": "stream",
     "text": [
      "\r",
      "Epoch 0 training 18/49 [LR 0.000100] - loss: 1.5836:  37%|█████▉          | 18/49 [02:02<04:38,  8.98s/it]"
     ]
    },
    {
     "name": "stderr",
     "output_type": "stream",
     "text": [
      "\r",
      "Epoch 0 training 19/49 [LR 0.000100] - loss: 1.5821:  37%|█████▉          | 18/49 [02:03<04:38,  8.98s/it]"
     ]
    },
    {
     "name": "stderr",
     "output_type": "stream",
     "text": [
      "\r",
      "Epoch 0 training 19/49 [LR 0.000100] - loss: 1.5821:  39%|██████▏         | 19/49 [02:03<03:30,  7.01s/it]"
     ]
    },
    {
     "name": "stderr",
     "output_type": "stream",
     "text": [
      "\r",
      "Epoch 0 training 20/49 [LR 0.000100] - loss: 1.5811:  39%|██████▏         | 19/49 [02:05<03:30,  7.01s/it]"
     ]
    },
    {
     "name": "stderr",
     "output_type": "stream",
     "text": [
      "\r",
      "Epoch 0 training 20/49 [LR 0.000100] - loss: 1.5811:  41%|██████▌         | 20/49 [02:05<02:49,  5.83s/it]"
     ]
    },
    {
     "name": "stderr",
     "output_type": "stream",
     "text": [
      "\r",
      "Epoch 0 training 21/49 [LR 0.000100] - loss: 1.5817:  41%|██████▌         | 20/49 [02:05<02:49,  5.83s/it]"
     ]
    },
    {
     "name": "stderr",
     "output_type": "stream",
     "text": [
      "\r",
      "Epoch 0 training 21/49 [LR 0.000100] - loss: 1.5817:  43%|██████▊         | 21/49 [02:05<02:01,  4.33s/it]"
     ]
    },
    {
     "name": "stderr",
     "output_type": "stream",
     "text": [
      "\r",
      "Epoch 0 training 22/49 [LR 0.000100] - loss: 1.5804:  43%|██████▊         | 21/49 [02:05<02:01,  4.33s/it]"
     ]
    },
    {
     "name": "stderr",
     "output_type": "stream",
     "text": [
      "\r",
      "Epoch 0 training 23/49 [LR 0.000100] - loss: 1.5794:  43%|██████▊         | 21/49 [02:05<02:01,  4.33s/it]"
     ]
    },
    {
     "name": "stderr",
     "output_type": "stream",
     "text": [
      "\r",
      "Epoch 0 training 23/49 [LR 0.000100] - loss: 1.5794:  47%|███████▌        | 23/49 [02:05<01:05,  2.52s/it]"
     ]
    },
    {
     "name": "stderr",
     "output_type": "stream",
     "text": [
      "\r",
      "Epoch 0 training 24/49 [LR 0.000100] - loss: 1.5787:  47%|███████▌        | 23/49 [02:05<01:05,  2.52s/it]"
     ]
    },
    {
     "name": "stderr",
     "output_type": "stream",
     "text": [
      "\r",
      "Epoch 0 training 25/49 [LR 0.000100] - loss: 1.5787:  47%|███████▌        | 23/49 [02:06<01:05,  2.52s/it]"
     ]
    },
    {
     "name": "stderr",
     "output_type": "stream",
     "text": [
      "\r",
      "Epoch 0 training 25/49 [LR 0.000100] - loss: 1.5787:  51%|████████▏       | 25/49 [02:06<00:38,  1.60s/it]"
     ]
    },
    {
     "name": "stderr",
     "output_type": "stream",
     "text": [
      "\r",
      "Epoch 0 training 26/49 [LR 0.000100] - loss: 1.5776:  51%|████████▏       | 25/49 [02:06<00:38,  1.60s/it]"
     ]
    },
    {
     "name": "stderr",
     "output_type": "stream",
     "text": [
      "\r",
      "Epoch 0 training 27/49 [LR 0.000100] - loss: 1.5761:  51%|████████▏       | 25/49 [02:06<00:38,  1.60s/it]"
     ]
    },
    {
     "name": "stderr",
     "output_type": "stream",
     "text": [
      "\r",
      "Epoch 0 training 27/49 [LR 0.000100] - loss: 1.5761:  55%|████████▊       | 27/49 [02:06<00:23,  1.07s/it]"
     ]
    },
    {
     "name": "stderr",
     "output_type": "stream",
     "text": [
      "\r",
      "Epoch 0 training 28/49 [LR 0.000100] - loss: 1.5748:  55%|████████▊       | 27/49 [02:06<00:23,  1.07s/it]"
     ]
    },
    {
     "name": "stderr",
     "output_type": "stream",
     "text": [
      "\r",
      "Epoch 0 training 28/49 [LR 0.000100] - loss: 1.5748:  57%|█████████▏      | 28/49 [02:06<00:18,  1.14it/s]"
     ]
    },
    {
     "name": "stderr",
     "output_type": "stream",
     "text": [
      "\r",
      "Epoch 0 training 29/49 [LR 0.000100] - loss: 1.5736:  57%|█████████▏      | 28/49 [02:06<00:18,  1.14it/s]"
     ]
    },
    {
     "name": "stderr",
     "output_type": "stream",
     "text": [
      "\r",
      "Epoch 0 training 29/49 [LR 0.000100] - loss: 1.5736:  59%|█████████▍      | 29/49 [02:06<00:14,  1.42it/s]"
     ]
    },
    {
     "name": "stderr",
     "output_type": "stream",
     "text": [
      "\r",
      "Epoch 0 training 30/49 [LR 0.000100] - loss: 1.5723:  59%|█████████▍      | 29/49 [02:06<00:14,  1.42it/s]"
     ]
    },
    {
     "name": "stderr",
     "output_type": "stream",
     "text": [
      "\r",
      "Epoch 0 training 31/49 [LR 0.000100] - loss: 1.5699:  59%|█████████▍      | 29/49 [02:06<00:14,  1.42it/s]"
     ]
    },
    {
     "name": "stderr",
     "output_type": "stream",
     "text": [
      "\r",
      "Epoch 0 training 31/49 [LR 0.000100] - loss: 1.5699:  63%|██████████      | 31/49 [02:06<00:08,  2.15it/s]"
     ]
    },
    {
     "name": "stderr",
     "output_type": "stream",
     "text": [
      "\r",
      "Epoch 0 training 32/49 [LR 0.000100] - loss: 1.5691:  63%|██████████      | 31/49 [02:06<00:08,  2.15it/s]"
     ]
    },
    {
     "name": "stderr",
     "output_type": "stream",
     "text": [
      "\r",
      "Epoch 0 training 33/49 [LR 0.000100] - loss: 1.5687:  63%|██████████      | 31/49 [03:01<00:08,  2.15it/s]"
     ]
    },
    {
     "name": "stderr",
     "output_type": "stream",
     "text": [
      "\r",
      "Epoch 0 training 33/49 [LR 0.000100] - loss: 1.5687:  67%|██████████▊     | 33/49 [03:01<02:41, 10.08s/it]"
     ]
    },
    {
     "name": "stderr",
     "output_type": "stream",
     "text": [
      "\r",
      "Epoch 0 training 34/49 [LR 0.000100] - loss: 1.5692:  67%|██████████▊     | 33/49 [03:05<02:41, 10.08s/it]"
     ]
    },
    {
     "name": "stderr",
     "output_type": "stream",
     "text": [
      "\r",
      "Epoch 0 training 34/49 [LR 0.000100] - loss: 1.5692:  69%|███████████     | 34/49 [03:05<02:11,  8.79s/it]"
     ]
    },
    {
     "name": "stderr",
     "output_type": "stream",
     "text": [
      "\r",
      "Epoch 0 training 35/49 [LR 0.000100] - loss: 1.5689:  69%|███████████     | 34/49 [03:05<02:11,  8.79s/it]"
     ]
    },
    {
     "name": "stderr",
     "output_type": "stream",
     "text": [
      "\r",
      "Epoch 0 training 36/49 [LR 0.000100] - loss: 1.5688:  69%|███████████     | 34/49 [03:07<02:11,  8.79s/it]"
     ]
    },
    {
     "name": "stderr",
     "output_type": "stream",
     "text": [
      "\r",
      "Epoch 0 training 36/49 [LR 0.000100] - loss: 1.5688:  73%|███████████▊    | 36/49 [03:07<01:17,  5.96s/it]"
     ]
    },
    {
     "name": "stderr",
     "output_type": "stream",
     "text": [
      "\r",
      "Epoch 0 training 37/49 [LR 0.000100] - loss: 1.5680:  73%|███████████▊    | 36/49 [03:07<01:17,  5.96s/it]"
     ]
    },
    {
     "name": "stderr",
     "output_type": "stream",
     "text": [
      "\r",
      "Epoch 0 training 38/49 [LR 0.000100] - loss: 1.5673:  73%|███████████▊    | 36/49 [03:07<01:17,  5.96s/it]"
     ]
    },
    {
     "name": "stderr",
     "output_type": "stream",
     "text": [
      "\r",
      "Epoch 0 training 38/49 [LR 0.000100] - loss: 1.5673:  78%|████████████▍   | 38/49 [03:07<00:43,  3.94s/it]"
     ]
    },
    {
     "name": "stderr",
     "output_type": "stream",
     "text": [
      "\r",
      "Epoch 0 training 39/49 [LR 0.000100] - loss: 1.5673:  78%|████████████▍   | 38/49 [03:07<00:43,  3.94s/it]"
     ]
    },
    {
     "name": "stderr",
     "output_type": "stream",
     "text": [
      "\r",
      "Epoch 0 training 40/49 [LR 0.000100] - loss: 1.5664:  78%|████████████▍   | 38/49 [03:07<00:43,  3.94s/it]"
     ]
    },
    {
     "name": "stderr",
     "output_type": "stream",
     "text": [
      "\r",
      "Epoch 0 training 40/49 [LR 0.000100] - loss: 1.5664:  82%|█████████████   | 40/49 [03:07<00:24,  2.67s/it]"
     ]
    },
    {
     "name": "stderr",
     "output_type": "stream",
     "text": [
      "\r",
      "Epoch 0 training 41/49 [LR 0.000100] - loss: 1.5659:  82%|█████████████   | 40/49 [03:07<00:24,  2.67s/it]"
     ]
    },
    {
     "name": "stderr",
     "output_type": "stream",
     "text": [
      "\r",
      "Epoch 0 training 42/49 [LR 0.000100] - loss: 1.5655:  82%|█████████████   | 40/49 [03:07<00:24,  2.67s/it]"
     ]
    },
    {
     "name": "stderr",
     "output_type": "stream",
     "text": [
      "\r",
      "Epoch 0 training 42/49 [LR 0.000100] - loss: 1.5655:  86%|█████████████▋  | 42/49 [03:07<00:12,  1.84s/it]"
     ]
    },
    {
     "name": "stderr",
     "output_type": "stream",
     "text": [
      "\r",
      "Epoch 0 training 43/49 [LR 0.000100] - loss: 1.5661:  86%|█████████████▋  | 42/49 [03:07<00:12,  1.84s/it]"
     ]
    },
    {
     "name": "stderr",
     "output_type": "stream",
     "text": [
      "\r",
      "Epoch 0 training 44/49 [LR 0.000100] - loss: 1.5636:  86%|█████████████▋  | 42/49 [03:08<00:12,  1.84s/it]"
     ]
    },
    {
     "name": "stderr",
     "output_type": "stream",
     "text": [
      "\r",
      "Epoch 0 training 44/49 [LR 0.000100] - loss: 1.5636:  90%|██████████████▎ | 44/49 [03:08<00:06,  1.29s/it]"
     ]
    },
    {
     "name": "stderr",
     "output_type": "stream",
     "text": [
      "\r",
      "Epoch 0 training 45/49 [LR 0.000099] - loss: 1.5636:  90%|██████████████▎ | 44/49 [03:08<00:06,  1.29s/it]"
     ]
    },
    {
     "name": "stderr",
     "output_type": "stream",
     "text": [
      "\r",
      "Epoch 0 training 46/49 [LR 0.000099] - loss: 1.5614:  90%|██████████████▎ | 44/49 [03:08<00:06,  1.29s/it]"
     ]
    },
    {
     "name": "stderr",
     "output_type": "stream",
     "text": [
      "\r",
      "Epoch 0 training 46/49 [LR 0.000099] - loss: 1.5614:  94%|███████████████ | 46/49 [03:08<00:02,  1.09it/s]"
     ]
    },
    {
     "name": "stderr",
     "output_type": "stream",
     "text": [
      "\r",
      "Epoch 0 training 47/49 [LR 0.000099] - loss: 1.5605:  94%|███████████████ | 46/49 [03:08<00:02,  1.09it/s]"
     ]
    },
    {
     "name": "stderr",
     "output_type": "stream",
     "text": [
      "\r",
      "Epoch 0 training 48/49 [LR 0.000099] - loss: 1.5602:  94%|███████████████ | 46/49 [03:08<00:02,  1.09it/s]"
     ]
    },
    {
     "name": "stderr",
     "output_type": "stream",
     "text": [
      "\r",
      "Epoch 0 training 48/49 [LR 0.000099] - loss: 1.5602:  98%|███████████████▋| 48/49 [03:08<00:00,  1.51it/s]"
     ]
    },
    {
     "name": "stderr",
     "output_type": "stream",
     "text": [
      "\r",
      "Epoch 0 training 48/49 [LR 0.000099] - loss: 1.5602:  98%|███████████████▋| 48/49 [03:20<00:00,  1.51it/s]"
     ]
    },
    {
     "name": "stderr",
     "output_type": "stream",
     "text": [
      "\r",
      "Epoch 0 training 49/49 [LR 0.000099] - loss: 1.5592:  98%|███████████████▋| 48/49 [03:53<00:00,  1.51it/s]"
     ]
    },
    {
     "name": "stderr",
     "output_type": "stream",
     "text": [
      "\r",
      "Epoch 0 training 49/49 [LR 0.000099] - loss: 1.5592: 100%|████████████████| 49/49 [03:53<00:00,  8.70s/it]"
     ]
    },
    {
     "name": "stderr",
     "output_type": "stream",
     "text": [
      "\r",
      "Epoch 0 training 49/49 [LR 0.000099] - loss: 1.5592: 100%|████████████████| 49/49 [03:53<00:00,  4.77s/it]"
     ]
    },
    {
     "name": "stdout",
     "output_type": "stream",
     "text": [
      "Epoch 0 train loss = 1.5592, auc = 1.0000\n"
     ]
    },
    {
     "name": "stderr",
     "output_type": "stream",
     "text": [
      "\n"
     ]
    },
    {
     "name": "stderr",
     "output_type": "stream",
     "text": [
      "\r",
      "  0%|                                                                              | 0/13 [00:00<?, ?it/s]"
     ]
    },
    {
     "name": "stderr",
     "output_type": "stream",
     "text": [
      "\r",
      "  8%|█████▍                                                                | 1/13 [01:00<12:06, 60.58s/it]"
     ]
    },
    {
     "name": "stderr",
     "output_type": "stream",
     "text": [
      "\r",
      " 23%|████████████████▏                                                     | 3/13 [01:00<02:37, 15.75s/it]"
     ]
    },
    {
     "name": "stderr",
     "output_type": "stream",
     "text": [
      "\r",
      " 38%|██████████████████████████▉                                           | 5/13 [01:01<01:02,  7.87s/it]"
     ]
    },
    {
     "name": "stderr",
     "output_type": "stream",
     "text": [
      "\r",
      " 54%|█████████████████████████████████████▋                                | 7/13 [01:01<00:27,  4.56s/it]"
     ]
    },
    {
     "name": "stderr",
     "output_type": "stream",
     "text": [
      "\r",
      " 69%|████████████████████████████████████████████████▍                     | 9/13 [01:01<00:11,  2.86s/it]"
     ]
    },
    {
     "name": "stderr",
     "output_type": "stream",
     "text": [
      "\r",
      " 85%|██████████████████████████████████████████████████████████▍          | 11/13 [01:01<00:03,  1.88s/it]"
     ]
    },
    {
     "name": "stderr",
     "output_type": "stream",
     "text": [
      "\r",
      "100%|█████████████████████████████████████████████████████████████████████| 13/13 [01:02<00:00,  4.77s/it]"
     ]
    },
    {
     "name": "stderr",
     "output_type": "stream",
     "text": [
      "\n"
     ]
    },
    {
     "name": "stdout",
     "output_type": "stream",
     "text": [
      "Epoch 0 validation loss = 1.5738 auc = 1.0000\n",
      "\u001b[92mNew best score: 0.0000 -> 1.0000\u001b[0m\n"
     ]
    },
    {
     "name": "stderr",
     "output_type": "stream",
     "text": [
      "\r",
      "  0%|                                                                              | 0/49 [00:00<?, ?it/s]"
     ]
    },
    {
     "name": "stderr",
     "output_type": "stream",
     "text": [
      "\r",
      "Epoch 1 training 1/49 [LR 0.000099] - loss: 1.4837:   0%|                          | 0/49 [01:00<?, ?it/s]"
     ]
    },
    {
     "name": "stderr",
     "output_type": "stream",
     "text": [
      "\r",
      "Epoch 1 training 1/49 [LR 0.000099] - loss: 1.4837:   2%|▎                 | 1/49 [01:00<48:40, 60.83s/it]"
     ]
    },
    {
     "name": "stderr",
     "output_type": "stream",
     "text": [
      "\r",
      "Epoch 1 training 2/49 [LR 0.000099] - loss: 1.5100:   2%|▎                 | 1/49 [01:01<48:40, 60.83s/it]"
     ]
    },
    {
     "name": "stderr",
     "output_type": "stream",
     "text": [
      "\r",
      "Epoch 1 training 2/49 [LR 0.000099] - loss: 1.5100:   4%|▋                 | 2/49 [01:01<20:03, 25.61s/it]"
     ]
    },
    {
     "name": "stderr",
     "output_type": "stream",
     "text": [
      "\r",
      "Epoch 1 training 3/49 [LR 0.000099] - loss: 1.4944:   4%|▋                 | 2/49 [01:01<20:03, 25.61s/it]"
     ]
    },
    {
     "name": "stderr",
     "output_type": "stream",
     "text": [
      "\r",
      "Epoch 1 training 3/49 [LR 0.000099] - loss: 1.4944:   6%|█                 | 3/49 [01:01<10:42, 13.96s/it]"
     ]
    },
    {
     "name": "stderr",
     "output_type": "stream",
     "text": [
      "\r",
      "Epoch 1 training 4/49 [LR 0.000099] - loss: 1.5225:   6%|█                 | 3/49 [01:02<10:42, 13.96s/it]"
     ]
    },
    {
     "name": "stderr",
     "output_type": "stream",
     "text": [
      "\r",
      "Epoch 1 training 4/49 [LR 0.000099] - loss: 1.5225:   8%|█▍                | 4/49 [01:02<06:38,  8.86s/it]"
     ]
    },
    {
     "name": "stderr",
     "output_type": "stream",
     "text": [
      "\r",
      "Epoch 1 training 5/49 [LR 0.000099] - loss: 1.5395:   8%|█▍                | 4/49 [01:03<06:38,  8.86s/it]"
     ]
    },
    {
     "name": "stderr",
     "output_type": "stream",
     "text": [
      "\r",
      "Epoch 1 training 6/49 [LR 0.000099] - loss: 1.5343:   8%|█▍                | 4/49 [01:03<06:38,  8.86s/it]"
     ]
    },
    {
     "name": "stderr",
     "output_type": "stream",
     "text": [
      "\r",
      "Epoch 1 training 6/49 [LR 0.000099] - loss: 1.5343:  12%|██▏               | 6/49 [01:03<03:01,  4.22s/it]"
     ]
    },
    {
     "name": "stderr",
     "output_type": "stream",
     "text": [
      "\r",
      "Epoch 1 training 7/49 [LR 0.000099] - loss: 1.5342:  12%|██▏               | 6/49 [01:03<03:01,  4.22s/it]"
     ]
    },
    {
     "name": "stderr",
     "output_type": "stream",
     "text": [
      "\r",
      "Epoch 1 training 8/49 [LR 0.000099] - loss: 1.5361:  12%|██▏               | 6/49 [01:03<03:01,  4.22s/it]"
     ]
    },
    {
     "name": "stderr",
     "output_type": "stream",
     "text": [
      "\r",
      "Epoch 1 training 8/49 [LR 0.000099] - loss: 1.5361:  16%|██▉               | 8/49 [01:03<01:40,  2.44s/it]"
     ]
    },
    {
     "name": "stderr",
     "output_type": "stream",
     "text": [
      "\r",
      "Epoch 1 training 9/49 [LR 0.000099] - loss: 1.5334:  16%|██▉               | 8/49 [01:03<01:40,  2.44s/it]"
     ]
    },
    {
     "name": "stderr",
     "output_type": "stream",
     "text": [
      "\r",
      "Epoch 1 training 9/49 [LR 0.000099] - loss: 1.5334:  18%|███▎              | 9/49 [01:03<01:15,  1.89s/it]"
     ]
    },
    {
     "name": "stderr",
     "output_type": "stream",
     "text": [
      "\r",
      "Epoch 1 training 10/49 [LR 0.000099] - loss: 1.5310:  18%|███              | 9/49 [01:03<01:15,  1.89s/it]"
     ]
    },
    {
     "name": "stderr",
     "output_type": "stream",
     "text": [
      "\r",
      "Epoch 1 training 11/49 [LR 0.000099] - loss: 1.5249:  18%|███              | 9/49 [01:03<01:15,  1.89s/it]"
     ]
    },
    {
     "name": "stderr",
     "output_type": "stream",
     "text": [
      "\r",
      "Epoch 1 training 11/49 [LR 0.000099] - loss: 1.5249:  22%|███▌            | 11/49 [01:03<00:44,  1.17s/it]"
     ]
    },
    {
     "name": "stderr",
     "output_type": "stream",
     "text": [
      "\r",
      "Epoch 1 training 12/49 [LR 0.000099] - loss: 1.5263:  22%|███▌            | 11/49 [01:03<00:44,  1.17s/it]"
     ]
    },
    {
     "name": "stderr",
     "output_type": "stream",
     "text": [
      "\r",
      "Epoch 1 training 13/49 [LR 0.000099] - loss: 1.5258:  22%|███▌            | 11/49 [01:03<00:44,  1.17s/it]"
     ]
    },
    {
     "name": "stderr",
     "output_type": "stream",
     "text": [
      "\r",
      "Epoch 1 training 13/49 [LR 0.000099] - loss: 1.5258:  27%|████▏           | 13/49 [01:03<00:27,  1.29it/s]"
     ]
    },
    {
     "name": "stderr",
     "output_type": "stream",
     "text": [
      "\r",
      "Epoch 1 training 14/49 [LR 0.000099] - loss: 1.5304:  27%|████▏           | 13/49 [01:03<00:27,  1.29it/s]"
     ]
    },
    {
     "name": "stderr",
     "output_type": "stream",
     "text": [
      "\r",
      "Epoch 1 training 15/49 [LR 0.000099] - loss: 1.5322:  27%|████▏           | 13/49 [01:04<00:27,  1.29it/s]"
     ]
    },
    {
     "name": "stderr",
     "output_type": "stream",
     "text": [
      "\r",
      "Epoch 1 training 15/49 [LR 0.000099] - loss: 1.5322:  31%|████▉           | 15/49 [01:04<00:18,  1.83it/s]"
     ]
    },
    {
     "name": "stderr",
     "output_type": "stream",
     "text": [
      "\r",
      "Epoch 1 training 16/49 [LR 0.000099] - loss: 1.5304:  31%|████▉           | 15/49 [01:04<00:18,  1.83it/s]"
     ]
    },
    {
     "name": "stderr",
     "output_type": "stream",
     "text": [
      "\r",
      "Epoch 1 training 16/49 [LR 0.000099] - loss: 1.5304:  33%|█████▏          | 16/49 [01:04<00:15,  2.18it/s]"
     ]
    },
    {
     "name": "stderr",
     "output_type": "stream",
     "text": [
      "\r",
      "Epoch 1 training 17/49 [LR 0.000099] - loss: 1.5274:  33%|█████▏          | 16/49 [02:02<00:15,  2.18it/s]"
     ]
    },
    {
     "name": "stderr",
     "output_type": "stream",
     "text": [
      "\r",
      "Epoch 1 training 17/49 [LR 0.000099] - loss: 1.5274:  35%|█████▌          | 17/49 [02:02<06:58, 13.06s/it]"
     ]
    },
    {
     "name": "stderr",
     "output_type": "stream",
     "text": [
      "\r",
      "Epoch 1 training 18/49 [LR 0.000099] - loss: 1.5282:  35%|█████▌          | 17/49 [02:02<06:58, 13.06s/it]"
     ]
    },
    {
     "name": "stderr",
     "output_type": "stream",
     "text": [
      "\r",
      "Epoch 1 training 18/49 [LR 0.000099] - loss: 1.5282:  37%|█████▉          | 18/49 [02:02<05:14, 10.14s/it]"
     ]
    },
    {
     "name": "stderr",
     "output_type": "stream",
     "text": [
      "\r",
      "Epoch 1 training 19/49 [LR 0.000099] - loss: 1.5294:  37%|█████▉          | 18/49 [02:03<05:14, 10.14s/it]"
     ]
    },
    {
     "name": "stderr",
     "output_type": "stream",
     "text": [
      "\r",
      "Epoch 1 training 19/49 [LR 0.000099] - loss: 1.5294:  39%|██████▏         | 19/49 [02:03<03:48,  7.62s/it]"
     ]
    },
    {
     "name": "stderr",
     "output_type": "stream",
     "text": [
      "\r",
      "Epoch 1 training 20/49 [LR 0.000099] - loss: 1.5284:  39%|██████▏         | 19/49 [02:05<03:48,  7.62s/it]"
     ]
    },
    {
     "name": "stderr",
     "output_type": "stream",
     "text": [
      "\r",
      "Epoch 1 training 20/49 [LR 0.000099] - loss: 1.5284:  41%|██████▌         | 20/49 [02:05<03:03,  6.33s/it]"
     ]
    },
    {
     "name": "stderr",
     "output_type": "stream",
     "text": [
      "\r",
      "Epoch 1 training 21/49 [LR 0.000099] - loss: 1.5251:  41%|██████▌         | 20/49 [02:05<03:03,  6.33s/it]"
     ]
    },
    {
     "name": "stderr",
     "output_type": "stream",
     "text": [
      "\r",
      "Epoch 1 training 22/49 [LR 0.000099] - loss: 1.5258:  41%|██████▌         | 20/49 [02:06<03:03,  6.33s/it]"
     ]
    },
    {
     "name": "stderr",
     "output_type": "stream",
     "text": [
      "\r",
      "Epoch 1 training 22/49 [LR 0.000099] - loss: 1.5258:  45%|███████▏        | 22/49 [02:06<01:38,  3.64s/it]"
     ]
    },
    {
     "name": "stderr",
     "output_type": "stream",
     "text": [
      "\r",
      "Epoch 1 training 23/49 [LR 0.000099] - loss: 1.5238:  45%|███████▏        | 22/49 [02:06<01:38,  3.64s/it]"
     ]
    },
    {
     "name": "stderr",
     "output_type": "stream",
     "text": [
      "\r",
      "Epoch 1 training 23/49 [LR 0.000099] - loss: 1.5238:  47%|███████▌        | 23/49 [02:06<01:12,  2.80s/it]"
     ]
    },
    {
     "name": "stderr",
     "output_type": "stream",
     "text": [
      "\r",
      "Epoch 1 training 24/49 [LR 0.000099] - loss: 1.5216:  47%|███████▌        | 23/49 [02:06<01:12,  2.80s/it]"
     ]
    },
    {
     "name": "stderr",
     "output_type": "stream",
     "text": [
      "\r",
      "Epoch 1 training 24/49 [LR 0.000099] - loss: 1.5216:  49%|███████▊        | 24/49 [02:06<00:53,  2.12s/it]"
     ]
    },
    {
     "name": "stderr",
     "output_type": "stream",
     "text": [
      "\r",
      "Epoch 1 training 25/49 [LR 0.000099] - loss: 1.5211:  49%|███████▊        | 24/49 [02:06<00:53,  2.12s/it]"
     ]
    },
    {
     "name": "stderr",
     "output_type": "stream",
     "text": [
      "\r",
      "Epoch 1 training 25/49 [LR 0.000099] - loss: 1.5211:  51%|████████▏       | 25/49 [02:06<00:38,  1.59s/it]"
     ]
    },
    {
     "name": "stderr",
     "output_type": "stream",
     "text": [
      "\r",
      "Epoch 1 training 26/49 [LR 0.000099] - loss: 1.5200:  51%|████████▏       | 25/49 [02:06<00:38,  1.59s/it]"
     ]
    },
    {
     "name": "stderr",
     "output_type": "stream",
     "text": [
      "\r",
      "Epoch 1 training 26/49 [LR 0.000099] - loss: 1.5200:  53%|████████▍       | 26/49 [02:06<00:27,  1.18s/it]"
     ]
    },
    {
     "name": "stderr",
     "output_type": "stream",
     "text": [
      "\r",
      "Epoch 1 training 27/49 [LR 0.000099] - loss: 1.5163:  53%|████████▍       | 26/49 [02:06<00:27,  1.18s/it]"
     ]
    },
    {
     "name": "stderr",
     "output_type": "stream",
     "text": [
      "\r",
      "Epoch 1 training 28/49 [LR 0.000098] - loss: 1.5144:  53%|████████▍       | 26/49 [02:06<00:27,  1.18s/it]"
     ]
    },
    {
     "name": "stderr",
     "output_type": "stream",
     "text": [
      "\r",
      "Epoch 1 training 28/49 [LR 0.000098] - loss: 1.5144:  57%|█████████▏      | 28/49 [02:06<00:14,  1.41it/s]"
     ]
    },
    {
     "name": "stderr",
     "output_type": "stream",
     "text": [
      "\r",
      "Epoch 1 training 29/49 [LR 0.000098] - loss: 1.5140:  57%|█████████▏      | 28/49 [02:06<00:14,  1.41it/s]"
     ]
    },
    {
     "name": "stderr",
     "output_type": "stream",
     "text": [
      "\r",
      "Epoch 1 training 29/49 [LR 0.000098] - loss: 1.5140:  59%|█████████▍      | 29/49 [02:06<00:11,  1.77it/s]"
     ]
    },
    {
     "name": "stderr",
     "output_type": "stream",
     "text": [
      "\r",
      "Epoch 1 training 30/49 [LR 0.000098] - loss: 1.5148:  59%|█████████▍      | 29/49 [02:06<00:11,  1.77it/s]"
     ]
    },
    {
     "name": "stderr",
     "output_type": "stream",
     "text": [
      "\r",
      "Epoch 1 training 30/49 [LR 0.000098] - loss: 1.5148:  61%|█████████▊      | 30/49 [02:06<00:08,  2.24it/s]"
     ]
    },
    {
     "name": "stderr",
     "output_type": "stream",
     "text": [
      "\r",
      "Epoch 1 training 31/49 [LR 0.000098] - loss: 1.5154:  61%|█████████▊      | 30/49 [02:06<00:08,  2.24it/s]"
     ]
    },
    {
     "name": "stderr",
     "output_type": "stream",
     "text": [
      "\r",
      "Epoch 1 training 31/49 [LR 0.000098] - loss: 1.5154:  63%|██████████      | 31/49 [02:06<00:06,  2.81it/s]"
     ]
    },
    {
     "name": "stderr",
     "output_type": "stream",
     "text": [
      "\r",
      "Epoch 1 training 32/49 [LR 0.000098] - loss: 1.5174:  63%|██████████      | 31/49 [02:07<00:06,  2.81it/s]"
     ]
    },
    {
     "name": "stderr",
     "output_type": "stream",
     "text": [
      "\r",
      "Epoch 1 training 33/49 [LR 0.000098] - loss: 1.5180:  63%|██████████      | 31/49 [03:03<00:06,  2.81it/s]"
     ]
    },
    {
     "name": "stderr",
     "output_type": "stream",
     "text": [
      "\r",
      "Epoch 1 training 33/49 [LR 0.000098] - loss: 1.5180:  67%|██████████▊     | 33/49 [03:03<03:17, 12.34s/it]"
     ]
    },
    {
     "name": "stderr",
     "output_type": "stream",
     "text": [
      "\r",
      "Epoch 1 training 34/49 [LR 0.000098] - loss: 1.5179:  67%|██████████▊     | 33/49 [03:03<03:17, 12.34s/it]"
     ]
    },
    {
     "name": "stderr",
     "output_type": "stream",
     "text": [
      "\r",
      "Epoch 1 training 34/49 [LR 0.000098] - loss: 1.5179:  69%|███████████     | 34/49 [03:03<02:23,  9.57s/it]"
     ]
    },
    {
     "name": "stderr",
     "output_type": "stream",
     "text": [
      "\r",
      "Epoch 1 training 35/49 [LR 0.000098] - loss: 1.5191:  69%|███████████     | 34/49 [03:04<02:23,  9.57s/it]"
     ]
    },
    {
     "name": "stderr",
     "output_type": "stream",
     "text": [
      "\r",
      "Epoch 1 training 35/49 [LR 0.000098] - loss: 1.5191:  71%|███████████▍    | 35/49 [03:04<01:41,  7.23s/it]"
     ]
    },
    {
     "name": "stderr",
     "output_type": "stream",
     "text": [
      "\r",
      "Epoch 1 training 36/49 [LR 0.000098] - loss: 1.5175:  71%|███████████▍    | 35/49 [03:07<01:41,  7.23s/it]"
     ]
    },
    {
     "name": "stderr",
     "output_type": "stream",
     "text": [
      "\r",
      "Epoch 1 training 36/49 [LR 0.000098] - loss: 1.5175:  73%|███████████▊    | 36/49 [03:07<01:19,  6.13s/it]"
     ]
    },
    {
     "name": "stderr",
     "output_type": "stream",
     "text": [
      "\r",
      "Epoch 1 training 37/49 [LR 0.000098] - loss: 1.5175:  73%|███████████▊    | 36/49 [03:07<01:19,  6.13s/it]"
     ]
    },
    {
     "name": "stderr",
     "output_type": "stream",
     "text": [
      "\r",
      "Epoch 1 training 38/49 [LR 0.000098] - loss: 1.5160:  73%|███████████▊    | 36/49 [03:07<01:19,  6.13s/it]"
     ]
    },
    {
     "name": "stderr",
     "output_type": "stream",
     "text": [
      "\r",
      "Epoch 1 training 38/49 [LR 0.000098] - loss: 1.5160:  78%|████████████▍   | 38/49 [03:07<00:38,  3.53s/it]"
     ]
    },
    {
     "name": "stderr",
     "output_type": "stream",
     "text": [
      "\r",
      "Epoch 1 training 39/49 [LR 0.000098] - loss: 1.5163:  78%|████████████▍   | 38/49 [03:07<00:38,  3.53s/it]"
     ]
    },
    {
     "name": "stderr",
     "output_type": "stream",
     "text": [
      "\r",
      "Epoch 1 training 40/49 [LR 0.000098] - loss: 1.5176:  78%|████████████▍   | 38/49 [03:07<00:38,  3.53s/it]"
     ]
    },
    {
     "name": "stderr",
     "output_type": "stream",
     "text": [
      "\r",
      "Epoch 1 training 40/49 [LR 0.000098] - loss: 1.5176:  82%|█████████████   | 40/49 [03:07<00:19,  2.22s/it]"
     ]
    },
    {
     "name": "stderr",
     "output_type": "stream",
     "text": [
      "\r",
      "Epoch 1 training 41/49 [LR 0.000098] - loss: 1.5170:  82%|█████████████   | 40/49 [03:07<00:19,  2.22s/it]"
     ]
    },
    {
     "name": "stderr",
     "output_type": "stream",
     "text": [
      "\r",
      "Epoch 1 training 42/49 [LR 0.000098] - loss: 1.5173:  82%|█████████████   | 40/49 [03:07<00:19,  2.22s/it]"
     ]
    },
    {
     "name": "stderr",
     "output_type": "stream",
     "text": [
      "\r",
      "Epoch 1 training 42/49 [LR 0.000098] - loss: 1.5173:  86%|█████████████▋  | 42/49 [03:07<00:10,  1.47s/it]"
     ]
    },
    {
     "name": "stderr",
     "output_type": "stream",
     "text": [
      "\r",
      "Epoch 1 training 43/49 [LR 0.000098] - loss: 1.5175:  86%|█████████████▋  | 42/49 [03:07<00:10,  1.47s/it]"
     ]
    },
    {
     "name": "stderr",
     "output_type": "stream",
     "text": [
      "\r",
      "Epoch 1 training 44/49 [LR 0.000098] - loss: 1.5176:  86%|█████████████▋  | 42/49 [03:07<00:10,  1.47s/it]"
     ]
    },
    {
     "name": "stderr",
     "output_type": "stream",
     "text": [
      "\r",
      "Epoch 1 training 44/49 [LR 0.000098] - loss: 1.5176:  90%|██████████████▎ | 44/49 [03:07<00:05,  1.00s/it]"
     ]
    },
    {
     "name": "stderr",
     "output_type": "stream",
     "text": [
      "\r",
      "Epoch 1 training 45/49 [LR 0.000098] - loss: 1.5177:  90%|██████████████▎ | 44/49 [03:07<00:05,  1.00s/it]"
     ]
    },
    {
     "name": "stderr",
     "output_type": "stream",
     "text": [
      "\r",
      "Epoch 1 training 46/49 [LR 0.000098] - loss: 1.5166:  90%|██████████████▎ | 44/49 [03:07<00:05,  1.00s/it]"
     ]
    },
    {
     "name": "stderr",
     "output_type": "stream",
     "text": [
      "\r",
      "Epoch 1 training 46/49 [LR 0.000098] - loss: 1.5166:  94%|███████████████ | 46/49 [03:07<00:02,  1.41it/s]"
     ]
    },
    {
     "name": "stderr",
     "output_type": "stream",
     "text": [
      "\r",
      "Epoch 1 training 47/49 [LR 0.000098] - loss: 1.5175:  94%|███████████████ | 46/49 [03:08<00:02,  1.41it/s]"
     ]
    },
    {
     "name": "stderr",
     "output_type": "stream",
     "text": [
      "\r",
      "Epoch 1 training 48/49 [LR 0.000098] - loss: 1.5158:  94%|███████████████ | 46/49 [03:08<00:02,  1.41it/s]"
     ]
    },
    {
     "name": "stderr",
     "output_type": "stream",
     "text": [
      "\r",
      "Epoch 1 training 48/49 [LR 0.000098] - loss: 1.5158:  98%|███████████████▋| 48/49 [03:08<00:00,  1.95it/s]"
     ]
    },
    {
     "name": "stderr",
     "output_type": "stream",
     "text": [
      "\r",
      "Epoch 1 training 48/49 [LR 0.000098] - loss: 1.5158:  98%|███████████████▋| 48/49 [03:22<00:00,  1.95it/s]"
     ]
    },
    {
     "name": "stderr",
     "output_type": "stream",
     "text": [
      "\r",
      "Epoch 1 training 49/49 [LR 0.000098] - loss: 1.5158:  98%|███████████████▋| 48/49 [03:56<00:00,  1.95it/s]"
     ]
    },
    {
     "name": "stderr",
     "output_type": "stream",
     "text": [
      "\r",
      "Epoch 1 training 49/49 [LR 0.000098] - loss: 1.5158: 100%|████████████████| 49/49 [03:56<00:00,  9.27s/it]"
     ]
    },
    {
     "name": "stderr",
     "output_type": "stream",
     "text": [
      "\r",
      "Epoch 1 training 49/49 [LR 0.000098] - loss: 1.5158: 100%|████████████████| 49/49 [03:56<00:00,  4.82s/it]"
     ]
    },
    {
     "name": "stdout",
     "output_type": "stream",
     "text": [
      "Epoch 1 train loss = 1.5158, auc = 1.0000\n"
     ]
    },
    {
     "name": "stderr",
     "output_type": "stream",
     "text": [
      "\n"
     ]
    },
    {
     "name": "stderr",
     "output_type": "stream",
     "text": [
      "\r",
      "  0%|                                                                              | 0/13 [00:00<?, ?it/s]"
     ]
    },
    {
     "name": "stderr",
     "output_type": "stream",
     "text": [
      "\r",
      "  8%|█████▍                                                                | 1/13 [00:58<11:47, 58.98s/it]"
     ]
    },
    {
     "name": "stderr",
     "output_type": "stream",
     "text": [
      "\r",
      " 23%|████████████████▏                                                     | 3/13 [00:59<02:33, 15.33s/it]"
     ]
    },
    {
     "name": "stderr",
     "output_type": "stream",
     "text": [
      "\r",
      " 38%|██████████████████████████▉                                           | 5/13 [00:59<01:01,  7.67s/it]"
     ]
    },
    {
     "name": "stderr",
     "output_type": "stream",
     "text": [
      "\r",
      " 54%|█████████████████████████████████████▋                                | 7/13 [01:00<00:26,  4.45s/it]"
     ]
    },
    {
     "name": "stderr",
     "output_type": "stream",
     "text": [
      "\r",
      " 69%|████████████████████████████████████████████████▍                     | 9/13 [01:00<00:11,  2.79s/it]"
     ]
    },
    {
     "name": "stderr",
     "output_type": "stream",
     "text": [
      "\r",
      " 85%|██████████████████████████████████████████████████████████▍          | 11/13 [01:00<00:03,  1.83s/it]"
     ]
    },
    {
     "name": "stderr",
     "output_type": "stream",
     "text": [
      "\r",
      "100%|█████████████████████████████████████████████████████████████████████| 13/13 [01:00<00:00,  4.65s/it]"
     ]
    },
    {
     "name": "stdout",
     "output_type": "stream",
     "text": [
      "Epoch 1 validation loss = 1.5368 auc = 1.0000\n"
     ]
    },
    {
     "name": "stderr",
     "output_type": "stream",
     "text": [
      "\n"
     ]
    },
    {
     "name": "stderr",
     "output_type": "stream",
     "text": [
      "\r",
      "  0%|                                                                              | 0/49 [00:00<?, ?it/s]"
     ]
    },
    {
     "name": "stderr",
     "output_type": "stream",
     "text": [
      "\r",
      "Epoch 2 training 1/49 [LR 0.000098] - loss: 1.4687:   0%|                          | 0/49 [01:02<?, ?it/s]"
     ]
    },
    {
     "name": "stderr",
     "output_type": "stream",
     "text": [
      "\r",
      "Epoch 2 training 1/49 [LR 0.000098] - loss: 1.4687:   2%|▎                 | 1/49 [01:02<50:19, 62.91s/it]"
     ]
    },
    {
     "name": "stderr",
     "output_type": "stream",
     "text": [
      "\r",
      "Epoch 2 training 2/49 [LR 0.000097] - loss: 1.4650:   2%|▎                 | 1/49 [01:03<50:19, 62.91s/it]"
     ]
    },
    {
     "name": "stderr",
     "output_type": "stream",
     "text": [
      "\r",
      "Epoch 2 training 2/49 [LR 0.000097] - loss: 1.4650:   4%|▋                 | 2/49 [01:03<20:20, 25.97s/it]"
     ]
    },
    {
     "name": "stderr",
     "output_type": "stream",
     "text": [
      "\r",
      "Epoch 2 training 3/49 [LR 0.000097] - loss: 1.4882:   4%|▋                 | 2/49 [01:03<20:20, 25.97s/it]"
     ]
    },
    {
     "name": "stderr",
     "output_type": "stream",
     "text": [
      "\r",
      "Epoch 2 training 4/49 [LR 0.000097] - loss: 1.4827:   4%|▋                 | 2/49 [01:03<20:20, 25.97s/it]"
     ]
    },
    {
     "name": "stderr",
     "output_type": "stream",
     "text": [
      "\r",
      "Epoch 2 training 4/49 [LR 0.000097] - loss: 1.4827:   8%|█▍                | 4/49 [01:03<07:18,  9.75s/it]"
     ]
    },
    {
     "name": "stderr",
     "output_type": "stream",
     "text": [
      "\r",
      "Epoch 2 training 5/49 [LR 0.000097] - loss: 1.4904:   8%|█▍                | 4/49 [01:03<07:18,  9.75s/it]"
     ]
    },
    {
     "name": "stderr",
     "output_type": "stream",
     "text": [
      "\r",
      "Epoch 2 training 6/49 [LR 0.000097] - loss: 1.5081:   8%|█▍                | 4/49 [01:03<07:18,  9.75s/it]"
     ]
    },
    {
     "name": "stderr",
     "output_type": "stream",
     "text": [
      "\r",
      "Epoch 2 training 6/49 [LR 0.000097] - loss: 1.5081:  12%|██▏               | 6/49 [01:03<03:43,  5.19s/it]"
     ]
    },
    {
     "name": "stderr",
     "output_type": "stream",
     "text": [
      "\r",
      "Epoch 2 training 7/49 [LR 0.000097] - loss: 1.5142:  12%|██▏               | 6/49 [01:03<03:43,  5.19s/it]"
     ]
    },
    {
     "name": "stderr",
     "output_type": "stream",
     "text": [
      "\r",
      "Epoch 2 training 7/49 [LR 0.000097] - loss: 1.5142:  14%|██▌               | 7/49 [01:03<02:44,  3.91s/it]"
     ]
    },
    {
     "name": "stderr",
     "output_type": "stream",
     "text": [
      "\r",
      "Epoch 2 training 8/49 [LR 0.000097] - loss: 1.5029:  14%|██▌               | 7/49 [01:03<02:44,  3.91s/it]"
     ]
    },
    {
     "name": "stderr",
     "output_type": "stream",
     "text": [
      "\r",
      "Epoch 2 training 9/49 [LR 0.000097] - loss: 1.4992:  14%|██▌               | 7/49 [01:03<02:44,  3.91s/it]"
     ]
    },
    {
     "name": "stderr",
     "output_type": "stream",
     "text": [
      "\r",
      "Epoch 2 training 9/49 [LR 0.000097] - loss: 1.4992:  18%|███▎              | 9/49 [01:03<01:32,  2.31s/it]"
     ]
    },
    {
     "name": "stderr",
     "output_type": "stream",
     "text": [
      "\r",
      "Epoch 2 training 10/49 [LR 0.000097] - loss: 1.4952:  18%|███              | 9/49 [01:03<01:32,  2.31s/it]"
     ]
    },
    {
     "name": "stderr",
     "output_type": "stream",
     "text": [
      "\r",
      "Epoch 2 training 11/49 [LR 0.000097] - loss: 1.4977:  18%|███              | 9/49 [01:03<01:32,  2.31s/it]"
     ]
    },
    {
     "name": "stderr",
     "output_type": "stream",
     "text": [
      "\r",
      "Epoch 2 training 11/49 [LR 0.000097] - loss: 1.4977:  22%|███▌            | 11/49 [01:03<00:56,  1.48s/it]"
     ]
    },
    {
     "name": "stderr",
     "output_type": "stream",
     "text": [
      "\r",
      "Epoch 2 training 12/49 [LR 0.000097] - loss: 1.4929:  22%|███▌            | 11/49 [01:04<00:56,  1.48s/it]"
     ]
    },
    {
     "name": "stderr",
     "output_type": "stream",
     "text": [
      "\r",
      "Epoch 2 training 12/49 [LR 0.000097] - loss: 1.4929:  24%|███▉            | 12/49 [01:04<00:44,  1.19s/it]"
     ]
    },
    {
     "name": "stderr",
     "output_type": "stream",
     "text": [
      "\r",
      "Epoch 2 training 13/49 [LR 0.000097] - loss: 1.4913:  24%|███▉            | 12/49 [01:04<00:44,  1.19s/it]"
     ]
    },
    {
     "name": "stderr",
     "output_type": "stream",
     "text": [
      "\r",
      "Epoch 2 training 14/49 [LR 0.000097] - loss: 1.4911:  24%|███▉            | 12/49 [01:04<00:44,  1.19s/it]"
     ]
    },
    {
     "name": "stderr",
     "output_type": "stream",
     "text": [
      "\r",
      "Epoch 2 training 14/49 [LR 0.000097] - loss: 1.4911:  29%|████▌           | 14/49 [01:04<00:27,  1.28it/s]"
     ]
    },
    {
     "name": "stderr",
     "output_type": "stream",
     "text": [
      "\r",
      "Epoch 2 training 15/49 [LR 0.000097] - loss: 1.4951:  29%|████▌           | 14/49 [01:04<00:27,  1.28it/s]"
     ]
    },
    {
     "name": "stderr",
     "output_type": "stream",
     "text": [
      "\r",
      "Epoch 2 training 16/49 [LR 0.000097] - loss: 1.4978:  29%|████▌           | 14/49 [01:04<00:27,  1.28it/s]"
     ]
    },
    {
     "name": "stderr",
     "output_type": "stream",
     "text": [
      "\r",
      "Epoch 2 training 16/49 [LR 0.000097] - loss: 1.4978:  33%|█████▏          | 16/49 [01:04<00:17,  1.84it/s]"
     ]
    },
    {
     "name": "stderr",
     "output_type": "stream",
     "text": [
      "\r",
      "Epoch 2 training 17/49 [LR 0.000097] - loss: 1.4943:  33%|█████▏          | 16/49 [02:04<00:17,  1.84it/s]"
     ]
    },
    {
     "name": "stderr",
     "output_type": "stream",
     "text": [
      "\r",
      "Epoch 2 training 17/49 [LR 0.000097] - loss: 1.4943:  35%|█████▌          | 17/49 [02:04<06:40, 12.51s/it]"
     ]
    },
    {
     "name": "stderr",
     "output_type": "stream",
     "text": [
      "\r",
      "Epoch 2 training 18/49 [LR 0.000097] - loss: 1.4940:  35%|█████▌          | 17/49 [02:04<06:40, 12.51s/it]"
     ]
    },
    {
     "name": "stderr",
     "output_type": "stream",
     "text": [
      "\r",
      "Epoch 2 training 19/49 [LR 0.000097] - loss: 1.4958:  35%|█████▌          | 17/49 [02:05<06:40, 12.51s/it]"
     ]
    },
    {
     "name": "stderr",
     "output_type": "stream",
     "text": [
      "\r",
      "Epoch 2 training 19/49 [LR 0.000097] - loss: 1.4958:  39%|██████▏         | 19/49 [02:05<03:59,  8.00s/it]"
     ]
    },
    {
     "name": "stderr",
     "output_type": "stream",
     "text": [
      "\r",
      "Epoch 2 training 20/49 [LR 0.000097] - loss: 1.4958:  39%|██████▏         | 19/49 [02:05<03:59,  8.00s/it]"
     ]
    },
    {
     "name": "stderr",
     "output_type": "stream",
     "text": [
      "\r",
      "Epoch 2 training 21/49 [LR 0.000096] - loss: 1.4998:  39%|██████▏         | 19/49 [02:05<03:59,  8.00s/it]"
     ]
    },
    {
     "name": "stderr",
     "output_type": "stream",
     "text": [
      "\r",
      "Epoch 2 training 21/49 [LR 0.000096] - loss: 1.4998:  43%|██████▊         | 21/49 [02:05<02:28,  5.30s/it]"
     ]
    },
    {
     "name": "stderr",
     "output_type": "stream",
     "text": [
      "\r",
      "Epoch 2 training 22/49 [LR 0.000096] - loss: 1.4985:  43%|██████▊         | 21/49 [02:05<02:28,  5.30s/it]"
     ]
    },
    {
     "name": "stderr",
     "output_type": "stream",
     "text": [
      "\r",
      "Epoch 2 training 23/49 [LR 0.000096] - loss: 1.4982:  43%|██████▊         | 21/49 [02:05<02:28,  5.30s/it]"
     ]
    },
    {
     "name": "stderr",
     "output_type": "stream",
     "text": [
      "\r",
      "Epoch 2 training 23/49 [LR 0.000096] - loss: 1.4982:  47%|███████▌        | 23/49 [02:05<01:33,  3.59s/it]"
     ]
    },
    {
     "name": "stderr",
     "output_type": "stream",
     "text": [
      "\r",
      "Epoch 2 training 24/49 [LR 0.000096] - loss: 1.4964:  47%|███████▌        | 23/49 [02:05<01:33,  3.59s/it]"
     ]
    },
    {
     "name": "stderr",
     "output_type": "stream",
     "text": [
      "\r",
      "Epoch 2 training 25/49 [LR 0.000096] - loss: 1.4942:  47%|███████▌        | 23/49 [02:05<01:33,  3.59s/it]"
     ]
    },
    {
     "name": "stderr",
     "output_type": "stream",
     "text": [
      "\r",
      "Epoch 2 training 25/49 [LR 0.000096] - loss: 1.4942:  51%|████████▏       | 25/49 [02:05<00:59,  2.48s/it]"
     ]
    },
    {
     "name": "stderr",
     "output_type": "stream",
     "text": [
      "\r",
      "Epoch 2 training 26/49 [LR 0.000096] - loss: 1.4926:  51%|████████▏       | 25/49 [02:05<00:59,  2.48s/it]"
     ]
    },
    {
     "name": "stderr",
     "output_type": "stream",
     "text": [
      "\r",
      "Epoch 2 training 27/49 [LR 0.000096] - loss: 1.4923:  51%|████████▏       | 25/49 [02:05<00:59,  2.48s/it]"
     ]
    },
    {
     "name": "stderr",
     "output_type": "stream",
     "text": [
      "\r",
      "Epoch 2 training 27/49 [LR 0.000096] - loss: 1.4923:  55%|████████▊       | 27/49 [02:05<00:38,  1.73s/it]"
     ]
    },
    {
     "name": "stderr",
     "output_type": "stream",
     "text": [
      "\r",
      "Epoch 2 training 28/49 [LR 0.000096] - loss: 1.4915:  55%|████████▊       | 27/49 [02:06<00:38,  1.73s/it]"
     ]
    },
    {
     "name": "stderr",
     "output_type": "stream",
     "text": [
      "\r",
      "Epoch 2 training 28/49 [LR 0.000096] - loss: 1.4915:  57%|█████████▏      | 28/49 [02:06<00:33,  1.61s/it]"
     ]
    },
    {
     "name": "stderr",
     "output_type": "stream",
     "text": [
      "\r",
      "Epoch 2 training 29/49 [LR 0.000096] - loss: 1.4907:  57%|█████████▏      | 28/49 [02:06<00:33,  1.61s/it]"
     ]
    },
    {
     "name": "stderr",
     "output_type": "stream",
     "text": [
      "\r",
      "Epoch 2 training 29/49 [LR 0.000096] - loss: 1.4907:  59%|█████████▍      | 29/49 [02:06<00:25,  1.30s/it]"
     ]
    },
    {
     "name": "stderr",
     "output_type": "stream",
     "text": [
      "\r",
      "Epoch 2 training 30/49 [LR 0.000096] - loss: 1.4912:  59%|█████████▍      | 29/49 [02:07<00:25,  1.30s/it]"
     ]
    },
    {
     "name": "stderr",
     "output_type": "stream",
     "text": [
      "\r",
      "Epoch 2 training 31/49 [LR 0.000096] - loss: 1.4929:  59%|█████████▍      | 29/49 [02:07<00:25,  1.30s/it]"
     ]
    },
    {
     "name": "stderr",
     "output_type": "stream",
     "text": [
      "\r",
      "Epoch 2 training 31/49 [LR 0.000096] - loss: 1.4929:  63%|██████████      | 31/49 [02:07<00:15,  1.17it/s]"
     ]
    },
    {
     "name": "stderr",
     "output_type": "stream",
     "text": [
      "\r",
      "Epoch 2 training 32/49 [LR 0.000096] - loss: 1.4951:  63%|██████████      | 31/49 [02:07<00:15,  1.17it/s]"
     ]
    },
    {
     "name": "stderr",
     "output_type": "stream",
     "text": [
      "\r",
      "Epoch 2 training 32/49 [LR 0.000096] - loss: 1.4951:  65%|██████████▍     | 32/49 [02:07<00:11,  1.44it/s]"
     ]
    },
    {
     "name": "stderr",
     "output_type": "stream",
     "text": [
      "\r",
      "Epoch 2 training 33/49 [LR 0.000096] - loss: 1.4956:  65%|██████████▍     | 32/49 [03:07<00:11,  1.44it/s]"
     ]
    },
    {
     "name": "stderr",
     "output_type": "stream",
     "text": [
      "\r",
      "Epoch 2 training 33/49 [LR 0.000096] - loss: 1.4956:  67%|██████████▊     | 33/49 [03:07<03:49, 14.35s/it]"
     ]
    },
    {
     "name": "stderr",
     "output_type": "stream",
     "text": [
      "\r",
      "Epoch 2 training 34/49 [LR 0.000096] - loss: 1.4948:  67%|██████████▊     | 33/49 [03:07<03:49, 14.35s/it]"
     ]
    },
    {
     "name": "stderr",
     "output_type": "stream",
     "text": [
      "\r",
      "Epoch 2 training 35/49 [LR 0.000096] - loss: 1.4934:  67%|██████████▊     | 33/49 [03:07<03:49, 14.35s/it]"
     ]
    },
    {
     "name": "stderr",
     "output_type": "stream",
     "text": [
      "\r",
      "Epoch 2 training 35/49 [LR 0.000096] - loss: 1.4934:  71%|███████████▍    | 35/49 [03:07<02:01,  8.69s/it]"
     ]
    },
    {
     "name": "stderr",
     "output_type": "stream",
     "text": [
      "\r",
      "Epoch 2 training 36/49 [LR 0.000096] - loss: 1.4904:  71%|███████████▍    | 35/49 [03:07<02:01,  8.69s/it]"
     ]
    },
    {
     "name": "stderr",
     "output_type": "stream",
     "text": [
      "\r",
      "Epoch 2 training 37/49 [LR 0.000095] - loss: 1.4901:  71%|███████████▍    | 35/49 [03:07<02:01,  8.69s/it]"
     ]
    },
    {
     "name": "stderr",
     "output_type": "stream",
     "text": [
      "\r",
      "Epoch 2 training 37/49 [LR 0.000095] - loss: 1.4901:  76%|████████████    | 37/49 [03:07<01:06,  5.57s/it]"
     ]
    },
    {
     "name": "stderr",
     "output_type": "stream",
     "text": [
      "\r",
      "Epoch 2 training 38/49 [LR 0.000095] - loss: 1.4881:  76%|████████████    | 37/49 [03:07<01:06,  5.57s/it]"
     ]
    },
    {
     "name": "stderr",
     "output_type": "stream",
     "text": [
      "\r",
      "Epoch 2 training 39/49 [LR 0.000095] - loss: 1.4880:  76%|████████████    | 37/49 [03:07<01:06,  5.57s/it]"
     ]
    },
    {
     "name": "stderr",
     "output_type": "stream",
     "text": [
      "\r",
      "Epoch 2 training 39/49 [LR 0.000095] - loss: 1.4880:  80%|████████████▋   | 39/49 [03:07<00:37,  3.70s/it]"
     ]
    },
    {
     "name": "stderr",
     "output_type": "stream",
     "text": [
      "\r",
      "Epoch 2 training 40/49 [LR 0.000095] - loss: 1.4863:  80%|████████████▋   | 39/49 [03:07<00:37,  3.70s/it]"
     ]
    },
    {
     "name": "stderr",
     "output_type": "stream",
     "text": [
      "\r",
      "Epoch 2 training 41/49 [LR 0.000095] - loss: 1.4862:  80%|████████████▋   | 39/49 [03:07<00:37,  3.70s/it]"
     ]
    },
    {
     "name": "stderr",
     "output_type": "stream",
     "text": [
      "\r",
      "Epoch 2 training 41/49 [LR 0.000095] - loss: 1.4862:  84%|█████████████▍  | 41/49 [03:07<00:20,  2.52s/it]"
     ]
    },
    {
     "name": "stderr",
     "output_type": "stream",
     "text": [
      "\r",
      "Epoch 2 training 42/49 [LR 0.000095] - loss: 1.4881:  84%|█████████████▍  | 41/49 [03:08<00:20,  2.52s/it]"
     ]
    },
    {
     "name": "stderr",
     "output_type": "stream",
     "text": [
      "\r",
      "Epoch 2 training 43/49 [LR 0.000095] - loss: 1.4858:  84%|█████████████▍  | 41/49 [03:08<00:20,  2.52s/it]"
     ]
    },
    {
     "name": "stderr",
     "output_type": "stream",
     "text": [
      "\r",
      "Epoch 2 training 43/49 [LR 0.000095] - loss: 1.4858:  88%|██████████████  | 43/49 [03:08<00:10,  1.74s/it]"
     ]
    },
    {
     "name": "stderr",
     "output_type": "stream",
     "text": [
      "\r",
      "Epoch 2 training 44/49 [LR 0.000095] - loss: 1.4838:  88%|██████████████  | 43/49 [03:08<00:10,  1.74s/it]"
     ]
    },
    {
     "name": "stderr",
     "output_type": "stream",
     "text": [
      "\r",
      "Epoch 2 training 45/49 [LR 0.000095] - loss: 1.4833:  88%|██████████████  | 43/49 [03:08<00:10,  1.74s/it]"
     ]
    },
    {
     "name": "stderr",
     "output_type": "stream",
     "text": [
      "\r",
      "Epoch 2 training 45/49 [LR 0.000095] - loss: 1.4833:  92%|██████████████▋ | 45/49 [03:08<00:04,  1.22s/it]"
     ]
    },
    {
     "name": "stderr",
     "output_type": "stream",
     "text": [
      "\r",
      "Epoch 2 training 46/49 [LR 0.000095] - loss: 1.4826:  92%|██████████████▋ | 45/49 [03:08<00:04,  1.22s/it]"
     ]
    },
    {
     "name": "stderr",
     "output_type": "stream",
     "text": [
      "\r",
      "Epoch 2 training 47/49 [LR 0.000095] - loss: 1.4826:  92%|██████████████▋ | 45/49 [03:08<00:04,  1.22s/it]"
     ]
    },
    {
     "name": "stderr",
     "output_type": "stream",
     "text": [
      "\r",
      "Epoch 2 training 47/49 [LR 0.000095] - loss: 1.4826:  96%|███████████████▎| 47/49 [03:08<00:01,  1.15it/s]"
     ]
    },
    {
     "name": "stderr",
     "output_type": "stream",
     "text": [
      "\r",
      "Epoch 2 training 48/49 [LR 0.000095] - loss: 1.4824:  96%|███████████████▎| 47/49 [03:08<00:01,  1.15it/s]"
     ]
    },
    {
     "name": "stderr",
     "output_type": "stream",
     "text": [
      "\r",
      "Epoch 2 training 48/49 [LR 0.000095] - loss: 1.4824:  96%|███████████████▎| 47/49 [03:24<00:01,  1.15it/s]"
     ]
    },
    {
     "name": "stderr",
     "output_type": "stream",
     "text": [
      "\r",
      "Epoch 2 training 49/49 [LR 0.000095] - loss: 1.4821:  96%|███████████████▎| 47/49 [03:59<00:01,  1.15it/s]"
     ]
    },
    {
     "name": "stderr",
     "output_type": "stream",
     "text": [
      "\r",
      "Epoch 2 training 49/49 [LR 0.000095] - loss: 1.4821: 100%|████████████████| 49/49 [03:59<00:00,  8.46s/it]"
     ]
    },
    {
     "name": "stderr",
     "output_type": "stream",
     "text": [
      "\r",
      "Epoch 2 training 49/49 [LR 0.000095] - loss: 1.4821: 100%|████████████████| 49/49 [03:59<00:00,  4.89s/it]"
     ]
    },
    {
     "name": "stdout",
     "output_type": "stream",
     "text": [
      "Epoch 2 train loss = 1.4821, auc = 1.0000\n"
     ]
    },
    {
     "name": "stderr",
     "output_type": "stream",
     "text": [
      "\n"
     ]
    },
    {
     "name": "stderr",
     "output_type": "stream",
     "text": [
      "\r",
      "  0%|                                                                              | 0/13 [00:00<?, ?it/s]"
     ]
    },
    {
     "name": "stderr",
     "output_type": "stream",
     "text": [
      "\r",
      "  8%|█████▍                                                                | 1/13 [00:59<11:49, 59.13s/it]"
     ]
    },
    {
     "name": "stderr",
     "output_type": "stream",
     "text": [
      "\r",
      " 23%|████████████████▏                                                     | 3/13 [00:59<02:33, 15.37s/it]"
     ]
    },
    {
     "name": "stderr",
     "output_type": "stream",
     "text": [
      "\r",
      " 38%|██████████████████████████▉                                           | 5/13 [00:59<01:01,  7.66s/it]"
     ]
    },
    {
     "name": "stderr",
     "output_type": "stream",
     "text": [
      "\r",
      " 54%|█████████████████████████████████████▋                                | 7/13 [01:00<00:26,  4.44s/it]"
     ]
    },
    {
     "name": "stderr",
     "output_type": "stream",
     "text": [
      "\r",
      " 69%|████████████████████████████████████████████████▍                     | 9/13 [01:00<00:11,  2.79s/it]"
     ]
    },
    {
     "name": "stderr",
     "output_type": "stream",
     "text": [
      "\r",
      " 85%|██████████████████████████████████████████████████████████▍          | 11/13 [01:00<00:03,  1.83s/it]"
     ]
    },
    {
     "name": "stderr",
     "output_type": "stream",
     "text": [
      "\r",
      "100%|█████████████████████████████████████████████████████████████████████| 13/13 [01:00<00:00,  4.65s/it]"
     ]
    },
    {
     "name": "stdout",
     "output_type": "stream",
     "text": [
      "Epoch 2 validation loss = 1.5036 auc = 1.0000\n"
     ]
    },
    {
     "name": "stderr",
     "output_type": "stream",
     "text": [
      "\n"
     ]
    },
    {
     "name": "stderr",
     "output_type": "stream",
     "text": [
      "\r",
      "  0%|                                                                              | 0/49 [00:00<?, ?it/s]"
     ]
    },
    {
     "name": "stderr",
     "output_type": "stream",
     "text": [
      "\r",
      "Epoch 3 training 1/49 [LR 0.000095] - loss: 1.4290:   0%|                          | 0/49 [01:02<?, ?it/s]"
     ]
    },
    {
     "name": "stderr",
     "output_type": "stream",
     "text": [
      "\r",
      "Epoch 3 training 1/49 [LR 0.000095] - loss: 1.4290:   2%|▎                 | 1/49 [01:02<49:51, 62.32s/it]"
     ]
    },
    {
     "name": "stderr",
     "output_type": "stream",
     "text": [
      "\r",
      "Epoch 3 training 2/49 [LR 0.000094] - loss: 1.4701:   2%|▎                 | 1/49 [01:02<49:51, 62.32s/it]"
     ]
    },
    {
     "name": "stderr",
     "output_type": "stream",
     "text": [
      "\r",
      "Epoch 3 training 2/49 [LR 0.000094] - loss: 1.4701:   4%|▋                 | 2/49 [01:02<20:09, 25.73s/it]"
     ]
    },
    {
     "name": "stderr",
     "output_type": "stream",
     "text": [
      "\r",
      "Epoch 3 training 3/49 [LR 0.000094] - loss: 1.4620:   4%|▋                 | 2/49 [01:02<20:09, 25.73s/it]"
     ]
    },
    {
     "name": "stderr",
     "output_type": "stream",
     "text": [
      "\r",
      "Epoch 3 training 3/49 [LR 0.000094] - loss: 1.4620:   6%|█                 | 3/49 [01:02<10:45, 14.03s/it]"
     ]
    },
    {
     "name": "stderr",
     "output_type": "stream",
     "text": [
      "\r",
      "Epoch 3 training 4/49 [LR 0.000094] - loss: 1.4538:   6%|█                 | 3/49 [01:02<10:45, 14.03s/it]"
     ]
    },
    {
     "name": "stderr",
     "output_type": "stream",
     "text": [
      "\r",
      "Epoch 3 training 4/49 [LR 0.000094] - loss: 1.4538:   8%|█▍                | 4/49 [01:02<06:23,  8.53s/it]"
     ]
    },
    {
     "name": "stderr",
     "output_type": "stream",
     "text": [
      "\r",
      "Epoch 3 training 5/49 [LR 0.000094] - loss: 1.4474:   8%|█▍                | 4/49 [01:02<06:23,  8.53s/it]"
     ]
    },
    {
     "name": "stderr",
     "output_type": "stream",
     "text": [
      "\r",
      "Epoch 3 training 5/49 [LR 0.000094] - loss: 1.4474:  10%|█▊                | 5/49 [01:02<04:01,  5.49s/it]"
     ]
    },
    {
     "name": "stderr",
     "output_type": "stream",
     "text": [
      "\r",
      "Epoch 3 training 6/49 [LR 0.000094] - loss: 1.4338:  10%|█▊                | 5/49 [01:02<04:01,  5.49s/it]"
     ]
    },
    {
     "name": "stderr",
     "output_type": "stream",
     "text": [
      "\r",
      "Epoch 3 training 6/49 [LR 0.000094] - loss: 1.4338:  12%|██▏               | 6/49 [01:02<02:37,  3.66s/it]"
     ]
    },
    {
     "name": "stderr",
     "output_type": "stream",
     "text": [
      "\r",
      "Epoch 3 training 7/49 [LR 0.000094] - loss: 1.4427:  12%|██▏               | 6/49 [01:02<02:37,  3.66s/it]"
     ]
    },
    {
     "name": "stderr",
     "output_type": "stream",
     "text": [
      "\r",
      "Epoch 3 training 7/49 [LR 0.000094] - loss: 1.4427:  14%|██▌               | 7/49 [01:02<01:44,  2.50s/it]"
     ]
    },
    {
     "name": "stderr",
     "output_type": "stream",
     "text": [
      "\r",
      "Epoch 3 training 8/49 [LR 0.000094] - loss: 1.4495:  14%|██▌               | 7/49 [01:03<01:44,  2.50s/it]"
     ]
    },
    {
     "name": "stderr",
     "output_type": "stream",
     "text": [
      "\r",
      "Epoch 3 training 8/49 [LR 0.000094] - loss: 1.4495:  16%|██▉               | 8/49 [01:03<01:12,  1.77s/it]"
     ]
    },
    {
     "name": "stderr",
     "output_type": "stream",
     "text": [
      "\r",
      "Epoch 3 training 9/49 [LR 0.000094] - loss: 1.4554:  16%|██▉               | 8/49 [01:03<01:12,  1.77s/it]"
     ]
    },
    {
     "name": "stderr",
     "output_type": "stream",
     "text": [
      "\r",
      "Epoch 3 training 10/49 [LR 0.000094] - loss: 1.4548:  16%|██▊              | 8/49 [01:03<01:12,  1.77s/it]"
     ]
    },
    {
     "name": "stderr",
     "output_type": "stream",
     "text": [
      "\r",
      "Epoch 3 training 10/49 [LR 0.000094] - loss: 1.4548:  20%|███▎            | 10/49 [01:03<00:38,  1.03it/s]"
     ]
    },
    {
     "name": "stderr",
     "output_type": "stream",
     "text": [
      "\r",
      "Epoch 3 training 11/49 [LR 0.000094] - loss: 1.4503:  20%|███▎            | 10/49 [01:03<00:38,  1.03it/s]"
     ]
    },
    {
     "name": "stderr",
     "output_type": "stream",
     "text": [
      "\r",
      "Epoch 3 training 11/49 [LR 0.000094] - loss: 1.4503:  22%|███▌            | 11/49 [01:03<00:29,  1.29it/s]"
     ]
    },
    {
     "name": "stderr",
     "output_type": "stream",
     "text": [
      "\r",
      "Epoch 3 training 12/49 [LR 0.000094] - loss: 1.4516:  22%|███▌            | 11/49 [01:04<00:29,  1.29it/s]"
     ]
    },
    {
     "name": "stderr",
     "output_type": "stream",
     "text": [
      "\r",
      "Epoch 3 training 12/49 [LR 0.000094] - loss: 1.4516:  24%|███▉            | 12/49 [01:04<00:34,  1.06it/s]"
     ]
    },
    {
     "name": "stderr",
     "output_type": "stream",
     "text": [
      "\r",
      "Epoch 3 training 13/49 [LR 0.000094] - loss: 1.4595:  24%|███▉            | 12/49 [01:05<00:34,  1.06it/s]"
     ]
    },
    {
     "name": "stderr",
     "output_type": "stream",
     "text": [
      "\r",
      "Epoch 3 training 13/49 [LR 0.000094] - loss: 1.4595:  27%|████▏           | 13/49 [01:05<00:25,  1.41it/s]"
     ]
    },
    {
     "name": "stderr",
     "output_type": "stream",
     "text": [
      "\r",
      "Epoch 3 training 14/49 [LR 0.000094] - loss: 1.4582:  27%|████▏           | 13/49 [01:05<00:25,  1.41it/s]"
     ]
    },
    {
     "name": "stderr",
     "output_type": "stream",
     "text": [
      "\r",
      "Epoch 3 training 14/49 [LR 0.000094] - loss: 1.4582:  29%|████▌           | 14/49 [01:05<00:18,  1.86it/s]"
     ]
    },
    {
     "name": "stderr",
     "output_type": "stream",
     "text": [
      "\r",
      "Epoch 3 training 15/49 [LR 0.000093] - loss: 1.4575:  29%|████▌           | 14/49 [01:05<00:18,  1.86it/s]"
     ]
    },
    {
     "name": "stderr",
     "output_type": "stream",
     "text": [
      "\r",
      "Epoch 3 training 15/49 [LR 0.000093] - loss: 1.4575:  31%|████▉           | 15/49 [01:05<00:14,  2.43it/s]"
     ]
    },
    {
     "name": "stderr",
     "output_type": "stream",
     "text": [
      "\r",
      "Epoch 3 training 16/49 [LR 0.000093] - loss: 1.4596:  31%|████▉           | 15/49 [01:05<00:14,  2.43it/s]"
     ]
    },
    {
     "name": "stderr",
     "output_type": "stream",
     "text": [
      "\r",
      "Epoch 3 training 16/49 [LR 0.000093] - loss: 1.4596:  33%|█████▏          | 16/49 [01:05<00:10,  3.08it/s]"
     ]
    },
    {
     "name": "stderr",
     "output_type": "stream",
     "text": [
      "\r",
      "Epoch 3 training 17/49 [LR 0.000093] - loss: 1.4547:  33%|█████▏          | 16/49 [02:04<00:10,  3.08it/s]"
     ]
    },
    {
     "name": "stderr",
     "output_type": "stream",
     "text": [
      "\r",
      "Epoch 3 training 17/49 [LR 0.000093] - loss: 1.4547:  35%|█████▌          | 17/49 [02:04<09:20, 17.52s/it]"
     ]
    },
    {
     "name": "stderr",
     "output_type": "stream",
     "text": [
      "\r",
      "Epoch 3 training 18/49 [LR 0.000093] - loss: 1.4582:  35%|█████▌          | 17/49 [02:04<09:20, 17.52s/it]"
     ]
    },
    {
     "name": "stderr",
     "output_type": "stream",
     "text": [
      "\r",
      "Epoch 3 training 19/49 [LR 0.000093] - loss: 1.4581:  35%|█████▌          | 17/49 [02:04<09:20, 17.52s/it]"
     ]
    },
    {
     "name": "stderr",
     "output_type": "stream",
     "text": [
      "\r",
      "Epoch 3 training 19/49 [LR 0.000093] - loss: 1.4581:  39%|██████▏         | 19/49 [02:04<04:47,  9.57s/it]"
     ]
    },
    {
     "name": "stderr",
     "output_type": "stream",
     "text": [
      "\r",
      "Epoch 3 training 20/49 [LR 0.000093] - loss: 1.4561:  39%|██████▏         | 19/49 [02:04<04:47,  9.57s/it]"
     ]
    },
    {
     "name": "stderr",
     "output_type": "stream",
     "text": [
      "\r",
      "Epoch 3 training 20/49 [LR 0.000093] - loss: 1.4561:  41%|██████▌         | 20/49 [02:04<03:30,  7.24s/it]"
     ]
    },
    {
     "name": "stderr",
     "output_type": "stream",
     "text": [
      "\r",
      "Epoch 3 training 21/49 [LR 0.000093] - loss: 1.4520:  41%|██████▌         | 20/49 [02:04<03:30,  7.24s/it]"
     ]
    },
    {
     "name": "stderr",
     "output_type": "stream",
     "text": [
      "\r",
      "Epoch 3 training 21/49 [LR 0.000093] - loss: 1.4520:  43%|██████▊         | 21/49 [02:04<02:30,  5.39s/it]"
     ]
    },
    {
     "name": "stderr",
     "output_type": "stream",
     "text": [
      "\r",
      "Epoch 3 training 22/49 [LR 0.000093] - loss: 1.4521:  43%|██████▊         | 21/49 [02:04<02:30,  5.39s/it]"
     ]
    },
    {
     "name": "stderr",
     "output_type": "stream",
     "text": [
      "\r",
      "Epoch 3 training 23/49 [LR 0.000093] - loss: 1.4518:  43%|██████▊         | 21/49 [02:04<02:30,  5.39s/it]"
     ]
    },
    {
     "name": "stderr",
     "output_type": "stream",
     "text": [
      "\r",
      "Epoch 3 training 23/49 [LR 0.000093] - loss: 1.4518:  47%|███████▌        | 23/49 [02:04<01:21,  3.13s/it]"
     ]
    },
    {
     "name": "stderr",
     "output_type": "stream",
     "text": [
      "\r",
      "Epoch 3 training 24/49 [LR 0.000093] - loss: 1.4526:  47%|███████▌        | 23/49 [02:06<01:21,  3.13s/it]"
     ]
    },
    {
     "name": "stderr",
     "output_type": "stream",
     "text": [
      "\r",
      "Epoch 3 training 24/49 [LR 0.000093] - loss: 1.4526:  49%|███████▊        | 24/49 [02:06<01:08,  2.73s/it]"
     ]
    },
    {
     "name": "stderr",
     "output_type": "stream",
     "text": [
      "\r",
      "Epoch 3 training 25/49 [LR 0.000093] - loss: 1.4500:  49%|███████▊        | 24/49 [02:06<01:08,  2.73s/it]"
     ]
    },
    {
     "name": "stderr",
     "output_type": "stream",
     "text": [
      "\r",
      "Epoch 3 training 26/49 [LR 0.000093] - loss: 1.4516:  49%|███████▊        | 24/49 [02:06<01:08,  2.73s/it]"
     ]
    },
    {
     "name": "stderr",
     "output_type": "stream",
     "text": [
      "\r",
      "Epoch 3 training 26/49 [LR 0.000093] - loss: 1.4516:  53%|████████▍       | 26/49 [02:06<00:38,  1.68s/it]"
     ]
    },
    {
     "name": "stderr",
     "output_type": "stream",
     "text": [
      "\r",
      "Epoch 3 training 27/49 [LR 0.000092] - loss: 1.4526:  53%|████████▍       | 26/49 [02:06<00:38,  1.68s/it]"
     ]
    },
    {
     "name": "stderr",
     "output_type": "stream",
     "text": [
      "\r",
      "Epoch 3 training 28/49 [LR 0.000092] - loss: 1.4506:  53%|████████▍       | 26/49 [02:06<00:38,  1.68s/it]"
     ]
    },
    {
     "name": "stderr",
     "output_type": "stream",
     "text": [
      "\r",
      "Epoch 3 training 28/49 [LR 0.000092] - loss: 1.4506:  57%|█████████▏      | 28/49 [02:06<00:23,  1.10s/it]"
     ]
    },
    {
     "name": "stderr",
     "output_type": "stream",
     "text": [
      "\r",
      "Epoch 3 training 29/49 [LR 0.000092] - loss: 1.4487:  57%|█████████▏      | 28/49 [02:06<00:23,  1.10s/it]"
     ]
    },
    {
     "name": "stderr",
     "output_type": "stream",
     "text": [
      "\r",
      "Epoch 3 training 29/49 [LR 0.000092] - loss: 1.4487:  59%|█████████▍      | 29/49 [02:06<00:17,  1.12it/s]"
     ]
    },
    {
     "name": "stderr",
     "output_type": "stream",
     "text": [
      "\r",
      "Epoch 3 training 30/49 [LR 0.000092] - loss: 1.4512:  59%|█████████▍      | 29/49 [02:06<00:17,  1.12it/s]"
     ]
    },
    {
     "name": "stderr",
     "output_type": "stream",
     "text": [
      "\r",
      "Epoch 3 training 31/49 [LR 0.000092] - loss: 1.4511:  59%|█████████▍      | 29/49 [02:06<00:17,  1.12it/s]"
     ]
    },
    {
     "name": "stderr",
     "output_type": "stream",
     "text": [
      "\r",
      "Epoch 3 training 31/49 [LR 0.000092] - loss: 1.4511:  63%|██████████      | 31/49 [02:06<00:10,  1.66it/s]"
     ]
    },
    {
     "name": "stderr",
     "output_type": "stream",
     "text": [
      "\r",
      "Epoch 3 training 32/49 [LR 0.000092] - loss: 1.4510:  63%|██████████      | 31/49 [02:07<00:10,  1.66it/s]"
     ]
    },
    {
     "name": "stderr",
     "output_type": "stream",
     "text": [
      "\r",
      "Epoch 3 training 33/49 [LR 0.000092] - loss: 1.4503:  63%|██████████      | 31/49 [03:07<00:10,  1.66it/s]"
     ]
    },
    {
     "name": "stderr",
     "output_type": "stream",
     "text": [
      "\r",
      "Epoch 3 training 33/49 [LR 0.000092] - loss: 1.4503:  67%|██████████▊     | 33/49 [03:07<02:52, 10.80s/it]"
     ]
    },
    {
     "name": "stderr",
     "output_type": "stream",
     "text": [
      "\r",
      "Epoch 3 training 34/49 [LR 0.000092] - loss: 1.4505:  67%|██████████▊     | 33/49 [03:07<02:52, 10.80s/it]"
     ]
    },
    {
     "name": "stderr",
     "output_type": "stream",
     "text": [
      "\r",
      "Epoch 3 training 35/49 [LR 0.000092] - loss: 1.4507:  67%|██████████▊     | 33/49 [03:07<02:52, 10.80s/it]"
     ]
    },
    {
     "name": "stderr",
     "output_type": "stream",
     "text": [
      "\r",
      "Epoch 3 training 35/49 [LR 0.000092] - loss: 1.4507:  71%|███████████▍    | 35/49 [03:07<01:41,  7.25s/it]"
     ]
    },
    {
     "name": "stderr",
     "output_type": "stream",
     "text": [
      "\r",
      "Epoch 3 training 36/49 [LR 0.000092] - loss: 1.4496:  71%|███████████▍    | 35/49 [03:07<01:41,  7.25s/it]"
     ]
    },
    {
     "name": "stderr",
     "output_type": "stream",
     "text": [
      "\r",
      "Epoch 3 training 37/49 [LR 0.000092] - loss: 1.4493:  71%|███████████▍    | 35/49 [03:07<01:41,  7.25s/it]"
     ]
    },
    {
     "name": "stderr",
     "output_type": "stream",
     "text": [
      "\r",
      "Epoch 3 training 37/49 [LR 0.000092] - loss: 1.4493:  76%|████████████    | 37/49 [03:07<00:59,  4.95s/it]"
     ]
    },
    {
     "name": "stderr",
     "output_type": "stream",
     "text": [
      "\r",
      "Epoch 3 training 38/49 [LR 0.000092] - loss: 1.4491:  76%|████████████    | 37/49 [03:07<00:59,  4.95s/it]"
     ]
    },
    {
     "name": "stderr",
     "output_type": "stream",
     "text": [
      "\r",
      "Epoch 3 training 39/49 [LR 0.000091] - loss: 1.4509:  76%|████████████    | 37/49 [03:07<00:59,  4.95s/it]"
     ]
    },
    {
     "name": "stderr",
     "output_type": "stream",
     "text": [
      "\r",
      "Epoch 3 training 39/49 [LR 0.000091] - loss: 1.4509:  80%|████████████▋   | 39/49 [03:07<00:34,  3.42s/it]"
     ]
    },
    {
     "name": "stderr",
     "output_type": "stream",
     "text": [
      "\r",
      "Epoch 3 training 40/49 [LR 0.000091] - loss: 1.4531:  80%|████████████▋   | 39/49 [03:07<00:34,  3.42s/it]"
     ]
    },
    {
     "name": "stderr",
     "output_type": "stream",
     "text": [
      "\r",
      "Epoch 3 training 41/49 [LR 0.000091] - loss: 1.4520:  80%|████████████▋   | 39/49 [03:07<00:34,  3.42s/it]"
     ]
    },
    {
     "name": "stderr",
     "output_type": "stream",
     "text": [
      "\r",
      "Epoch 3 training 41/49 [LR 0.000091] - loss: 1.4520:  84%|█████████████▍  | 41/49 [03:07<00:19,  2.39s/it]"
     ]
    },
    {
     "name": "stderr",
     "output_type": "stream",
     "text": [
      "\r",
      "Epoch 3 training 42/49 [LR 0.000091] - loss: 1.4503:  84%|█████████████▍  | 41/49 [03:07<00:19,  2.39s/it]"
     ]
    },
    {
     "name": "stderr",
     "output_type": "stream",
     "text": [
      "\r",
      "Epoch 3 training 43/49 [LR 0.000091] - loss: 1.4503:  84%|█████████████▍  | 41/49 [03:07<00:19,  2.39s/it]"
     ]
    },
    {
     "name": "stderr",
     "output_type": "stream",
     "text": [
      "\r",
      "Epoch 3 training 43/49 [LR 0.000091] - loss: 1.4503:  88%|██████████████  | 43/49 [03:07<00:10,  1.68s/it]"
     ]
    },
    {
     "name": "stderr",
     "output_type": "stream",
     "text": [
      "\r",
      "Epoch 3 training 44/49 [LR 0.000091] - loss: 1.4500:  88%|██████████████  | 43/49 [03:08<00:10,  1.68s/it]"
     ]
    },
    {
     "name": "stderr",
     "output_type": "stream",
     "text": [
      "\r",
      "Epoch 3 training 45/49 [LR 0.000091] - loss: 1.4513:  88%|██████████████  | 43/49 [03:08<00:10,  1.68s/it]"
     ]
    },
    {
     "name": "stderr",
     "output_type": "stream",
     "text": [
      "\r",
      "Epoch 3 training 45/49 [LR 0.000091] - loss: 1.4513:  92%|██████████████▋ | 45/49 [03:08<00:05,  1.34s/it]"
     ]
    },
    {
     "name": "stderr",
     "output_type": "stream",
     "text": [
      "\r",
      "Epoch 3 training 46/49 [LR 0.000091] - loss: 1.4505:  92%|██████████████▋ | 45/49 [03:09<00:05,  1.34s/it]"
     ]
    },
    {
     "name": "stderr",
     "output_type": "stream",
     "text": [
      "\r",
      "Epoch 3 training 47/49 [LR 0.000091] - loss: 1.4496:  92%|██████████████▋ | 45/49 [03:09<00:05,  1.34s/it]"
     ]
    },
    {
     "name": "stderr",
     "output_type": "stream",
     "text": [
      "\r",
      "Epoch 3 training 47/49 [LR 0.000091] - loss: 1.4496:  96%|███████████████▎| 47/49 [03:09<00:01,  1.05it/s]"
     ]
    },
    {
     "name": "stderr",
     "output_type": "stream",
     "text": [
      "\r",
      "Epoch 3 training 48/49 [LR 0.000091] - loss: 1.4501:  96%|███████████████▎| 47/49 [03:09<00:01,  1.05it/s]"
     ]
    },
    {
     "name": "stderr",
     "output_type": "stream",
     "text": [
      "\r",
      "Epoch 3 training 49/49 [LR 0.000091] - loss: 1.4500:  96%|███████████████▎| 47/49 [04:00<00:01,  1.05it/s]"
     ]
    },
    {
     "name": "stderr",
     "output_type": "stream",
     "text": [
      "\r",
      "Epoch 3 training 49/49 [LR 0.000091] - loss: 1.4500: 100%|████████████████| 49/49 [04:00<00:00,  8.37s/it]"
     ]
    },
    {
     "name": "stderr",
     "output_type": "stream",
     "text": [
      "\r",
      "Epoch 3 training 49/49 [LR 0.000091] - loss: 1.4500: 100%|████████████████| 49/49 [04:00<00:00,  4.90s/it]"
     ]
    },
    {
     "name": "stdout",
     "output_type": "stream",
     "text": [
      "Epoch 3 train loss = 1.4500, auc = 1.0000\n"
     ]
    },
    {
     "name": "stderr",
     "output_type": "stream",
     "text": [
      "\n"
     ]
    },
    {
     "name": "stderr",
     "output_type": "stream",
     "text": [
      "\r",
      "  0%|                                                                              | 0/13 [00:00<?, ?it/s]"
     ]
    },
    {
     "name": "stderr",
     "output_type": "stream",
     "text": [
      "\r",
      "  8%|█████▍                                                                | 1/13 [00:58<11:47, 58.96s/it]"
     ]
    },
    {
     "name": "stderr",
     "output_type": "stream",
     "text": [
      "\r",
      " 23%|████████████████▏                                                     | 3/13 [00:59<02:33, 15.33s/it]"
     ]
    },
    {
     "name": "stderr",
     "output_type": "stream",
     "text": [
      "\r",
      " 38%|██████████████████████████▉                                           | 5/13 [00:59<01:01,  7.67s/it]"
     ]
    },
    {
     "name": "stderr",
     "output_type": "stream",
     "text": [
      "\r",
      " 54%|█████████████████████████████████████▋                                | 7/13 [01:00<00:26,  4.44s/it]"
     ]
    },
    {
     "name": "stderr",
     "output_type": "stream",
     "text": [
      "\r",
      " 69%|████████████████████████████████████████████████▍                     | 9/13 [01:00<00:11,  2.79s/it]"
     ]
    },
    {
     "name": "stderr",
     "output_type": "stream",
     "text": [
      "\r",
      " 85%|██████████████████████████████████████████████████████████▍          | 11/13 [01:00<00:03,  1.83s/it]"
     ]
    },
    {
     "name": "stderr",
     "output_type": "stream",
     "text": [
      "\r",
      "100%|█████████████████████████████████████████████████████████████████████| 13/13 [01:00<00:00,  4.65s/it]"
     ]
    },
    {
     "name": "stdout",
     "output_type": "stream",
     "text": [
      "Epoch 3 validation loss = 1.4704 auc = 1.0000\n"
     ]
    },
    {
     "name": "stderr",
     "output_type": "stream",
     "text": [
      "\n"
     ]
    },
    {
     "name": "stderr",
     "output_type": "stream",
     "text": [
      "\r",
      "  0%|                                                                              | 0/49 [00:00<?, ?it/s]"
     ]
    },
    {
     "name": "stderr",
     "output_type": "stream",
     "text": [
      "\r",
      "Epoch 4 training 1/49 [LR 0.000090] - loss: 1.4091:   0%|                          | 0/49 [01:02<?, ?it/s]"
     ]
    },
    {
     "name": "stderr",
     "output_type": "stream",
     "text": [
      "\r",
      "Epoch 4 training 1/49 [LR 0.000090] - loss: 1.4091:   2%|▎                 | 1/49 [01:02<50:15, 62.82s/it]"
     ]
    },
    {
     "name": "stderr",
     "output_type": "stream",
     "text": [
      "\r",
      "Epoch 4 training 2/49 [LR 0.000090] - loss: 1.4132:   2%|▎                 | 1/49 [01:02<50:15, 62.82s/it]"
     ]
    },
    {
     "name": "stderr",
     "output_type": "stream",
     "text": [
      "\r",
      "Epoch 4 training 2/49 [LR 0.000090] - loss: 1.4132:   4%|▋                 | 2/49 [01:02<20:18, 25.93s/it]"
     ]
    },
    {
     "name": "stderr",
     "output_type": "stream",
     "text": [
      "\r",
      "Epoch 4 training 3/49 [LR 0.000090] - loss: 1.4317:   4%|▋                 | 2/49 [01:03<20:18, 25.93s/it]"
     ]
    },
    {
     "name": "stderr",
     "output_type": "stream",
     "text": [
      "\r",
      "Epoch 4 training 3/49 [LR 0.000090] - loss: 1.4317:   6%|█                 | 3/49 [01:03<10:50, 14.14s/it]"
     ]
    },
    {
     "name": "stderr",
     "output_type": "stream",
     "text": [
      "\r",
      "Epoch 4 training 4/49 [LR 0.000090] - loss: 1.4368:   6%|█                 | 3/49 [01:03<10:50, 14.14s/it]"
     ]
    },
    {
     "name": "stderr",
     "output_type": "stream",
     "text": [
      "\r",
      "Epoch 4 training 4/49 [LR 0.000090] - loss: 1.4368:   8%|█▍                | 4/49 [01:03<06:26,  8.60s/it]"
     ]
    },
    {
     "name": "stderr",
     "output_type": "stream",
     "text": [
      "\r",
      "Epoch 4 training 5/49 [LR 0.000090] - loss: 1.4243:   8%|█▍                | 4/49 [01:03<06:26,  8.60s/it]"
     ]
    },
    {
     "name": "stderr",
     "output_type": "stream",
     "text": [
      "\r",
      "Epoch 4 training 5/49 [LR 0.000090] - loss: 1.4243:  10%|█▊                | 5/49 [01:03<04:03,  5.53s/it]"
     ]
    },
    {
     "name": "stderr",
     "output_type": "stream",
     "text": [
      "\r",
      "Epoch 4 training 6/49 [LR 0.000090] - loss: 1.4156:  10%|█▊                | 5/49 [01:03<04:03,  5.53s/it]"
     ]
    },
    {
     "name": "stderr",
     "output_type": "stream",
     "text": [
      "\r",
      "Epoch 4 training 6/49 [LR 0.000090] - loss: 1.4156:  12%|██▏               | 6/49 [01:03<02:38,  3.69s/it]"
     ]
    },
    {
     "name": "stderr",
     "output_type": "stream",
     "text": [
      "\r",
      "Epoch 4 training 7/49 [LR 0.000090] - loss: 1.4230:  12%|██▏               | 6/49 [01:03<02:38,  3.69s/it]"
     ]
    },
    {
     "name": "stderr",
     "output_type": "stream",
     "text": [
      "\r",
      "Epoch 4 training 7/49 [LR 0.000090] - loss: 1.4230:  14%|██▌               | 7/49 [01:03<01:45,  2.51s/it]"
     ]
    },
    {
     "name": "stderr",
     "output_type": "stream",
     "text": [
      "\r",
      "Epoch 4 training 8/49 [LR 0.000090] - loss: 1.4186:  14%|██▌               | 7/49 [01:03<01:45,  2.51s/it]"
     ]
    },
    {
     "name": "stderr",
     "output_type": "stream",
     "text": [
      "\r",
      "Epoch 4 training 9/49 [LR 0.000090] - loss: 1.4166:  14%|██▌               | 7/49 [01:03<01:45,  2.51s/it]"
     ]
    },
    {
     "name": "stderr",
     "output_type": "stream",
     "text": [
      "\r",
      "Epoch 4 training 9/49 [LR 0.000090] - loss: 1.4166:  18%|███▎              | 9/49 [01:03<00:53,  1.34s/it]"
     ]
    },
    {
     "name": "stderr",
     "output_type": "stream",
     "text": [
      "\r",
      "Epoch 4 training 10/49 [LR 0.000090] - loss: 1.4171:  18%|███              | 9/49 [01:03<00:53,  1.34s/it]"
     ]
    },
    {
     "name": "stderr",
     "output_type": "stream",
     "text": [
      "\r",
      "Epoch 4 training 11/49 [LR 0.000089] - loss: 1.4176:  18%|███              | 9/49 [01:03<00:53,  1.34s/it]"
     ]
    },
    {
     "name": "stderr",
     "output_type": "stream",
     "text": [
      "\r",
      "Epoch 4 training 11/49 [LR 0.000089] - loss: 1.4176:  22%|███▌            | 11/49 [01:03<00:31,  1.20it/s]"
     ]
    },
    {
     "name": "stderr",
     "output_type": "stream",
     "text": [
      "\r",
      "Epoch 4 training 12/49 [LR 0.000089] - loss: 1.4206:  22%|███▌            | 11/49 [01:03<00:31,  1.20it/s]"
     ]
    },
    {
     "name": "stderr",
     "output_type": "stream",
     "text": [
      "\r",
      "Epoch 4 training 13/49 [LR 0.000089] - loss: 1.4226:  22%|███▌            | 11/49 [01:04<00:31,  1.20it/s]"
     ]
    },
    {
     "name": "stderr",
     "output_type": "stream",
     "text": [
      "\r",
      "Epoch 4 training 13/49 [LR 0.000089] - loss: 1.4226:  27%|████▏           | 13/49 [01:04<00:20,  1.77it/s]"
     ]
    },
    {
     "name": "stderr",
     "output_type": "stream",
     "text": [
      "\r",
      "Epoch 4 training 14/49 [LR 0.000089] - loss: 1.4213:  27%|████▏           | 13/49 [01:04<00:20,  1.77it/s]"
     ]
    },
    {
     "name": "stderr",
     "output_type": "stream",
     "text": [
      "\r",
      "Epoch 4 training 14/49 [LR 0.000089] - loss: 1.4213:  29%|████▌           | 14/49 [01:04<00:16,  2.13it/s]"
     ]
    },
    {
     "name": "stderr",
     "output_type": "stream",
     "text": [
      "\r",
      "Epoch 4 training 15/49 [LR 0.000089] - loss: 1.4209:  29%|████▌           | 14/49 [01:04<00:16,  2.13it/s]"
     ]
    },
    {
     "name": "stderr",
     "output_type": "stream",
     "text": [
      "\r",
      "Epoch 4 training 15/49 [LR 0.000089] - loss: 1.4209:  31%|████▉           | 15/49 [01:04<00:13,  2.58it/s]"
     ]
    },
    {
     "name": "stderr",
     "output_type": "stream",
     "text": [
      "\r",
      "Epoch 4 training 16/49 [LR 0.000089] - loss: 1.4195:  31%|████▉           | 15/49 [01:04<00:13,  2.58it/s]"
     ]
    },
    {
     "name": "stderr",
     "output_type": "stream",
     "text": [
      "\r",
      "Epoch 4 training 17/49 [LR 0.000089] - loss: 1.4187:  31%|████▉           | 15/49 [02:04<00:13,  2.58it/s]"
     ]
    },
    {
     "name": "stderr",
     "output_type": "stream",
     "text": [
      "\r",
      "Epoch 4 training 17/49 [LR 0.000089] - loss: 1.4187:  35%|█████▌          | 17/49 [02:04<06:31, 12.24s/it]"
     ]
    },
    {
     "name": "stderr",
     "output_type": "stream",
     "text": [
      "\r",
      "Epoch 4 training 18/49 [LR 0.000089] - loss: 1.4190:  35%|█████▌          | 17/49 [02:04<06:31, 12.24s/it]"
     ]
    },
    {
     "name": "stderr",
     "output_type": "stream",
     "text": [
      "\r",
      "Epoch 4 training 18/49 [LR 0.000089] - loss: 1.4190:  37%|█████▉          | 18/49 [02:04<04:56,  9.56s/it]"
     ]
    },
    {
     "name": "stderr",
     "output_type": "stream",
     "text": [
      "\r",
      "Epoch 4 training 19/49 [LR 0.000089] - loss: 1.4207:  37%|█████▉          | 18/49 [02:05<04:56,  9.56s/it]"
     ]
    },
    {
     "name": "stderr",
     "output_type": "stream",
     "text": [
      "\r",
      "Epoch 4 training 20/49 [LR 0.000089] - loss: 1.4216:  37%|█████▉          | 18/49 [02:05<04:56,  9.56s/it]"
     ]
    },
    {
     "name": "stderr",
     "output_type": "stream",
     "text": [
      "\r",
      "Epoch 4 training 20/49 [LR 0.000089] - loss: 1.4216:  41%|██████▌         | 20/49 [02:05<02:51,  5.91s/it]"
     ]
    },
    {
     "name": "stderr",
     "output_type": "stream",
     "text": [
      "\r",
      "Epoch 4 training 21/49 [LR 0.000088] - loss: 1.4213:  41%|██████▌         | 20/49 [02:05<02:51,  5.91s/it]"
     ]
    },
    {
     "name": "stderr",
     "output_type": "stream",
     "text": [
      "\r",
      "Epoch 4 training 22/49 [LR 0.000088] - loss: 1.4229:  41%|██████▌         | 20/49 [02:05<02:51,  5.91s/it]"
     ]
    },
    {
     "name": "stderr",
     "output_type": "stream",
     "text": [
      "\r",
      "Epoch 4 training 22/49 [LR 0.000088] - loss: 1.4229:  45%|███████▏        | 22/49 [02:05<01:43,  3.84s/it]"
     ]
    },
    {
     "name": "stderr",
     "output_type": "stream",
     "text": [
      "\r",
      "Epoch 4 training 23/49 [LR 0.000088] - loss: 1.4234:  45%|███████▏        | 22/49 [02:05<01:43,  3.84s/it]"
     ]
    },
    {
     "name": "stderr",
     "output_type": "stream",
     "text": [
      "\r",
      "Epoch 4 training 24/49 [LR 0.000088] - loss: 1.4216:  45%|███████▏        | 22/49 [02:05<01:43,  3.84s/it]"
     ]
    },
    {
     "name": "stderr",
     "output_type": "stream",
     "text": [
      "\r",
      "Epoch 4 training 24/49 [LR 0.000088] - loss: 1.4216:  49%|███████▊        | 24/49 [02:05<01:04,  2.58s/it]"
     ]
    },
    {
     "name": "stderr",
     "output_type": "stream",
     "text": [
      "\r",
      "Epoch 4 training 25/49 [LR 0.000088] - loss: 1.4195:  49%|███████▊        | 24/49 [02:05<01:04,  2.58s/it]"
     ]
    },
    {
     "name": "stderr",
     "output_type": "stream",
     "text": [
      "\r",
      "Epoch 4 training 26/49 [LR 0.000088] - loss: 1.4164:  49%|███████▊        | 24/49 [02:05<01:04,  2.58s/it]"
     ]
    },
    {
     "name": "stderr",
     "output_type": "stream",
     "text": [
      "\r",
      "Epoch 4 training 26/49 [LR 0.000088] - loss: 1.4164:  53%|████████▍       | 26/49 [02:05<00:40,  1.77s/it]"
     ]
    },
    {
     "name": "stderr",
     "output_type": "stream",
     "text": [
      "\r",
      "Epoch 4 training 27/49 [LR 0.000088] - loss: 1.4142:  53%|████████▍       | 26/49 [02:05<00:40,  1.77s/it]"
     ]
    },
    {
     "name": "stderr",
     "output_type": "stream",
     "text": [
      "\r",
      "Epoch 4 training 28/49 [LR 0.000088] - loss: 1.4164:  53%|████████▍       | 26/49 [02:05<00:40,  1.77s/it]"
     ]
    },
    {
     "name": "stderr",
     "output_type": "stream",
     "text": [
      "\r",
      "Epoch 4 training 28/49 [LR 0.000088] - loss: 1.4164:  57%|█████████▏      | 28/49 [02:05<00:26,  1.24s/it]"
     ]
    },
    {
     "name": "stderr",
     "output_type": "stream",
     "text": [
      "\r",
      "Epoch 4 training 29/49 [LR 0.000088] - loss: 1.4171:  57%|█████████▏      | 28/49 [02:06<00:26,  1.24s/it]"
     ]
    },
    {
     "name": "stderr",
     "output_type": "stream",
     "text": [
      "\r",
      "Epoch 4 training 30/49 [LR 0.000088] - loss: 1.4185:  57%|█████████▏      | 28/49 [02:06<00:26,  1.24s/it]"
     ]
    },
    {
     "name": "stderr",
     "output_type": "stream",
     "text": [
      "\r",
      "Epoch 4 training 30/49 [LR 0.000088] - loss: 1.4185:  61%|█████████▊      | 30/49 [02:06<00:16,  1.13it/s]"
     ]
    },
    {
     "name": "stderr",
     "output_type": "stream",
     "text": [
      "\r",
      "Epoch 4 training 31/49 [LR 0.000087] - loss: 1.4180:  61%|█████████▊      | 30/49 [02:06<00:16,  1.13it/s]"
     ]
    },
    {
     "name": "stderr",
     "output_type": "stream",
     "text": [
      "\r",
      "Epoch 4 training 32/49 [LR 0.000087] - loss: 1.4170:  61%|█████████▊      | 30/49 [02:06<00:16,  1.13it/s]"
     ]
    },
    {
     "name": "stderr",
     "output_type": "stream",
     "text": [
      "\r",
      "Epoch 4 training 32/49 [LR 0.000087] - loss: 1.4170:  65%|██████████▍     | 32/49 [02:06<00:10,  1.55it/s]"
     ]
    },
    {
     "name": "stderr",
     "output_type": "stream",
     "text": [
      "\r",
      "Epoch 4 training 32/49 [LR 0.000087] - loss: 1.4170:  65%|██████████▍     | 32/49 [02:21<00:10,  1.55it/s]"
     ]
    },
    {
     "name": "stderr",
     "output_type": "stream",
     "text": [
      "\r",
      "Epoch 4 training 33/49 [LR 0.000087] - loss: 1.4170:  65%|██████████▍     | 32/49 [03:07<00:10,  1.55it/s]"
     ]
    },
    {
     "name": "stderr",
     "output_type": "stream",
     "text": [
      "\r",
      "Epoch 4 training 33/49 [LR 0.000087] - loss: 1.4170:  67%|██████████▊     | 33/49 [03:07<03:05, 11.59s/it]"
     ]
    },
    {
     "name": "stderr",
     "output_type": "stream",
     "text": [
      "\r",
      "Epoch 4 training 34/49 [LR 0.000087] - loss: 1.4187:  67%|██████████▊     | 33/49 [03:07<03:05, 11.59s/it]"
     ]
    },
    {
     "name": "stderr",
     "output_type": "stream",
     "text": [
      "\r",
      "Epoch 4 training 35/49 [LR 0.000087] - loss: 1.4173:  67%|██████████▊     | 33/49 [03:07<03:05, 11.59s/it]"
     ]
    },
    {
     "name": "stderr",
     "output_type": "stream",
     "text": [
      "\r",
      "Epoch 4 training 35/49 [LR 0.000087] - loss: 1.4173:  71%|███████████▍    | 35/49 [03:07<01:47,  7.68s/it]"
     ]
    },
    {
     "name": "stderr",
     "output_type": "stream",
     "text": [
      "\r",
      "Epoch 4 training 36/49 [LR 0.000087] - loss: 1.4158:  71%|███████████▍    | 35/49 [03:07<01:47,  7.68s/it]"
     ]
    },
    {
     "name": "stderr",
     "output_type": "stream",
     "text": [
      "\r",
      "Epoch 4 training 37/49 [LR 0.000087] - loss: 1.4144:  71%|███████████▍    | 35/49 [03:08<01:47,  7.68s/it]"
     ]
    },
    {
     "name": "stderr",
     "output_type": "stream",
     "text": [
      "\r",
      "Epoch 4 training 37/49 [LR 0.000087] - loss: 1.4144:  76%|████████████    | 37/49 [03:08<01:02,  5.20s/it]"
     ]
    },
    {
     "name": "stderr",
     "output_type": "stream",
     "text": [
      "\r",
      "Epoch 4 training 38/49 [LR 0.000087] - loss: 1.4151:  76%|████████████    | 37/49 [03:08<01:02,  5.20s/it]"
     ]
    },
    {
     "name": "stderr",
     "output_type": "stream",
     "text": [
      "\r",
      "Epoch 4 training 39/49 [LR 0.000087] - loss: 1.4168:  76%|████████████    | 37/49 [03:08<01:02,  5.20s/it]"
     ]
    },
    {
     "name": "stderr",
     "output_type": "stream",
     "text": [
      "\r",
      "Epoch 4 training 39/49 [LR 0.000087] - loss: 1.4168:  80%|████████████▋   | 39/49 [03:08<00:35,  3.59s/it]"
     ]
    },
    {
     "name": "stderr",
     "output_type": "stream",
     "text": [
      "\r",
      "Epoch 4 training 40/49 [LR 0.000086] - loss: 1.4182:  80%|████████████▋   | 39/49 [03:08<00:35,  3.59s/it]"
     ]
    },
    {
     "name": "stderr",
     "output_type": "stream",
     "text": [
      "\r",
      "Epoch 4 training 41/49 [LR 0.000086] - loss: 1.4187:  80%|████████████▋   | 39/49 [03:08<00:35,  3.59s/it]"
     ]
    },
    {
     "name": "stderr",
     "output_type": "stream",
     "text": [
      "\r",
      "Epoch 4 training 41/49 [LR 0.000086] - loss: 1.4187:  84%|█████████████▍  | 41/49 [03:08<00:19,  2.49s/it]"
     ]
    },
    {
     "name": "stderr",
     "output_type": "stream",
     "text": [
      "\r",
      "Epoch 4 training 42/49 [LR 0.000086] - loss: 1.4169:  84%|█████████████▍  | 41/49 [03:08<00:19,  2.49s/it]"
     ]
    },
    {
     "name": "stderr",
     "output_type": "stream",
     "text": [
      "\r",
      "Epoch 4 training 43/49 [LR 0.000086] - loss: 1.4175:  84%|█████████████▍  | 41/49 [03:08<00:19,  2.49s/it]"
     ]
    },
    {
     "name": "stderr",
     "output_type": "stream",
     "text": [
      "\r",
      "Epoch 4 training 43/49 [LR 0.000086] - loss: 1.4175:  88%|██████████████  | 43/49 [03:08<00:10,  1.75s/it]"
     ]
    },
    {
     "name": "stderr",
     "output_type": "stream",
     "text": [
      "\r",
      "Epoch 4 training 44/49 [LR 0.000086] - loss: 1.4170:  88%|██████████████  | 43/49 [03:08<00:10,  1.75s/it]"
     ]
    },
    {
     "name": "stderr",
     "output_type": "stream",
     "text": [
      "\r",
      "Epoch 4 training 45/49 [LR 0.000086] - loss: 1.4159:  88%|██████████████  | 43/49 [03:08<00:10,  1.75s/it]"
     ]
    },
    {
     "name": "stderr",
     "output_type": "stream",
     "text": [
      "\r",
      "Epoch 4 training 45/49 [LR 0.000086] - loss: 1.4159:  92%|██████████████▋ | 45/49 [03:08<00:04,  1.24s/it]"
     ]
    },
    {
     "name": "stderr",
     "output_type": "stream",
     "text": [
      "\r",
      "Epoch 4 training 46/49 [LR 0.000086] - loss: 1.4155:  92%|██████████████▋ | 45/49 [03:08<00:04,  1.24s/it]"
     ]
    },
    {
     "name": "stderr",
     "output_type": "stream",
     "text": [
      "\r",
      "Epoch 4 training 47/49 [LR 0.000086] - loss: 1.4145:  92%|██████████████▋ | 45/49 [03:09<00:04,  1.24s/it]"
     ]
    },
    {
     "name": "stderr",
     "output_type": "stream",
     "text": [
      "\r",
      "Epoch 4 training 47/49 [LR 0.000086] - loss: 1.4145:  96%|███████████████▎| 47/49 [03:09<00:01,  1.12it/s]"
     ]
    },
    {
     "name": "stderr",
     "output_type": "stream",
     "text": [
      "\r",
      "Epoch 4 training 48/49 [LR 0.000086] - loss: 1.4164:  96%|███████████████▎| 47/49 [03:09<00:01,  1.12it/s]"
     ]
    },
    {
     "name": "stderr",
     "output_type": "stream",
     "text": [
      "\r",
      "Epoch 4 training 48/49 [LR 0.000086] - loss: 1.4164:  96%|███████████████▎| 47/49 [03:21<00:01,  1.12it/s]"
     ]
    },
    {
     "name": "stderr",
     "output_type": "stream",
     "text": [
      "\r",
      "Epoch 4 training 49/49 [LR 0.000086] - loss: 1.4164:  96%|███████████████▎| 47/49 [03:58<00:01,  1.12it/s]"
     ]
    },
    {
     "name": "stderr",
     "output_type": "stream",
     "text": [
      "\r",
      "Epoch 4 training 49/49 [LR 0.000086] - loss: 1.4164: 100%|████████████████| 49/49 [03:58<00:00,  8.13s/it]"
     ]
    },
    {
     "name": "stderr",
     "output_type": "stream",
     "text": [
      "\r",
      "Epoch 4 training 49/49 [LR 0.000086] - loss: 1.4164: 100%|████████████████| 49/49 [03:58<00:00,  4.87s/it]"
     ]
    },
    {
     "name": "stdout",
     "output_type": "stream",
     "text": [
      "Epoch 4 train loss = 1.4164, auc = 1.0000\n"
     ]
    },
    {
     "name": "stderr",
     "output_type": "stream",
     "text": [
      "\n"
     ]
    },
    {
     "name": "stderr",
     "output_type": "stream",
     "text": [
      "\r",
      "  0%|                                                                              | 0/13 [00:00<?, ?it/s]"
     ]
    },
    {
     "name": "stderr",
     "output_type": "stream",
     "text": [
      "\r",
      "  8%|█████▍                                                                | 1/13 [00:59<11:52, 59.41s/it]"
     ]
    },
    {
     "name": "stderr",
     "output_type": "stream",
     "text": [
      "\r",
      " 23%|████████████████▏                                                     | 3/13 [00:59<02:34, 15.45s/it]"
     ]
    },
    {
     "name": "stderr",
     "output_type": "stream",
     "text": [
      "\r",
      " 38%|██████████████████████████▉                                           | 5/13 [01:00<01:01,  7.73s/it]"
     ]
    },
    {
     "name": "stderr",
     "output_type": "stream",
     "text": [
      "\r",
      " 54%|█████████████████████████████████████▋                                | 7/13 [01:00<00:26,  4.48s/it]"
     ]
    },
    {
     "name": "stderr",
     "output_type": "stream",
     "text": [
      "\r",
      " 69%|████████████████████████████████████████████████▍                     | 9/13 [01:00<00:11,  2.81s/it]"
     ]
    },
    {
     "name": "stderr",
     "output_type": "stream",
     "text": [
      "\r",
      " 85%|██████████████████████████████████████████████████████████▍          | 11/13 [01:00<00:03,  1.85s/it]"
     ]
    },
    {
     "name": "stderr",
     "output_type": "stream",
     "text": [
      "\r",
      "100%|█████████████████████████████████████████████████████████████████████| 13/13 [01:00<00:00,  4.68s/it]"
     ]
    },
    {
     "name": "stdout",
     "output_type": "stream",
     "text": [
      "Epoch 4 validation loss = 1.4711 auc = 1.0000\n"
     ]
    },
    {
     "name": "stderr",
     "output_type": "stream",
     "text": [
      "\n"
     ]
    },
    {
     "name": "stderr",
     "output_type": "stream",
     "text": [
      "\r",
      "  0%|                                                                              | 0/49 [00:00<?, ?it/s]"
     ]
    },
    {
     "name": "stderr",
     "output_type": "stream",
     "text": [
      "\r",
      "Epoch 5 training 1/49 [LR 0.000085] - loss: 1.3036:   0%|                          | 0/49 [01:02<?, ?it/s]"
     ]
    },
    {
     "name": "stderr",
     "output_type": "stream",
     "text": [
      "\r",
      "Epoch 5 training 1/49 [LR 0.000085] - loss: 1.3036:   2%|▎                 | 1/49 [01:02<50:07, 62.67s/it]"
     ]
    },
    {
     "name": "stderr",
     "output_type": "stream",
     "text": [
      "\r",
      "Epoch 5 training 2/49 [LR 0.000085] - loss: 1.3549:   2%|▎                 | 1/49 [01:02<50:07, 62.67s/it]"
     ]
    },
    {
     "name": "stderr",
     "output_type": "stream",
     "text": [
      "\r",
      "Epoch 5 training 2/49 [LR 0.000085] - loss: 1.3549:   4%|▋                 | 2/49 [01:02<20:15, 25.86s/it]"
     ]
    },
    {
     "name": "stderr",
     "output_type": "stream",
     "text": [
      "\r",
      "Epoch 5 training 3/49 [LR 0.000085] - loss: 1.3692:   4%|▋                 | 2/49 [01:02<20:15, 25.86s/it]"
     ]
    },
    {
     "name": "stderr",
     "output_type": "stream",
     "text": [
      "\r",
      "Epoch 5 training 3/49 [LR 0.000085] - loss: 1.3692:   6%|█                 | 3/49 [01:02<10:48, 14.10s/it]"
     ]
    },
    {
     "name": "stderr",
     "output_type": "stream",
     "text": [
      "\r",
      "Epoch 5 training 4/49 [LR 0.000085] - loss: 1.3776:   6%|█                 | 3/49 [01:02<10:48, 14.10s/it]"
     ]
    },
    {
     "name": "stderr",
     "output_type": "stream",
     "text": [
      "\r",
      "Epoch 5 training 5/49 [LR 0.000085] - loss: 1.3746:   6%|█                 | 3/49 [01:03<10:48, 14.10s/it]"
     ]
    },
    {
     "name": "stderr",
     "output_type": "stream",
     "text": [
      "\r",
      "Epoch 5 training 5/49 [LR 0.000085] - loss: 1.3746:  10%|█▊                | 5/49 [01:03<04:31,  6.17s/it]"
     ]
    },
    {
     "name": "stderr",
     "output_type": "stream",
     "text": [
      "\r",
      "Epoch 5 training 6/49 [LR 0.000085] - loss: 1.3952:  10%|█▊                | 5/49 [01:03<04:31,  6.17s/it]"
     ]
    },
    {
     "name": "stderr",
     "output_type": "stream",
     "text": [
      "\r",
      "Epoch 5 training 6/49 [LR 0.000085] - loss: 1.3952:  12%|██▏               | 6/49 [01:03<03:10,  4.43s/it]"
     ]
    },
    {
     "name": "stderr",
     "output_type": "stream",
     "text": [
      "\r",
      "Epoch 5 training 7/49 [LR 0.000085] - loss: 1.3892:  12%|██▏               | 6/49 [01:04<03:10,  4.43s/it]"
     ]
    },
    {
     "name": "stderr",
     "output_type": "stream",
     "text": [
      "\r",
      "Epoch 5 training 7/49 [LR 0.000085] - loss: 1.3892:  14%|██▌               | 7/49 [01:04<02:32,  3.63s/it]"
     ]
    },
    {
     "name": "stderr",
     "output_type": "stream",
     "text": [
      "\r",
      "Epoch 5 training 8/49 [LR 0.000085] - loss: 1.3838:  14%|██▌               | 7/49 [01:04<02:32,  3.63s/it]"
     ]
    },
    {
     "name": "stderr",
     "output_type": "stream",
     "text": [
      "\r",
      "Epoch 5 training 8/49 [LR 0.000085] - loss: 1.3838:  16%|██▉               | 8/49 [01:04<01:46,  2.59s/it]"
     ]
    },
    {
     "name": "stderr",
     "output_type": "stream",
     "text": [
      "\r",
      "Epoch 5 training 9/49 [LR 0.000084] - loss: 1.3902:  16%|██▉               | 8/49 [01:05<01:46,  2.59s/it]"
     ]
    },
    {
     "name": "stderr",
     "output_type": "stream",
     "text": [
      "\r",
      "Epoch 5 training 9/49 [LR 0.000084] - loss: 1.3902:  18%|███▎              | 9/49 [01:05<01:14,  1.86s/it]"
     ]
    },
    {
     "name": "stderr",
     "output_type": "stream",
     "text": [
      "\r",
      "Epoch 5 training 10/49 [LR 0.000084] - loss: 1.3969:  18%|███              | 9/49 [01:05<01:14,  1.86s/it]"
     ]
    },
    {
     "name": "stderr",
     "output_type": "stream",
     "text": [
      "\r",
      "Epoch 5 training 10/49 [LR 0.000084] - loss: 1.3969:  20%|███▎            | 10/49 [01:05<00:52,  1.34s/it]"
     ]
    },
    {
     "name": "stderr",
     "output_type": "stream",
     "text": [
      "\r",
      "Epoch 5 training 11/49 [LR 0.000084] - loss: 1.4024:  20%|███▎            | 10/49 [01:05<00:52,  1.34s/it]"
     ]
    },
    {
     "name": "stderr",
     "output_type": "stream",
     "text": [
      "\r",
      "Epoch 5 training 12/49 [LR 0.000084] - loss: 1.4060:  20%|███▎            | 10/49 [01:05<00:52,  1.34s/it]"
     ]
    },
    {
     "name": "stderr",
     "output_type": "stream",
     "text": [
      "\r",
      "Epoch 5 training 12/49 [LR 0.000084] - loss: 1.4060:  24%|███▉            | 12/49 [01:05<00:28,  1.30it/s]"
     ]
    },
    {
     "name": "stderr",
     "output_type": "stream",
     "text": [
      "\r",
      "Epoch 5 training 13/49 [LR 0.000084] - loss: 1.4051:  24%|███▉            | 12/49 [01:05<00:28,  1.30it/s]"
     ]
    },
    {
     "name": "stderr",
     "output_type": "stream",
     "text": [
      "\r",
      "Epoch 5 training 13/49 [LR 0.000084] - loss: 1.4051:  27%|████▏           | 13/49 [01:05<00:21,  1.65it/s]"
     ]
    },
    {
     "name": "stderr",
     "output_type": "stream",
     "text": [
      "\r",
      "Epoch 5 training 14/49 [LR 0.000084] - loss: 1.4090:  27%|████▏           | 13/49 [01:05<00:21,  1.65it/s]"
     ]
    },
    {
     "name": "stderr",
     "output_type": "stream",
     "text": [
      "\r",
      "Epoch 5 training 15/49 [LR 0.000084] - loss: 1.4135:  27%|████▏           | 13/49 [01:05<00:21,  1.65it/s]"
     ]
    },
    {
     "name": "stderr",
     "output_type": "stream",
     "text": [
      "\r",
      "Epoch 5 training 15/49 [LR 0.000084] - loss: 1.4135:  31%|████▉           | 15/49 [01:05<00:13,  2.52it/s]"
     ]
    },
    {
     "name": "stderr",
     "output_type": "stream",
     "text": [
      "\r",
      "Epoch 5 training 16/49 [LR 0.000084] - loss: 1.4101:  31%|████▉           | 15/49 [01:05<00:13,  2.52it/s]"
     ]
    },
    {
     "name": "stderr",
     "output_type": "stream",
     "text": [
      "\r",
      "Epoch 5 training 17/49 [LR 0.000084] - loss: 1.4093:  31%|████▉           | 15/49 [02:04<00:13,  2.52it/s]"
     ]
    },
    {
     "name": "stderr",
     "output_type": "stream",
     "text": [
      "\r",
      "Epoch 5 training 17/49 [LR 0.000084] - loss: 1.4093:  35%|█████▌          | 17/49 [02:04<05:54, 11.09s/it]"
     ]
    },
    {
     "name": "stderr",
     "output_type": "stream",
     "text": [
      "\r",
      "Epoch 5 training 18/49 [LR 0.000083] - loss: 1.4072:  35%|█████▌          | 17/49 [02:04<05:54, 11.09s/it]"
     ]
    },
    {
     "name": "stderr",
     "output_type": "stream",
     "text": [
      "\r",
      "Epoch 5 training 18/49 [LR 0.000083] - loss: 1.4072:  37%|█████▉          | 18/49 [02:04<04:32,  8.79s/it]"
     ]
    },
    {
     "name": "stderr",
     "output_type": "stream",
     "text": [
      "\r",
      "Epoch 5 training 19/49 [LR 0.000083] - loss: 1.4050:  37%|█████▉          | 18/49 [02:04<04:32,  8.79s/it]"
     ]
    },
    {
     "name": "stderr",
     "output_type": "stream",
     "text": [
      "\r",
      "Epoch 5 training 19/49 [LR 0.000083] - loss: 1.4050:  39%|██████▏         | 19/49 [02:04<03:28,  6.95s/it]"
     ]
    },
    {
     "name": "stderr",
     "output_type": "stream",
     "text": [
      "\r",
      "Epoch 5 training 20/49 [LR 0.000083] - loss: 1.4064:  39%|██████▏         | 19/49 [02:05<03:28,  6.95s/it]"
     ]
    },
    {
     "name": "stderr",
     "output_type": "stream",
     "text": [
      "\r",
      "Epoch 5 training 21/49 [LR 0.000083] - loss: 1.4079:  39%|██████▏         | 19/49 [02:05<03:28,  6.95s/it]"
     ]
    },
    {
     "name": "stderr",
     "output_type": "stream",
     "text": [
      "\r",
      "Epoch 5 training 21/49 [LR 0.000083] - loss: 1.4079:  43%|██████▊         | 21/49 [02:05<01:58,  4.23s/it]"
     ]
    },
    {
     "name": "stderr",
     "output_type": "stream",
     "text": [
      "\r",
      "Epoch 5 training 22/49 [LR 0.000083] - loss: 1.4102:  43%|██████▊         | 21/49 [02:05<01:58,  4.23s/it]"
     ]
    },
    {
     "name": "stderr",
     "output_type": "stream",
     "text": [
      "\r",
      "Epoch 5 training 22/49 [LR 0.000083] - loss: 1.4102:  45%|███████▏        | 22/49 [02:05<01:29,  3.32s/it]"
     ]
    },
    {
     "name": "stderr",
     "output_type": "stream",
     "text": [
      "\r",
      "Epoch 5 training 23/49 [LR 0.000083] - loss: 1.4115:  45%|███████▏        | 22/49 [02:08<01:29,  3.32s/it]"
     ]
    },
    {
     "name": "stderr",
     "output_type": "stream",
     "text": [
      "\r",
      "Epoch 5 training 23/49 [LR 0.000083] - loss: 1.4115:  47%|███████▌        | 23/49 [02:08<01:23,  3.22s/it]"
     ]
    },
    {
     "name": "stderr",
     "output_type": "stream",
     "text": [
      "\r",
      "Epoch 5 training 24/49 [LR 0.000083] - loss: 1.4078:  47%|███████▌        | 23/49 [02:08<01:23,  3.22s/it]"
     ]
    },
    {
     "name": "stderr",
     "output_type": "stream",
     "text": [
      "\r",
      "Epoch 5 training 25/49 [LR 0.000083] - loss: 1.4080:  47%|███████▌        | 23/49 [02:08<01:23,  3.22s/it]"
     ]
    },
    {
     "name": "stderr",
     "output_type": "stream",
     "text": [
      "\r",
      "Epoch 5 training 25/49 [LR 0.000083] - loss: 1.4080:  51%|████████▏       | 25/49 [02:08<00:46,  1.95s/it]"
     ]
    },
    {
     "name": "stderr",
     "output_type": "stream",
     "text": [
      "\r",
      "Epoch 5 training 26/49 [LR 0.000082] - loss: 1.4058:  51%|████████▏       | 25/49 [02:08<00:46,  1.95s/it]"
     ]
    },
    {
     "name": "stderr",
     "output_type": "stream",
     "text": [
      "\r",
      "Epoch 5 training 26/49 [LR 0.000082] - loss: 1.4058:  53%|████████▍       | 26/49 [02:08<00:35,  1.53s/it]"
     ]
    },
    {
     "name": "stderr",
     "output_type": "stream",
     "text": [
      "\r",
      "Epoch 5 training 27/49 [LR 0.000082] - loss: 1.4054:  53%|████████▍       | 26/49 [02:08<00:35,  1.53s/it]"
     ]
    },
    {
     "name": "stderr",
     "output_type": "stream",
     "text": [
      "\r",
      "Epoch 5 training 28/49 [LR 0.000082] - loss: 1.4054:  53%|████████▍       | 26/49 [02:08<00:35,  1.53s/it]"
     ]
    },
    {
     "name": "stderr",
     "output_type": "stream",
     "text": [
      "\r",
      "Epoch 5 training 28/49 [LR 0.000082] - loss: 1.4054:  57%|█████████▏      | 28/49 [02:08<00:20,  1.03it/s]"
     ]
    },
    {
     "name": "stderr",
     "output_type": "stream",
     "text": [
      "\r",
      "Epoch 5 training 29/49 [LR 0.000082] - loss: 1.4030:  57%|█████████▏      | 28/49 [02:08<00:20,  1.03it/s]"
     ]
    },
    {
     "name": "stderr",
     "output_type": "stream",
     "text": [
      "\r",
      "Epoch 5 training 29/49 [LR 0.000082] - loss: 1.4030:  59%|█████████▍      | 29/49 [02:08<00:15,  1.28it/s]"
     ]
    },
    {
     "name": "stderr",
     "output_type": "stream",
     "text": [
      "\r",
      "Epoch 5 training 30/49 [LR 0.000082] - loss: 1.4023:  59%|█████████▍      | 29/49 [02:08<00:15,  1.28it/s]"
     ]
    },
    {
     "name": "stderr",
     "output_type": "stream",
     "text": [
      "\r",
      "Epoch 5 training 30/49 [LR 0.000082] - loss: 1.4023:  61%|█████████▊      | 30/49 [02:08<00:11,  1.62it/s]"
     ]
    },
    {
     "name": "stderr",
     "output_type": "stream",
     "text": [
      "\r",
      "Epoch 5 training 31/49 [LR 0.000082] - loss: 1.3998:  61%|█████████▊      | 30/49 [02:08<00:11,  1.62it/s]"
     ]
    },
    {
     "name": "stderr",
     "output_type": "stream",
     "text": [
      "\r",
      "Epoch 5 training 32/49 [LR 0.000082] - loss: 1.4011:  61%|█████████▊      | 30/49 [02:09<00:11,  1.62it/s]"
     ]
    },
    {
     "name": "stderr",
     "output_type": "stream",
     "text": [
      "\r",
      "Epoch 5 training 32/49 [LR 0.000082] - loss: 1.4011:  65%|██████████▍     | 32/49 [02:09<00:06,  2.46it/s]"
     ]
    },
    {
     "name": "stderr",
     "output_type": "stream",
     "text": [
      "\r",
      "Epoch 5 training 33/49 [LR 0.000082] - loss: 1.4003:  65%|██████████▍     | 32/49 [03:05<00:06,  2.46it/s]"
     ]
    },
    {
     "name": "stderr",
     "output_type": "stream",
     "text": [
      "\r",
      "Epoch 5 training 33/49 [LR 0.000082] - loss: 1.4003:  67%|██████████▊     | 33/49 [03:05<03:27, 12.96s/it]"
     ]
    },
    {
     "name": "stderr",
     "output_type": "stream",
     "text": [
      "\r",
      "Epoch 5 training 34/49 [LR 0.000081] - loss: 1.4008:  67%|██████████▊     | 33/49 [03:05<03:27, 12.96s/it]"
     ]
    },
    {
     "name": "stderr",
     "output_type": "stream",
     "text": [
      "\r",
      "Epoch 5 training 35/49 [LR 0.000081] - loss: 1.4016:  67%|██████████▊     | 33/49 [03:08<03:27, 12.96s/it]"
     ]
    },
    {
     "name": "stderr",
     "output_type": "stream",
     "text": [
      "\r",
      "Epoch 5 training 35/49 [LR 0.000081] - loss: 1.4016:  71%|███████████▍    | 35/49 [03:08<01:58,  8.49s/it]"
     ]
    },
    {
     "name": "stderr",
     "output_type": "stream",
     "text": [
      "\r",
      "Epoch 5 training 36/49 [LR 0.000081] - loss: 1.3993:  71%|███████████▍    | 35/49 [03:08<01:58,  8.49s/it]"
     ]
    },
    {
     "name": "stderr",
     "output_type": "stream",
     "text": [
      "\r",
      "Epoch 5 training 37/49 [LR 0.000081] - loss: 1.4001:  71%|███████████▍    | 35/49 [03:08<01:58,  8.49s/it]"
     ]
    },
    {
     "name": "stderr",
     "output_type": "stream",
     "text": [
      "\r",
      "Epoch 5 training 37/49 [LR 0.000081] - loss: 1.4001:  76%|████████████    | 37/49 [03:08<01:05,  5.49s/it]"
     ]
    },
    {
     "name": "stderr",
     "output_type": "stream",
     "text": [
      "\r",
      "Epoch 5 training 38/49 [LR 0.000081] - loss: 1.4002:  76%|████████████    | 37/49 [03:08<01:05,  5.49s/it]"
     ]
    },
    {
     "name": "stderr",
     "output_type": "stream",
     "text": [
      "\r",
      "Epoch 5 training 39/49 [LR 0.000081] - loss: 1.4003:  76%|████████████    | 37/49 [03:09<01:05,  5.49s/it]"
     ]
    },
    {
     "name": "stderr",
     "output_type": "stream",
     "text": [
      "\r",
      "Epoch 5 training 39/49 [LR 0.000081] - loss: 1.4003:  80%|████████████▋   | 39/49 [03:09<00:37,  3.74s/it]"
     ]
    },
    {
     "name": "stderr",
     "output_type": "stream",
     "text": [
      "\r",
      "Epoch 5 training 40/49 [LR 0.000081] - loss: 1.3981:  80%|████████████▋   | 39/49 [03:09<00:37,  3.74s/it]"
     ]
    },
    {
     "name": "stderr",
     "output_type": "stream",
     "text": [
      "\r",
      "Epoch 5 training 41/49 [LR 0.000081] - loss: 1.3987:  80%|████████████▋   | 39/49 [03:09<00:37,  3.74s/it]"
     ]
    },
    {
     "name": "stderr",
     "output_type": "stream",
     "text": [
      "\r",
      "Epoch 5 training 41/49 [LR 0.000081] - loss: 1.3987:  84%|█████████████▍  | 41/49 [03:09<00:20,  2.55s/it]"
     ]
    },
    {
     "name": "stderr",
     "output_type": "stream",
     "text": [
      "\r",
      "Epoch 5 training 42/49 [LR 0.000080] - loss: 1.3992:  84%|█████████████▍  | 41/49 [03:09<00:20,  2.55s/it]"
     ]
    },
    {
     "name": "stderr",
     "output_type": "stream",
     "text": [
      "\r",
      "Epoch 5 training 43/49 [LR 0.000080] - loss: 1.3981:  84%|█████████████▍  | 41/49 [03:09<00:20,  2.55s/it]"
     ]
    },
    {
     "name": "stderr",
     "output_type": "stream",
     "text": [
      "\r",
      "Epoch 5 training 43/49 [LR 0.000080] - loss: 1.3981:  88%|██████████████  | 43/49 [03:09<00:10,  1.77s/it]"
     ]
    },
    {
     "name": "stderr",
     "output_type": "stream",
     "text": [
      "\r",
      "Epoch 5 training 44/49 [LR 0.000080] - loss: 1.3992:  88%|██████████████  | 43/49 [03:09<00:10,  1.77s/it]"
     ]
    },
    {
     "name": "stderr",
     "output_type": "stream",
     "text": [
      "\r",
      "Epoch 5 training 45/49 [LR 0.000080] - loss: 1.3990:  88%|██████████████  | 43/49 [03:09<00:10,  1.77s/it]"
     ]
    },
    {
     "name": "stderr",
     "output_type": "stream",
     "text": [
      "\r",
      "Epoch 5 training 45/49 [LR 0.000080] - loss: 1.3990:  92%|██████████████▋ | 45/49 [03:09<00:04,  1.24s/it]"
     ]
    },
    {
     "name": "stderr",
     "output_type": "stream",
     "text": [
      "\r",
      "Epoch 5 training 46/49 [LR 0.000080] - loss: 1.3987:  92%|██████████████▋ | 45/49 [03:09<00:04,  1.24s/it]"
     ]
    },
    {
     "name": "stderr",
     "output_type": "stream",
     "text": [
      "\r",
      "Epoch 5 training 47/49 [LR 0.000080] - loss: 1.3985:  92%|██████████████▋ | 45/49 [03:10<00:04,  1.24s/it]"
     ]
    },
    {
     "name": "stderr",
     "output_type": "stream",
     "text": [
      "\r",
      "Epoch 5 training 47/49 [LR 0.000080] - loss: 1.3985:  96%|███████████████▎| 47/49 [03:10<00:01,  1.13it/s]"
     ]
    },
    {
     "name": "stderr",
     "output_type": "stream",
     "text": [
      "\r",
      "Epoch 5 training 48/49 [LR 0.000080] - loss: 1.4032:  96%|███████████████▎| 47/49 [03:10<00:01,  1.13it/s]"
     ]
    },
    {
     "name": "stderr",
     "output_type": "stream",
     "text": [
      "\r",
      "Epoch 5 training 48/49 [LR 0.000080] - loss: 1.4032:  96%|███████████████▎| 47/49 [03:21<00:01,  1.13it/s]"
     ]
    },
    {
     "name": "stderr",
     "output_type": "stream",
     "text": [
      "\r",
      "Epoch 5 training 49/49 [LR 0.000080] - loss: 1.4017:  96%|███████████████▎| 47/49 [03:57<00:01,  1.13it/s]"
     ]
    },
    {
     "name": "stderr",
     "output_type": "stream",
     "text": [
      "\r",
      "Epoch 5 training 49/49 [LR 0.000080] - loss: 1.4017: 100%|████████████████| 49/49 [03:57<00:00,  7.95s/it]"
     ]
    },
    {
     "name": "stderr",
     "output_type": "stream",
     "text": [
      "\r",
      "Epoch 5 training 49/49 [LR 0.000080] - loss: 1.4017: 100%|████████████████| 49/49 [03:58<00:00,  4.86s/it]"
     ]
    },
    {
     "name": "stdout",
     "output_type": "stream",
     "text": [
      "Epoch 5 train loss = 1.4017, auc = 1.0000\n"
     ]
    },
    {
     "name": "stderr",
     "output_type": "stream",
     "text": [
      "\n"
     ]
    },
    {
     "name": "stderr",
     "output_type": "stream",
     "text": [
      "\r",
      "  0%|                                                                              | 0/13 [00:00<?, ?it/s]"
     ]
    },
    {
     "name": "stderr",
     "output_type": "stream",
     "text": [
      "\r",
      "  8%|█████▍                                                                | 1/13 [00:59<11:55, 59.66s/it]"
     ]
    },
    {
     "name": "stderr",
     "output_type": "stream",
     "text": [
      "\r",
      " 23%|████████████████▏                                                     | 3/13 [00:59<02:35, 15.51s/it]"
     ]
    },
    {
     "name": "stderr",
     "output_type": "stream",
     "text": [
      "\r",
      " 38%|██████████████████████████▉                                           | 5/13 [01:00<01:01,  7.69s/it]"
     ]
    },
    {
     "name": "stderr",
     "output_type": "stream",
     "text": [
      "\r",
      " 54%|█████████████████████████████████████▋                                | 7/13 [01:00<00:26,  4.46s/it]"
     ]
    },
    {
     "name": "stderr",
     "output_type": "stream",
     "text": [
      "\r",
      " 69%|████████████████████████████████████████████████▍                     | 9/13 [01:00<00:11,  2.80s/it]"
     ]
    },
    {
     "name": "stderr",
     "output_type": "stream",
     "text": [
      "\r",
      " 85%|██████████████████████████████████████████████████████████▍          | 11/13 [01:00<00:03,  1.84s/it]"
     ]
    },
    {
     "name": "stderr",
     "output_type": "stream",
     "text": [
      "\r",
      "100%|█████████████████████████████████████████████████████████████████████| 13/13 [01:00<00:00,  4.68s/it]"
     ]
    },
    {
     "name": "stdout",
     "output_type": "stream",
     "text": [
      "Epoch 5 validation loss = 1.4394 auc = 1.0000\n"
     ]
    },
    {
     "name": "stderr",
     "output_type": "stream",
     "text": [
      "\n"
     ]
    },
    {
     "name": "stderr",
     "output_type": "stream",
     "text": [
      "\r",
      "  0%|                                                                              | 0/49 [00:00<?, ?it/s]"
     ]
    },
    {
     "name": "stderr",
     "output_type": "stream",
     "text": [
      "\r",
      "Epoch 6 training 1/49 [LR 0.000079] - loss: 1.3958:   0%|                          | 0/49 [01:03<?, ?it/s]"
     ]
    },
    {
     "name": "stderr",
     "output_type": "stream",
     "text": [
      "\r",
      "Epoch 6 training 1/49 [LR 0.000079] - loss: 1.3958:   2%|▎                 | 1/49 [01:03<50:43, 63.40s/it]"
     ]
    },
    {
     "name": "stderr",
     "output_type": "stream",
     "text": [
      "\r",
      "Epoch 6 training 2/49 [LR 0.000079] - loss: 1.3826:   2%|▎                 | 1/49 [01:03<50:43, 63.40s/it]"
     ]
    },
    {
     "name": "stderr",
     "output_type": "stream",
     "text": [
      "\r",
      "Epoch 6 training 2/49 [LR 0.000079] - loss: 1.3826:   4%|▋                 | 2/49 [01:03<20:29, 26.16s/it]"
     ]
    },
    {
     "name": "stderr",
     "output_type": "stream",
     "text": [
      "\r",
      "Epoch 6 training 3/49 [LR 0.000079] - loss: 1.3930:   4%|▋                 | 2/49 [01:03<20:29, 26.16s/it]"
     ]
    },
    {
     "name": "stderr",
     "output_type": "stream",
     "text": [
      "\r",
      "Epoch 6 training 4/49 [LR 0.000079] - loss: 1.3909:   4%|▋                 | 2/49 [01:03<20:29, 26.16s/it]"
     ]
    },
    {
     "name": "stderr",
     "output_type": "stream",
     "text": [
      "\r",
      "Epoch 6 training 4/49 [LR 0.000079] - loss: 1.3909:   8%|█▍                | 4/49 [01:03<07:21,  9.82s/it]"
     ]
    },
    {
     "name": "stderr",
     "output_type": "stream",
     "text": [
      "\r",
      "Epoch 6 training 5/49 [LR 0.000079] - loss: 1.3952:   8%|█▍                | 4/49 [01:03<07:21,  9.82s/it]"
     ]
    },
    {
     "name": "stderr",
     "output_type": "stream",
     "text": [
      "\r",
      "Epoch 6 training 6/49 [LR 0.000079] - loss: 1.4020:   8%|█▍                | 4/49 [01:03<07:21,  9.82s/it]"
     ]
    },
    {
     "name": "stderr",
     "output_type": "stream",
     "text": [
      "\r",
      "Epoch 6 training 6/49 [LR 0.000079] - loss: 1.4020:  12%|██▏               | 6/49 [01:03<03:44,  5.22s/it]"
     ]
    },
    {
     "name": "stderr",
     "output_type": "stream",
     "text": [
      "\r",
      "Epoch 6 training 7/49 [LR 0.000079] - loss: 1.4076:  12%|██▏               | 6/49 [01:03<03:44,  5.22s/it]"
     ]
    },
    {
     "name": "stderr",
     "output_type": "stream",
     "text": [
      "\r",
      "Epoch 6 training 8/49 [LR 0.000079] - loss: 1.4025:  12%|██▏               | 6/49 [01:04<03:44,  5.22s/it]"
     ]
    },
    {
     "name": "stderr",
     "output_type": "stream",
     "text": [
      "\r",
      "Epoch 6 training 8/49 [LR 0.000079] - loss: 1.4025:  16%|██▉               | 8/49 [01:04<02:09,  3.16s/it]"
     ]
    },
    {
     "name": "stderr",
     "output_type": "stream",
     "text": [
      "\r",
      "Epoch 6 training 9/49 [LR 0.000078] - loss: 1.3890:  16%|██▉               | 8/49 [01:04<02:09,  3.16s/it]"
     ]
    },
    {
     "name": "stderr",
     "output_type": "stream",
     "text": [
      "\r",
      "Epoch 6 training 10/49 [LR 0.000078] - loss: 1.3961:  16%|██▊              | 8/49 [01:04<02:09,  3.16s/it]"
     ]
    },
    {
     "name": "stderr",
     "output_type": "stream",
     "text": [
      "\r",
      "Epoch 6 training 10/49 [LR 0.000078] - loss: 1.3961:  20%|███▎            | 10/49 [01:04<01:19,  2.04s/it]"
     ]
    },
    {
     "name": "stderr",
     "output_type": "stream",
     "text": [
      "\r",
      "Epoch 6 training 11/49 [LR 0.000078] - loss: 1.4001:  20%|███▎            | 10/49 [01:04<01:19,  2.04s/it]"
     ]
    },
    {
     "name": "stderr",
     "output_type": "stream",
     "text": [
      "\r",
      "Epoch 6 training 12/49 [LR 0.000078] - loss: 1.4026:  20%|███▎            | 10/49 [01:04<01:19,  2.04s/it]"
     ]
    },
    {
     "name": "stderr",
     "output_type": "stream",
     "text": [
      "\r",
      "Epoch 6 training 12/49 [LR 0.000078] - loss: 1.4026:  24%|███▉            | 12/49 [01:04<00:50,  1.37s/it]"
     ]
    },
    {
     "name": "stderr",
     "output_type": "stream",
     "text": [
      "\r",
      "Epoch 6 training 13/49 [LR 0.000078] - loss: 1.4097:  24%|███▉            | 12/49 [01:04<00:50,  1.37s/it]"
     ]
    },
    {
     "name": "stderr",
     "output_type": "stream",
     "text": [
      "\r",
      "Epoch 6 training 14/49 [LR 0.000078] - loss: 1.4117:  24%|███▉            | 12/49 [01:04<00:50,  1.37s/it]"
     ]
    },
    {
     "name": "stderr",
     "output_type": "stream",
     "text": [
      "\r",
      "Epoch 6 training 14/49 [LR 0.000078] - loss: 1.4117:  29%|████▌           | 14/49 [01:04<00:33,  1.05it/s]"
     ]
    },
    {
     "name": "stderr",
     "output_type": "stream",
     "text": [
      "\r",
      "Epoch 6 training 15/49 [LR 0.000078] - loss: 1.4087:  29%|████▌           | 14/49 [01:04<00:33,  1.05it/s]"
     ]
    },
    {
     "name": "stderr",
     "output_type": "stream",
     "text": [
      "\r",
      "Epoch 6 training 16/49 [LR 0.000078] - loss: 1.4076:  29%|████▌           | 14/49 [01:04<00:33,  1.05it/s]"
     ]
    },
    {
     "name": "stderr",
     "output_type": "stream",
     "text": [
      "\r",
      "Epoch 6 training 16/49 [LR 0.000078] - loss: 1.4076:  33%|█████▏          | 16/49 [01:04<00:22,  1.47it/s]"
     ]
    },
    {
     "name": "stderr",
     "output_type": "stream",
     "text": [
      "\r",
      "Epoch 6 training 16/49 [LR 0.000078] - loss: 1.4076:  33%|█████▏          | 16/49 [01:21<00:22,  1.47it/s]"
     ]
    },
    {
     "name": "stderr",
     "output_type": "stream",
     "text": [
      "\r",
      "Epoch 6 training 17/49 [LR 0.000077] - loss: 1.4068:  33%|█████▏          | 16/49 [02:04<00:22,  1.47it/s]"
     ]
    },
    {
     "name": "stderr",
     "output_type": "stream",
     "text": [
      "\r",
      "Epoch 6 training 17/49 [LR 0.000077] - loss: 1.4068:  35%|█████▌          | 17/49 [02:04<06:10, 11.59s/it]"
     ]
    },
    {
     "name": "stderr",
     "output_type": "stream",
     "text": [
      "\r",
      "Epoch 6 training 18/49 [LR 0.000077] - loss: 1.4059:  35%|█████▌          | 17/49 [02:04<06:10, 11.59s/it]"
     ]
    },
    {
     "name": "stderr",
     "output_type": "stream",
     "text": [
      "\r",
      "Epoch 6 training 18/49 [LR 0.000077] - loss: 1.4059:  37%|█████▉          | 18/49 [02:04<04:44,  9.18s/it]"
     ]
    },
    {
     "name": "stderr",
     "output_type": "stream",
     "text": [
      "\r",
      "Epoch 6 training 19/49 [LR 0.000077] - loss: 1.4031:  37%|█████▉          | 18/49 [02:04<04:44,  9.18s/it]"
     ]
    },
    {
     "name": "stderr",
     "output_type": "stream",
     "text": [
      "\r",
      "Epoch 6 training 20/49 [LR 0.000077] - loss: 1.3999:  37%|█████▉          | 18/49 [02:05<04:44,  9.18s/it]"
     ]
    },
    {
     "name": "stderr",
     "output_type": "stream",
     "text": [
      "\r",
      "Epoch 6 training 20/49 [LR 0.000077] - loss: 1.3999:  41%|██████▌         | 20/49 [02:05<02:51,  5.92s/it]"
     ]
    },
    {
     "name": "stderr",
     "output_type": "stream",
     "text": [
      "\r",
      "Epoch 6 training 21/49 [LR 0.000077] - loss: 1.3963:  41%|██████▌         | 20/49 [02:05<02:51,  5.92s/it]"
     ]
    },
    {
     "name": "stderr",
     "output_type": "stream",
     "text": [
      "\r",
      "Epoch 6 training 22/49 [LR 0.000077] - loss: 1.3966:  41%|██████▌         | 20/49 [02:06<02:51,  5.92s/it]"
     ]
    },
    {
     "name": "stderr",
     "output_type": "stream",
     "text": [
      "\r",
      "Epoch 6 training 22/49 [LR 0.000077] - loss: 1.3966:  45%|███████▏        | 22/49 [02:06<01:50,  4.10s/it]"
     ]
    },
    {
     "name": "stderr",
     "output_type": "stream",
     "text": [
      "\r",
      "Epoch 6 training 23/49 [LR 0.000077] - loss: 1.3929:  45%|███████▏        | 22/49 [02:06<01:50,  4.10s/it]"
     ]
    },
    {
     "name": "stderr",
     "output_type": "stream",
     "text": [
      "\r",
      "Epoch 6 training 24/49 [LR 0.000076] - loss: 1.3925:  45%|███████▏        | 22/49 [02:06<01:50,  4.10s/it]"
     ]
    },
    {
     "name": "stderr",
     "output_type": "stream",
     "text": [
      "\r",
      "Epoch 6 training 24/49 [LR 0.000076] - loss: 1.3925:  49%|███████▊        | 24/49 [02:06<01:09,  2.77s/it]"
     ]
    },
    {
     "name": "stderr",
     "output_type": "stream",
     "text": [
      "\r",
      "Epoch 6 training 25/49 [LR 0.000076] - loss: 1.3898:  49%|███████▊        | 24/49 [02:06<01:09,  2.77s/it]"
     ]
    },
    {
     "name": "stderr",
     "output_type": "stream",
     "text": [
      "\r",
      "Epoch 6 training 26/49 [LR 0.000076] - loss: 1.3867:  49%|███████▊        | 24/49 [02:07<01:09,  2.77s/it]"
     ]
    },
    {
     "name": "stderr",
     "output_type": "stream",
     "text": [
      "\r",
      "Epoch 6 training 26/49 [LR 0.000076] - loss: 1.3867:  53%|████████▍       | 26/49 [02:07<00:43,  1.91s/it]"
     ]
    },
    {
     "name": "stderr",
     "output_type": "stream",
     "text": [
      "\r",
      "Epoch 6 training 27/49 [LR 0.000076] - loss: 1.3865:  53%|████████▍       | 26/49 [02:07<00:43,  1.91s/it]"
     ]
    },
    {
     "name": "stderr",
     "output_type": "stream",
     "text": [
      "\r",
      "Epoch 6 training 28/49 [LR 0.000076] - loss: 1.3857:  53%|████████▍       | 26/49 [02:07<00:43,  1.91s/it]"
     ]
    },
    {
     "name": "stderr",
     "output_type": "stream",
     "text": [
      "\r",
      "Epoch 6 training 28/49 [LR 0.000076] - loss: 1.3857:  57%|█████████▏      | 28/49 [02:07<00:28,  1.33s/it]"
     ]
    },
    {
     "name": "stderr",
     "output_type": "stream",
     "text": [
      "\r",
      "Epoch 6 training 29/49 [LR 0.000076] - loss: 1.3852:  57%|█████████▏      | 28/49 [02:07<00:28,  1.33s/it]"
     ]
    },
    {
     "name": "stderr",
     "output_type": "stream",
     "text": [
      "\r",
      "Epoch 6 training 30/49 [LR 0.000076] - loss: 1.3827:  57%|█████████▏      | 28/49 [02:07<00:28,  1.33s/it]"
     ]
    },
    {
     "name": "stderr",
     "output_type": "stream",
     "text": [
      "\r",
      "Epoch 6 training 30/49 [LR 0.000076] - loss: 1.3827:  61%|█████████▊      | 30/49 [02:07<00:18,  1.06it/s]"
     ]
    },
    {
     "name": "stderr",
     "output_type": "stream",
     "text": [
      "\r",
      "Epoch 6 training 31/49 [LR 0.000075] - loss: 1.3846:  61%|█████████▊      | 30/49 [02:07<00:18,  1.06it/s]"
     ]
    },
    {
     "name": "stderr",
     "output_type": "stream",
     "text": [
      "\r",
      "Epoch 6 training 32/49 [LR 0.000075] - loss: 1.3822:  61%|█████████▊      | 30/49 [02:07<00:18,  1.06it/s]"
     ]
    },
    {
     "name": "stderr",
     "output_type": "stream",
     "text": [
      "\r",
      "Epoch 6 training 32/49 [LR 0.000075] - loss: 1.3822:  65%|██████████▍     | 32/49 [02:07<00:11,  1.46it/s]"
     ]
    },
    {
     "name": "stderr",
     "output_type": "stream",
     "text": [
      "\r",
      "Epoch 6 training 32/49 [LR 0.000075] - loss: 1.3822:  65%|██████████▍     | 32/49 [02:21<00:11,  1.46it/s]"
     ]
    },
    {
     "name": "stderr",
     "output_type": "stream",
     "text": [
      "\r",
      "Epoch 6 training 33/49 [LR 0.000075] - loss: 1.3841:  65%|██████████▍     | 32/49 [03:06<00:11,  1.46it/s]"
     ]
    },
    {
     "name": "stderr",
     "output_type": "stream",
     "text": [
      "\r",
      "Epoch 6 training 33/49 [LR 0.000075] - loss: 1.3841:  67%|██████████▊     | 33/49 [03:06<02:59, 11.22s/it]"
     ]
    },
    {
     "name": "stderr",
     "output_type": "stream",
     "text": [
      "\r",
      "Epoch 6 training 34/49 [LR 0.000075] - loss: 1.3846:  67%|██████████▊     | 33/49 [03:06<02:59, 11.22s/it]"
     ]
    },
    {
     "name": "stderr",
     "output_type": "stream",
     "text": [
      "\r",
      "Epoch 6 training 35/49 [LR 0.000075] - loss: 1.3834:  67%|██████████▊     | 33/49 [03:07<02:59, 11.22s/it]"
     ]
    },
    {
     "name": "stderr",
     "output_type": "stream",
     "text": [
      "\r",
      "Epoch 6 training 35/49 [LR 0.000075] - loss: 1.3834:  71%|███████████▍    | 35/49 [03:07<01:44,  7.50s/it]"
     ]
    },
    {
     "name": "stderr",
     "output_type": "stream",
     "text": [
      "\r",
      "Epoch 6 training 36/49 [LR 0.000075] - loss: 1.3828:  71%|███████████▍    | 35/49 [03:07<01:44,  7.50s/it]"
     ]
    },
    {
     "name": "stderr",
     "output_type": "stream",
     "text": [
      "\r",
      "Epoch 6 training 37/49 [LR 0.000075] - loss: 1.3822:  71%|███████████▍    | 35/49 [03:07<01:44,  7.50s/it]"
     ]
    },
    {
     "name": "stderr",
     "output_type": "stream",
     "text": [
      "\r",
      "Epoch 6 training 37/49 [LR 0.000075] - loss: 1.3822:  76%|████████████    | 37/49 [03:07<01:00,  5.08s/it]"
     ]
    },
    {
     "name": "stderr",
     "output_type": "stream",
     "text": [
      "\r",
      "Epoch 6 training 38/49 [LR 0.000075] - loss: 1.3840:  76%|████████████    | 37/49 [03:09<01:00,  5.08s/it]"
     ]
    },
    {
     "name": "stderr",
     "output_type": "stream",
     "text": [
      "\r",
      "Epoch 6 training 38/49 [LR 0.000075] - loss: 1.3840:  78%|████████████▍   | 38/49 [03:09<00:48,  4.45s/it]"
     ]
    },
    {
     "name": "stderr",
     "output_type": "stream",
     "text": [
      "\r",
      "Epoch 6 training 39/49 [LR 0.000074] - loss: 1.3828:  78%|████████████▍   | 38/49 [03:09<00:48,  4.45s/it]"
     ]
    },
    {
     "name": "stderr",
     "output_type": "stream",
     "text": [
      "\r",
      "Epoch 6 training 40/49 [LR 0.000074] - loss: 1.3837:  78%|████████████▍   | 38/49 [03:09<00:48,  4.45s/it]"
     ]
    },
    {
     "name": "stderr",
     "output_type": "stream",
     "text": [
      "\r",
      "Epoch 6 training 40/49 [LR 0.000074] - loss: 1.3837:  82%|█████████████   | 40/49 [03:09<00:26,  2.92s/it]"
     ]
    },
    {
     "name": "stderr",
     "output_type": "stream",
     "text": [
      "\r",
      "Epoch 6 training 41/49 [LR 0.000074] - loss: 1.3845:  82%|█████████████   | 40/49 [03:09<00:26,  2.92s/it]"
     ]
    },
    {
     "name": "stderr",
     "output_type": "stream",
     "text": [
      "\r",
      "Epoch 6 training 42/49 [LR 0.000074] - loss: 1.3853:  82%|█████████████   | 40/49 [03:09<00:26,  2.92s/it]"
     ]
    },
    {
     "name": "stderr",
     "output_type": "stream",
     "text": [
      "\r",
      "Epoch 6 training 42/49 [LR 0.000074] - loss: 1.3853:  86%|█████████████▋  | 42/49 [03:09<00:13,  1.97s/it]"
     ]
    },
    {
     "name": "stderr",
     "output_type": "stream",
     "text": [
      "\r",
      "Epoch 6 training 43/49 [LR 0.000074] - loss: 1.3839:  86%|█████████████▋  | 42/49 [03:09<00:13,  1.97s/it]"
     ]
    },
    {
     "name": "stderr",
     "output_type": "stream",
     "text": [
      "\r",
      "Epoch 6 training 44/49 [LR 0.000074] - loss: 1.3823:  86%|█████████████▋  | 42/49 [03:09<00:13,  1.97s/it]"
     ]
    },
    {
     "name": "stderr",
     "output_type": "stream",
     "text": [
      "\r",
      "Epoch 6 training 44/49 [LR 0.000074] - loss: 1.3823:  90%|██████████████▎ | 44/49 [03:09<00:06,  1.36s/it]"
     ]
    },
    {
     "name": "stderr",
     "output_type": "stream",
     "text": [
      "\r",
      "Epoch 6 training 45/49 [LR 0.000074] - loss: 1.3809:  90%|██████████████▎ | 44/49 [03:09<00:06,  1.36s/it]"
     ]
    },
    {
     "name": "stderr",
     "output_type": "stream",
     "text": [
      "\r",
      "Epoch 6 training 46/49 [LR 0.000073] - loss: 1.3808:  90%|██████████████▎ | 44/49 [03:09<00:06,  1.36s/it]"
     ]
    },
    {
     "name": "stderr",
     "output_type": "stream",
     "text": [
      "\r",
      "Epoch 6 training 46/49 [LR 0.000073] - loss: 1.3808:  94%|███████████████ | 46/49 [03:09<00:02,  1.04it/s]"
     ]
    },
    {
     "name": "stderr",
     "output_type": "stream",
     "text": [
      "\r",
      "Epoch 6 training 47/49 [LR 0.000073] - loss: 1.3797:  94%|███████████████ | 46/49 [03:10<00:02,  1.04it/s]"
     ]
    },
    {
     "name": "stderr",
     "output_type": "stream",
     "text": [
      "\r",
      "Epoch 6 training 48/49 [LR 0.000073] - loss: 1.3806:  94%|███████████████ | 46/49 [03:10<00:02,  1.04it/s]"
     ]
    },
    {
     "name": "stderr",
     "output_type": "stream",
     "text": [
      "\r",
      "Epoch 6 training 48/49 [LR 0.000073] - loss: 1.3806:  98%|███████████████▋| 48/49 [03:10<00:00,  1.45it/s]"
     ]
    },
    {
     "name": "stderr",
     "output_type": "stream",
     "text": [
      "\r",
      "Epoch 6 training 48/49 [LR 0.000073] - loss: 1.3806:  98%|███████████████▋| 48/49 [03:21<00:00,  1.45it/s]"
     ]
    },
    {
     "name": "stderr",
     "output_type": "stream",
     "text": [
      "\r",
      "Epoch 6 training 49/49 [LR 0.000073] - loss: 1.3813:  98%|███████████████▋| 48/49 [03:59<00:00,  1.45it/s]"
     ]
    },
    {
     "name": "stderr",
     "output_type": "stream",
     "text": [
      "\r",
      "Epoch 6 training 49/49 [LR 0.000073] - loss: 1.3813: 100%|████████████████| 49/49 [03:59<00:00,  9.56s/it]"
     ]
    },
    {
     "name": "stderr",
     "output_type": "stream",
     "text": [
      "\r",
      "Epoch 6 training 49/49 [LR 0.000073] - loss: 1.3813: 100%|████████████████| 49/49 [03:59<00:00,  4.89s/it]"
     ]
    },
    {
     "name": "stdout",
     "output_type": "stream",
     "text": [
      "Epoch 6 train loss = 1.3813, auc = 1.0000\n"
     ]
    },
    {
     "name": "stderr",
     "output_type": "stream",
     "text": [
      "\n"
     ]
    },
    {
     "name": "stderr",
     "output_type": "stream",
     "text": [
      "\r",
      "  0%|                                                                              | 0/13 [00:00<?, ?it/s]"
     ]
    },
    {
     "name": "stderr",
     "output_type": "stream",
     "text": [
      "\r",
      "  8%|█████▍                                                                | 1/13 [00:59<11:54, 59.50s/it]"
     ]
    },
    {
     "name": "stderr",
     "output_type": "stream",
     "text": [
      "\r",
      " 23%|████████████████▏                                                     | 3/13 [00:59<02:34, 15.47s/it]"
     ]
    },
    {
     "name": "stderr",
     "output_type": "stream",
     "text": [
      "\r",
      " 38%|██████████████████████████▉                                           | 5/13 [01:00<01:02,  7.80s/it]"
     ]
    },
    {
     "name": "stderr",
     "output_type": "stream",
     "text": [
      "\r",
      " 54%|█████████████████████████████████████▋                                | 7/13 [01:00<00:27,  4.52s/it]"
     ]
    },
    {
     "name": "stderr",
     "output_type": "stream",
     "text": [
      "\r",
      " 69%|████████████████████████████████████████████████▍                     | 9/13 [01:00<00:11,  2.84s/it]"
     ]
    },
    {
     "name": "stderr",
     "output_type": "stream",
     "text": [
      "\r",
      " 85%|██████████████████████████████████████████████████████████▍          | 11/13 [01:01<00:03,  1.87s/it]"
     ]
    },
    {
     "name": "stderr",
     "output_type": "stream",
     "text": [
      "\r",
      "100%|█████████████████████████████████████████████████████████████████████| 13/13 [01:01<00:00,  4.71s/it]"
     ]
    },
    {
     "name": "stdout",
     "output_type": "stream",
     "text": [
      "Epoch 6 validation loss = 1.4038 auc = 1.0000\n"
     ]
    },
    {
     "name": "stderr",
     "output_type": "stream",
     "text": [
      "\n"
     ]
    },
    {
     "name": "stderr",
     "output_type": "stream",
     "text": [
      "\r",
      "  0%|                                                                              | 0/49 [00:00<?, ?it/s]"
     ]
    },
    {
     "name": "stderr",
     "output_type": "stream",
     "text": [
      "\r",
      "Epoch 7 training 1/49 [LR 0.000073] - loss: 1.3530:   0%|                          | 0/49 [01:01<?, ?it/s]"
     ]
    },
    {
     "name": "stderr",
     "output_type": "stream",
     "text": [
      "\r",
      "Epoch 7 training 1/49 [LR 0.000073] - loss: 1.3530:   2%|▎                 | 1/49 [01:01<49:17, 61.62s/it]"
     ]
    },
    {
     "name": "stderr",
     "output_type": "stream",
     "text": [
      "\r",
      "Epoch 7 training 2/49 [LR 0.000073] - loss: 1.3700:   2%|▎                 | 1/49 [01:03<49:17, 61.62s/it]"
     ]
    },
    {
     "name": "stderr",
     "output_type": "stream",
     "text": [
      "\r",
      "Epoch 7 training 2/49 [LR 0.000073] - loss: 1.3700:   4%|▋                 | 2/49 [01:03<20:45, 26.51s/it]"
     ]
    },
    {
     "name": "stderr",
     "output_type": "stream",
     "text": [
      "\r",
      "Epoch 7 training 3/49 [LR 0.000073] - loss: 1.3856:   4%|▋                 | 2/49 [01:03<20:45, 26.51s/it]"
     ]
    },
    {
     "name": "stderr",
     "output_type": "stream",
     "text": [
      "\r",
      "Epoch 7 training 4/49 [LR 0.000072] - loss: 1.3993:   4%|▋                 | 2/49 [01:03<20:45, 26.51s/it]"
     ]
    },
    {
     "name": "stderr",
     "output_type": "stream",
     "text": [
      "\r",
      "Epoch 7 training 4/49 [LR 0.000072] - loss: 1.3993:   8%|█▍                | 4/49 [01:03<07:27,  9.94s/it]"
     ]
    },
    {
     "name": "stderr",
     "output_type": "stream",
     "text": [
      "\r",
      "Epoch 7 training 5/49 [LR 0.000072] - loss: 1.3913:   8%|█▍                | 4/49 [01:03<07:27,  9.94s/it]"
     ]
    },
    {
     "name": "stderr",
     "output_type": "stream",
     "text": [
      "\r",
      "Epoch 7 training 6/49 [LR 0.000072] - loss: 1.3819:   8%|█▍                | 4/49 [01:03<07:27,  9.94s/it]"
     ]
    },
    {
     "name": "stderr",
     "output_type": "stream",
     "text": [
      "\r",
      "Epoch 7 training 6/49 [LR 0.000072] - loss: 1.3819:  12%|██▏               | 6/49 [01:03<03:47,  5.29s/it]"
     ]
    },
    {
     "name": "stderr",
     "output_type": "stream",
     "text": [
      "\r",
      "Epoch 7 training 7/49 [LR 0.000072] - loss: 1.3770:  12%|██▏               | 6/49 [01:03<03:47,  5.29s/it]"
     ]
    },
    {
     "name": "stderr",
     "output_type": "stream",
     "text": [
      "\r",
      "Epoch 7 training 8/49 [LR 0.000072] - loss: 1.3721:  12%|██▏               | 6/49 [01:04<03:47,  5.29s/it]"
     ]
    },
    {
     "name": "stderr",
     "output_type": "stream",
     "text": [
      "\r",
      "Epoch 7 training 8/49 [LR 0.000072] - loss: 1.3721:  16%|██▉               | 8/49 [01:04<02:10,  3.19s/it]"
     ]
    },
    {
     "name": "stderr",
     "output_type": "stream",
     "text": [
      "\r",
      "Epoch 7 training 9/49 [LR 0.000072] - loss: 1.3779:  16%|██▉               | 8/49 [01:04<02:10,  3.19s/it]"
     ]
    },
    {
     "name": "stderr",
     "output_type": "stream",
     "text": [
      "\r",
      "Epoch 7 training 10/49 [LR 0.000072] - loss: 1.3715:  16%|██▊              | 8/49 [01:04<02:10,  3.19s/it]"
     ]
    },
    {
     "name": "stderr",
     "output_type": "stream",
     "text": [
      "\r",
      "Epoch 7 training 10/49 [LR 0.000072] - loss: 1.3715:  20%|███▎            | 10/49 [01:04<01:20,  2.06s/it]"
     ]
    },
    {
     "name": "stderr",
     "output_type": "stream",
     "text": [
      "\r",
      "Epoch 7 training 11/49 [LR 0.000071] - loss: 1.3804:  20%|███▎            | 10/49 [01:04<01:20,  2.06s/it]"
     ]
    },
    {
     "name": "stderr",
     "output_type": "stream",
     "text": [
      "\r",
      "Epoch 7 training 12/49 [LR 0.000071] - loss: 1.3824:  20%|███▎            | 10/49 [01:04<01:20,  2.06s/it]"
     ]
    },
    {
     "name": "stderr",
     "output_type": "stream",
     "text": [
      "\r",
      "Epoch 7 training 12/49 [LR 0.000071] - loss: 1.3824:  24%|███▉            | 12/49 [01:04<00:51,  1.38s/it]"
     ]
    },
    {
     "name": "stderr",
     "output_type": "stream",
     "text": [
      "\r",
      "Epoch 7 training 13/49 [LR 0.000071] - loss: 1.3821:  24%|███▉            | 12/49 [01:04<00:51,  1.38s/it]"
     ]
    },
    {
     "name": "stderr",
     "output_type": "stream",
     "text": [
      "\r",
      "Epoch 7 training 14/49 [LR 0.000071] - loss: 1.3811:  24%|███▉            | 12/49 [01:04<00:51,  1.38s/it]"
     ]
    },
    {
     "name": "stderr",
     "output_type": "stream",
     "text": [
      "\r",
      "Epoch 7 training 14/49 [LR 0.000071] - loss: 1.3811:  29%|████▌           | 14/49 [01:04<00:33,  1.05it/s]"
     ]
    },
    {
     "name": "stderr",
     "output_type": "stream",
     "text": [
      "\r",
      "Epoch 7 training 15/49 [LR 0.000071] - loss: 1.3822:  29%|████▌           | 14/49 [01:04<00:33,  1.05it/s]"
     ]
    },
    {
     "name": "stderr",
     "output_type": "stream",
     "text": [
      "\r",
      "Epoch 7 training 16/49 [LR 0.000071] - loss: 1.3801:  29%|████▌           | 14/49 [01:04<00:33,  1.05it/s]"
     ]
    },
    {
     "name": "stderr",
     "output_type": "stream",
     "text": [
      "\r",
      "Epoch 7 training 16/49 [LR 0.000071] - loss: 1.3801:  33%|█████▏          | 16/49 [01:04<00:22,  1.47it/s]"
     ]
    },
    {
     "name": "stderr",
     "output_type": "stream",
     "text": [
      "\r",
      "Epoch 7 training 16/49 [LR 0.000071] - loss: 1.3801:  33%|█████▏          | 16/49 [01:18<00:22,  1.47it/s]"
     ]
    },
    {
     "name": "stderr",
     "output_type": "stream",
     "text": [
      "\r",
      "Epoch 7 training 17/49 [LR 0.000071] - loss: 1.3823:  33%|█████▏          | 16/49 [02:03<00:22,  1.47it/s]"
     ]
    },
    {
     "name": "stderr",
     "output_type": "stream",
     "text": [
      "\r",
      "Epoch 7 training 17/49 [LR 0.000071] - loss: 1.3823:  35%|█████▌          | 17/49 [02:03<06:09, 11.54s/it]"
     ]
    },
    {
     "name": "stderr",
     "output_type": "stream",
     "text": [
      "\r",
      "Epoch 7 training 18/49 [LR 0.000070] - loss: 1.3799:  35%|█████▌          | 17/49 [02:05<06:09, 11.54s/it]"
     ]
    },
    {
     "name": "stderr",
     "output_type": "stream",
     "text": [
      "\r",
      "Epoch 7 training 18/49 [LR 0.000070] - loss: 1.3799:  37%|█████▉          | 18/49 [02:05<04:51,  9.41s/it]"
     ]
    },
    {
     "name": "stderr",
     "output_type": "stream",
     "text": [
      "\r",
      "Epoch 7 training 19/49 [LR 0.000070] - loss: 1.3761:  37%|█████▉          | 18/49 [02:06<04:51,  9.41s/it]"
     ]
    },
    {
     "name": "stderr",
     "output_type": "stream",
     "text": [
      "\r",
      "Epoch 7 training 19/49 [LR 0.000070] - loss: 1.3761:  39%|██████▏         | 19/49 [02:06<03:42,  7.41s/it]"
     ]
    },
    {
     "name": "stderr",
     "output_type": "stream",
     "text": [
      "\r",
      "Epoch 7 training 20/49 [LR 0.000070] - loss: 1.3754:  39%|██████▏         | 19/49 [02:06<03:42,  7.41s/it]"
     ]
    },
    {
     "name": "stderr",
     "output_type": "stream",
     "text": [
      "\r",
      "Epoch 7 training 20/49 [LR 0.000070] - loss: 1.3754:  41%|██████▌         | 20/49 [02:06<02:42,  5.60s/it]"
     ]
    },
    {
     "name": "stderr",
     "output_type": "stream",
     "text": [
      "\r",
      "Epoch 7 training 21/49 [LR 0.000070] - loss: 1.3764:  41%|██████▌         | 20/49 [02:06<02:42,  5.60s/it]"
     ]
    },
    {
     "name": "stderr",
     "output_type": "stream",
     "text": [
      "\r",
      "Epoch 7 training 21/49 [LR 0.000070] - loss: 1.3764:  43%|██████▊         | 21/49 [02:06<01:56,  4.16s/it]"
     ]
    },
    {
     "name": "stderr",
     "output_type": "stream",
     "text": [
      "\r",
      "Epoch 7 training 22/49 [LR 0.000070] - loss: 1.3753:  43%|██████▊         | 21/49 [02:06<01:56,  4.16s/it]"
     ]
    },
    {
     "name": "stderr",
     "output_type": "stream",
     "text": [
      "\r",
      "Epoch 7 training 23/49 [LR 0.000070] - loss: 1.3724:  43%|██████▊         | 21/49 [02:06<01:56,  4.16s/it]"
     ]
    },
    {
     "name": "stderr",
     "output_type": "stream",
     "text": [
      "\r",
      "Epoch 7 training 23/49 [LR 0.000070] - loss: 1.3724:  47%|███████▌        | 23/49 [02:06<01:02,  2.42s/it]"
     ]
    },
    {
     "name": "stderr",
     "output_type": "stream",
     "text": [
      "\r",
      "Epoch 7 training 24/49 [LR 0.000070] - loss: 1.3709:  47%|███████▌        | 23/49 [02:06<01:02,  2.42s/it]"
     ]
    },
    {
     "name": "stderr",
     "output_type": "stream",
     "text": [
      "\r",
      "Epoch 7 training 25/49 [LR 0.000069] - loss: 1.3683:  47%|███████▌        | 23/49 [02:06<01:02,  2.42s/it]"
     ]
    },
    {
     "name": "stderr",
     "output_type": "stream",
     "text": [
      "\r",
      "Epoch 7 training 25/49 [LR 0.000069] - loss: 1.3683:  51%|████████▏       | 25/49 [02:06<00:36,  1.54s/it]"
     ]
    },
    {
     "name": "stderr",
     "output_type": "stream",
     "text": [
      "\r",
      "Epoch 7 training 26/49 [LR 0.000069] - loss: 1.3638:  51%|████████▏       | 25/49 [02:06<00:36,  1.54s/it]"
     ]
    },
    {
     "name": "stderr",
     "output_type": "stream",
     "text": [
      "\r",
      "Epoch 7 training 26/49 [LR 0.000069] - loss: 1.3638:  53%|████████▍       | 26/49 [02:06<00:28,  1.23s/it]"
     ]
    },
    {
     "name": "stderr",
     "output_type": "stream",
     "text": [
      "\r",
      "Epoch 7 training 27/49 [LR 0.000069] - loss: 1.3645:  53%|████████▍       | 26/49 [02:06<00:28,  1.23s/it]"
     ]
    },
    {
     "name": "stderr",
     "output_type": "stream",
     "text": [
      "\r",
      "Epoch 7 training 27/49 [LR 0.000069] - loss: 1.3645:  55%|████████▊       | 27/49 [02:06<00:21,  1.03it/s]"
     ]
    },
    {
     "name": "stderr",
     "output_type": "stream",
     "text": [
      "\r",
      "Epoch 7 training 28/49 [LR 0.000069] - loss: 1.3628:  55%|████████▊       | 27/49 [02:06<00:21,  1.03it/s]"
     ]
    },
    {
     "name": "stderr",
     "output_type": "stream",
     "text": [
      "\r",
      "Epoch 7 training 28/49 [LR 0.000069] - loss: 1.3628:  57%|█████████▏      | 28/49 [02:06<00:15,  1.33it/s]"
     ]
    },
    {
     "name": "stderr",
     "output_type": "stream",
     "text": [
      "\r",
      "Epoch 7 training 29/49 [LR 0.000069] - loss: 1.3614:  57%|█████████▏      | 28/49 [02:06<00:15,  1.33it/s]"
     ]
    },
    {
     "name": "stderr",
     "output_type": "stream",
     "text": [
      "\r",
      "Epoch 7 training 30/49 [LR 0.000069] - loss: 1.3600:  57%|█████████▏      | 28/49 [02:07<00:15,  1.33it/s]"
     ]
    },
    {
     "name": "stderr",
     "output_type": "stream",
     "text": [
      "\r",
      "Epoch 7 training 30/49 [LR 0.000069] - loss: 1.3600:  61%|█████████▊      | 30/49 [02:07<00:09,  2.10it/s]"
     ]
    },
    {
     "name": "stderr",
     "output_type": "stream",
     "text": [
      "\r",
      "Epoch 7 training 31/49 [LR 0.000068] - loss: 1.3605:  61%|█████████▊      | 30/49 [02:07<00:09,  2.10it/s]"
     ]
    },
    {
     "name": "stderr",
     "output_type": "stream",
     "text": [
      "\r",
      "Epoch 7 training 31/49 [LR 0.000068] - loss: 1.3605:  63%|██████████      | 31/49 [02:07<00:07,  2.56it/s]"
     ]
    },
    {
     "name": "stderr",
     "output_type": "stream",
     "text": [
      "\r",
      "Epoch 7 training 32/49 [LR 0.000068] - loss: 1.3613:  63%|██████████      | 31/49 [02:07<00:07,  2.56it/s]"
     ]
    },
    {
     "name": "stderr",
     "output_type": "stream",
     "text": [
      "\r",
      "Epoch 7 training 33/49 [LR 0.000068] - loss: 1.3591:  63%|██████████      | 31/49 [03:05<00:07,  2.56it/s]"
     ]
    },
    {
     "name": "stderr",
     "output_type": "stream",
     "text": [
      "\r",
      "Epoch 7 training 33/49 [LR 0.000068] - loss: 1.3591:  67%|██████████▊     | 33/49 [03:05<03:08, 11.78s/it]"
     ]
    },
    {
     "name": "stderr",
     "output_type": "stream",
     "text": [
      "\r",
      "Epoch 7 training 34/49 [LR 0.000068] - loss: 1.3590:  67%|██████████▊     | 33/49 [03:07<03:08, 11.78s/it]"
     ]
    },
    {
     "name": "stderr",
     "output_type": "stream",
     "text": [
      "\r",
      "Epoch 7 training 34/49 [LR 0.000068] - loss: 1.3590:  69%|███████████     | 34/49 [03:07<02:24,  9.67s/it]"
     ]
    },
    {
     "name": "stderr",
     "output_type": "stream",
     "text": [
      "\r",
      "Epoch 7 training 35/49 [LR 0.000068] - loss: 1.3601:  69%|███████████     | 34/49 [03:09<02:24,  9.67s/it]"
     ]
    },
    {
     "name": "stderr",
     "output_type": "stream",
     "text": [
      "\r",
      "Epoch 7 training 35/49 [LR 0.000068] - loss: 1.3601:  71%|███████████▍    | 35/49 [03:09<01:48,  7.76s/it]"
     ]
    },
    {
     "name": "stderr",
     "output_type": "stream",
     "text": [
      "\r",
      "Epoch 7 training 36/49 [LR 0.000068] - loss: 1.3610:  71%|███████████▍    | 35/49 [03:09<01:48,  7.76s/it]"
     ]
    },
    {
     "name": "stderr",
     "output_type": "stream",
     "text": [
      "\r",
      "Epoch 7 training 37/49 [LR 0.000068] - loss: 1.3621:  71%|███████████▍    | 35/49 [03:09<01:48,  7.76s/it]"
     ]
    },
    {
     "name": "stderr",
     "output_type": "stream",
     "text": [
      "\r",
      "Epoch 7 training 37/49 [LR 0.000068] - loss: 1.3621:  76%|████████████    | 37/49 [03:09<00:55,  4.65s/it]"
     ]
    },
    {
     "name": "stderr",
     "output_type": "stream",
     "text": [
      "\r",
      "Epoch 7 training 38/49 [LR 0.000067] - loss: 1.3638:  76%|████████████    | 37/49 [03:09<00:55,  4.65s/it]"
     ]
    },
    {
     "name": "stderr",
     "output_type": "stream",
     "text": [
      "\r",
      "Epoch 7 training 39/49 [LR 0.000067] - loss: 1.3626:  76%|████████████    | 37/49 [03:09<00:55,  4.65s/it]"
     ]
    },
    {
     "name": "stderr",
     "output_type": "stream",
     "text": [
      "\r",
      "Epoch 7 training 39/49 [LR 0.000067] - loss: 1.3626:  80%|████████████▋   | 39/49 [03:09<00:29,  2.97s/it]"
     ]
    },
    {
     "name": "stderr",
     "output_type": "stream",
     "text": [
      "\r",
      "Epoch 7 training 40/49 [LR 0.000067] - loss: 1.3607:  80%|████████████▋   | 39/49 [03:09<00:29,  2.97s/it]"
     ]
    },
    {
     "name": "stderr",
     "output_type": "stream",
     "text": [
      "\r",
      "Epoch 7 training 41/49 [LR 0.000067] - loss: 1.3589:  80%|████████████▋   | 39/49 [03:09<00:29,  2.97s/it]"
     ]
    },
    {
     "name": "stderr",
     "output_type": "stream",
     "text": [
      "\r",
      "Epoch 7 training 41/49 [LR 0.000067] - loss: 1.3589:  84%|█████████████▍  | 41/49 [03:09<00:15,  1.98s/it]"
     ]
    },
    {
     "name": "stderr",
     "output_type": "stream",
     "text": [
      "\r",
      "Epoch 7 training 42/49 [LR 0.000067] - loss: 1.3589:  84%|█████████████▍  | 41/49 [03:10<00:15,  1.98s/it]"
     ]
    },
    {
     "name": "stderr",
     "output_type": "stream",
     "text": [
      "\r",
      "Epoch 7 training 43/49 [LR 0.000067] - loss: 1.3569:  84%|█████████████▍  | 41/49 [03:10<00:15,  1.98s/it]"
     ]
    },
    {
     "name": "stderr",
     "output_type": "stream",
     "text": [
      "\r",
      "Epoch 7 training 43/49 [LR 0.000067] - loss: 1.3569:  88%|██████████████  | 43/49 [03:10<00:08,  1.36s/it]"
     ]
    },
    {
     "name": "stderr",
     "output_type": "stream",
     "text": [
      "\r",
      "Epoch 7 training 44/49 [LR 0.000067] - loss: 1.3584:  88%|██████████████  | 43/49 [03:10<00:08,  1.36s/it]"
     ]
    },
    {
     "name": "stderr",
     "output_type": "stream",
     "text": [
      "\r",
      "Epoch 7 training 45/49 [LR 0.000066] - loss: 1.3610:  88%|██████████████  | 43/49 [03:10<00:08,  1.36s/it]"
     ]
    },
    {
     "name": "stderr",
     "output_type": "stream",
     "text": [
      "\r",
      "Epoch 7 training 45/49 [LR 0.000066] - loss: 1.3610:  92%|██████████████▋ | 45/49 [03:10<00:03,  1.05it/s]"
     ]
    },
    {
     "name": "stderr",
     "output_type": "stream",
     "text": [
      "\r",
      "Epoch 7 training 46/49 [LR 0.000066] - loss: 1.3615:  92%|██████████████▋ | 45/49 [03:10<00:03,  1.05it/s]"
     ]
    },
    {
     "name": "stderr",
     "output_type": "stream",
     "text": [
      "\r",
      "Epoch 7 training 47/49 [LR 0.000066] - loss: 1.3608:  92%|██████████████▋ | 45/49 [03:10<00:03,  1.05it/s]"
     ]
    },
    {
     "name": "stderr",
     "output_type": "stream",
     "text": [
      "\r",
      "Epoch 7 training 47/49 [LR 0.000066] - loss: 1.3608:  96%|███████████████▎| 47/49 [03:10<00:01,  1.47it/s]"
     ]
    },
    {
     "name": "stderr",
     "output_type": "stream",
     "text": [
      "\r",
      "Epoch 7 training 48/49 [LR 0.000066] - loss: 1.3606:  96%|███████████████▎| 47/49 [03:10<00:01,  1.47it/s]"
     ]
    },
    {
     "name": "stderr",
     "output_type": "stream",
     "text": [
      "\r",
      "Epoch 7 training 48/49 [LR 0.000066] - loss: 1.3606:  96%|███████████████▎| 47/49 [03:28<00:01,  1.47it/s]"
     ]
    },
    {
     "name": "stderr",
     "output_type": "stream",
     "text": [
      "\r",
      "Epoch 7 training 49/49 [LR 0.000066] - loss: 1.3613:  96%|███████████████▎| 47/49 [04:01<00:01,  1.47it/s]"
     ]
    },
    {
     "name": "stderr",
     "output_type": "stream",
     "text": [
      "\r",
      "Epoch 7 training 49/49 [LR 0.000066] - loss: 1.3613: 100%|████████████████| 49/49 [04:01<00:00,  8.38s/it]"
     ]
    },
    {
     "name": "stderr",
     "output_type": "stream",
     "text": [
      "\r",
      "Epoch 7 training 49/49 [LR 0.000066] - loss: 1.3613: 100%|████████████████| 49/49 [04:01<00:00,  4.93s/it]"
     ]
    },
    {
     "name": "stdout",
     "output_type": "stream",
     "text": [
      "Epoch 7 train loss = 1.3613, auc = 1.0000\n"
     ]
    },
    {
     "name": "stderr",
     "output_type": "stream",
     "text": [
      "\n"
     ]
    },
    {
     "name": "stderr",
     "output_type": "stream",
     "text": [
      "\r",
      "  0%|                                                                              | 0/13 [00:00<?, ?it/s]"
     ]
    },
    {
     "name": "stderr",
     "output_type": "stream",
     "text": [
      "\r",
      "  8%|█████▍                                                                | 1/13 [01:01<12:23, 61.93s/it]"
     ]
    },
    {
     "name": "stderr",
     "output_type": "stream",
     "text": [
      "\r",
      " 23%|████████████████▏                                                     | 3/13 [01:02<02:40, 16.10s/it]"
     ]
    },
    {
     "name": "stderr",
     "output_type": "stream",
     "text": [
      "\r",
      " 38%|██████████████████████████▉                                           | 5/13 [01:02<01:04,  8.06s/it]"
     ]
    },
    {
     "name": "stderr",
     "output_type": "stream",
     "text": [
      "\r",
      " 54%|█████████████████████████████████████▋                                | 7/13 [01:03<00:28,  4.67s/it]"
     ]
    },
    {
     "name": "stderr",
     "output_type": "stream",
     "text": [
      "\r",
      " 69%|████████████████████████████████████████████████▍                     | 9/13 [01:03<00:11,  2.93s/it]"
     ]
    },
    {
     "name": "stderr",
     "output_type": "stream",
     "text": [
      "\r",
      " 85%|██████████████████████████████████████████████████████████▍          | 11/13 [01:03<00:03,  1.93s/it]"
     ]
    },
    {
     "name": "stderr",
     "output_type": "stream",
     "text": [
      "\r",
      "100%|█████████████████████████████████████████████████████████████████████| 13/13 [01:03<00:00,  4.88s/it]"
     ]
    },
    {
     "name": "stdout",
     "output_type": "stream",
     "text": [
      "Epoch 7 validation loss = 1.4055 auc = 1.0000\n"
     ]
    },
    {
     "name": "stderr",
     "output_type": "stream",
     "text": [
      "\n"
     ]
    },
    {
     "name": "stderr",
     "output_type": "stream",
     "text": [
      "\r",
      "  0%|                                                                              | 0/49 [00:00<?, ?it/s]"
     ]
    },
    {
     "name": "stderr",
     "output_type": "stream",
     "text": [
      "\r",
      "Epoch 8 training 1/49 [LR 0.000066] - loss: 1.2807:   0%|                          | 0/49 [01:04<?, ?it/s]"
     ]
    },
    {
     "name": "stderr",
     "output_type": "stream",
     "text": [
      "\r",
      "Epoch 8 training 1/49 [LR 0.000066] - loss: 1.2807:   2%|▎                 | 1/49 [01:04<51:16, 64.09s/it]"
     ]
    },
    {
     "name": "stderr",
     "output_type": "stream",
     "text": [
      "\r",
      "Epoch 8 training 2/49 [LR 0.000065] - loss: 1.2986:   2%|▎                 | 1/49 [01:04<51:16, 64.09s/it]"
     ]
    },
    {
     "name": "stderr",
     "output_type": "stream",
     "text": [
      "\r",
      "Epoch 8 training 2/49 [LR 0.000065] - loss: 1.2986:   4%|▋                 | 2/49 [01:04<20:43, 26.46s/it]"
     ]
    },
    {
     "name": "stderr",
     "output_type": "stream",
     "text": [
      "\r",
      "Epoch 8 training 3/49 [LR 0.000065] - loss: 1.3542:   4%|▋                 | 2/49 [01:04<20:43, 26.46s/it]"
     ]
    },
    {
     "name": "stderr",
     "output_type": "stream",
     "text": [
      "\r",
      "Epoch 8 training 3/49 [LR 0.000065] - loss: 1.3542:   6%|█                 | 3/49 [01:04<11:03, 14.42s/it]"
     ]
    },
    {
     "name": "stderr",
     "output_type": "stream",
     "text": [
      "\r",
      "Epoch 8 training 4/49 [LR 0.000065] - loss: 1.3390:   6%|█                 | 3/49 [01:04<11:03, 14.42s/it]"
     ]
    },
    {
     "name": "stderr",
     "output_type": "stream",
     "text": [
      "\r",
      "Epoch 8 training 4/49 [LR 0.000065] - loss: 1.3390:   8%|█▍                | 4/49 [01:04<06:34,  8.77s/it]"
     ]
    },
    {
     "name": "stderr",
     "output_type": "stream",
     "text": [
      "\r",
      "Epoch 8 training 5/49 [LR 0.000065] - loss: 1.3413:   8%|█▍                | 4/49 [01:04<06:34,  8.77s/it]"
     ]
    },
    {
     "name": "stderr",
     "output_type": "stream",
     "text": [
      "\r",
      "Epoch 8 training 6/49 [LR 0.000065] - loss: 1.3298:   8%|█▍                | 4/49 [01:04<06:34,  8.77s/it]"
     ]
    },
    {
     "name": "stderr",
     "output_type": "stream",
     "text": [
      "\r",
      "Epoch 8 training 6/49 [LR 0.000065] - loss: 1.3298:  12%|██▏               | 6/49 [01:04<02:59,  4.17s/it]"
     ]
    },
    {
     "name": "stderr",
     "output_type": "stream",
     "text": [
      "\r",
      "Epoch 8 training 7/49 [LR 0.000065] - loss: 1.3401:  12%|██▏               | 6/49 [01:04<02:59,  4.17s/it]"
     ]
    },
    {
     "name": "stderr",
     "output_type": "stream",
     "text": [
      "\r",
      "Epoch 8 training 8/49 [LR 0.000065] - loss: 1.3380:  12%|██▏               | 6/49 [01:04<02:59,  4.17s/it]"
     ]
    },
    {
     "name": "stderr",
     "output_type": "stream",
     "text": [
      "\r",
      "Epoch 8 training 8/49 [LR 0.000065] - loss: 1.3380:  16%|██▉               | 8/49 [01:04<01:38,  2.41s/it]"
     ]
    },
    {
     "name": "stderr",
     "output_type": "stream",
     "text": [
      "\r",
      "Epoch 8 training 9/49 [LR 0.000064] - loss: 1.3297:  16%|██▉               | 8/49 [01:04<01:38,  2.41s/it]"
     ]
    },
    {
     "name": "stderr",
     "output_type": "stream",
     "text": [
      "\r",
      "Epoch 8 training 10/49 [LR 0.000064] - loss: 1.3252:  16%|██▊              | 8/49 [01:04<01:38,  2.41s/it]"
     ]
    },
    {
     "name": "stderr",
     "output_type": "stream",
     "text": [
      "\r",
      "Epoch 8 training 10/49 [LR 0.000064] - loss: 1.3252:  20%|███▎            | 10/49 [01:04<00:59,  1.53s/it]"
     ]
    },
    {
     "name": "stderr",
     "output_type": "stream",
     "text": [
      "\r",
      "Epoch 8 training 11/49 [LR 0.000064] - loss: 1.3308:  20%|███▎            | 10/49 [01:05<00:59,  1.53s/it]"
     ]
    },
    {
     "name": "stderr",
     "output_type": "stream",
     "text": [
      "\r",
      "Epoch 8 training 12/49 [LR 0.000064] - loss: 1.3315:  20%|███▎            | 10/49 [01:05<00:59,  1.53s/it]"
     ]
    },
    {
     "name": "stderr",
     "output_type": "stream",
     "text": [
      "\r",
      "Epoch 8 training 12/49 [LR 0.000064] - loss: 1.3315:  24%|███▉            | 12/49 [01:05<00:38,  1.03s/it]"
     ]
    },
    {
     "name": "stderr",
     "output_type": "stream",
     "text": [
      "\r",
      "Epoch 8 training 13/49 [LR 0.000064] - loss: 1.3429:  24%|███▉            | 12/49 [01:05<00:38,  1.03s/it]"
     ]
    },
    {
     "name": "stderr",
     "output_type": "stream",
     "text": [
      "\r",
      "Epoch 8 training 14/49 [LR 0.000064] - loss: 1.3445:  24%|███▉            | 12/49 [01:05<00:38,  1.03s/it]"
     ]
    },
    {
     "name": "stderr",
     "output_type": "stream",
     "text": [
      "\r",
      "Epoch 8 training 14/49 [LR 0.000064] - loss: 1.3445:  29%|████▌           | 14/49 [01:05<00:24,  1.40it/s]"
     ]
    },
    {
     "name": "stderr",
     "output_type": "stream",
     "text": [
      "\r",
      "Epoch 8 training 15/49 [LR 0.000064] - loss: 1.3387:  29%|████▌           | 14/49 [01:05<00:24,  1.40it/s]"
     ]
    },
    {
     "name": "stderr",
     "output_type": "stream",
     "text": [
      "\r",
      "Epoch 8 training 16/49 [LR 0.000063] - loss: 1.3368:  29%|████▌           | 14/49 [01:05<00:24,  1.40it/s]"
     ]
    },
    {
     "name": "stderr",
     "output_type": "stream",
     "text": [
      "\r",
      "Epoch 8 training 16/49 [LR 0.000063] - loss: 1.3368:  33%|█████▏          | 16/49 [01:05<00:17,  1.94it/s]"
     ]
    },
    {
     "name": "stderr",
     "output_type": "stream",
     "text": [
      "\r",
      "Epoch 8 training 16/49 [LR 0.000063] - loss: 1.3368:  33%|█████▏          | 16/49 [01:22<00:17,  1.94it/s]"
     ]
    },
    {
     "name": "stderr",
     "output_type": "stream",
     "text": [
      "\r",
      "Epoch 8 training 17/49 [LR 0.000063] - loss: 1.3415:  33%|█████▏          | 16/49 [02:06<00:17,  1.94it/s]"
     ]
    },
    {
     "name": "stderr",
     "output_type": "stream",
     "text": [
      "\r",
      "Epoch 8 training 17/49 [LR 0.000063] - loss: 1.3415:  35%|█████▌          | 17/49 [02:06<06:22, 11.95s/it]"
     ]
    },
    {
     "name": "stderr",
     "output_type": "stream",
     "text": [
      "\r",
      "Epoch 8 training 18/49 [LR 0.000063] - loss: 1.3400:  35%|█████▌          | 17/49 [02:07<06:22, 11.95s/it]"
     ]
    },
    {
     "name": "stderr",
     "output_type": "stream",
     "text": [
      "\r",
      "Epoch 8 training 18/49 [LR 0.000063] - loss: 1.3400:  37%|█████▉          | 18/49 [02:07<04:52,  9.44s/it]"
     ]
    },
    {
     "name": "stderr",
     "output_type": "stream",
     "text": [
      "\r",
      "Epoch 8 training 19/49 [LR 0.000063] - loss: 1.3424:  37%|█████▉          | 18/49 [02:07<04:52,  9.44s/it]"
     ]
    },
    {
     "name": "stderr",
     "output_type": "stream",
     "text": [
      "\r",
      "Epoch 8 training 20/49 [LR 0.000063] - loss: 1.3397:  37%|█████▉          | 18/49 [02:07<04:52,  9.44s/it]"
     ]
    },
    {
     "name": "stderr",
     "output_type": "stream",
     "text": [
      "\r",
      "Epoch 8 training 20/49 [LR 0.000063] - loss: 1.3397:  41%|██████▌         | 20/49 [02:07<02:51,  5.92s/it]"
     ]
    },
    {
     "name": "stderr",
     "output_type": "stream",
     "text": [
      "\r",
      "Epoch 8 training 21/49 [LR 0.000063] - loss: 1.3431:  41%|██████▌         | 20/49 [02:07<02:51,  5.92s/it]"
     ]
    },
    {
     "name": "stderr",
     "output_type": "stream",
     "text": [
      "\r",
      "Epoch 8 training 22/49 [LR 0.000062] - loss: 1.3431:  41%|██████▌         | 20/49 [02:07<02:51,  5.92s/it]"
     ]
    },
    {
     "name": "stderr",
     "output_type": "stream",
     "text": [
      "\r",
      "Epoch 8 training 22/49 [LR 0.000062] - loss: 1.3431:  45%|███████▏        | 22/49 [02:07<01:44,  3.88s/it]"
     ]
    },
    {
     "name": "stderr",
     "output_type": "stream",
     "text": [
      "\r",
      "Epoch 8 training 23/49 [LR 0.000062] - loss: 1.3429:  45%|███████▏        | 22/49 [02:07<01:44,  3.88s/it]"
     ]
    },
    {
     "name": "stderr",
     "output_type": "stream",
     "text": [
      "\r",
      "Epoch 8 training 24/49 [LR 0.000062] - loss: 1.3470:  45%|███████▏        | 22/49 [02:07<01:44,  3.88s/it]"
     ]
    },
    {
     "name": "stderr",
     "output_type": "stream",
     "text": [
      "\r",
      "Epoch 8 training 24/49 [LR 0.000062] - loss: 1.3470:  49%|███████▊        | 24/49 [02:07<01:05,  2.62s/it]"
     ]
    },
    {
     "name": "stderr",
     "output_type": "stream",
     "text": [
      "\r",
      "Epoch 8 training 25/49 [LR 0.000062] - loss: 1.3493:  49%|███████▊        | 24/49 [02:07<01:05,  2.62s/it]"
     ]
    },
    {
     "name": "stderr",
     "output_type": "stream",
     "text": [
      "\r",
      "Epoch 8 training 26/49 [LR 0.000062] - loss: 1.3504:  49%|███████▊        | 24/49 [02:07<01:05,  2.62s/it]"
     ]
    },
    {
     "name": "stderr",
     "output_type": "stream",
     "text": [
      "\r",
      "Epoch 8 training 26/49 [LR 0.000062] - loss: 1.3504:  53%|████████▍       | 26/49 [02:07<00:41,  1.80s/it]"
     ]
    },
    {
     "name": "stderr",
     "output_type": "stream",
     "text": [
      "\r",
      "Epoch 8 training 27/49 [LR 0.000062] - loss: 1.3482:  53%|████████▍       | 26/49 [02:07<00:41,  1.80s/it]"
     ]
    },
    {
     "name": "stderr",
     "output_type": "stream",
     "text": [
      "\r",
      "Epoch 8 training 28/49 [LR 0.000062] - loss: 1.3484:  53%|████████▍       | 26/49 [02:07<00:41,  1.80s/it]"
     ]
    },
    {
     "name": "stderr",
     "output_type": "stream",
     "text": [
      "\r",
      "Epoch 8 training 28/49 [LR 0.000062] - loss: 1.3484:  57%|█████████▏      | 28/49 [02:07<00:26,  1.26s/it]"
     ]
    },
    {
     "name": "stderr",
     "output_type": "stream",
     "text": [
      "\r",
      "Epoch 8 training 29/49 [LR 0.000061] - loss: 1.3481:  57%|█████████▏      | 28/49 [02:08<00:26,  1.26s/it]"
     ]
    },
    {
     "name": "stderr",
     "output_type": "stream",
     "text": [
      "\r",
      "Epoch 8 training 30/49 [LR 0.000061] - loss: 1.3490:  57%|█████████▏      | 28/49 [02:08<00:26,  1.26s/it]"
     ]
    },
    {
     "name": "stderr",
     "output_type": "stream",
     "text": [
      "\r",
      "Epoch 8 training 30/49 [LR 0.000061] - loss: 1.3490:  61%|█████████▊      | 30/49 [02:08<00:17,  1.11it/s]"
     ]
    },
    {
     "name": "stderr",
     "output_type": "stream",
     "text": [
      "\r",
      "Epoch 8 training 31/49 [LR 0.000061] - loss: 1.3475:  61%|█████████▊      | 30/49 [02:08<00:17,  1.11it/s]"
     ]
    },
    {
     "name": "stderr",
     "output_type": "stream",
     "text": [
      "\r",
      "Epoch 8 training 32/49 [LR 0.000061] - loss: 1.3468:  61%|█████████▊      | 30/49 [02:08<00:17,  1.11it/s]"
     ]
    },
    {
     "name": "stderr",
     "output_type": "stream",
     "text": [
      "\r",
      "Epoch 8 training 32/49 [LR 0.000061] - loss: 1.3468:  65%|██████████▍     | 32/49 [02:08<00:11,  1.53it/s]"
     ]
    },
    {
     "name": "stderr",
     "output_type": "stream",
     "text": [
      "\r",
      "Epoch 8 training 32/49 [LR 0.000061] - loss: 1.3468:  65%|██████████▍     | 32/49 [02:22<00:11,  1.53it/s]"
     ]
    },
    {
     "name": "stderr",
     "output_type": "stream",
     "text": [
      "\r",
      "Epoch 8 training 33/49 [LR 0.000061] - loss: 1.3466:  65%|██████████▍     | 32/49 [03:08<00:11,  1.53it/s]"
     ]
    },
    {
     "name": "stderr",
     "output_type": "stream",
     "text": [
      "\r",
      "Epoch 8 training 33/49 [LR 0.000061] - loss: 1.3466:  67%|██████████▊     | 33/49 [03:08<03:01, 11.34s/it]"
     ]
    },
    {
     "name": "stderr",
     "output_type": "stream",
     "text": [
      "\r",
      "Epoch 8 training 34/49 [LR 0.000061] - loss: 1.3451:  67%|██████████▊     | 33/49 [03:08<03:01, 11.34s/it]"
     ]
    },
    {
     "name": "stderr",
     "output_type": "stream",
     "text": [
      "\r",
      "Epoch 8 training 35/49 [LR 0.000060] - loss: 1.3463:  67%|██████████▊     | 33/49 [03:08<03:01, 11.34s/it]"
     ]
    },
    {
     "name": "stderr",
     "output_type": "stream",
     "text": [
      "\r",
      "Epoch 8 training 35/49 [LR 0.000060] - loss: 1.3463:  71%|███████████▍    | 35/49 [03:08<01:45,  7.52s/it]"
     ]
    },
    {
     "name": "stderr",
     "output_type": "stream",
     "text": [
      "\r",
      "Epoch 8 training 36/49 [LR 0.000060] - loss: 1.3443:  71%|███████████▍    | 35/49 [03:08<01:45,  7.52s/it]"
     ]
    },
    {
     "name": "stderr",
     "output_type": "stream",
     "text": [
      "\r",
      "Epoch 8 training 37/49 [LR 0.000060] - loss: 1.3442:  71%|███████████▍    | 35/49 [03:08<01:45,  7.52s/it]"
     ]
    },
    {
     "name": "stderr",
     "output_type": "stream",
     "text": [
      "\r",
      "Epoch 8 training 37/49 [LR 0.000060] - loss: 1.3442:  76%|████████████    | 37/49 [03:08<01:01,  5.09s/it]"
     ]
    },
    {
     "name": "stderr",
     "output_type": "stream",
     "text": [
      "\r",
      "Epoch 8 training 38/49 [LR 0.000060] - loss: 1.3436:  76%|████████████    | 37/49 [03:08<01:01,  5.09s/it]"
     ]
    },
    {
     "name": "stderr",
     "output_type": "stream",
     "text": [
      "\r",
      "Epoch 8 training 39/49 [LR 0.000060] - loss: 1.3420:  76%|████████████    | 37/49 [03:08<01:01,  5.09s/it]"
     ]
    },
    {
     "name": "stderr",
     "output_type": "stream",
     "text": [
      "\r",
      "Epoch 8 training 39/49 [LR 0.000060] - loss: 1.3420:  80%|████████████▋   | 39/49 [03:08<00:34,  3.50s/it]"
     ]
    },
    {
     "name": "stderr",
     "output_type": "stream",
     "text": [
      "\r",
      "Epoch 8 training 40/49 [LR 0.000060] - loss: 1.3413:  80%|████████████▋   | 39/49 [03:08<00:34,  3.50s/it]"
     ]
    },
    {
     "name": "stderr",
     "output_type": "stream",
     "text": [
      "\r",
      "Epoch 8 training 41/49 [LR 0.000059] - loss: 1.3434:  80%|████████████▋   | 39/49 [03:09<00:34,  3.50s/it]"
     ]
    },
    {
     "name": "stderr",
     "output_type": "stream",
     "text": [
      "\r",
      "Epoch 8 training 41/49 [LR 0.000059] - loss: 1.3434:  84%|█████████████▍  | 41/49 [03:09<00:19,  2.43s/it]"
     ]
    },
    {
     "name": "stderr",
     "output_type": "stream",
     "text": [
      "\r",
      "Epoch 8 training 42/49 [LR 0.000059] - loss: 1.3420:  84%|█████████████▍  | 41/49 [03:09<00:19,  2.43s/it]"
     ]
    },
    {
     "name": "stderr",
     "output_type": "stream",
     "text": [
      "\r",
      "Epoch 8 training 43/49 [LR 0.000059] - loss: 1.3412:  84%|█████████████▍  | 41/49 [03:09<00:19,  2.43s/it]"
     ]
    },
    {
     "name": "stderr",
     "output_type": "stream",
     "text": [
      "\r",
      "Epoch 8 training 43/49 [LR 0.000059] - loss: 1.3412:  88%|██████████████  | 43/49 [03:09<00:10,  1.71s/it]"
     ]
    },
    {
     "name": "stderr",
     "output_type": "stream",
     "text": [
      "\r",
      "Epoch 8 training 44/49 [LR 0.000059] - loss: 1.3406:  88%|██████████████  | 43/49 [03:09<00:10,  1.71s/it]"
     ]
    },
    {
     "name": "stderr",
     "output_type": "stream",
     "text": [
      "\r",
      "Epoch 8 training 45/49 [LR 0.000059] - loss: 1.3398:  88%|██████████████  | 43/49 [03:09<00:10,  1.71s/it]"
     ]
    },
    {
     "name": "stderr",
     "output_type": "stream",
     "text": [
      "\r",
      "Epoch 8 training 45/49 [LR 0.000059] - loss: 1.3398:  92%|██████████████▋ | 45/49 [03:09<00:04,  1.21s/it]"
     ]
    },
    {
     "name": "stderr",
     "output_type": "stream",
     "text": [
      "\r",
      "Epoch 8 training 46/49 [LR 0.000059] - loss: 1.3401:  92%|██████████████▋ | 45/49 [03:09<00:04,  1.21s/it]"
     ]
    },
    {
     "name": "stderr",
     "output_type": "stream",
     "text": [
      "\r",
      "Epoch 8 training 47/49 [LR 0.000059] - loss: 1.3395:  92%|██████████████▋ | 45/49 [03:09<00:04,  1.21s/it]"
     ]
    },
    {
     "name": "stderr",
     "output_type": "stream",
     "text": [
      "\r",
      "Epoch 8 training 47/49 [LR 0.000059] - loss: 1.3395:  96%|███████████████▎| 47/49 [03:09<00:01,  1.15it/s]"
     ]
    },
    {
     "name": "stderr",
     "output_type": "stream",
     "text": [
      "\r",
      "Epoch 8 training 48/49 [LR 0.000058] - loss: 1.3391:  96%|███████████████▎| 47/49 [03:09<00:01,  1.15it/s]"
     ]
    },
    {
     "name": "stderr",
     "output_type": "stream",
     "text": [
      "\r",
      "Epoch 8 training 48/49 [LR 0.000058] - loss: 1.3391:  96%|███████████████▎| 47/49 [03:22<00:01,  1.15it/s]"
     ]
    },
    {
     "name": "stderr",
     "output_type": "stream",
     "text": [
      "\r",
      "Epoch 8 training 49/49 [LR 0.000058] - loss: 1.3397:  96%|███████████████▎| 47/49 [04:00<00:01,  1.15it/s]"
     ]
    },
    {
     "name": "stderr",
     "output_type": "stream",
     "text": [
      "\r",
      "Epoch 8 training 49/49 [LR 0.000058] - loss: 1.3397: 100%|████████████████| 49/49 [04:00<00:00,  8.36s/it]"
     ]
    },
    {
     "name": "stderr",
     "output_type": "stream",
     "text": [
      "\r",
      "Epoch 8 training 49/49 [LR 0.000058] - loss: 1.3397: 100%|████████████████| 49/49 [04:00<00:00,  4.92s/it]"
     ]
    },
    {
     "name": "stdout",
     "output_type": "stream",
     "text": [
      "Epoch 8 train loss = 1.3397, auc = 1.0000\n"
     ]
    },
    {
     "name": "stderr",
     "output_type": "stream",
     "text": [
      "\n"
     ]
    },
    {
     "name": "stderr",
     "output_type": "stream",
     "text": [
      "\r",
      "  0%|                                                                              | 0/13 [00:00<?, ?it/s]"
     ]
    },
    {
     "name": "stderr",
     "output_type": "stream",
     "text": [
      "\r",
      "  8%|█████▍                                                                | 1/13 [00:59<11:49, 59.09s/it]"
     ]
    },
    {
     "name": "stderr",
     "output_type": "stream",
     "text": [
      "\r",
      " 23%|████████████████▏                                                     | 3/13 [00:59<02:33, 15.36s/it]"
     ]
    },
    {
     "name": "stderr",
     "output_type": "stream",
     "text": [
      "\r",
      " 38%|██████████████████████████▉                                           | 5/13 [01:00<01:01,  7.71s/it]"
     ]
    },
    {
     "name": "stderr",
     "output_type": "stream",
     "text": [
      "\r",
      " 54%|█████████████████████████████████████▋                                | 7/13 [01:00<00:26,  4.47s/it]"
     ]
    },
    {
     "name": "stderr",
     "output_type": "stream",
     "text": [
      "\r",
      " 69%|████████████████████████████████████████████████▍                     | 9/13 [01:00<00:11,  2.81s/it]"
     ]
    },
    {
     "name": "stderr",
     "output_type": "stream",
     "text": [
      "\r",
      " 85%|██████████████████████████████████████████████████████████▍          | 11/13 [01:00<00:03,  1.84s/it]"
     ]
    },
    {
     "name": "stderr",
     "output_type": "stream",
     "text": [
      "\r",
      "100%|█████████████████████████████████████████████████████████████████████| 13/13 [01:00<00:00,  4.67s/it]"
     ]
    },
    {
     "name": "stdout",
     "output_type": "stream",
     "text": [
      "Epoch 8 validation loss = 1.3759 auc = 1.0000\n"
     ]
    },
    {
     "name": "stderr",
     "output_type": "stream",
     "text": [
      "\n"
     ]
    },
    {
     "name": "stderr",
     "output_type": "stream",
     "text": [
      "\r",
      "  0%|                                                                              | 0/49 [00:00<?, ?it/s]"
     ]
    },
    {
     "name": "stderr",
     "output_type": "stream",
     "text": [
      "\r",
      "Epoch 9 training 1/49 [LR 0.000058] - loss: 1.3096:   0%|                          | 0/49 [01:02<?, ?it/s]"
     ]
    },
    {
     "name": "stderr",
     "output_type": "stream",
     "text": [
      "\r",
      "Epoch 9 training 1/49 [LR 0.000058] - loss: 1.3096:   2%|▎                 | 1/49 [01:02<50:11, 62.75s/it]"
     ]
    },
    {
     "name": "stderr",
     "output_type": "stream",
     "text": [
      "\r",
      "Epoch 9 training 2/49 [LR 0.000058] - loss: 1.3215:   2%|▎                 | 1/49 [01:02<50:11, 62.75s/it]"
     ]
    },
    {
     "name": "stderr",
     "output_type": "stream",
     "text": [
      "\r",
      "Epoch 9 training 2/49 [LR 0.000058] - loss: 1.3215:   4%|▋                 | 2/49 [01:02<20:17, 25.91s/it]"
     ]
    },
    {
     "name": "stderr",
     "output_type": "stream",
     "text": [
      "\r",
      "Epoch 9 training 3/49 [LR 0.000058] - loss: 1.3340:   4%|▋                 | 2/49 [01:02<20:17, 25.91s/it]"
     ]
    },
    {
     "name": "stderr",
     "output_type": "stream",
     "text": [
      "\r",
      "Epoch 9 training 4/49 [LR 0.000058] - loss: 1.3326:   4%|▋                 | 2/49 [01:03<20:17, 25.91s/it]"
     ]
    },
    {
     "name": "stderr",
     "output_type": "stream",
     "text": [
      "\r",
      "Epoch 9 training 4/49 [LR 0.000058] - loss: 1.3326:   8%|█▍                | 4/49 [01:03<07:17,  9.73s/it]"
     ]
    },
    {
     "name": "stderr",
     "output_type": "stream",
     "text": [
      "\r",
      "Epoch 9 training 5/49 [LR 0.000057] - loss: 1.3270:   8%|█▍                | 4/49 [01:03<07:17,  9.73s/it]"
     ]
    },
    {
     "name": "stderr",
     "output_type": "stream",
     "text": [
      "\r",
      "Epoch 9 training 5/49 [LR 0.000057] - loss: 1.3270:  10%|█▊                | 5/49 [01:03<04:57,  6.75s/it]"
     ]
    },
    {
     "name": "stderr",
     "output_type": "stream",
     "text": [
      "\r",
      "Epoch 9 training 6/49 [LR 0.000057] - loss: 1.3117:  10%|█▊                | 5/49 [01:03<04:57,  6.75s/it]"
     ]
    },
    {
     "name": "stderr",
     "output_type": "stream",
     "text": [
      "\r",
      "Epoch 9 training 6/49 [LR 0.000057] - loss: 1.3117:  12%|██▏               | 6/49 [01:03<03:22,  4.71s/it]"
     ]
    },
    {
     "name": "stderr",
     "output_type": "stream",
     "text": [
      "\r",
      "Epoch 9 training 7/49 [LR 0.000057] - loss: 1.3218:  12%|██▏               | 6/49 [01:03<03:22,  4.71s/it]"
     ]
    },
    {
     "name": "stderr",
     "output_type": "stream",
     "text": [
      "\r",
      "Epoch 9 training 7/49 [LR 0.000057] - loss: 1.3218:  14%|██▌               | 7/49 [01:03<02:19,  3.31s/it]"
     ]
    },
    {
     "name": "stderr",
     "output_type": "stream",
     "text": [
      "\r",
      "Epoch 9 training 8/49 [LR 0.000057] - loss: 1.3339:  14%|██▌               | 7/49 [01:03<02:19,  3.31s/it]"
     ]
    },
    {
     "name": "stderr",
     "output_type": "stream",
     "text": [
      "\r",
      "Epoch 9 training 9/49 [LR 0.000057] - loss: 1.3422:  14%|██▌               | 7/49 [01:03<02:19,  3.31s/it]"
     ]
    },
    {
     "name": "stderr",
     "output_type": "stream",
     "text": [
      "\r",
      "Epoch 9 training 9/49 [LR 0.000057] - loss: 1.3422:  18%|███▎              | 9/49 [01:03<01:12,  1.82s/it]"
     ]
    },
    {
     "name": "stderr",
     "output_type": "stream",
     "text": [
      "\r",
      "Epoch 9 training 10/49 [LR 0.000057] - loss: 1.3355:  18%|███              | 9/49 [01:03<01:12,  1.82s/it]"
     ]
    },
    {
     "name": "stderr",
     "output_type": "stream",
     "text": [
      "\r",
      "Epoch 9 training 10/49 [LR 0.000057] - loss: 1.3355:  20%|███▎            | 10/49 [01:03<00:54,  1.39s/it]"
     ]
    },
    {
     "name": "stderr",
     "output_type": "stream",
     "text": [
      "\r",
      "Epoch 9 training 11/49 [LR 0.000057] - loss: 1.3307:  20%|███▎            | 10/49 [01:03<00:54,  1.39s/it]"
     ]
    },
    {
     "name": "stderr",
     "output_type": "stream",
     "text": [
      "\r",
      "Epoch 9 training 12/49 [LR 0.000056] - loss: 1.3259:  20%|███▎            | 10/49 [01:03<00:54,  1.39s/it]"
     ]
    },
    {
     "name": "stderr",
     "output_type": "stream",
     "text": [
      "\r",
      "Epoch 9 training 12/49 [LR 0.000056] - loss: 1.3259:  24%|███▉            | 12/49 [01:03<00:31,  1.18it/s]"
     ]
    },
    {
     "name": "stderr",
     "output_type": "stream",
     "text": [
      "\r",
      "Epoch 9 training 13/49 [LR 0.000056] - loss: 1.3195:  24%|███▉            | 12/49 [01:03<00:31,  1.18it/s]"
     ]
    },
    {
     "name": "stderr",
     "output_type": "stream",
     "text": [
      "\r",
      "Epoch 9 training 14/49 [LR 0.000056] - loss: 1.3275:  24%|███▉            | 12/49 [01:04<00:31,  1.18it/s]"
     ]
    },
    {
     "name": "stderr",
     "output_type": "stream",
     "text": [
      "\r",
      "Epoch 9 training 14/49 [LR 0.000056] - loss: 1.3275:  29%|████▌           | 14/49 [01:04<00:19,  1.77it/s]"
     ]
    },
    {
     "name": "stderr",
     "output_type": "stream",
     "text": [
      "\r",
      "Epoch 9 training 15/49 [LR 0.000056] - loss: 1.3220:  29%|████▌           | 14/49 [01:04<00:19,  1.77it/s]"
     ]
    },
    {
     "name": "stderr",
     "output_type": "stream",
     "text": [
      "\r",
      "Epoch 9 training 16/49 [LR 0.000056] - loss: 1.3219:  29%|████▌           | 14/49 [01:04<00:19,  1.77it/s]"
     ]
    },
    {
     "name": "stderr",
     "output_type": "stream",
     "text": [
      "\r",
      "Epoch 9 training 16/49 [LR 0.000056] - loss: 1.3219:  33%|█████▏          | 16/49 [01:04<00:13,  2.48it/s]"
     ]
    },
    {
     "name": "stderr",
     "output_type": "stream",
     "text": [
      "\r",
      "Epoch 9 training 16/49 [LR 0.000056] - loss: 1.3219:  33%|█████▏          | 16/49 [01:19<00:13,  2.48it/s]"
     ]
    },
    {
     "name": "stderr",
     "output_type": "stream",
     "text": [
      "\r",
      "Epoch 9 training 17/49 [LR 0.000056] - loss: 1.3178:  33%|█████▏          | 16/49 [02:03<00:13,  2.48it/s]"
     ]
    },
    {
     "name": "stderr",
     "output_type": "stream",
     "text": [
      "\r",
      "Epoch 9 training 17/49 [LR 0.000056] - loss: 1.3178:  35%|█████▌          | 17/49 [02:04<06:30, 12.21s/it]"
     ]
    },
    {
     "name": "stderr",
     "output_type": "stream",
     "text": [
      "\r",
      "Epoch 9 training 18/49 [LR 0.000055] - loss: 1.3179:  35%|█████▌          | 17/49 [02:04<06:30, 12.21s/it]"
     ]
    },
    {
     "name": "stderr",
     "output_type": "stream",
     "text": [
      "\r",
      "Epoch 9 training 18/49 [LR 0.000055] - loss: 1.3179:  37%|█████▉          | 18/49 [02:04<04:55,  9.53s/it]"
     ]
    },
    {
     "name": "stderr",
     "output_type": "stream",
     "text": [
      "\r",
      "Epoch 9 training 19/49 [LR 0.000055] - loss: 1.3197:  37%|█████▉          | 18/49 [02:04<04:55,  9.53s/it]"
     ]
    },
    {
     "name": "stderr",
     "output_type": "stream",
     "text": [
      "\r",
      "Epoch 9 training 20/49 [LR 0.000055] - loss: 1.3195:  37%|█████▉          | 18/49 [02:05<04:55,  9.53s/it]"
     ]
    },
    {
     "name": "stderr",
     "output_type": "stream",
     "text": [
      "\r",
      "Epoch 9 training 20/49 [LR 0.000055] - loss: 1.3195:  41%|██████▌         | 20/49 [02:05<02:55,  6.06s/it]"
     ]
    },
    {
     "name": "stderr",
     "output_type": "stream",
     "text": [
      "\r",
      "Epoch 9 training 21/49 [LR 0.000055] - loss: 1.3168:  41%|██████▌         | 20/49 [02:05<02:55,  6.06s/it]"
     ]
    },
    {
     "name": "stderr",
     "output_type": "stream",
     "text": [
      "\r",
      "Epoch 9 training 21/49 [LR 0.000055] - loss: 1.3168:  43%|██████▊         | 21/49 [02:05<02:13,  4.77s/it]"
     ]
    },
    {
     "name": "stderr",
     "output_type": "stream",
     "text": [
      "\r",
      "Epoch 9 training 22/49 [LR 0.000055] - loss: 1.3147:  43%|██████▊         | 21/49 [02:05<02:13,  4.77s/it]"
     ]
    },
    {
     "name": "stderr",
     "output_type": "stream",
     "text": [
      "\r",
      "Epoch 9 training 23/49 [LR 0.000055] - loss: 1.3133:  43%|██████▊         | 21/49 [02:05<02:13,  4.77s/it]"
     ]
    },
    {
     "name": "stderr",
     "output_type": "stream",
     "text": [
      "\r",
      "Epoch 9 training 23/49 [LR 0.000055] - loss: 1.3133:  47%|███████▌        | 23/49 [02:05<01:17,  2.98s/it]"
     ]
    },
    {
     "name": "stderr",
     "output_type": "stream",
     "text": [
      "\r",
      "Epoch 9 training 24/49 [LR 0.000054] - loss: 1.3203:  47%|███████▌        | 23/49 [02:05<01:17,  2.98s/it]"
     ]
    },
    {
     "name": "stderr",
     "output_type": "stream",
     "text": [
      "\r",
      "Epoch 9 training 24/49 [LR 0.000054] - loss: 1.3203:  49%|███████▊        | 24/49 [02:05<00:59,  2.36s/it]"
     ]
    },
    {
     "name": "stderr",
     "output_type": "stream",
     "text": [
      "\r",
      "Epoch 9 training 25/49 [LR 0.000054] - loss: 1.3238:  49%|███████▊        | 24/49 [02:05<00:59,  2.36s/it]"
     ]
    },
    {
     "name": "stderr",
     "output_type": "stream",
     "text": [
      "\r",
      "Epoch 9 training 25/49 [LR 0.000054] - loss: 1.3238:  51%|████████▏       | 25/49 [02:05<00:43,  1.83s/it]"
     ]
    },
    {
     "name": "stderr",
     "output_type": "stream",
     "text": [
      "\r",
      "Epoch 9 training 26/49 [LR 0.000054] - loss: 1.3240:  51%|████████▏       | 25/49 [02:05<00:43,  1.83s/it]"
     ]
    },
    {
     "name": "stderr",
     "output_type": "stream",
     "text": [
      "\r",
      "Epoch 9 training 27/49 [LR 0.000054] - loss: 1.3279:  51%|████████▏       | 25/49 [02:05<00:43,  1.83s/it]"
     ]
    },
    {
     "name": "stderr",
     "output_type": "stream",
     "text": [
      "\r",
      "Epoch 9 training 27/49 [LR 0.000054] - loss: 1.3279:  55%|████████▊       | 27/49 [02:05<00:24,  1.14s/it]"
     ]
    },
    {
     "name": "stderr",
     "output_type": "stream",
     "text": [
      "\r",
      "Epoch 9 training 28/49 [LR 0.000054] - loss: 1.3297:  55%|████████▊       | 27/49 [02:06<00:24,  1.14s/it]"
     ]
    },
    {
     "name": "stderr",
     "output_type": "stream",
     "text": [
      "\r",
      "Epoch 9 training 28/49 [LR 0.000054] - loss: 1.3297:  57%|█████████▏      | 28/49 [02:06<00:19,  1.09it/s]"
     ]
    },
    {
     "name": "stderr",
     "output_type": "stream",
     "text": [
      "\r",
      "Epoch 9 training 29/49 [LR 0.000054] - loss: 1.3287:  57%|█████████▏      | 28/49 [02:06<00:19,  1.09it/s]"
     ]
    },
    {
     "name": "stderr",
     "output_type": "stream",
     "text": [
      "\r",
      "Epoch 9 training 30/49 [LR 0.000054] - loss: 1.3266:  57%|█████████▏      | 28/49 [02:06<00:19,  1.09it/s]"
     ]
    },
    {
     "name": "stderr",
     "output_type": "stream",
     "text": [
      "\r",
      "Epoch 9 training 30/49 [LR 0.000054] - loss: 1.3266:  61%|█████████▊      | 30/49 [02:06<00:11,  1.67it/s]"
     ]
    },
    {
     "name": "stderr",
     "output_type": "stream",
     "text": [
      "\r",
      "Epoch 9 training 31/49 [LR 0.000053] - loss: 1.3269:  61%|█████████▊      | 30/49 [02:06<00:11,  1.67it/s]"
     ]
    },
    {
     "name": "stderr",
     "output_type": "stream",
     "text": [
      "\r",
      "Epoch 9 training 32/49 [LR 0.000053] - loss: 1.3296:  61%|█████████▊      | 30/49 [02:06<00:11,  1.67it/s]"
     ]
    },
    {
     "name": "stderr",
     "output_type": "stream",
     "text": [
      "\r",
      "Epoch 9 training 32/49 [LR 0.000053] - loss: 1.3296:  65%|██████████▍     | 32/49 [02:06<00:07,  2.38it/s]"
     ]
    },
    {
     "name": "stderr",
     "output_type": "stream",
     "text": [
      "\r",
      "Epoch 9 training 33/49 [LR 0.000053] - loss: 1.3294:  65%|██████████▍     | 32/49 [03:04<00:07,  2.38it/s]"
     ]
    },
    {
     "name": "stderr",
     "output_type": "stream",
     "text": [
      "\r",
      "Epoch 9 training 33/49 [LR 0.000053] - loss: 1.3294:  67%|██████████▊     | 33/49 [03:04<03:15, 12.22s/it]"
     ]
    },
    {
     "name": "stderr",
     "output_type": "stream",
     "text": [
      "\r",
      "Epoch 9 training 34/49 [LR 0.000053] - loss: 1.3284:  67%|██████████▊     | 33/49 [03:05<03:15, 12.22s/it]"
     ]
    },
    {
     "name": "stderr",
     "output_type": "stream",
     "text": [
      "\r",
      "Epoch 9 training 35/49 [LR 0.000053] - loss: 1.3290:  67%|██████████▊     | 33/49 [03:06<03:15, 12.22s/it]"
     ]
    },
    {
     "name": "stderr",
     "output_type": "stream",
     "text": [
      "\r",
      "Epoch 9 training 35/49 [LR 0.000053] - loss: 1.3290:  71%|███████████▍    | 35/49 [03:06<01:53,  8.08s/it]"
     ]
    },
    {
     "name": "stderr",
     "output_type": "stream",
     "text": [
      "\r",
      "Epoch 9 training 36/49 [LR 0.000053] - loss: 1.3287:  71%|███████████▍    | 35/49 [03:07<01:53,  8.08s/it]"
     ]
    },
    {
     "name": "stderr",
     "output_type": "stream",
     "text": [
      "\r",
      "Epoch 9 training 36/49 [LR 0.000053] - loss: 1.3287:  73%|███████████▊    | 36/49 [03:07<01:23,  6.45s/it]"
     ]
    },
    {
     "name": "stderr",
     "output_type": "stream",
     "text": [
      "\r",
      "Epoch 9 training 37/49 [LR 0.000052] - loss: 1.3267:  73%|███████████▊    | 36/49 [03:07<01:23,  6.45s/it]"
     ]
    },
    {
     "name": "stderr",
     "output_type": "stream",
     "text": [
      "\r",
      "Epoch 9 training 38/49 [LR 0.000052] - loss: 1.3262:  73%|███████████▊    | 36/49 [03:07<01:23,  6.45s/it]"
     ]
    },
    {
     "name": "stderr",
     "output_type": "stream",
     "text": [
      "\r",
      "Epoch 9 training 38/49 [LR 0.000052] - loss: 1.3262:  78%|████████████▍   | 38/49 [03:07<00:44,  4.08s/it]"
     ]
    },
    {
     "name": "stderr",
     "output_type": "stream",
     "text": [
      "\r",
      "Epoch 9 training 39/49 [LR 0.000052] - loss: 1.3246:  78%|████████████▍   | 38/49 [03:07<00:44,  4.08s/it]"
     ]
    },
    {
     "name": "stderr",
     "output_type": "stream",
     "text": [
      "\r",
      "Epoch 9 training 40/49 [LR 0.000052] - loss: 1.3233:  78%|████████████▍   | 38/49 [03:07<00:44,  4.08s/it]"
     ]
    },
    {
     "name": "stderr",
     "output_type": "stream",
     "text": [
      "\r",
      "Epoch 9 training 40/49 [LR 0.000052] - loss: 1.3233:  82%|█████████████   | 40/49 [03:07<00:24,  2.69s/it]"
     ]
    },
    {
     "name": "stderr",
     "output_type": "stream",
     "text": [
      "\r",
      "Epoch 9 training 41/49 [LR 0.000052] - loss: 1.3228:  82%|█████████████   | 40/49 [03:07<00:24,  2.69s/it]"
     ]
    },
    {
     "name": "stderr",
     "output_type": "stream",
     "text": [
      "\r",
      "Epoch 9 training 42/49 [LR 0.000052] - loss: 1.3219:  82%|█████████████   | 40/49 [03:08<00:24,  2.69s/it]"
     ]
    },
    {
     "name": "stderr",
     "output_type": "stream",
     "text": [
      "\r",
      "Epoch 9 training 42/49 [LR 0.000052] - loss: 1.3219:  86%|█████████████▋  | 42/49 [03:08<00:13,  1.94s/it]"
     ]
    },
    {
     "name": "stderr",
     "output_type": "stream",
     "text": [
      "\r",
      "Epoch 9 training 43/49 [LR 0.000051] - loss: 1.3225:  86%|█████████████▋  | 42/49 [03:08<00:13,  1.94s/it]"
     ]
    },
    {
     "name": "stderr",
     "output_type": "stream",
     "text": [
      "\r",
      "Epoch 9 training 44/49 [LR 0.000051] - loss: 1.3213:  86%|█████████████▋  | 42/49 [03:08<00:13,  1.94s/it]"
     ]
    },
    {
     "name": "stderr",
     "output_type": "stream",
     "text": [
      "\r",
      "Epoch 9 training 44/49 [LR 0.000051] - loss: 1.3213:  90%|██████████████▎ | 44/49 [03:08<00:06,  1.35s/it]"
     ]
    },
    {
     "name": "stderr",
     "output_type": "stream",
     "text": [
      "\r",
      "Epoch 9 training 45/49 [LR 0.000051] - loss: 1.3226:  90%|██████████████▎ | 44/49 [03:08<00:06,  1.35s/it]"
     ]
    },
    {
     "name": "stderr",
     "output_type": "stream",
     "text": [
      "\r",
      "Epoch 9 training 46/49 [LR 0.000051] - loss: 1.3226:  90%|██████████████▎ | 44/49 [03:08<00:06,  1.35s/it]"
     ]
    },
    {
     "name": "stderr",
     "output_type": "stream",
     "text": [
      "\r",
      "Epoch 9 training 46/49 [LR 0.000051] - loss: 1.3226:  94%|███████████████ | 46/49 [03:08<00:02,  1.05it/s]"
     ]
    },
    {
     "name": "stderr",
     "output_type": "stream",
     "text": [
      "\r",
      "Epoch 9 training 47/49 [LR 0.000051] - loss: 1.3233:  94%|███████████████ | 46/49 [03:08<00:02,  1.05it/s]"
     ]
    },
    {
     "name": "stderr",
     "output_type": "stream",
     "text": [
      "\r",
      "Epoch 9 training 48/49 [LR 0.000051] - loss: 1.3223:  94%|███████████████ | 46/49 [03:08<00:02,  1.05it/s]"
     ]
    },
    {
     "name": "stderr",
     "output_type": "stream",
     "text": [
      "\r",
      "Epoch 9 training 48/49 [LR 0.000051] - loss: 1.3223:  98%|███████████████▋| 48/49 [03:08<00:00,  1.47it/s]"
     ]
    },
    {
     "name": "stderr",
     "output_type": "stream",
     "text": [
      "\r",
      "Epoch 9 training 49/49 [LR 0.000051] - loss: 1.3221:  98%|███████████████▋| 48/49 [03:57<00:00,  1.47it/s]"
     ]
    },
    {
     "name": "stderr",
     "output_type": "stream",
     "text": [
      "\r",
      "Epoch 9 training 49/49 [LR 0.000051] - loss: 1.3221: 100%|████████████████| 49/49 [03:57<00:00,  9.30s/it]"
     ]
    },
    {
     "name": "stderr",
     "output_type": "stream",
     "text": [
      "\r",
      "Epoch 9 training 49/49 [LR 0.000051] - loss: 1.3221: 100%|████████████████| 49/49 [03:57<00:00,  4.84s/it]"
     ]
    },
    {
     "name": "stdout",
     "output_type": "stream",
     "text": [
      "Epoch 9 train loss = 1.3221, auc = 1.0000\n"
     ]
    },
    {
     "name": "stderr",
     "output_type": "stream",
     "text": [
      "\n"
     ]
    },
    {
     "name": "stderr",
     "output_type": "stream",
     "text": [
      "\r",
      "  0%|                                                                              | 0/13 [00:00<?, ?it/s]"
     ]
    },
    {
     "name": "stderr",
     "output_type": "stream",
     "text": [
      "\r",
      "  8%|█████▍                                                                | 1/13 [00:59<11:50, 59.17s/it]"
     ]
    },
    {
     "name": "stderr",
     "output_type": "stream",
     "text": [
      "\r",
      " 23%|████████████████▏                                                     | 3/13 [00:59<02:33, 15.38s/it]"
     ]
    },
    {
     "name": "stderr",
     "output_type": "stream",
     "text": [
      "\r",
      " 38%|██████████████████████████▉                                           | 5/13 [01:00<01:01,  7.69s/it]"
     ]
    },
    {
     "name": "stderr",
     "output_type": "stream",
     "text": [
      "\r",
      " 54%|█████████████████████████████████████▋                                | 7/13 [01:00<00:26,  4.46s/it]"
     ]
    },
    {
     "name": "stderr",
     "output_type": "stream",
     "text": [
      "\r",
      " 69%|████████████████████████████████████████████████▍                     | 9/13 [01:00<00:11,  2.80s/it]"
     ]
    },
    {
     "name": "stderr",
     "output_type": "stream",
     "text": [
      "\r",
      " 85%|██████████████████████████████████████████████████████████▍          | 11/13 [01:00<00:03,  1.84s/it]"
     ]
    },
    {
     "name": "stderr",
     "output_type": "stream",
     "text": [
      "\r",
      "100%|█████████████████████████████████████████████████████████████████████| 13/13 [01:00<00:00,  4.66s/it]"
     ]
    },
    {
     "name": "stdout",
     "output_type": "stream",
     "text": [
      "Epoch 9 validation loss = 1.3548 auc = 1.0000\n"
     ]
    },
    {
     "name": "stderr",
     "output_type": "stream",
     "text": [
      "\n"
     ]
    },
    {
     "name": "stderr",
     "output_type": "stream",
     "text": [
      "\r",
      "  0%|                                                                              | 0/49 [00:00<?, ?it/s]"
     ]
    },
    {
     "name": "stderr",
     "output_type": "stream",
     "text": [
      "\r",
      "Epoch 10 training 1/49 [LR 0.000050] - loss: 1.2830:   0%|                         | 0/49 [01:01<?, ?it/s]"
     ]
    },
    {
     "name": "stderr",
     "output_type": "stream",
     "text": [
      "\r",
      "Epoch 10 training 1/49 [LR 0.000050] - loss: 1.2830:   2%|▎                | 1/49 [01:01<49:29, 61.86s/it]"
     ]
    },
    {
     "name": "stderr",
     "output_type": "stream",
     "text": [
      "\r",
      "Epoch 10 training 2/49 [LR 0.000050] - loss: 1.3017:   2%|▎                | 1/49 [01:01<49:29, 61.86s/it]"
     ]
    },
    {
     "name": "stderr",
     "output_type": "stream",
     "text": [
      "\r",
      "Epoch 10 training 2/49 [LR 0.000050] - loss: 1.3017:   4%|▋                | 2/49 [01:01<20:00, 25.55s/it]"
     ]
    },
    {
     "name": "stderr",
     "output_type": "stream",
     "text": [
      "\r",
      "Epoch 10 training 3/49 [LR 0.000050] - loss: 1.2726:   4%|▋                | 2/49 [01:02<20:00, 25.55s/it]"
     ]
    },
    {
     "name": "stderr",
     "output_type": "stream",
     "text": [
      "\r",
      "Epoch 10 training 4/49 [LR 0.000050] - loss: 1.2631:   4%|▋                | 2/49 [01:02<20:00, 25.55s/it]"
     ]
    },
    {
     "name": "stderr",
     "output_type": "stream",
     "text": [
      "\r",
      "Epoch 10 training 4/49 [LR 0.000050] - loss: 1.2631:   8%|█▍               | 4/49 [01:02<07:18,  9.75s/it]"
     ]
    },
    {
     "name": "stderr",
     "output_type": "stream",
     "text": [
      "\r",
      "Epoch 10 training 5/49 [LR 0.000050] - loss: 1.2684:   8%|█▍               | 4/49 [01:02<07:18,  9.75s/it]"
     ]
    },
    {
     "name": "stderr",
     "output_type": "stream",
     "text": [
      "\r",
      "Epoch 10 training 5/49 [LR 0.000050] - loss: 1.2684:  10%|█▋               | 5/49 [01:02<04:57,  6.76s/it]"
     ]
    },
    {
     "name": "stderr",
     "output_type": "stream",
     "text": [
      "\r",
      "Epoch 10 training 6/49 [LR 0.000050] - loss: 1.2777:  10%|█▋               | 5/49 [01:02<04:57,  6.76s/it]"
     ]
    },
    {
     "name": "stderr",
     "output_type": "stream",
     "text": [
      "\r",
      "Epoch 10 training 6/49 [LR 0.000050] - loss: 1.2777:  12%|██               | 6/49 [01:02<03:23,  4.73s/it]"
     ]
    },
    {
     "name": "stderr",
     "output_type": "stream",
     "text": [
      "\r",
      "Epoch 10 training 7/49 [LR 0.000049] - loss: 1.2714:  12%|██               | 6/49 [01:02<03:23,  4.73s/it]"
     ]
    },
    {
     "name": "stderr",
     "output_type": "stream",
     "text": [
      "\r",
      "Epoch 10 training 8/49 [LR 0.000049] - loss: 1.2718:  12%|██               | 6/49 [01:03<03:23,  4.73s/it]"
     ]
    },
    {
     "name": "stderr",
     "output_type": "stream",
     "text": [
      "\r",
      "Epoch 10 training 8/49 [LR 0.000049] - loss: 1.2718:  16%|██▊              | 8/49 [01:03<01:51,  2.73s/it]"
     ]
    },
    {
     "name": "stderr",
     "output_type": "stream",
     "text": [
      "\r",
      "Epoch 10 training 9/49 [LR 0.000049] - loss: 1.2713:  16%|██▊              | 8/49 [01:03<01:51,  2.73s/it]"
     ]
    },
    {
     "name": "stderr",
     "output_type": "stream",
     "text": [
      "\r",
      "Epoch 10 training 9/49 [LR 0.000049] - loss: 1.2713:  18%|███              | 9/49 [01:03<01:22,  2.07s/it]"
     ]
    },
    {
     "name": "stderr",
     "output_type": "stream",
     "text": [
      "\r",
      "Epoch 10 training 10/49 [LR 0.000049] - loss: 1.2706:  18%|██▉             | 9/49 [01:03<01:22,  2.07s/it]"
     ]
    },
    {
     "name": "stderr",
     "output_type": "stream",
     "text": [
      "\r",
      "Epoch 10 training 11/49 [LR 0.000049] - loss: 1.2802:  18%|██▉             | 9/49 [01:04<01:22,  2.07s/it]"
     ]
    },
    {
     "name": "stderr",
     "output_type": "stream",
     "text": [
      "\r",
      "Epoch 10 training 11/49 [LR 0.000049] - loss: 1.2802:  22%|███▎           | 11/49 [01:04<00:47,  1.25s/it]"
     ]
    },
    {
     "name": "stderr",
     "output_type": "stream",
     "text": [
      "\r",
      "Epoch 10 training 12/49 [LR 0.000049] - loss: 1.2833:  22%|███▎           | 11/49 [01:04<00:47,  1.25s/it]"
     ]
    },
    {
     "name": "stderr",
     "output_type": "stream",
     "text": [
      "\r",
      "Epoch 10 training 12/49 [LR 0.000049] - loss: 1.2833:  24%|███▋           | 12/49 [01:04<00:36,  1.01it/s]"
     ]
    },
    {
     "name": "stderr",
     "output_type": "stream",
     "text": [
      "\r",
      "Epoch 10 training 13/49 [LR 0.000048] - loss: 1.2855:  24%|███▋           | 12/49 [01:04<00:36,  1.01it/s]"
     ]
    },
    {
     "name": "stderr",
     "output_type": "stream",
     "text": [
      "\r",
      "Epoch 10 training 13/49 [LR 0.000048] - loss: 1.2855:  27%|███▉           | 13/49 [01:04<00:30,  1.20it/s]"
     ]
    },
    {
     "name": "stderr",
     "output_type": "stream",
     "text": [
      "\r",
      "Epoch 10 training 14/49 [LR 0.000048] - loss: 1.2862:  27%|███▉           | 13/49 [01:04<00:30,  1.20it/s]"
     ]
    },
    {
     "name": "stderr",
     "output_type": "stream",
     "text": [
      "\r",
      "Epoch 10 training 14/49 [LR 0.000048] - loss: 1.2862:  29%|████▎          | 14/49 [01:04<00:22,  1.55it/s]"
     ]
    },
    {
     "name": "stderr",
     "output_type": "stream",
     "text": [
      "\r",
      "Epoch 10 training 15/49 [LR 0.000048] - loss: 1.2857:  29%|████▎          | 14/49 [01:04<00:22,  1.55it/s]"
     ]
    },
    {
     "name": "stderr",
     "output_type": "stream",
     "text": [
      "\r",
      "Epoch 10 training 15/49 [LR 0.000048] - loss: 1.2857:  31%|████▌          | 15/49 [01:04<00:17,  2.00it/s]"
     ]
    },
    {
     "name": "stderr",
     "output_type": "stream",
     "text": [
      "\r",
      "Epoch 10 training 16/49 [LR 0.000048] - loss: 1.2873:  31%|████▌          | 15/49 [01:04<00:17,  2.00it/s]"
     ]
    },
    {
     "name": "stderr",
     "output_type": "stream",
     "text": [
      "\r",
      "Epoch 10 training 16/49 [LR 0.000048] - loss: 1.2873:  33%|████▉          | 16/49 [01:04<00:12,  2.57it/s]"
     ]
    },
    {
     "name": "stderr",
     "output_type": "stream",
     "text": [
      "\r",
      "Epoch 10 training 17/49 [LR 0.000048] - loss: 1.2841:  33%|████▉          | 16/49 [02:04<00:12,  2.57it/s]"
     ]
    },
    {
     "name": "stderr",
     "output_type": "stream",
     "text": [
      "\r",
      "Epoch 10 training 17/49 [LR 0.000048] - loss: 1.2841:  35%|█████▏         | 17/49 [02:04<09:14, 17.33s/it]"
     ]
    },
    {
     "name": "stderr",
     "output_type": "stream",
     "text": [
      "\r",
      "Epoch 10 training 18/49 [LR 0.000048] - loss: 1.2915:  35%|█████▏         | 17/49 [02:04<09:14, 17.33s/it]"
     ]
    },
    {
     "name": "stderr",
     "output_type": "stream",
     "text": [
      "\r",
      "Epoch 10 training 19/49 [LR 0.000047] - loss: 1.2990:  35%|█████▏         | 17/49 [02:04<09:14, 17.33s/it]"
     ]
    },
    {
     "name": "stderr",
     "output_type": "stream",
     "text": [
      "\r",
      "Epoch 10 training 19/49 [LR 0.000047] - loss: 1.2990:  39%|█████▊         | 19/49 [02:04<04:47,  9.59s/it]"
     ]
    },
    {
     "name": "stderr",
     "output_type": "stream",
     "text": [
      "\r",
      "Epoch 10 training 20/49 [LR 0.000047] - loss: 1.2958:  39%|█████▊         | 19/49 [02:04<04:47,  9.59s/it]"
     ]
    },
    {
     "name": "stderr",
     "output_type": "stream",
     "text": [
      "\r",
      "Epoch 10 training 20/49 [LR 0.000047] - loss: 1.2958:  41%|██████         | 20/49 [02:04<03:31,  7.29s/it]"
     ]
    },
    {
     "name": "stderr",
     "output_type": "stream",
     "text": [
      "\r",
      "Epoch 10 training 21/49 [LR 0.000047] - loss: 1.2963:  41%|██████         | 20/49 [02:05<03:31,  7.29s/it]"
     ]
    },
    {
     "name": "stderr",
     "output_type": "stream",
     "text": [
      "\r",
      "Epoch 10 training 21/49 [LR 0.000047] - loss: 1.2963:  43%|██████▍        | 21/49 [02:05<02:32,  5.44s/it]"
     ]
    },
    {
     "name": "stderr",
     "output_type": "stream",
     "text": [
      "\r",
      "Epoch 10 training 22/49 [LR 0.000047] - loss: 1.2947:  43%|██████▍        | 21/49 [02:05<02:32,  5.44s/it]"
     ]
    },
    {
     "name": "stderr",
     "output_type": "stream",
     "text": [
      "\r",
      "Epoch 10 training 23/49 [LR 0.000047] - loss: 1.2964:  43%|██████▍        | 21/49 [02:05<02:32,  5.44s/it]"
     ]
    },
    {
     "name": "stderr",
     "output_type": "stream",
     "text": [
      "\r",
      "Epoch 10 training 23/49 [LR 0.000047] - loss: 1.2964:  47%|███████        | 23/49 [02:05<01:22,  3.18s/it]"
     ]
    },
    {
     "name": "stderr",
     "output_type": "stream",
     "text": [
      "\r",
      "Epoch 10 training 24/49 [LR 0.000047] - loss: 1.3008:  47%|███████        | 23/49 [02:05<01:22,  3.18s/it]"
     ]
    },
    {
     "name": "stderr",
     "output_type": "stream",
     "text": [
      "\r",
      "Epoch 10 training 24/49 [LR 0.000047] - loss: 1.3008:  49%|███████▎       | 24/49 [02:05<01:03,  2.54s/it]"
     ]
    },
    {
     "name": "stderr",
     "output_type": "stream",
     "text": [
      "\r",
      "Epoch 10 training 25/49 [LR 0.000047] - loss: 1.3048:  49%|███████▎       | 24/49 [02:05<01:03,  2.54s/it]"
     ]
    },
    {
     "name": "stderr",
     "output_type": "stream",
     "text": [
      "\r",
      "Epoch 10 training 26/49 [LR 0.000046] - loss: 1.3042:  49%|███████▎       | 24/49 [02:05<01:03,  2.54s/it]"
     ]
    },
    {
     "name": "stderr",
     "output_type": "stream",
     "text": [
      "\r",
      "Epoch 10 training 26/49 [LR 0.000046] - loss: 1.3042:  53%|███████▉       | 26/49 [02:05<00:36,  1.57s/it]"
     ]
    },
    {
     "name": "stderr",
     "output_type": "stream",
     "text": [
      "\r",
      "Epoch 10 training 27/49 [LR 0.000046] - loss: 1.3031:  53%|███████▉       | 26/49 [02:06<00:36,  1.57s/it]"
     ]
    },
    {
     "name": "stderr",
     "output_type": "stream",
     "text": [
      "\r",
      "Epoch 10 training 27/49 [LR 0.000046] - loss: 1.3031:  55%|████████▎      | 27/49 [02:06<00:27,  1.24s/it]"
     ]
    },
    {
     "name": "stderr",
     "output_type": "stream",
     "text": [
      "\r",
      "Epoch 10 training 28/49 [LR 0.000046] - loss: 1.3031:  55%|████████▎      | 27/49 [02:06<00:27,  1.24s/it]"
     ]
    },
    {
     "name": "stderr",
     "output_type": "stream",
     "text": [
      "\r",
      "Epoch 10 training 28/49 [LR 0.000046] - loss: 1.3031:  57%|████████▌      | 28/49 [02:06<00:20,  1.03it/s]"
     ]
    },
    {
     "name": "stderr",
     "output_type": "stream",
     "text": [
      "\r",
      "Epoch 10 training 29/49 [LR 0.000046] - loss: 1.3008:  57%|████████▌      | 28/49 [02:06<00:20,  1.03it/s]"
     ]
    },
    {
     "name": "stderr",
     "output_type": "stream",
     "text": [
      "\r",
      "Epoch 10 training 29/49 [LR 0.000046] - loss: 1.3008:  59%|████████▉      | 29/49 [02:06<00:18,  1.10it/s]"
     ]
    },
    {
     "name": "stderr",
     "output_type": "stream",
     "text": [
      "\r",
      "Epoch 10 training 30/49 [LR 0.000046] - loss: 1.3024:  59%|████████▉      | 29/49 [02:06<00:18,  1.10it/s]"
     ]
    },
    {
     "name": "stderr",
     "output_type": "stream",
     "text": [
      "\r",
      "Epoch 10 training 30/49 [LR 0.000046] - loss: 1.3024:  61%|█████████▏     | 30/49 [02:06<00:13,  1.44it/s]"
     ]
    },
    {
     "name": "stderr",
     "output_type": "stream",
     "text": [
      "\r",
      "Epoch 10 training 31/49 [LR 0.000046] - loss: 1.3033:  61%|█████████▏     | 30/49 [02:07<00:13,  1.44it/s]"
     ]
    },
    {
     "name": "stderr",
     "output_type": "stream",
     "text": [
      "\r",
      "Epoch 10 training 32/49 [LR 0.000045] - loss: 1.3034:  61%|█████████▏     | 30/49 [02:07<00:13,  1.44it/s]"
     ]
    },
    {
     "name": "stderr",
     "output_type": "stream",
     "text": [
      "\r",
      "Epoch 10 training 32/49 [LR 0.000045] - loss: 1.3034:  65%|█████████▊     | 32/49 [02:07<00:07,  2.29it/s]"
     ]
    },
    {
     "name": "stderr",
     "output_type": "stream",
     "text": [
      "\r",
      "Epoch 10 training 33/49 [LR 0.000045] - loss: 1.3035:  65%|█████████▊     | 32/49 [03:05<00:07,  2.29it/s]"
     ]
    },
    {
     "name": "stderr",
     "output_type": "stream",
     "text": [
      "\r",
      "Epoch 10 training 33/49 [LR 0.000045] - loss: 1.3035:  67%|██████████     | 33/49 [03:05<03:45, 14.07s/it]"
     ]
    },
    {
     "name": "stderr",
     "output_type": "stream",
     "text": [
      "\r",
      "Epoch 10 training 34/49 [LR 0.000045] - loss: 1.3037:  67%|██████████     | 33/49 [03:07<03:45, 14.07s/it]"
     ]
    },
    {
     "name": "stderr",
     "output_type": "stream",
     "text": [
      "\r",
      "Epoch 10 training 34/49 [LR 0.000045] - loss: 1.3037:  69%|██████████▍    | 34/49 [03:07<02:46, 11.10s/it]"
     ]
    },
    {
     "name": "stderr",
     "output_type": "stream",
     "text": [
      "\r",
      "Epoch 10 training 35/49 [LR 0.000045] - loss: 1.3030:  69%|██████████▍    | 34/49 [03:07<02:46, 11.10s/it]"
     ]
    },
    {
     "name": "stderr",
     "output_type": "stream",
     "text": [
      "\r",
      "Epoch 10 training 36/49 [LR 0.000045] - loss: 1.3051:  69%|██████████▍    | 34/49 [03:07<02:46, 11.10s/it]"
     ]
    },
    {
     "name": "stderr",
     "output_type": "stream",
     "text": [
      "\r",
      "Epoch 10 training 36/49 [LR 0.000045] - loss: 1.3051:  73%|███████████    | 36/49 [03:07<01:24,  6.49s/it]"
     ]
    },
    {
     "name": "stderr",
     "output_type": "stream",
     "text": [
      "\r",
      "Epoch 10 training 37/49 [LR 0.000045] - loss: 1.3083:  73%|███████████    | 36/49 [03:07<01:24,  6.49s/it]"
     ]
    },
    {
     "name": "stderr",
     "output_type": "stream",
     "text": [
      "\r",
      "Epoch 10 training 38/49 [LR 0.000044] - loss: 1.3093:  73%|███████████    | 36/49 [03:07<01:24,  6.49s/it]"
     ]
    },
    {
     "name": "stderr",
     "output_type": "stream",
     "text": [
      "\r",
      "Epoch 10 training 38/49 [LR 0.000044] - loss: 1.3093:  78%|███████████▋   | 38/49 [03:07<00:45,  4.09s/it]"
     ]
    },
    {
     "name": "stderr",
     "output_type": "stream",
     "text": [
      "\r",
      "Epoch 10 training 39/49 [LR 0.000044] - loss: 1.3081:  78%|███████████▋   | 38/49 [03:08<00:45,  4.09s/it]"
     ]
    },
    {
     "name": "stderr",
     "output_type": "stream",
     "text": [
      "\r",
      "Epoch 10 training 40/49 [LR 0.000044] - loss: 1.3071:  78%|███████████▋   | 38/49 [03:08<00:45,  4.09s/it]"
     ]
    },
    {
     "name": "stderr",
     "output_type": "stream",
     "text": [
      "\r",
      "Epoch 10 training 40/49 [LR 0.000044] - loss: 1.3071:  82%|████████████▏  | 40/49 [03:08<00:24,  2.74s/it]"
     ]
    },
    {
     "name": "stderr",
     "output_type": "stream",
     "text": [
      "\r",
      "Epoch 10 training 41/49 [LR 0.000044] - loss: 1.3063:  82%|████████████▏  | 40/49 [03:08<00:24,  2.74s/it]"
     ]
    },
    {
     "name": "stderr",
     "output_type": "stream",
     "text": [
      "\r",
      "Epoch 10 training 42/49 [LR 0.000044] - loss: 1.3065:  82%|████████████▏  | 40/49 [03:08<00:24,  2.74s/it]"
     ]
    },
    {
     "name": "stderr",
     "output_type": "stream",
     "text": [
      "\r",
      "Epoch 10 training 42/49 [LR 0.000044] - loss: 1.3065:  86%|████████████▊  | 42/49 [03:08<00:12,  1.86s/it]"
     ]
    },
    {
     "name": "stderr",
     "output_type": "stream",
     "text": [
      "\r",
      "Epoch 10 training 43/49 [LR 0.000044] - loss: 1.3087:  86%|████████████▊  | 42/49 [03:08<00:12,  1.86s/it]"
     ]
    },
    {
     "name": "stderr",
     "output_type": "stream",
     "text": [
      "\r",
      "Epoch 10 training 44/49 [LR 0.000044] - loss: 1.3083:  86%|████████████▊  | 42/49 [03:08<00:12,  1.86s/it]"
     ]
    },
    {
     "name": "stderr",
     "output_type": "stream",
     "text": [
      "\r",
      "Epoch 10 training 44/49 [LR 0.000044] - loss: 1.3083:  90%|█████████████▍ | 44/49 [03:08<00:06,  1.29s/it]"
     ]
    },
    {
     "name": "stderr",
     "output_type": "stream",
     "text": [
      "\r",
      "Epoch 10 training 45/49 [LR 0.000043] - loss: 1.3091:  90%|█████████████▍ | 44/49 [03:08<00:06,  1.29s/it]"
     ]
    },
    {
     "name": "stderr",
     "output_type": "stream",
     "text": [
      "\r",
      "Epoch 10 training 46/49 [LR 0.000043] - loss: 1.3102:  90%|█████████████▍ | 44/49 [03:08<00:06,  1.29s/it]"
     ]
    },
    {
     "name": "stderr",
     "output_type": "stream",
     "text": [
      "\r",
      "Epoch 10 training 46/49 [LR 0.000043] - loss: 1.3102:  94%|██████████████ | 46/49 [03:08<00:02,  1.10it/s]"
     ]
    },
    {
     "name": "stderr",
     "output_type": "stream",
     "text": [
      "\r",
      "Epoch 10 training 47/49 [LR 0.000043] - loss: 1.3109:  94%|██████████████ | 46/49 [03:08<00:02,  1.10it/s]"
     ]
    },
    {
     "name": "stderr",
     "output_type": "stream",
     "text": [
      "\r",
      "Epoch 10 training 48/49 [LR 0.000043] - loss: 1.3107:  94%|██████████████ | 46/49 [03:09<00:02,  1.10it/s]"
     ]
    },
    {
     "name": "stderr",
     "output_type": "stream",
     "text": [
      "\r",
      "Epoch 10 training 48/49 [LR 0.000043] - loss: 1.3107:  98%|██████████████▋| 48/49 [03:09<00:00,  1.53it/s]"
     ]
    },
    {
     "name": "stderr",
     "output_type": "stream",
     "text": [
      "\r",
      "Epoch 10 training 48/49 [LR 0.000043] - loss: 1.3107:  98%|██████████████▋| 48/49 [03:20<00:00,  1.53it/s]"
     ]
    },
    {
     "name": "stderr",
     "output_type": "stream",
     "text": [
      "\r",
      "Epoch 10 training 49/49 [LR 0.000043] - loss: 1.3101:  98%|██████████████▋| 48/49 [03:59<00:00,  1.53it/s]"
     ]
    },
    {
     "name": "stderr",
     "output_type": "stream",
     "text": [
      "\r",
      "Epoch 10 training 49/49 [LR 0.000043] - loss: 1.3101: 100%|███████████████| 49/49 [03:59<00:00,  9.76s/it]"
     ]
    },
    {
     "name": "stderr",
     "output_type": "stream",
     "text": [
      "\r",
      "Epoch 10 training 49/49 [LR 0.000043] - loss: 1.3101: 100%|███████████████| 49/49 [03:59<00:00,  4.90s/it]"
     ]
    },
    {
     "name": "stdout",
     "output_type": "stream",
     "text": [
      "Epoch 10 train loss = 1.3101, auc = 1.0000\n"
     ]
    },
    {
     "name": "stderr",
     "output_type": "stream",
     "text": [
      "\n"
     ]
    },
    {
     "name": "stderr",
     "output_type": "stream",
     "text": [
      "\r",
      "  0%|                                                                              | 0/13 [00:00<?, ?it/s]"
     ]
    },
    {
     "name": "stderr",
     "output_type": "stream",
     "text": [
      "\r",
      "  8%|█████▍                                                                | 1/13 [01:00<12:04, 60.38s/it]"
     ]
    },
    {
     "name": "stderr",
     "output_type": "stream",
     "text": [
      "\r",
      " 23%|████████████████▏                                                     | 3/13 [01:00<02:36, 15.70s/it]"
     ]
    },
    {
     "name": "stderr",
     "output_type": "stream",
     "text": [
      "\r",
      " 38%|██████████████████████████▉                                           | 5/13 [01:01<01:02,  7.79s/it]"
     ]
    },
    {
     "name": "stderr",
     "output_type": "stream",
     "text": [
      "\r",
      " 54%|█████████████████████████████████████▋                                | 7/13 [01:01<00:27,  4.52s/it]"
     ]
    },
    {
     "name": "stderr",
     "output_type": "stream",
     "text": [
      "\r",
      " 69%|████████████████████████████████████████████████▍                     | 9/13 [01:01<00:11,  2.84s/it]"
     ]
    },
    {
     "name": "stderr",
     "output_type": "stream",
     "text": [
      "\r",
      " 85%|██████████████████████████████████████████████████████████▍          | 11/13 [01:01<00:03,  1.86s/it]"
     ]
    },
    {
     "name": "stderr",
     "output_type": "stream",
     "text": [
      "\r",
      "100%|█████████████████████████████████████████████████████████████████████| 13/13 [01:01<00:00,  4.74s/it]"
     ]
    },
    {
     "name": "stdout",
     "output_type": "stream",
     "text": [
      "Epoch 10 validation loss = 1.3596 auc = 1.0000\n"
     ]
    },
    {
     "name": "stderr",
     "output_type": "stream",
     "text": [
      "\n"
     ]
    },
    {
     "name": "stderr",
     "output_type": "stream",
     "text": [
      "\r",
      "  0%|                                                                              | 0/49 [00:00<?, ?it/s]"
     ]
    },
    {
     "name": "stderr",
     "output_type": "stream",
     "text": [
      "\r",
      "Epoch 11 training 1/49 [LR 0.000043] - loss: 1.3280:   0%|                         | 0/49 [01:01<?, ?it/s]"
     ]
    },
    {
     "name": "stderr",
     "output_type": "stream",
     "text": [
      "\r",
      "Epoch 11 training 1/49 [LR 0.000043] - loss: 1.3280:   2%|▎                | 1/49 [01:01<49:22, 61.72s/it]"
     ]
    },
    {
     "name": "stderr",
     "output_type": "stream",
     "text": [
      "\r",
      "Epoch 11 training 2/49 [LR 0.000042] - loss: 1.3224:   2%|▎                | 1/49 [01:02<49:22, 61.72s/it]"
     ]
    },
    {
     "name": "stderr",
     "output_type": "stream",
     "text": [
      "\r",
      "Epoch 11 training 2/49 [LR 0.000042] - loss: 1.3224:   4%|▋                | 2/49 [01:02<20:29, 26.16s/it]"
     ]
    },
    {
     "name": "stderr",
     "output_type": "stream",
     "text": [
      "\r",
      "Epoch 11 training 3/49 [LR 0.000042] - loss: 1.3342:   4%|▋                | 2/49 [01:03<20:29, 26.16s/it]"
     ]
    },
    {
     "name": "stderr",
     "output_type": "stream",
     "text": [
      "\r",
      "Epoch 11 training 3/49 [LR 0.000042] - loss: 1.3342:   6%|█                | 3/49 [01:03<10:55, 14.26s/it]"
     ]
    },
    {
     "name": "stderr",
     "output_type": "stream",
     "text": [
      "\r",
      "Epoch 11 training 4/49 [LR 0.000042] - loss: 1.3361:   6%|█                | 3/49 [01:03<10:55, 14.26s/it]"
     ]
    },
    {
     "name": "stderr",
     "output_type": "stream",
     "text": [
      "\r",
      "Epoch 11 training 4/49 [LR 0.000042] - loss: 1.3361:   8%|█▍               | 4/49 [01:03<06:30,  8.68s/it]"
     ]
    },
    {
     "name": "stderr",
     "output_type": "stream",
     "text": [
      "\r",
      "Epoch 11 training 5/49 [LR 0.000042] - loss: 1.3294:   8%|█▍               | 4/49 [01:03<06:30,  8.68s/it]"
     ]
    },
    {
     "name": "stderr",
     "output_type": "stream",
     "text": [
      "\r",
      "Epoch 11 training 5/49 [LR 0.000042] - loss: 1.3294:  10%|█▋               | 5/49 [01:03<04:13,  5.77s/it]"
     ]
    },
    {
     "name": "stderr",
     "output_type": "stream",
     "text": [
      "\r",
      "Epoch 11 training 6/49 [LR 0.000042] - loss: 1.3230:  10%|█▋               | 5/49 [01:03<04:13,  5.77s/it]"
     ]
    },
    {
     "name": "stderr",
     "output_type": "stream",
     "text": [
      "\r",
      "Epoch 11 training 6/49 [LR 0.000042] - loss: 1.3230:  12%|██               | 6/49 [01:03<02:45,  3.84s/it]"
     ]
    },
    {
     "name": "stderr",
     "output_type": "stream",
     "text": [
      "\r",
      "Epoch 11 training 7/49 [LR 0.000042] - loss: 1.3348:  12%|██               | 6/49 [01:04<02:45,  3.84s/it]"
     ]
    },
    {
     "name": "stderr",
     "output_type": "stream",
     "text": [
      "\r",
      "Epoch 11 training 8/49 [LR 0.000042] - loss: 1.3338:  12%|██               | 6/49 [01:04<02:45,  3.84s/it]"
     ]
    },
    {
     "name": "stderr",
     "output_type": "stream",
     "text": [
      "\r",
      "Epoch 11 training 8/49 [LR 0.000042] - loss: 1.3338:  16%|██▊              | 8/49 [01:04<01:21,  1.99s/it]"
     ]
    },
    {
     "name": "stderr",
     "output_type": "stream",
     "text": [
      "\r",
      "Epoch 11 training 9/49 [LR 0.000041] - loss: 1.3273:  16%|██▊              | 8/49 [01:04<01:21,  1.99s/it]"
     ]
    },
    {
     "name": "stderr",
     "output_type": "stream",
     "text": [
      "\r",
      "Epoch 11 training 9/49 [LR 0.000041] - loss: 1.3273:  18%|███              | 9/49 [01:04<01:00,  1.50s/it]"
     ]
    },
    {
     "name": "stderr",
     "output_type": "stream",
     "text": [
      "\r",
      "Epoch 11 training 10/49 [LR 0.000041] - loss: 1.3279:  18%|██▉             | 9/49 [01:04<01:00,  1.50s/it]"
     ]
    },
    {
     "name": "stderr",
     "output_type": "stream",
     "text": [
      "\r",
      "Epoch 11 training 10/49 [LR 0.000041] - loss: 1.3279:  20%|███            | 10/49 [01:04<00:43,  1.12s/it]"
     ]
    },
    {
     "name": "stderr",
     "output_type": "stream",
     "text": [
      "\r",
      "Epoch 11 training 11/49 [LR 0.000041] - loss: 1.3280:  20%|███            | 10/49 [01:04<00:43,  1.12s/it]"
     ]
    },
    {
     "name": "stderr",
     "output_type": "stream",
     "text": [
      "\r",
      "Epoch 11 training 11/49 [LR 0.000041] - loss: 1.3280:  22%|███▎           | 11/49 [01:04<00:31,  1.19it/s]"
     ]
    },
    {
     "name": "stderr",
     "output_type": "stream",
     "text": [
      "\r",
      "Epoch 11 training 12/49 [LR 0.000041] - loss: 1.3227:  22%|███▎           | 11/49 [01:04<00:31,  1.19it/s]"
     ]
    },
    {
     "name": "stderr",
     "output_type": "stream",
     "text": [
      "\r",
      "Epoch 11 training 13/49 [LR 0.000041] - loss: 1.3234:  22%|███▎           | 11/49 [01:04<00:31,  1.19it/s]"
     ]
    },
    {
     "name": "stderr",
     "output_type": "stream",
     "text": [
      "\r",
      "Epoch 11 training 13/49 [LR 0.000041] - loss: 1.3234:  27%|███▉           | 13/49 [01:04<00:18,  1.96it/s]"
     ]
    },
    {
     "name": "stderr",
     "output_type": "stream",
     "text": [
      "\r",
      "Epoch 11 training 14/49 [LR 0.000041] - loss: 1.3223:  27%|███▉           | 13/49 [01:04<00:18,  1.96it/s]"
     ]
    },
    {
     "name": "stderr",
     "output_type": "stream",
     "text": [
      "\r",
      "Epoch 11 training 15/49 [LR 0.000040] - loss: 1.3266:  27%|███▉           | 13/49 [01:04<00:18,  1.96it/s]"
     ]
    },
    {
     "name": "stderr",
     "output_type": "stream",
     "text": [
      "\r",
      "Epoch 11 training 15/49 [LR 0.000040] - loss: 1.3266:  31%|████▌          | 15/49 [01:04<00:11,  2.86it/s]"
     ]
    },
    {
     "name": "stderr",
     "output_type": "stream",
     "text": [
      "\r",
      "Epoch 11 training 16/49 [LR 0.000040] - loss: 1.3215:  31%|████▌          | 15/49 [01:04<00:11,  2.86it/s]"
     ]
    },
    {
     "name": "stderr",
     "output_type": "stream",
     "text": [
      "\r",
      "Epoch 11 training 16/49 [LR 0.000040] - loss: 1.3215:  33%|████▉          | 16/49 [01:04<00:09,  3.38it/s]"
     ]
    },
    {
     "name": "stderr",
     "output_type": "stream",
     "text": [
      "\r",
      "Epoch 11 training 17/49 [LR 0.000040] - loss: 1.3182:  33%|████▉          | 16/49 [02:03<00:09,  3.38it/s]"
     ]
    },
    {
     "name": "stderr",
     "output_type": "stream",
     "text": [
      "\r",
      "Epoch 11 training 17/49 [LR 0.000040] - loss: 1.3182:  35%|█████▏         | 17/49 [02:03<07:32, 14.13s/it]"
     ]
    },
    {
     "name": "stderr",
     "output_type": "stream",
     "text": [
      "\r",
      "Epoch 11 training 18/49 [LR 0.000040] - loss: 1.3186:  35%|█████▏         | 17/49 [02:05<07:32, 14.13s/it]"
     ]
    },
    {
     "name": "stderr",
     "output_type": "stream",
     "text": [
      "\r",
      "Epoch 11 training 18/49 [LR 0.000040] - loss: 1.3186:  37%|█████▌         | 18/49 [02:05<05:42, 11.04s/it]"
     ]
    },
    {
     "name": "stderr",
     "output_type": "stream",
     "text": [
      "\r",
      "Epoch 11 training 19/49 [LR 0.000040] - loss: 1.3134:  37%|█████▌         | 18/49 [02:05<05:42, 11.04s/it]"
     ]
    },
    {
     "name": "stderr",
     "output_type": "stream",
     "text": [
      "\r",
      "Epoch 11 training 19/49 [LR 0.000040] - loss: 1.3134:  39%|█████▊         | 19/49 [02:05<04:04,  8.14s/it]"
     ]
    },
    {
     "name": "stderr",
     "output_type": "stream",
     "text": [
      "\r",
      "Epoch 11 training 20/49 [LR 0.000040] - loss: 1.3122:  39%|█████▊         | 19/49 [02:05<04:04,  8.14s/it]"
     ]
    },
    {
     "name": "stderr",
     "output_type": "stream",
     "text": [
      "\r",
      "Epoch 11 training 20/49 [LR 0.000040] - loss: 1.3122:  41%|██████         | 20/49 [02:05<02:52,  5.93s/it]"
     ]
    },
    {
     "name": "stderr",
     "output_type": "stream",
     "text": [
      "\r",
      "Epoch 11 training 21/49 [LR 0.000039] - loss: 1.3123:  41%|██████         | 20/49 [02:07<02:52,  5.93s/it]"
     ]
    },
    {
     "name": "stderr",
     "output_type": "stream",
     "text": [
      "\r",
      "Epoch 11 training 21/49 [LR 0.000039] - loss: 1.3123:  43%|██████▍        | 21/49 [02:07<02:09,  4.63s/it]"
     ]
    },
    {
     "name": "stderr",
     "output_type": "stream",
     "text": [
      "\r",
      "Epoch 11 training 22/49 [LR 0.000039] - loss: 1.3112:  43%|██████▍        | 21/49 [02:07<02:09,  4.63s/it]"
     ]
    },
    {
     "name": "stderr",
     "output_type": "stream",
     "text": [
      "\r",
      "Epoch 11 training 23/49 [LR 0.000039] - loss: 1.3103:  43%|██████▍        | 21/49 [02:07<02:09,  4.63s/it]"
     ]
    },
    {
     "name": "stderr",
     "output_type": "stream",
     "text": [
      "\r",
      "Epoch 11 training 23/49 [LR 0.000039] - loss: 1.3103:  47%|███████        | 23/49 [02:07<01:07,  2.61s/it]"
     ]
    },
    {
     "name": "stderr",
     "output_type": "stream",
     "text": [
      "\r",
      "Epoch 11 training 24/49 [LR 0.000039] - loss: 1.3113:  47%|███████        | 23/49 [02:07<01:07,  2.61s/it]"
     ]
    },
    {
     "name": "stderr",
     "output_type": "stream",
     "text": [
      "\r",
      "Epoch 11 training 25/49 [LR 0.000039] - loss: 1.3093:  47%|███████        | 23/49 [02:07<01:07,  2.61s/it]"
     ]
    },
    {
     "name": "stderr",
     "output_type": "stream",
     "text": [
      "\r",
      "Epoch 11 training 25/49 [LR 0.000039] - loss: 1.3093:  51%|███████▋       | 25/49 [02:07<00:39,  1.63s/it]"
     ]
    },
    {
     "name": "stderr",
     "output_type": "stream",
     "text": [
      "\r",
      "Epoch 11 training 26/49 [LR 0.000039] - loss: 1.3100:  51%|███████▋       | 25/49 [02:07<00:39,  1.63s/it]"
     ]
    },
    {
     "name": "stderr",
     "output_type": "stream",
     "text": [
      "\r",
      "Epoch 11 training 27/49 [LR 0.000039] - loss: 1.3102:  51%|███████▋       | 25/49 [02:07<00:39,  1.63s/it]"
     ]
    },
    {
     "name": "stderr",
     "output_type": "stream",
     "text": [
      "\r",
      "Epoch 11 training 27/49 [LR 0.000039] - loss: 1.3102:  55%|████████▎      | 27/49 [02:07<00:23,  1.08s/it]"
     ]
    },
    {
     "name": "stderr",
     "output_type": "stream",
     "text": [
      "\r",
      "Epoch 11 training 28/49 [LR 0.000038] - loss: 1.3062:  55%|████████▎      | 27/49 [02:07<00:23,  1.08s/it]"
     ]
    },
    {
     "name": "stderr",
     "output_type": "stream",
     "text": [
      "\r",
      "Epoch 11 training 29/49 [LR 0.000038] - loss: 1.3080:  55%|████████▎      | 27/49 [02:07<00:23,  1.08s/it]"
     ]
    },
    {
     "name": "stderr",
     "output_type": "stream",
     "text": [
      "\r",
      "Epoch 11 training 29/49 [LR 0.000038] - loss: 1.3080:  59%|████████▉      | 29/49 [02:07<00:15,  1.33it/s]"
     ]
    },
    {
     "name": "stderr",
     "output_type": "stream",
     "text": [
      "\r",
      "Epoch 11 training 30/49 [LR 0.000038] - loss: 1.3074:  59%|████████▉      | 29/49 [02:07<00:15,  1.33it/s]"
     ]
    },
    {
     "name": "stderr",
     "output_type": "stream",
     "text": [
      "\r",
      "Epoch 11 training 30/49 [LR 0.000038] - loss: 1.3074:  61%|█████████▏     | 30/49 [02:07<00:11,  1.60it/s]"
     ]
    },
    {
     "name": "stderr",
     "output_type": "stream",
     "text": [
      "\r",
      "Epoch 11 training 31/49 [LR 0.000038] - loss: 1.3080:  61%|█████████▏     | 30/49 [02:08<00:11,  1.60it/s]"
     ]
    },
    {
     "name": "stderr",
     "output_type": "stream",
     "text": [
      "\r",
      "Epoch 11 training 31/49 [LR 0.000038] - loss: 1.3080:  63%|█████████▍     | 31/49 [02:08<00:09,  1.96it/s]"
     ]
    },
    {
     "name": "stderr",
     "output_type": "stream",
     "text": [
      "\r",
      "Epoch 11 training 32/49 [LR 0.000038] - loss: 1.3102:  63%|█████████▍     | 31/49 [02:08<00:09,  1.96it/s]"
     ]
    },
    {
     "name": "stderr",
     "output_type": "stream",
     "text": [
      "\r",
      "Epoch 11 training 32/49 [LR 0.000038] - loss: 1.3102:  65%|█████████▊     | 32/49 [02:08<00:07,  2.40it/s]"
     ]
    },
    {
     "name": "stderr",
     "output_type": "stream",
     "text": [
      "\r",
      "Epoch 11 training 33/49 [LR 0.000038] - loss: 1.3092:  65%|█████████▊     | 32/49 [03:07<00:07,  2.40it/s]"
     ]
    },
    {
     "name": "stderr",
     "output_type": "stream",
     "text": [
      "\r",
      "Epoch 11 training 33/49 [LR 0.000038] - loss: 1.3092:  67%|██████████     | 33/49 [03:07<04:03, 15.25s/it]"
     ]
    },
    {
     "name": "stderr",
     "output_type": "stream",
     "text": [
      "\r",
      "Epoch 11 training 34/49 [LR 0.000037] - loss: 1.3073:  67%|██████████     | 33/49 [03:08<04:03, 15.25s/it]"
     ]
    },
    {
     "name": "stderr",
     "output_type": "stream",
     "text": [
      "\r",
      "Epoch 11 training 34/49 [LR 0.000037] - loss: 1.3073:  69%|██████████▍    | 34/49 [03:08<02:53, 11.55s/it]"
     ]
    },
    {
     "name": "stderr",
     "output_type": "stream",
     "text": [
      "\r",
      "Epoch 11 training 35/49 [LR 0.000037] - loss: 1.3056:  69%|██████████▍    | 34/49 [03:08<02:53, 11.55s/it]"
     ]
    },
    {
     "name": "stderr",
     "output_type": "stream",
     "text": [
      "\r",
      "Epoch 11 training 36/49 [LR 0.000037] - loss: 1.3047:  69%|██████████▍    | 34/49 [03:08<02:53, 11.55s/it]"
     ]
    },
    {
     "name": "stderr",
     "output_type": "stream",
     "text": [
      "\r",
      "Epoch 11 training 36/49 [LR 0.000037] - loss: 1.3047:  73%|███████████    | 36/49 [03:08<01:25,  6.61s/it]"
     ]
    },
    {
     "name": "stderr",
     "output_type": "stream",
     "text": [
      "\r",
      "Epoch 11 training 37/49 [LR 0.000037] - loss: 1.3054:  73%|███████████    | 36/49 [03:09<01:25,  6.61s/it]"
     ]
    },
    {
     "name": "stderr",
     "output_type": "stream",
     "text": [
      "\r",
      "Epoch 11 training 37/49 [LR 0.000037] - loss: 1.3054:  76%|███████████▎   | 37/49 [03:09<01:02,  5.18s/it]"
     ]
    },
    {
     "name": "stderr",
     "output_type": "stream",
     "text": [
      "\r",
      "Epoch 11 training 38/49 [LR 0.000037] - loss: 1.3060:  76%|███████████▎   | 37/49 [03:09<01:02,  5.18s/it]"
     ]
    },
    {
     "name": "stderr",
     "output_type": "stream",
     "text": [
      "\r",
      "Epoch 11 training 39/49 [LR 0.000037] - loss: 1.3061:  76%|███████████▎   | 37/49 [03:09<01:02,  5.18s/it]"
     ]
    },
    {
     "name": "stderr",
     "output_type": "stream",
     "text": [
      "\r",
      "Epoch 11 training 39/49 [LR 0.000037] - loss: 1.3061:  80%|███████████▉   | 39/49 [03:09<00:31,  3.13s/it]"
     ]
    },
    {
     "name": "stderr",
     "output_type": "stream",
     "text": [
      "\r",
      "Epoch 11 training 40/49 [LR 0.000037] - loss: 1.3065:  80%|███████████▉   | 39/49 [03:09<00:31,  3.13s/it]"
     ]
    },
    {
     "name": "stderr",
     "output_type": "stream",
     "text": [
      "\r",
      "Epoch 11 training 41/49 [LR 0.000036] - loss: 1.3037:  80%|███████████▉   | 39/49 [03:09<00:31,  3.13s/it]"
     ]
    },
    {
     "name": "stderr",
     "output_type": "stream",
     "text": [
      "\r",
      "Epoch 11 training 41/49 [LR 0.000036] - loss: 1.3037:  84%|████████████▌  | 41/49 [03:09<00:16,  2.02s/it]"
     ]
    },
    {
     "name": "stderr",
     "output_type": "stream",
     "text": [
      "\r",
      "Epoch 11 training 42/49 [LR 0.000036] - loss: 1.3019:  84%|████████████▌  | 41/49 [03:09<00:16,  2.02s/it]"
     ]
    },
    {
     "name": "stderr",
     "output_type": "stream",
     "text": [
      "\r",
      "Epoch 11 training 43/49 [LR 0.000036] - loss: 1.3028:  84%|████████████▌  | 41/49 [03:09<00:16,  2.02s/it]"
     ]
    },
    {
     "name": "stderr",
     "output_type": "stream",
     "text": [
      "\r",
      "Epoch 11 training 43/49 [LR 0.000036] - loss: 1.3028:  88%|█████████████▏ | 43/49 [03:09<00:08,  1.38s/it]"
     ]
    },
    {
     "name": "stderr",
     "output_type": "stream",
     "text": [
      "\r",
      "Epoch 11 training 44/49 [LR 0.000036] - loss: 1.3032:  88%|█████████████▏ | 43/49 [03:10<00:08,  1.38s/it]"
     ]
    },
    {
     "name": "stderr",
     "output_type": "stream",
     "text": [
      "\r",
      "Epoch 11 training 45/49 [LR 0.000036] - loss: 1.3027:  88%|█████████████▏ | 43/49 [03:10<00:08,  1.38s/it]"
     ]
    },
    {
     "name": "stderr",
     "output_type": "stream",
     "text": [
      "\r",
      "Epoch 11 training 45/49 [LR 0.000036] - loss: 1.3027:  92%|█████████████▊ | 45/49 [03:10<00:03,  1.04it/s]"
     ]
    },
    {
     "name": "stderr",
     "output_type": "stream",
     "text": [
      "\r",
      "Epoch 11 training 46/49 [LR 0.000036] - loss: 1.3028:  92%|█████████████▊ | 45/49 [03:10<00:03,  1.04it/s]"
     ]
    },
    {
     "name": "stderr",
     "output_type": "stream",
     "text": [
      "\r",
      "Epoch 11 training 47/49 [LR 0.000036] - loss: 1.3023:  92%|█████████████▊ | 45/49 [03:10<00:03,  1.04it/s]"
     ]
    },
    {
     "name": "stderr",
     "output_type": "stream",
     "text": [
      "\r",
      "Epoch 11 training 47/49 [LR 0.000036] - loss: 1.3023:  96%|██████████████▍| 47/49 [03:10<00:01,  1.47it/s]"
     ]
    },
    {
     "name": "stderr",
     "output_type": "stream",
     "text": [
      "\r",
      "Epoch 11 training 48/49 [LR 0.000035] - loss: 1.3014:  96%|██████████████▍| 47/49 [03:10<00:01,  1.47it/s]"
     ]
    },
    {
     "name": "stderr",
     "output_type": "stream",
     "text": [
      "\r",
      "Epoch 11 training 49/49 [LR 0.000035] - loss: 1.3013:  96%|██████████████▍| 47/49 [04:05<00:01,  1.47it/s]"
     ]
    },
    {
     "name": "stderr",
     "output_type": "stream",
     "text": [
      "\r",
      "Epoch 11 training 49/49 [LR 0.000035] - loss: 1.3013: 100%|███████████████| 49/49 [04:05<00:00,  9.08s/it]"
     ]
    },
    {
     "name": "stderr",
     "output_type": "stream",
     "text": [
      "\r",
      "Epoch 11 training 49/49 [LR 0.000035] - loss: 1.3013: 100%|███████████████| 49/49 [04:05<00:00,  5.01s/it]"
     ]
    },
    {
     "name": "stdout",
     "output_type": "stream",
     "text": [
      "Epoch 11 train loss = 1.3013, auc = 1.0000\n"
     ]
    },
    {
     "name": "stderr",
     "output_type": "stream",
     "text": [
      "\n"
     ]
    },
    {
     "name": "stderr",
     "output_type": "stream",
     "text": [
      "\r",
      "  0%|                                                                              | 0/13 [00:00<?, ?it/s]"
     ]
    },
    {
     "name": "stderr",
     "output_type": "stream",
     "text": [
      "\r",
      "  8%|█████▍                                                                | 1/13 [01:01<12:23, 61.93s/it]"
     ]
    },
    {
     "name": "stderr",
     "output_type": "stream",
     "text": [
      "\r",
      " 23%|████████████████▏                                                     | 3/13 [01:02<02:41, 16.10s/it]"
     ]
    },
    {
     "name": "stderr",
     "output_type": "stream",
     "text": [
      "\r",
      " 38%|██████████████████████████▉                                           | 5/13 [01:02<01:03,  7.95s/it]"
     ]
    },
    {
     "name": "stderr",
     "output_type": "stream",
     "text": [
      "\r",
      " 54%|█████████████████████████████████████▋                                | 7/13 [01:02<00:27,  4.61s/it]"
     ]
    },
    {
     "name": "stderr",
     "output_type": "stream",
     "text": [
      "\r",
      " 69%|████████████████████████████████████████████████▍                     | 9/13 [01:02<00:11,  2.89s/it]"
     ]
    },
    {
     "name": "stderr",
     "output_type": "stream",
     "text": [
      "\r",
      " 85%|██████████████████████████████████████████████████████████▍          | 11/13 [01:02<00:03,  1.90s/it]"
     ]
    },
    {
     "name": "stderr",
     "output_type": "stream",
     "text": [
      "\r",
      "100%|█████████████████████████████████████████████████████████████████████| 13/13 [01:03<00:00,  4.85s/it]"
     ]
    },
    {
     "name": "stdout",
     "output_type": "stream",
     "text": [
      "Epoch 11 validation loss = 1.3414 auc = 1.0000\n"
     ]
    },
    {
     "name": "stderr",
     "output_type": "stream",
     "text": [
      "\n"
     ]
    },
    {
     "name": "stderr",
     "output_type": "stream",
     "text": [
      "\r",
      "  0%|                                                                              | 0/49 [00:00<?, ?it/s]"
     ]
    },
    {
     "name": "stderr",
     "output_type": "stream",
     "text": [
      "\r",
      "Epoch 12 training 1/49 [LR 0.000035] - loss: 1.3160:   0%|                         | 0/49 [01:02<?, ?it/s]"
     ]
    },
    {
     "name": "stderr",
     "output_type": "stream",
     "text": [
      "\r",
      "Epoch 12 training 1/49 [LR 0.000035] - loss: 1.3160:   2%|▎                | 1/49 [01:02<49:44, 62.18s/it]"
     ]
    },
    {
     "name": "stderr",
     "output_type": "stream",
     "text": [
      "\r",
      "Epoch 12 training 2/49 [LR 0.000035] - loss: 1.3056:   2%|▎                | 1/49 [01:02<49:44, 62.18s/it]"
     ]
    },
    {
     "name": "stderr",
     "output_type": "stream",
     "text": [
      "\r",
      "Epoch 12 training 2/49 [LR 0.000035] - loss: 1.3056:   4%|▋                | 2/49 [01:02<20:06, 25.67s/it]"
     ]
    },
    {
     "name": "stderr",
     "output_type": "stream",
     "text": [
      "\r",
      "Epoch 12 training 3/49 [LR 0.000035] - loss: 1.2900:   4%|▋                | 2/49 [01:02<20:06, 25.67s/it]"
     ]
    },
    {
     "name": "stderr",
     "output_type": "stream",
     "text": [
      "\r",
      "Epoch 12 training 3/49 [LR 0.000035] - loss: 1.2900:   6%|█                | 3/49 [01:02<10:43, 14.00s/it]"
     ]
    },
    {
     "name": "stderr",
     "output_type": "stream",
     "text": [
      "\r",
      "Epoch 12 training 4/49 [LR 0.000035] - loss: 1.2830:   6%|█                | 3/49 [01:04<10:43, 14.00s/it]"
     ]
    },
    {
     "name": "stderr",
     "output_type": "stream",
     "text": [
      "\r",
      "Epoch 12 training 4/49 [LR 0.000035] - loss: 1.2830:   8%|█▍               | 4/49 [01:04<06:53,  9.19s/it]"
     ]
    },
    {
     "name": "stderr",
     "output_type": "stream",
     "text": [
      "\r",
      "Epoch 12 training 5/49 [LR 0.000034] - loss: 1.2909:   8%|█▍               | 4/49 [01:04<06:53,  9.19s/it]"
     ]
    },
    {
     "name": "stderr",
     "output_type": "stream",
     "text": [
      "\r",
      "Epoch 12 training 5/49 [LR 0.000034] - loss: 1.2909:  10%|█▋               | 5/49 [01:04<04:20,  5.91s/it]"
     ]
    },
    {
     "name": "stderr",
     "output_type": "stream",
     "text": [
      "\r",
      "Epoch 12 training 6/49 [LR 0.000034] - loss: 1.3103:  10%|█▋               | 5/49 [01:04<04:20,  5.91s/it]"
     ]
    },
    {
     "name": "stderr",
     "output_type": "stream",
     "text": [
      "\r",
      "Epoch 12 training 6/49 [LR 0.000034] - loss: 1.3103:  12%|██               | 6/49 [01:04<02:49,  3.94s/it]"
     ]
    },
    {
     "name": "stderr",
     "output_type": "stream",
     "text": [
      "\r",
      "Epoch 12 training 7/49 [LR 0.000034] - loss: 1.3049:  12%|██               | 6/49 [01:04<02:49,  3.94s/it]"
     ]
    },
    {
     "name": "stderr",
     "output_type": "stream",
     "text": [
      "\r",
      "Epoch 12 training 7/49 [LR 0.000034] - loss: 1.3049:  14%|██▍              | 7/49 [01:04<01:52,  2.68s/it]"
     ]
    },
    {
     "name": "stderr",
     "output_type": "stream",
     "text": [
      "\r",
      "Epoch 12 training 8/49 [LR 0.000034] - loss: 1.3072:  14%|██▍              | 7/49 [01:04<01:52,  2.68s/it]"
     ]
    },
    {
     "name": "stderr",
     "output_type": "stream",
     "text": [
      "\r",
      "Epoch 12 training 9/49 [LR 0.000034] - loss: 1.3062:  14%|██▍              | 7/49 [01:04<01:52,  2.68s/it]"
     ]
    },
    {
     "name": "stderr",
     "output_type": "stream",
     "text": [
      "\r",
      "Epoch 12 training 9/49 [LR 0.000034] - loss: 1.3062:  18%|███              | 9/49 [01:04<00:57,  1.43s/it]"
     ]
    },
    {
     "name": "stderr",
     "output_type": "stream",
     "text": [
      "\r",
      "Epoch 12 training 10/49 [LR 0.000034] - loss: 1.3057:  18%|██▉             | 9/49 [01:04<00:57,  1.43s/it]"
     ]
    },
    {
     "name": "stderr",
     "output_type": "stream",
     "text": [
      "\r",
      "Epoch 12 training 11/49 [LR 0.000034] - loss: 1.3024:  18%|██▉             | 9/49 [01:04<00:57,  1.43s/it]"
     ]
    },
    {
     "name": "stderr",
     "output_type": "stream",
     "text": [
      "\r",
      "Epoch 12 training 11/49 [LR 0.000034] - loss: 1.3024:  22%|███▎           | 11/49 [01:04<00:33,  1.13it/s]"
     ]
    },
    {
     "name": "stderr",
     "output_type": "stream",
     "text": [
      "\r",
      "Epoch 12 training 12/49 [LR 0.000033] - loss: 1.3088:  22%|███▎           | 11/49 [01:04<00:33,  1.13it/s]"
     ]
    },
    {
     "name": "stderr",
     "output_type": "stream",
     "text": [
      "\r",
      "Epoch 12 training 13/49 [LR 0.000033] - loss: 1.3064:  22%|███▎           | 11/49 [01:05<00:33,  1.13it/s]"
     ]
    },
    {
     "name": "stderr",
     "output_type": "stream",
     "text": [
      "\r",
      "Epoch 12 training 13/49 [LR 0.000033] - loss: 1.3064:  27%|███▉           | 13/49 [01:05<00:21,  1.68it/s]"
     ]
    },
    {
     "name": "stderr",
     "output_type": "stream",
     "text": [
      "\r",
      "Epoch 12 training 14/49 [LR 0.000033] - loss: 1.3096:  27%|███▉           | 13/49 [01:05<00:21,  1.68it/s]"
     ]
    },
    {
     "name": "stderr",
     "output_type": "stream",
     "text": [
      "\r",
      "Epoch 12 training 14/49 [LR 0.000033] - loss: 1.3096:  29%|████▎          | 14/49 [01:05<00:17,  2.02it/s]"
     ]
    },
    {
     "name": "stderr",
     "output_type": "stream",
     "text": [
      "\r",
      "Epoch 12 training 15/49 [LR 0.000033] - loss: 1.3071:  29%|████▎          | 14/49 [01:05<00:17,  2.02it/s]"
     ]
    },
    {
     "name": "stderr",
     "output_type": "stream",
     "text": [
      "\r",
      "Epoch 12 training 15/49 [LR 0.000033] - loss: 1.3071:  31%|████▌          | 15/49 [01:05<00:13,  2.47it/s]"
     ]
    },
    {
     "name": "stderr",
     "output_type": "stream",
     "text": [
      "\r",
      "Epoch 12 training 16/49 [LR 0.000033] - loss: 1.3026:  31%|████▌          | 15/49 [01:05<00:13,  2.47it/s]"
     ]
    },
    {
     "name": "stderr",
     "output_type": "stream",
     "text": [
      "\r",
      "Epoch 12 training 16/49 [LR 0.000033] - loss: 1.3026:  33%|████▉          | 16/49 [01:05<00:10,  3.04it/s]"
     ]
    },
    {
     "name": "stderr",
     "output_type": "stream",
     "text": [
      "\r",
      "Epoch 12 training 17/49 [LR 0.000033] - loss: 1.3015:  33%|████▉          | 16/49 [02:04<00:10,  3.04it/s]"
     ]
    },
    {
     "name": "stderr",
     "output_type": "stream",
     "text": [
      "\r",
      "Epoch 12 training 17/49 [LR 0.000033] - loss: 1.3015:  35%|█████▏         | 17/49 [02:04<08:21, 15.68s/it]"
     ]
    },
    {
     "name": "stderr",
     "output_type": "stream",
     "text": [
      "\r",
      "Epoch 12 training 18/49 [LR 0.000033] - loss: 1.3076:  35%|█████▏         | 17/49 [02:05<08:21, 15.68s/it]"
     ]
    },
    {
     "name": "stderr",
     "output_type": "stream",
     "text": [
      "\r",
      "Epoch 12 training 18/49 [LR 0.000033] - loss: 1.3076:  37%|█████▌         | 18/49 [02:05<06:00, 11.63s/it]"
     ]
    },
    {
     "name": "stderr",
     "output_type": "stream",
     "text": [
      "\r",
      "Epoch 12 training 19/49 [LR 0.000032] - loss: 1.3034:  37%|█████▌         | 18/49 [02:05<06:00, 11.63s/it]"
     ]
    },
    {
     "name": "stderr",
     "output_type": "stream",
     "text": [
      "\r",
      "Epoch 12 training 20/49 [LR 0.000032] - loss: 1.3040:  37%|█████▌         | 18/49 [02:05<06:00, 11.63s/it]"
     ]
    },
    {
     "name": "stderr",
     "output_type": "stream",
     "text": [
      "\r",
      "Epoch 12 training 20/49 [LR 0.000032] - loss: 1.3040:  41%|██████         | 20/49 [02:05<03:11,  6.61s/it]"
     ]
    },
    {
     "name": "stderr",
     "output_type": "stream",
     "text": [
      "\r",
      "Epoch 12 training 21/49 [LR 0.000032] - loss: 1.3052:  41%|██████         | 20/49 [02:07<03:11,  6.61s/it]"
     ]
    },
    {
     "name": "stderr",
     "output_type": "stream",
     "text": [
      "\r",
      "Epoch 12 training 21/49 [LR 0.000032] - loss: 1.3052:  43%|██████▍        | 21/49 [02:07<02:32,  5.43s/it]"
     ]
    },
    {
     "name": "stderr",
     "output_type": "stream",
     "text": [
      "\r",
      "Epoch 12 training 22/49 [LR 0.000032] - loss: 1.3036:  43%|██████▍        | 21/49 [02:07<02:32,  5.43s/it]"
     ]
    },
    {
     "name": "stderr",
     "output_type": "stream",
     "text": [
      "\r",
      "Epoch 12 training 23/49 [LR 0.000032] - loss: 1.2993:  43%|██████▍        | 21/49 [02:07<02:32,  5.43s/it]"
     ]
    },
    {
     "name": "stderr",
     "output_type": "stream",
     "text": [
      "\r",
      "Epoch 12 training 23/49 [LR 0.000032] - loss: 1.2993:  47%|███████        | 23/49 [02:07<01:25,  3.28s/it]"
     ]
    },
    {
     "name": "stderr",
     "output_type": "stream",
     "text": [
      "\r",
      "Epoch 12 training 24/49 [LR 0.000032] - loss: 1.2981:  47%|███████        | 23/49 [02:07<01:25,  3.28s/it]"
     ]
    },
    {
     "name": "stderr",
     "output_type": "stream",
     "text": [
      "\r",
      "Epoch 12 training 24/49 [LR 0.000032] - loss: 1.2981:  49%|███████▎       | 24/49 [02:07<01:04,  2.57s/it]"
     ]
    },
    {
     "name": "stderr",
     "output_type": "stream",
     "text": [
      "\r",
      "Epoch 12 training 25/49 [LR 0.000031] - loss: 1.2937:  49%|███████▎       | 24/49 [02:07<01:04,  2.57s/it]"
     ]
    },
    {
     "name": "stderr",
     "output_type": "stream",
     "text": [
      "\r",
      "Epoch 12 training 26/49 [LR 0.000031] - loss: 1.2977:  49%|███████▎       | 24/49 [02:07<01:04,  2.57s/it]"
     ]
    },
    {
     "name": "stderr",
     "output_type": "stream",
     "text": [
      "\r",
      "Epoch 12 training 26/49 [LR 0.000031] - loss: 1.2977:  53%|███████▉       | 26/49 [02:07<00:36,  1.60s/it]"
     ]
    },
    {
     "name": "stderr",
     "output_type": "stream",
     "text": [
      "\r",
      "Epoch 12 training 27/49 [LR 0.000031] - loss: 1.2990:  53%|███████▉       | 26/49 [02:07<00:36,  1.60s/it]"
     ]
    },
    {
     "name": "stderr",
     "output_type": "stream",
     "text": [
      "\r",
      "Epoch 12 training 28/49 [LR 0.000031] - loss: 1.2967:  53%|███████▉       | 26/49 [02:08<00:36,  1.60s/it]"
     ]
    },
    {
     "name": "stderr",
     "output_type": "stream",
     "text": [
      "\r",
      "Epoch 12 training 28/49 [LR 0.000031] - loss: 1.2967:  57%|████████▌      | 28/49 [02:08<00:22,  1.07s/it]"
     ]
    },
    {
     "name": "stderr",
     "output_type": "stream",
     "text": [
      "\r",
      "Epoch 12 training 29/49 [LR 0.000031] - loss: 1.2970:  57%|████████▌      | 28/49 [02:08<00:22,  1.07s/it]"
     ]
    },
    {
     "name": "stderr",
     "output_type": "stream",
     "text": [
      "\r",
      "Epoch 12 training 29/49 [LR 0.000031] - loss: 1.2970:  59%|████████▉      | 29/49 [02:08<00:17,  1.15it/s]"
     ]
    },
    {
     "name": "stderr",
     "output_type": "stream",
     "text": [
      "\r",
      "Epoch 12 training 30/49 [LR 0.000031] - loss: 1.3013:  59%|████████▉      | 29/49 [02:08<00:17,  1.15it/s]"
     ]
    },
    {
     "name": "stderr",
     "output_type": "stream",
     "text": [
      "\r",
      "Epoch 12 training 31/49 [LR 0.000031] - loss: 1.3027:  59%|████████▉      | 29/49 [02:08<00:17,  1.15it/s]"
     ]
    },
    {
     "name": "stderr",
     "output_type": "stream",
     "text": [
      "\r",
      "Epoch 12 training 31/49 [LR 0.000031] - loss: 1.3027:  63%|█████████▍     | 31/49 [02:08<00:10,  1.72it/s]"
     ]
    },
    {
     "name": "stderr",
     "output_type": "stream",
     "text": [
      "\r",
      "Epoch 12 training 32/49 [LR 0.000030] - loss: 1.3017:  63%|█████████▍     | 31/49 [02:08<00:10,  1.72it/s]"
     ]
    },
    {
     "name": "stderr",
     "output_type": "stream",
     "text": [
      "\r",
      "Epoch 12 training 33/49 [LR 0.000030] - loss: 1.3020:  63%|█████████▍     | 31/49 [03:07<00:10,  1.72it/s]"
     ]
    },
    {
     "name": "stderr",
     "output_type": "stream",
     "text": [
      "\r",
      "Epoch 12 training 33/49 [LR 0.000030] - loss: 1.3020:  67%|██████████     | 33/49 [03:07<02:48, 10.52s/it]"
     ]
    },
    {
     "name": "stderr",
     "output_type": "stream",
     "text": [
      "\r",
      "Epoch 12 training 34/49 [LR 0.000030] - loss: 1.3030:  67%|██████████     | 33/49 [03:07<02:48, 10.52s/it]"
     ]
    },
    {
     "name": "stderr",
     "output_type": "stream",
     "text": [
      "\r",
      "Epoch 12 training 34/49 [LR 0.000030] - loss: 1.3030:  69%|██████████▍    | 34/49 [03:07<02:08,  8.58s/it]"
     ]
    },
    {
     "name": "stderr",
     "output_type": "stream",
     "text": [
      "\r",
      "Epoch 12 training 35/49 [LR 0.000030] - loss: 1.3013:  69%|██████████▍    | 34/49 [03:07<02:08,  8.58s/it]"
     ]
    },
    {
     "name": "stderr",
     "output_type": "stream",
     "text": [
      "\r",
      "Epoch 12 training 36/49 [LR 0.000030] - loss: 1.3003:  69%|██████████▍    | 34/49 [03:08<02:08,  8.58s/it]"
     ]
    },
    {
     "name": "stderr",
     "output_type": "stream",
     "text": [
      "\r",
      "Epoch 12 training 36/49 [LR 0.000030] - loss: 1.3003:  73%|███████████    | 36/49 [03:08<01:13,  5.66s/it]"
     ]
    },
    {
     "name": "stderr",
     "output_type": "stream",
     "text": [
      "\r",
      "Epoch 12 training 37/49 [LR 0.000030] - loss: 1.3023:  73%|███████████    | 36/49 [03:08<01:13,  5.66s/it]"
     ]
    },
    {
     "name": "stderr",
     "output_type": "stream",
     "text": [
      "\r",
      "Epoch 12 training 38/49 [LR 0.000030] - loss: 1.3000:  73%|███████████    | 36/49 [03:09<01:13,  5.66s/it]"
     ]
    },
    {
     "name": "stderr",
     "output_type": "stream",
     "text": [
      "\r",
      "Epoch 12 training 38/49 [LR 0.000030] - loss: 1.3000:  78%|███████████▋   | 38/49 [03:09<00:41,  3.77s/it]"
     ]
    },
    {
     "name": "stderr",
     "output_type": "stream",
     "text": [
      "\r",
      "Epoch 12 training 39/49 [LR 0.000029] - loss: 1.2988:  78%|███████████▋   | 38/49 [03:09<00:41,  3.77s/it]"
     ]
    },
    {
     "name": "stderr",
     "output_type": "stream",
     "text": [
      "\r",
      "Epoch 12 training 39/49 [LR 0.000029] - loss: 1.2988:  80%|███████████▉   | 39/49 [03:09<00:31,  3.13s/it]"
     ]
    },
    {
     "name": "stderr",
     "output_type": "stream",
     "text": [
      "\r",
      "Epoch 12 training 40/49 [LR 0.000029] - loss: 1.2981:  80%|███████████▉   | 39/49 [03:09<00:31,  3.13s/it]"
     ]
    },
    {
     "name": "stderr",
     "output_type": "stream",
     "text": [
      "\r",
      "Epoch 12 training 41/49 [LR 0.000029] - loss: 1.2981:  80%|███████████▉   | 39/49 [03:09<00:31,  3.13s/it]"
     ]
    },
    {
     "name": "stderr",
     "output_type": "stream",
     "text": [
      "\r",
      "Epoch 12 training 41/49 [LR 0.000029] - loss: 1.2981:  84%|████████████▌  | 41/49 [03:09<00:16,  2.04s/it]"
     ]
    },
    {
     "name": "stderr",
     "output_type": "stream",
     "text": [
      "\r",
      "Epoch 12 training 42/49 [LR 0.000029] - loss: 1.2987:  84%|████████████▌  | 41/49 [03:09<00:16,  2.04s/it]"
     ]
    },
    {
     "name": "stderr",
     "output_type": "stream",
     "text": [
      "\r",
      "Epoch 12 training 43/49 [LR 0.000029] - loss: 1.2978:  84%|████████████▌  | 41/49 [03:09<00:16,  2.04s/it]"
     ]
    },
    {
     "name": "stderr",
     "output_type": "stream",
     "text": [
      "\r",
      "Epoch 12 training 43/49 [LR 0.000029] - loss: 1.2978:  88%|█████████████▏ | 43/49 [03:09<00:08,  1.38s/it]"
     ]
    },
    {
     "name": "stderr",
     "output_type": "stream",
     "text": [
      "\r",
      "Epoch 12 training 44/49 [LR 0.000029] - loss: 1.2957:  88%|█████████████▏ | 43/49 [03:09<00:08,  1.38s/it]"
     ]
    },
    {
     "name": "stderr",
     "output_type": "stream",
     "text": [
      "\r",
      "Epoch 12 training 45/49 [LR 0.000029] - loss: 1.2963:  88%|█████████████▏ | 43/49 [03:10<00:08,  1.38s/it]"
     ]
    },
    {
     "name": "stderr",
     "output_type": "stream",
     "text": [
      "\r",
      "Epoch 12 training 45/49 [LR 0.000029] - loss: 1.2963:  92%|█████████████▊ | 45/49 [03:10<00:03,  1.05it/s]"
     ]
    },
    {
     "name": "stderr",
     "output_type": "stream",
     "text": [
      "\r",
      "Epoch 12 training 46/49 [LR 0.000028] - loss: 1.2971:  92%|█████████████▊ | 45/49 [03:10<00:03,  1.05it/s]"
     ]
    },
    {
     "name": "stderr",
     "output_type": "stream",
     "text": [
      "\r",
      "Epoch 12 training 47/49 [LR 0.000028] - loss: 1.2966:  92%|█████████████▊ | 45/49 [03:10<00:03,  1.05it/s]"
     ]
    },
    {
     "name": "stderr",
     "output_type": "stream",
     "text": [
      "\r",
      "Epoch 12 training 47/49 [LR 0.000028] - loss: 1.2966:  96%|██████████████▍| 47/49 [03:10<00:01,  1.47it/s]"
     ]
    },
    {
     "name": "stderr",
     "output_type": "stream",
     "text": [
      "\r",
      "Epoch 12 training 48/49 [LR 0.000028] - loss: 1.2959:  96%|██████████████▍| 47/49 [03:10<00:01,  1.47it/s]"
     ]
    },
    {
     "name": "stderr",
     "output_type": "stream",
     "text": [
      "\r",
      "Epoch 12 training 48/49 [LR 0.000028] - loss: 1.2959:  96%|██████████████▍| 47/49 [03:28<00:01,  1.47it/s]"
     ]
    },
    {
     "name": "stderr",
     "output_type": "stream",
     "text": [
      "\r",
      "Epoch 12 training 49/49 [LR 0.000028] - loss: 1.2959:  96%|██████████████▍| 47/49 [03:58<00:01,  1.47it/s]"
     ]
    },
    {
     "name": "stderr",
     "output_type": "stream",
     "text": [
      "\r",
      "Epoch 12 training 49/49 [LR 0.000028] - loss: 1.2959: 100%|███████████████| 49/49 [03:58<00:00,  7.96s/it]"
     ]
    },
    {
     "name": "stderr",
     "output_type": "stream",
     "text": [
      "\r",
      "Epoch 12 training 49/49 [LR 0.000028] - loss: 1.2959: 100%|███████████████| 49/49 [03:58<00:00,  4.86s/it]"
     ]
    },
    {
     "name": "stdout",
     "output_type": "stream",
     "text": [
      "Epoch 12 train loss = 1.2959, auc = 1.0000\n"
     ]
    },
    {
     "name": "stderr",
     "output_type": "stream",
     "text": [
      "\n"
     ]
    },
    {
     "name": "stderr",
     "output_type": "stream",
     "text": [
      "\r",
      "  0%|                                                                              | 0/13 [00:00<?, ?it/s]"
     ]
    },
    {
     "name": "stderr",
     "output_type": "stream",
     "text": [
      "\r",
      "  8%|█████▍                                                                | 1/13 [01:00<12:02, 60.17s/it]"
     ]
    },
    {
     "name": "stderr",
     "output_type": "stream",
     "text": [
      "\r",
      " 23%|████████████████▏                                                     | 3/13 [01:00<02:36, 15.64s/it]"
     ]
    },
    {
     "name": "stderr",
     "output_type": "stream",
     "text": [
      "\r",
      " 38%|██████████████████████████▉                                           | 5/13 [01:00<01:02,  7.77s/it]"
     ]
    },
    {
     "name": "stderr",
     "output_type": "stream",
     "text": [
      "\r",
      " 54%|█████████████████████████████████████▋                                | 7/13 [01:01<00:27,  4.50s/it]"
     ]
    },
    {
     "name": "stderr",
     "output_type": "stream",
     "text": [
      "\r",
      " 69%|████████████████████████████████████████████████▍                     | 9/13 [01:01<00:11,  2.83s/it]"
     ]
    },
    {
     "name": "stderr",
     "output_type": "stream",
     "text": [
      "\r",
      " 85%|██████████████████████████████████████████████████████████▍          | 11/13 [01:01<00:03,  1.86s/it]"
     ]
    },
    {
     "name": "stderr",
     "output_type": "stream",
     "text": [
      "\r",
      "100%|█████████████████████████████████████████████████████████████████████| 13/13 [01:01<00:00,  4.73s/it]"
     ]
    },
    {
     "name": "stdout",
     "output_type": "stream",
     "text": [
      "Epoch 12 validation loss = 1.3517 auc = 1.0000\n"
     ]
    },
    {
     "name": "stderr",
     "output_type": "stream",
     "text": [
      "\n"
     ]
    },
    {
     "name": "stderr",
     "output_type": "stream",
     "text": [
      "\r",
      "  0%|                                                                              | 0/49 [00:00<?, ?it/s]"
     ]
    },
    {
     "name": "stderr",
     "output_type": "stream",
     "text": [
      "\r",
      "Epoch 13 training 1/49 [LR 0.000028] - loss: 1.2712:   0%|                         | 0/49 [01:01<?, ?it/s]"
     ]
    },
    {
     "name": "stderr",
     "output_type": "stream",
     "text": [
      "\r",
      "Epoch 13 training 1/49 [LR 0.000028] - loss: 1.2712:   2%|▎                | 1/49 [01:01<49:01, 61.28s/it]"
     ]
    },
    {
     "name": "stderr",
     "output_type": "stream",
     "text": [
      "\r",
      "Epoch 13 training 2/49 [LR 0.000028] - loss: 1.2707:   2%|▎                | 1/49 [01:02<49:01, 61.28s/it]"
     ]
    },
    {
     "name": "stderr",
     "output_type": "stream",
     "text": [
      "\r",
      "Epoch 13 training 2/49 [LR 0.000028] - loss: 1.2707:   4%|▋                | 2/49 [01:02<20:18, 25.92s/it]"
     ]
    },
    {
     "name": "stderr",
     "output_type": "stream",
     "text": [
      "\r",
      "Epoch 13 training 3/49 [LR 0.000028] - loss: 1.2949:   4%|▋                | 2/49 [01:02<20:18, 25.92s/it]"
     ]
    },
    {
     "name": "stderr",
     "output_type": "stream",
     "text": [
      "\r",
      "Epoch 13 training 3/49 [LR 0.000028] - loss: 1.2949:   6%|█                | 3/49 [01:02<10:50, 14.13s/it]"
     ]
    },
    {
     "name": "stderr",
     "output_type": "stream",
     "text": [
      "\r",
      "Epoch 13 training 4/49 [LR 0.000027] - loss: 1.2815:   6%|█                | 3/49 [01:02<10:50, 14.13s/it]"
     ]
    },
    {
     "name": "stderr",
     "output_type": "stream",
     "text": [
      "\r",
      "Epoch 13 training 5/49 [LR 0.000027] - loss: 1.2923:   6%|█                | 3/49 [01:02<10:50, 14.13s/it]"
     ]
    },
    {
     "name": "stderr",
     "output_type": "stream",
     "text": [
      "\r",
      "Epoch 13 training 5/49 [LR 0.000027] - loss: 1.2923:  10%|█▋               | 5/49 [01:02<04:32,  6.19s/it]"
     ]
    },
    {
     "name": "stderr",
     "output_type": "stream",
     "text": [
      "\r",
      "Epoch 13 training 6/49 [LR 0.000027] - loss: 1.2968:  10%|█▋               | 5/49 [01:02<04:32,  6.19s/it]"
     ]
    },
    {
     "name": "stderr",
     "output_type": "stream",
     "text": [
      "\r",
      "Epoch 13 training 6/49 [LR 0.000027] - loss: 1.2968:  12%|██               | 6/49 [01:02<03:10,  4.44s/it]"
     ]
    },
    {
     "name": "stderr",
     "output_type": "stream",
     "text": [
      "\r",
      "Epoch 13 training 7/49 [LR 0.000027] - loss: 1.2949:  12%|██               | 6/49 [01:02<03:10,  4.44s/it]"
     ]
    },
    {
     "name": "stderr",
     "output_type": "stream",
     "text": [
      "\r",
      "Epoch 13 training 7/49 [LR 0.000027] - loss: 1.2949:  14%|██▍              | 7/49 [01:02<02:13,  3.17s/it]"
     ]
    },
    {
     "name": "stderr",
     "output_type": "stream",
     "text": [
      "\r",
      "Epoch 13 training 8/49 [LR 0.000027] - loss: 1.2890:  14%|██▍              | 7/49 [01:03<02:13,  3.17s/it]"
     ]
    },
    {
     "name": "stderr",
     "output_type": "stream",
     "text": [
      "\r",
      "Epoch 13 training 9/49 [LR 0.000027] - loss: 1.2907:  14%|██▍              | 7/49 [01:03<02:13,  3.17s/it]"
     ]
    },
    {
     "name": "stderr",
     "output_type": "stream",
     "text": [
      "\r",
      "Epoch 13 training 9/49 [LR 0.000027] - loss: 1.2907:  18%|███              | 9/49 [01:03<01:11,  1.78s/it]"
     ]
    },
    {
     "name": "stderr",
     "output_type": "stream",
     "text": [
      "\r",
      "Epoch 13 training 10/49 [LR 0.000027] - loss: 1.2818:  18%|██▉             | 9/49 [01:03<01:11,  1.78s/it]"
     ]
    },
    {
     "name": "stderr",
     "output_type": "stream",
     "text": [
      "\r",
      "Epoch 13 training 10/49 [LR 0.000027] - loss: 1.2818:  20%|███            | 10/49 [01:03<00:53,  1.37s/it]"
     ]
    },
    {
     "name": "stderr",
     "output_type": "stream",
     "text": [
      "\r",
      "Epoch 13 training 11/49 [LR 0.000026] - loss: 1.2872:  20%|███            | 10/49 [01:03<00:53,  1.37s/it]"
     ]
    },
    {
     "name": "stderr",
     "output_type": "stream",
     "text": [
      "\r",
      "Epoch 13 training 11/49 [LR 0.000026] - loss: 1.2872:  22%|███▎           | 11/49 [01:03<00:39,  1.04s/it]"
     ]
    },
    {
     "name": "stderr",
     "output_type": "stream",
     "text": [
      "\r",
      "Epoch 13 training 12/49 [LR 0.000026] - loss: 1.2846:  22%|███▎           | 11/49 [01:03<00:39,  1.04s/it]"
     ]
    },
    {
     "name": "stderr",
     "output_type": "stream",
     "text": [
      "\r",
      "Epoch 13 training 13/49 [LR 0.000026] - loss: 1.2841:  22%|███▎           | 11/49 [01:03<00:39,  1.04s/it]"
     ]
    },
    {
     "name": "stderr",
     "output_type": "stream",
     "text": [
      "\r",
      "Epoch 13 training 13/49 [LR 0.000026] - loss: 1.2841:  27%|███▉           | 13/49 [01:03<00:22,  1.58it/s]"
     ]
    },
    {
     "name": "stderr",
     "output_type": "stream",
     "text": [
      "\r",
      "Epoch 13 training 14/49 [LR 0.000026] - loss: 1.2820:  27%|███▉           | 13/49 [01:03<00:22,  1.58it/s]"
     ]
    },
    {
     "name": "stderr",
     "output_type": "stream",
     "text": [
      "\r",
      "Epoch 13 training 15/49 [LR 0.000026] - loss: 1.2840:  27%|███▉           | 13/49 [01:03<00:22,  1.58it/s]"
     ]
    },
    {
     "name": "stderr",
     "output_type": "stream",
     "text": [
      "\r",
      "Epoch 13 training 15/49 [LR 0.000026] - loss: 1.2840:  31%|████▌          | 15/49 [01:03<00:14,  2.33it/s]"
     ]
    },
    {
     "name": "stderr",
     "output_type": "stream",
     "text": [
      "\r",
      "Epoch 13 training 16/49 [LR 0.000026] - loss: 1.2827:  31%|████▌          | 15/49 [01:03<00:14,  2.33it/s]"
     ]
    },
    {
     "name": "stderr",
     "output_type": "stream",
     "text": [
      "\r",
      "Epoch 13 training 16/49 [LR 0.000026] - loss: 1.2827:  31%|████▌          | 15/49 [01:17<00:14,  2.33it/s]"
     ]
    },
    {
     "name": "stderr",
     "output_type": "stream",
     "text": [
      "\r",
      "Epoch 13 training 17/49 [LR 0.000026] - loss: 1.2822:  31%|████▌          | 15/49 [02:03<00:14,  2.33it/s]"
     ]
    },
    {
     "name": "stderr",
     "output_type": "stream",
     "text": [
      "\r",
      "Epoch 13 training 17/49 [LR 0.000026] - loss: 1.2822:  35%|█████▏         | 17/49 [02:03<05:47, 10.84s/it]"
     ]
    },
    {
     "name": "stderr",
     "output_type": "stream",
     "text": [
      "\r",
      "Epoch 13 training 18/49 [LR 0.000026] - loss: 1.2817:  35%|█████▏         | 17/49 [02:05<05:47, 10.84s/it]"
     ]
    },
    {
     "name": "stderr",
     "output_type": "stream",
     "text": [
      "\r",
      "Epoch 13 training 18/49 [LR 0.000026] - loss: 1.2817:  37%|█████▌         | 18/49 [02:05<04:40,  9.06s/it]"
     ]
    },
    {
     "name": "stderr",
     "output_type": "stream",
     "text": [
      "\r",
      "Epoch 13 training 19/49 [LR 0.000025] - loss: 1.2860:  37%|█████▌         | 18/49 [02:05<04:40,  9.06s/it]"
     ]
    },
    {
     "name": "stderr",
     "output_type": "stream",
     "text": [
      "\r",
      "Epoch 13 training 19/49 [LR 0.000025] - loss: 1.2860:  39%|█████▊         | 19/49 [02:06<03:31,  7.07s/it]"
     ]
    },
    {
     "name": "stderr",
     "output_type": "stream",
     "text": [
      "\r",
      "Epoch 13 training 20/49 [LR 0.000025] - loss: 1.2875:  39%|█████▊         | 19/49 [02:06<03:31,  7.07s/it]"
     ]
    },
    {
     "name": "stderr",
     "output_type": "stream",
     "text": [
      "\r",
      "Epoch 13 training 20/49 [LR 0.000025] - loss: 1.2875:  41%|██████         | 20/49 [02:06<02:36,  5.39s/it]"
     ]
    },
    {
     "name": "stderr",
     "output_type": "stream",
     "text": [
      "\r",
      "Epoch 13 training 21/49 [LR 0.000025] - loss: 1.2852:  41%|██████         | 20/49 [02:06<02:36,  5.39s/it]"
     ]
    },
    {
     "name": "stderr",
     "output_type": "stream",
     "text": [
      "\r",
      "Epoch 13 training 21/49 [LR 0.000025] - loss: 1.2852:  43%|██████▍        | 21/49 [02:06<01:52,  4.04s/it]"
     ]
    },
    {
     "name": "stderr",
     "output_type": "stream",
     "text": [
      "\r",
      "Epoch 13 training 22/49 [LR 0.000025] - loss: 1.2858:  43%|██████▍        | 21/49 [02:06<01:52,  4.04s/it]"
     ]
    },
    {
     "name": "stderr",
     "output_type": "stream",
     "text": [
      "\r",
      "Epoch 13 training 22/49 [LR 0.000025] - loss: 1.2858:  45%|██████▋        | 22/49 [02:06<01:20,  2.98s/it]"
     ]
    },
    {
     "name": "stderr",
     "output_type": "stream",
     "text": [
      "\r",
      "Epoch 13 training 23/49 [LR 0.000025] - loss: 1.2859:  45%|██████▋        | 22/49 [02:06<01:20,  2.98s/it]"
     ]
    },
    {
     "name": "stderr",
     "output_type": "stream",
     "text": [
      "\r",
      "Epoch 13 training 23/49 [LR 0.000025] - loss: 1.2859:  47%|███████        | 23/49 [02:06<00:56,  2.18s/it]"
     ]
    },
    {
     "name": "stderr",
     "output_type": "stream",
     "text": [
      "\r",
      "Epoch 13 training 24/49 [LR 0.000025] - loss: 1.2874:  47%|███████        | 23/49 [02:06<00:56,  2.18s/it]"
     ]
    },
    {
     "name": "stderr",
     "output_type": "stream",
     "text": [
      "\r",
      "Epoch 13 training 25/49 [LR 0.000025] - loss: 1.2880:  47%|███████        | 23/49 [02:06<00:56,  2.18s/it]"
     ]
    },
    {
     "name": "stderr",
     "output_type": "stream",
     "text": [
      "\r",
      "Epoch 13 training 25/49 [LR 0.000025] - loss: 1.2880:  51%|███████▋       | 25/49 [02:06<00:30,  1.26s/it]"
     ]
    },
    {
     "name": "stderr",
     "output_type": "stream",
     "text": [
      "\r",
      "Epoch 13 training 26/49 [LR 0.000024] - loss: 1.2890:  51%|███████▋       | 25/49 [02:06<00:30,  1.26s/it]"
     ]
    },
    {
     "name": "stderr",
     "output_type": "stream",
     "text": [
      "\r",
      "Epoch 13 training 27/49 [LR 0.000024] - loss: 1.2916:  51%|███████▋       | 25/49 [02:06<00:30,  1.26s/it]"
     ]
    },
    {
     "name": "stderr",
     "output_type": "stream",
     "text": [
      "\r",
      "Epoch 13 training 27/49 [LR 0.000024] - loss: 1.2916:  55%|████████▎      | 27/49 [02:06<00:17,  1.24it/s]"
     ]
    },
    {
     "name": "stderr",
     "output_type": "stream",
     "text": [
      "\r",
      "Epoch 13 training 28/49 [LR 0.000024] - loss: 1.2883:  55%|████████▎      | 27/49 [02:06<00:17,  1.24it/s]"
     ]
    },
    {
     "name": "stderr",
     "output_type": "stream",
     "text": [
      "\r",
      "Epoch 13 training 29/49 [LR 0.000024] - loss: 1.2959:  55%|████████▎      | 27/49 [02:06<00:17,  1.24it/s]"
     ]
    },
    {
     "name": "stderr",
     "output_type": "stream",
     "text": [
      "\r",
      "Epoch 13 training 29/49 [LR 0.000024] - loss: 1.2959:  59%|████████▉      | 29/49 [02:06<00:11,  1.81it/s]"
     ]
    },
    {
     "name": "stderr",
     "output_type": "stream",
     "text": [
      "\r",
      "Epoch 13 training 30/49 [LR 0.000024] - loss: 1.2953:  59%|████████▉      | 29/49 [02:07<00:11,  1.81it/s]"
     ]
    },
    {
     "name": "stderr",
     "output_type": "stream",
     "text": [
      "\r",
      "Epoch 13 training 31/49 [LR 0.000024] - loss: 1.2935:  59%|████████▉      | 29/49 [02:07<00:11,  1.81it/s]"
     ]
    },
    {
     "name": "stderr",
     "output_type": "stream",
     "text": [
      "\r",
      "Epoch 13 training 31/49 [LR 0.000024] - loss: 1.2935:  63%|█████████▍     | 31/49 [02:07<00:07,  2.51it/s]"
     ]
    },
    {
     "name": "stderr",
     "output_type": "stream",
     "text": [
      "\r",
      "Epoch 13 training 32/49 [LR 0.000024] - loss: 1.2949:  63%|█████████▍     | 31/49 [02:07<00:07,  2.51it/s]"
     ]
    },
    {
     "name": "stderr",
     "output_type": "stream",
     "text": [
      "\r",
      "Epoch 13 training 32/49 [LR 0.000024] - loss: 1.2949:  63%|█████████▍     | 31/49 [02:17<00:07,  2.51it/s]"
     ]
    },
    {
     "name": "stderr",
     "output_type": "stream",
     "text": [
      "\r",
      "Epoch 13 training 33/49 [LR 0.000023] - loss: 1.2919:  63%|█████████▍     | 31/49 [03:05<00:07,  2.51it/s]"
     ]
    },
    {
     "name": "stderr",
     "output_type": "stream",
     "text": [
      "\r",
      "Epoch 13 training 33/49 [LR 0.000023] - loss: 1.2919:  67%|██████████     | 33/49 [03:05<02:37,  9.82s/it]"
     ]
    },
    {
     "name": "stderr",
     "output_type": "stream",
     "text": [
      "\r",
      "Epoch 13 training 34/49 [LR 0.000023] - loss: 1.2890:  67%|██████████     | 33/49 [03:07<02:37,  9.82s/it]"
     ]
    },
    {
     "name": "stderr",
     "output_type": "stream",
     "text": [
      "\r",
      "Epoch 13 training 34/49 [LR 0.000023] - loss: 1.2890:  69%|██████████▍    | 34/49 [03:07<02:03,  8.25s/it]"
     ]
    },
    {
     "name": "stderr",
     "output_type": "stream",
     "text": [
      "\r",
      "Epoch 13 training 35/49 [LR 0.000023] - loss: 1.2869:  69%|██████████▍    | 34/49 [03:07<02:03,  8.25s/it]"
     ]
    },
    {
     "name": "stderr",
     "output_type": "stream",
     "text": [
      "\r",
      "Epoch 13 training 36/49 [LR 0.000023] - loss: 1.2852:  69%|██████████▍    | 34/49 [03:07<02:03,  8.25s/it]"
     ]
    },
    {
     "name": "stderr",
     "output_type": "stream",
     "text": [
      "\r",
      "Epoch 13 training 36/49 [LR 0.000023] - loss: 1.2852:  73%|███████████    | 36/49 [03:07<01:10,  5.39s/it]"
     ]
    },
    {
     "name": "stderr",
     "output_type": "stream",
     "text": [
      "\r",
      "Epoch 13 training 37/49 [LR 0.000023] - loss: 1.2845:  73%|███████████    | 36/49 [03:07<01:10,  5.39s/it]"
     ]
    },
    {
     "name": "stderr",
     "output_type": "stream",
     "text": [
      "\r",
      "Epoch 13 training 38/49 [LR 0.000023] - loss: 1.2862:  73%|███████████    | 36/49 [03:07<01:10,  5.39s/it]"
     ]
    },
    {
     "name": "stderr",
     "output_type": "stream",
     "text": [
      "\r",
      "Epoch 13 training 38/49 [LR 0.000023] - loss: 1.2862:  78%|███████████▋   | 38/49 [03:07<00:39,  3.63s/it]"
     ]
    },
    {
     "name": "stderr",
     "output_type": "stream",
     "text": [
      "\r",
      "Epoch 13 training 39/49 [LR 0.000023] - loss: 1.2867:  78%|███████████▋   | 38/49 [03:07<00:39,  3.63s/it]"
     ]
    },
    {
     "name": "stderr",
     "output_type": "stream",
     "text": [
      "\r",
      "Epoch 13 training 40/49 [LR 0.000023] - loss: 1.2857:  78%|███████████▋   | 38/49 [03:07<00:39,  3.63s/it]"
     ]
    },
    {
     "name": "stderr",
     "output_type": "stream",
     "text": [
      "\r",
      "Epoch 13 training 40/49 [LR 0.000023] - loss: 1.2857:  82%|████████████▏  | 40/49 [03:07<00:22,  2.48s/it]"
     ]
    },
    {
     "name": "stderr",
     "output_type": "stream",
     "text": [
      "\r",
      "Epoch 13 training 41/49 [LR 0.000022] - loss: 1.2871:  82%|████████████▏  | 40/49 [03:08<00:22,  2.48s/it]"
     ]
    },
    {
     "name": "stderr",
     "output_type": "stream",
     "text": [
      "\r",
      "Epoch 13 training 42/49 [LR 0.000022] - loss: 1.2851:  82%|████████████▏  | 40/49 [03:08<00:22,  2.48s/it]"
     ]
    },
    {
     "name": "stderr",
     "output_type": "stream",
     "text": [
      "\r",
      "Epoch 13 training 42/49 [LR 0.000022] - loss: 1.2851:  86%|████████████▊  | 42/49 [03:08<00:12,  1.73s/it]"
     ]
    },
    {
     "name": "stderr",
     "output_type": "stream",
     "text": [
      "\r",
      "Epoch 13 training 43/49 [LR 0.000022] - loss: 1.2873:  86%|████████████▊  | 42/49 [03:08<00:12,  1.73s/it]"
     ]
    },
    {
     "name": "stderr",
     "output_type": "stream",
     "text": [
      "\r",
      "Epoch 13 training 44/49 [LR 0.000022] - loss: 1.2861:  86%|████████████▊  | 42/49 [03:08<00:12,  1.73s/it]"
     ]
    },
    {
     "name": "stderr",
     "output_type": "stream",
     "text": [
      "\r",
      "Epoch 13 training 44/49 [LR 0.000022] - loss: 1.2861:  90%|█████████████▍ | 44/49 [03:08<00:06,  1.22s/it]"
     ]
    },
    {
     "name": "stderr",
     "output_type": "stream",
     "text": [
      "\r",
      "Epoch 13 training 45/49 [LR 0.000022] - loss: 1.2847:  90%|█████████████▍ | 44/49 [03:08<00:06,  1.22s/it]"
     ]
    },
    {
     "name": "stderr",
     "output_type": "stream",
     "text": [
      "\r",
      "Epoch 13 training 46/49 [LR 0.000022] - loss: 1.2848:  90%|█████████████▍ | 44/49 [03:08<00:06,  1.22s/it]"
     ]
    },
    {
     "name": "stderr",
     "output_type": "stream",
     "text": [
      "\r",
      "Epoch 13 training 46/49 [LR 0.000022] - loss: 1.2848:  94%|██████████████ | 46/49 [03:08<00:02,  1.15it/s]"
     ]
    },
    {
     "name": "stderr",
     "output_type": "stream",
     "text": [
      "\r",
      "Epoch 13 training 47/49 [LR 0.000022] - loss: 1.2847:  94%|██████████████ | 46/49 [03:08<00:02,  1.15it/s]"
     ]
    },
    {
     "name": "stderr",
     "output_type": "stream",
     "text": [
      "\r",
      "Epoch 13 training 48/49 [LR 0.000022] - loss: 1.2859:  94%|██████████████ | 46/49 [03:08<00:02,  1.15it/s]"
     ]
    },
    {
     "name": "stderr",
     "output_type": "stream",
     "text": [
      "\r",
      "Epoch 13 training 48/49 [LR 0.000022] - loss: 1.2859:  98%|██████████████▋| 48/49 [03:08<00:00,  1.58it/s]"
     ]
    },
    {
     "name": "stderr",
     "output_type": "stream",
     "text": [
      "\r",
      "Epoch 13 training 48/49 [LR 0.000022] - loss: 1.2859:  98%|██████████████▋| 48/49 [03:27<00:00,  1.58it/s]"
     ]
    },
    {
     "name": "stderr",
     "output_type": "stream",
     "text": [
      "\r",
      "Epoch 13 training 49/49 [LR 0.000021] - loss: 1.2846:  98%|██████████████▋| 48/49 [04:02<00:00,  1.58it/s]"
     ]
    }
   ],
   "source": [
    "for FOLD in CFG.train_folds:\n",
    "\n",
    "    seed_everything(CFG.seed)\n",
    "\n",
    "    # PREPARE DATA\n",
    "    fold_train_data = train_data[train_data[\"fold\"] != FOLD].reset_index(drop=True)\n",
    "    fold_valid_data = train_data[train_data[\"fold\"] == FOLD].reset_index(drop=True)\n",
    "\n",
    "    # display(\n",
    "    #     pd.merge(\n",
    "    #         fold_valid_data.groupby(by=[\"label\"])[\"file_name\"].count().rename(\"valid\").reset_index(),\n",
    "    #         fold_train_data.groupby(by=[\"label\"])[\"file_name\"].count().rename(\"train\").reset_index(),\n",
    "    #          on=\"label\", how=\"left\").T,)\n",
    "\n",
    "\n",
    "    train_dataset = ImageTrainDataset(TRAIN_DATA_FOLDER, fold_train_data, transforms=train_transforms)\n",
    "    valid_dataset = ImageTrainDataset(TRAIN_DATA_FOLDER, fold_valid_data, transforms=val_transforms)\n",
    "\n",
    "    train_loader = DataLoader(\n",
    "            train_dataset,\n",
    "            batch_size=CFG.batch_size,\n",
    "            shuffle=True,\n",
    "            num_workers=16,\n",
    "            pin_memory=True,\n",
    "            drop_last=True\n",
    "        )\n",
    "\n",
    "    valid_loader = DataLoader(\n",
    "        valid_dataset,\n",
    "        batch_size=CFG.batch_size,\n",
    "        shuffle=False,\n",
    "        num_workers=16,\n",
    "        pin_memory=True,\n",
    "        drop_last=False,\n",
    "    )\n",
    "\n",
    "    # PREPARE MODEL, OPTIMIZER AND SCHEDULER\n",
    "    model = create_model()\n",
    "    print(f\"Model parameters: {sum(p.numel() for p in model.parameters() if p.requires_grad):_}\")\n",
    "\n",
    "    optimizer = torch.optim.AdamW(model.parameters(), lr=CFG.lr, weight_decay=CFG.weight_decay)\n",
    "    scheduler = torch.optim.lr_scheduler.CosineAnnealingLR(\n",
    "        optimizer, eta_min=1e-6, T_max =CFG.epochs * len(train_loader),\n",
    "        )\n",
    "    \n",
    "    loss_criterion = nn.CrossEntropyLoss()\n",
    "\n",
    "    # TRAIN FOLD\n",
    "    learning_rate_history = []\n",
    "    train_loss_history = []\n",
    "    train_score_history = []\n",
    "    val_loss_history = []\n",
    "    val_score_history = []\n",
    "\n",
    "    best_score = 0\n",
    "    \n",
    "    wandb.run.tags = [f\"fold_{FOLD}\"]\n",
    "    \n",
    "    for epoch in range(0, CFG.epochs):\n",
    "        train_loss, train_lr, train_auc = train_epoch(CFG, model, train_loader, loss_criterion, optimizer, scheduler, epoch)\n",
    "        train_loss_history.append(train_loss)\n",
    "        train_score_history.append(train_auc)\n",
    "        learning_rate_history.extend(train_lr)\n",
    "\n",
    "        val_loss, val_auc = evaluate_model(CFG, model, valid_loader, loss_criterion, epoch)\n",
    "        val_loss_history.append(val_loss)\n",
    "        val_score_history.append(val_auc)\n",
    "        \n",
    "        wandb.log(\n",
    "            {'train': {'loss': train_loss, 'auc': train_auc}, \n",
    "             'val': {'loss': val_loss, 'auc': val_auc}})\n",
    "\n",
    "        if (val_auc > best_score):\n",
    "            print(f\"{style.GREEN}New best score: {best_score:.4f} -> {val_auc:.4f}{style.END}\")\n",
    "            best_score = val_auc\n",
    "            torch.save(model.state_dict(), os.path.join(wandb.run.dir, f'best_model_fold_{FOLD}.pth'))\n",
    "            \n",
    "    # run.log_model(\n",
    "    #     path=os.path.join(wandb.run.dir, 'best_model_fold_{FOLD}'), \n",
    "    #     name=f'{CFG.model_name}_fold_{FOLD}'\n",
    "    # )\n",
    "\n",
    "    # # plot train and validation loss, score and LR\n",
    "    # fig, axes = plt.subplots(1,3, figsize=(12,3))\n",
    "    # axes[0].plot(train_loss_history, label=\"Train\")\n",
    "    # axes[0].plot(val_loss_history, label=\"Valid\")\n",
    "    # axes[0].title.set_text(\"Loss\")\n",
    "    # axes[0].set_xlabel(\"Epoch\")\n",
    "    # axes[0].legend()\n",
    "\n",
    "    # axes[1].plot(train_score_history, label=\"Train\")\n",
    "    # axes[1].plot(val_score_history, label=\"Valid\")\n",
    "    # axes[1].title.set_text(\"F1 score\")\n",
    "    # axes[1].set_xlabel(\"Epoch\")\n",
    "    # axes[1].legend()\n",
    "\n",
    "    # axes[2].plot(learning_rate_history, label=\"LR\")\n",
    "    # axes[2].legend()\n",
    "    # axes[2].title.set_text(\"Learning rate\")\n",
    "    # axes[2].set_xlabel(\"Step\")\n",
    "    # fig.suptitle(f\"Fold {FOLD}\")\n",
    "    # fig.tight_layout()\n",
    "    # plt.show()"
   ]
  },
  {
   "cell_type": "code",
   "execution_count": null,
   "id": "10494e8f",
   "metadata": {
    "papermill": {
     "duration": null,
     "end_time": null,
     "exception": null,
     "start_time": null,
     "status": "pending"
    },
    "tags": []
   },
   "outputs": [],
   "source": [
    "wandb.finish()"
   ]
  },
  {
   "cell_type": "code",
   "execution_count": null,
   "id": "098934cc",
   "metadata": {
    "papermill": {
     "duration": null,
     "end_time": null,
     "exception": null,
     "start_time": null,
     "status": "pending"
    },
    "tags": []
   },
   "outputs": [],
   "source": []
  }
 ],
 "metadata": {
  "accelerator": "GPU",
  "colab": {
   "provenance": [],
   "toc_visible": true
  },
  "kaggle": {
   "accelerator": "gpu",
   "dataSources": [
    {
     "datasetId": 4568125,
     "sourceId": 7801430,
     "sourceType": "datasetVersion"
    },
    {
     "datasetId": 4568781,
     "sourceId": 7877494,
     "sourceType": "datasetVersion"
    }
   ],
   "dockerImageVersionId": 30664,
   "isGpuEnabled": true,
   "isInternetEnabled": true,
   "language": "python",
   "sourceType": "notebook"
  },
  "kernelspec": {
   "display_name": "Python 3 (ipykernel)",
   "language": "python",
   "name": "python3"
  },
  "language_info": {
   "codemirror_mode": {
    "name": "ipython",
    "version": 3
   },
   "file_extension": ".py",
   "mimetype": "text/x-python",
   "name": "python",
   "nbconvert_exporter": "python",
   "pygments_lexer": "ipython3",
   "version": "3.11.9"
  },
  "papermill": {
   "default_parameters": {},
   "duration": null,
   "end_time": null,
   "environment_variables": {},
   "exception": null,
   "input_path": "model_full_train.ipynb",
   "output_path": "output/o1.ipynb",
   "parameters": {},
   "start_time": "2024-05-12T00:00:17.487883",
   "version": "2.6.0"
  },
  "widgets": {
   "application/vnd.jupyter.widget-state+json": {
    "08d2c86ce4ab4b9e813473170145d4af": {
     "model_module": "@jupyter-widgets/controls",
     "model_module_version": "1.5.0",
     "model_name": "HTMLModel",
     "state": {
      "_dom_classes": [],
      "_model_module": "@jupyter-widgets/controls",
      "_model_module_version": "1.5.0",
      "_model_name": "HTMLModel",
      "_view_count": null,
      "_view_module": "@jupyter-widgets/controls",
      "_view_module_version": "1.5.0",
      "_view_name": "HTMLView",
      "description": "",
      "description_tooltip": null,
      "layout": "IPY_MODEL_96fb1b36ead648c4a4ebebb74c9fcf2c",
      "placeholder": "​",
      "style": "IPY_MODEL_af10206931434c6fbfde31af25affbfa",
      "value": "model.safetensors: 100%"
     }
    },
    "103798aed0c64914b55a691a4d22253e": {
     "model_module": "@jupyter-widgets/controls",
     "model_module_version": "1.5.0",
     "model_name": "HTMLModel",
     "state": {
      "_dom_classes": [],
      "_model_module": "@jupyter-widgets/controls",
      "_model_module_version": "1.5.0",
      "_model_name": "HTMLModel",
      "_view_count": null,
      "_view_module": "@jupyter-widgets/controls",
      "_view_module_version": "1.5.0",
      "_view_name": "HTMLView",
      "description": "",
      "description_tooltip": null,
      "layout": "IPY_MODEL_4420cb88a6a74540a671a529e7320589",
      "placeholder": "​",
      "style": "IPY_MODEL_6b7cb0c6580d4caba2c4f8385749a145",
      "value": " 124M/124M [00:00&lt;00:00, 384MB/s]"
     }
    },
    "2831af4d288b45b688ba9b5992dce3f4": {
     "model_module": "@jupyter-widgets/controls",
     "model_module_version": "1.5.0",
     "model_name": "FloatProgressModel",
     "state": {
      "_dom_classes": [],
      "_model_module": "@jupyter-widgets/controls",
      "_model_module_version": "1.5.0",
      "_model_name": "FloatProgressModel",
      "_view_count": null,
      "_view_module": "@jupyter-widgets/controls",
      "_view_module_version": "1.5.0",
      "_view_name": "ProgressView",
      "bar_style": "success",
      "description": "",
      "description_tooltip": null,
      "layout": "IPY_MODEL_a3763df1b6564f319afc8d67073af72f",
      "max": 124450218,
      "min": 0,
      "orientation": "horizontal",
      "style": "IPY_MODEL_a4c3f492a9b946a0b72df7ea6bb188a9",
      "value": 124450218
     }
    },
    "4420cb88a6a74540a671a529e7320589": {
     "model_module": "@jupyter-widgets/base",
     "model_module_version": "1.2.0",
     "model_name": "LayoutModel",
     "state": {
      "_model_module": "@jupyter-widgets/base",
      "_model_module_version": "1.2.0",
      "_model_name": "LayoutModel",
      "_view_count": null,
      "_view_module": "@jupyter-widgets/base",
      "_view_module_version": "1.2.0",
      "_view_name": "LayoutView",
      "align_content": null,
      "align_items": null,
      "align_self": null,
      "border": null,
      "bottom": null,
      "display": null,
      "flex": null,
      "flex_flow": null,
      "grid_area": null,
      "grid_auto_columns": null,
      "grid_auto_flow": null,
      "grid_auto_rows": null,
      "grid_column": null,
      "grid_gap": null,
      "grid_row": null,
      "grid_template_areas": null,
      "grid_template_columns": null,
      "grid_template_rows": null,
      "height": null,
      "justify_content": null,
      "justify_items": null,
      "left": null,
      "margin": null,
      "max_height": null,
      "max_width": null,
      "min_height": null,
      "min_width": null,
      "object_fit": null,
      "object_position": null,
      "order": null,
      "overflow": null,
      "overflow_x": null,
      "overflow_y": null,
      "padding": null,
      "right": null,
      "top": null,
      "visibility": null,
      "width": null
     }
    },
    "6b7cb0c6580d4caba2c4f8385749a145": {
     "model_module": "@jupyter-widgets/controls",
     "model_module_version": "1.5.0",
     "model_name": "DescriptionStyleModel",
     "state": {
      "_model_module": "@jupyter-widgets/controls",
      "_model_module_version": "1.5.0",
      "_model_name": "DescriptionStyleModel",
      "_view_count": null,
      "_view_module": "@jupyter-widgets/base",
      "_view_module_version": "1.2.0",
      "_view_name": "StyleView",
      "description_width": ""
     }
    },
    "87901707be784b03998e8b8093255ea6": {
     "model_module": "@jupyter-widgets/base",
     "model_module_version": "1.2.0",
     "model_name": "LayoutModel",
     "state": {
      "_model_module": "@jupyter-widgets/base",
      "_model_module_version": "1.2.0",
      "_model_name": "LayoutModel",
      "_view_count": null,
      "_view_module": "@jupyter-widgets/base",
      "_view_module_version": "1.2.0",
      "_view_name": "LayoutView",
      "align_content": null,
      "align_items": null,
      "align_self": null,
      "border": null,
      "bottom": null,
      "display": null,
      "flex": null,
      "flex_flow": null,
      "grid_area": null,
      "grid_auto_columns": null,
      "grid_auto_flow": null,
      "grid_auto_rows": null,
      "grid_column": null,
      "grid_gap": null,
      "grid_row": null,
      "grid_template_areas": null,
      "grid_template_columns": null,
      "grid_template_rows": null,
      "height": null,
      "justify_content": null,
      "justify_items": null,
      "left": null,
      "margin": null,
      "max_height": null,
      "max_width": null,
      "min_height": null,
      "min_width": null,
      "object_fit": null,
      "object_position": null,
      "order": null,
      "overflow": null,
      "overflow_x": null,
      "overflow_y": null,
      "padding": null,
      "right": null,
      "top": null,
      "visibility": null,
      "width": null
     }
    },
    "96fb1b36ead648c4a4ebebb74c9fcf2c": {
     "model_module": "@jupyter-widgets/base",
     "model_module_version": "1.2.0",
     "model_name": "LayoutModel",
     "state": {
      "_model_module": "@jupyter-widgets/base",
      "_model_module_version": "1.2.0",
      "_model_name": "LayoutModel",
      "_view_count": null,
      "_view_module": "@jupyter-widgets/base",
      "_view_module_version": "1.2.0",
      "_view_name": "LayoutView",
      "align_content": null,
      "align_items": null,
      "align_self": null,
      "border": null,
      "bottom": null,
      "display": null,
      "flex": null,
      "flex_flow": null,
      "grid_area": null,
      "grid_auto_columns": null,
      "grid_auto_flow": null,
      "grid_auto_rows": null,
      "grid_column": null,
      "grid_gap": null,
      "grid_row": null,
      "grid_template_areas": null,
      "grid_template_columns": null,
      "grid_template_rows": null,
      "height": null,
      "justify_content": null,
      "justify_items": null,
      "left": null,
      "margin": null,
      "max_height": null,
      "max_width": null,
      "min_height": null,
      "min_width": null,
      "object_fit": null,
      "object_position": null,
      "order": null,
      "overflow": null,
      "overflow_x": null,
      "overflow_y": null,
      "padding": null,
      "right": null,
      "top": null,
      "visibility": null,
      "width": null
     }
    },
    "a3763df1b6564f319afc8d67073af72f": {
     "model_module": "@jupyter-widgets/base",
     "model_module_version": "1.2.0",
     "model_name": "LayoutModel",
     "state": {
      "_model_module": "@jupyter-widgets/base",
      "_model_module_version": "1.2.0",
      "_model_name": "LayoutModel",
      "_view_count": null,
      "_view_module": "@jupyter-widgets/base",
      "_view_module_version": "1.2.0",
      "_view_name": "LayoutView",
      "align_content": null,
      "align_items": null,
      "align_self": null,
      "border": null,
      "bottom": null,
      "display": null,
      "flex": null,
      "flex_flow": null,
      "grid_area": null,
      "grid_auto_columns": null,
      "grid_auto_flow": null,
      "grid_auto_rows": null,
      "grid_column": null,
      "grid_gap": null,
      "grid_row": null,
      "grid_template_areas": null,
      "grid_template_columns": null,
      "grid_template_rows": null,
      "height": null,
      "justify_content": null,
      "justify_items": null,
      "left": null,
      "margin": null,
      "max_height": null,
      "max_width": null,
      "min_height": null,
      "min_width": null,
      "object_fit": null,
      "object_position": null,
      "order": null,
      "overflow": null,
      "overflow_x": null,
      "overflow_y": null,
      "padding": null,
      "right": null,
      "top": null,
      "visibility": null,
      "width": null
     }
    },
    "a4c3f492a9b946a0b72df7ea6bb188a9": {
     "model_module": "@jupyter-widgets/controls",
     "model_module_version": "1.5.0",
     "model_name": "ProgressStyleModel",
     "state": {
      "_model_module": "@jupyter-widgets/controls",
      "_model_module_version": "1.5.0",
      "_model_name": "ProgressStyleModel",
      "_view_count": null,
      "_view_module": "@jupyter-widgets/base",
      "_view_module_version": "1.2.0",
      "_view_name": "StyleView",
      "bar_color": null,
      "description_width": ""
     }
    },
    "af10206931434c6fbfde31af25affbfa": {
     "model_module": "@jupyter-widgets/controls",
     "model_module_version": "1.5.0",
     "model_name": "DescriptionStyleModel",
     "state": {
      "_model_module": "@jupyter-widgets/controls",
      "_model_module_version": "1.5.0",
      "_model_name": "DescriptionStyleModel",
      "_view_count": null,
      "_view_module": "@jupyter-widgets/base",
      "_view_module_version": "1.2.0",
      "_view_name": "StyleView",
      "description_width": ""
     }
    },
    "b53d0ba4ae3e496092fdf021cb4097aa": {
     "model_module": "@jupyter-widgets/controls",
     "model_module_version": "1.5.0",
     "model_name": "HBoxModel",
     "state": {
      "_dom_classes": [],
      "_model_module": "@jupyter-widgets/controls",
      "_model_module_version": "1.5.0",
      "_model_name": "HBoxModel",
      "_view_count": null,
      "_view_module": "@jupyter-widgets/controls",
      "_view_module_version": "1.5.0",
      "_view_name": "HBoxView",
      "box_style": "",
      "children": [
       "IPY_MODEL_08d2c86ce4ab4b9e813473170145d4af",
       "IPY_MODEL_2831af4d288b45b688ba9b5992dce3f4",
       "IPY_MODEL_103798aed0c64914b55a691a4d22253e"
      ],
      "layout": "IPY_MODEL_87901707be784b03998e8b8093255ea6"
     }
    }
   }
  }
 },
 "nbformat": 4,
 "nbformat_minor": 5
}