{
 "cells": [
  {
   "cell_type": "markdown",
   "id": "4d89e8e1",
   "metadata": {
    "id": "JC-p4CpT1_Lc",
    "papermill": {
     "duration": 0.017883,
     "end_time": "2024-05-12T05:34:48.382068",
     "exception": false,
     "start_time": "2024-05-12T05:34:48.364185",
     "status": "completed"
    },
    "tags": []
   },
   "source": [
    "# Load Data"
   ]
  },
  {
   "cell_type": "code",
   "execution_count": 1,
   "id": "a2111795",
   "metadata": {
    "execution": {
     "iopub.execute_input": "2024-05-12T05:34:48.411678Z",
     "iopub.status.busy": "2024-05-12T05:34:48.411247Z",
     "iopub.status.idle": "2024-05-12T05:34:48.422970Z",
     "shell.execute_reply": "2024-05-12T05:34:48.421804Z"
    },
    "id": "gr9MjCphpOPx",
    "papermill": {
     "duration": 0.028365,
     "end_time": "2024-05-12T05:34:48.425404",
     "exception": false,
     "start_time": "2024-05-12T05:34:48.397039",
     "status": "completed"
    },
    "tags": []
   },
   "outputs": [],
   "source": [
    "OUTPUT_FOLDER = \"/scratch/aakash_ks.iitr/dr-scnn/\"\n",
    "DATA_FOLDER = \"/scratch/aakash_ks.iitr/data/diabetic-retinopathy/\"\n",
    "# TRAIN_DATA_FOLDER = DATA_FOLDER + 'resized_train/'\n",
    "TRAIN_DATA_FOLDER = DATA_FOLDER + 'resized_train_c/'\n",
    "\n",
    "# TEST_DATA_FOLDER = DATA_FOLDER + 'test/'"
   ]
  },
  {
   "cell_type": "markdown",
   "id": "aa37cbd9",
   "metadata": {
    "id": "dOaKi5h92DBb",
    "papermill": {
     "duration": 0.010628,
     "end_time": "2024-05-12T05:34:48.447745",
     "exception": false,
     "start_time": "2024-05-12T05:34:48.437117",
     "status": "completed"
    },
    "tags": []
   },
   "source": [
    "# Imports"
   ]
  },
  {
   "cell_type": "code",
   "execution_count": 2,
   "id": "6a1c15ed",
   "metadata": {
    "execution": {
     "iopub.execute_input": "2024-05-12T05:34:48.469467Z",
     "iopub.status.busy": "2024-05-12T05:34:48.469072Z",
     "iopub.status.idle": "2024-05-12T05:34:49.725367Z",
     "shell.execute_reply": "2024-05-12T05:34:49.724793Z"
    },
    "id": "NNdj2cxdkpiv",
    "papermill": {
     "duration": 1.27022,
     "end_time": "2024-05-12T05:34:49.728352",
     "exception": false,
     "start_time": "2024-05-12T05:34:48.458132",
     "status": "completed"
    },
    "tags": []
   },
   "outputs": [],
   "source": [
    "import os\n",
    "import random\n",
    "import numpy as np\n",
    "import pandas as pd\n",
    "import matplotlib.pyplot as plt\n",
    "import seaborn as sns\n",
    "from tqdm import tqdm\n",
    "\n",
    "from PIL import Image\n",
    "\n",
    "plt.rcParams['figure.dpi'] = 200"
   ]
  },
  {
   "cell_type": "code",
   "execution_count": 3,
   "id": "6ff5412b",
   "metadata": {
    "execution": {
     "iopub.execute_input": "2024-05-12T05:34:49.760069Z",
     "iopub.status.busy": "2024-05-12T05:34:49.759821Z",
     "iopub.status.idle": "2024-05-12T05:34:53.239814Z",
     "shell.execute_reply": "2024-05-12T05:34:53.239066Z"
    },
    "id": "7yoCqGCB2jIS",
    "papermill": {
     "duration": 3.500508,
     "end_time": "2024-05-12T05:34:53.245205",
     "exception": false,
     "start_time": "2024-05-12T05:34:49.744697",
     "status": "completed"
    },
    "tags": []
   },
   "outputs": [
    {
     "name": "stderr",
     "output_type": "stream",
     "text": [
      "/home/aakash_ks.iitr/miniconda3/envs/py311/lib/python3.11/site-packages/tqdm/auto.py:21: TqdmWarning: IProgress not found. Please update jupyter and ipywidgets. See https://ipywidgets.readthedocs.io/en/stable/user_install.html\n",
      "  from .autonotebook import tqdm as notebook_tqdm\n"
     ]
    }
   ],
   "source": [
    "import torch\n",
    "import torch.nn.functional as F\n",
    "import torch.nn as nn\n",
    "\n",
    "from torch.utils.data import DataLoader, Dataset, WeightedRandomSampler\n",
    "from torchvision.transforms import v2\n",
    "\n",
    "import timm"
   ]
  },
  {
   "cell_type": "code",
   "execution_count": 4,
   "id": "e0de4fa9",
   "metadata": {
    "execution": {
     "iopub.execute_input": "2024-05-12T05:34:53.277011Z",
     "iopub.status.busy": "2024-05-12T05:34:53.276766Z",
     "iopub.status.idle": "2024-05-12T05:34:53.293966Z",
     "shell.execute_reply": "2024-05-12T05:34:53.293236Z"
    },
    "id": "8Ejzj4rDx_GK",
    "papermill": {
     "duration": 0.033775,
     "end_time": "2024-05-12T05:34:53.296047",
     "exception": false,
     "start_time": "2024-05-12T05:34:53.262272",
     "status": "completed"
    },
    "tags": []
   },
   "outputs": [],
   "source": [
    "NUM_CLASSES = 5\n",
    "\n",
    "class CFG:\n",
    "    seed = 42\n",
    "    N_folds = 5\n",
    "    train_folds = [0] # [0,1,2,3,4]\n",
    "\n",
    "    device = 'cuda' if torch.cuda.is_available() else 'cpu'\n",
    "    apex=True # use half precision\n",
    "\n",
    "    model_name = \"resnet50.a1_in1k\"\n",
    "    epochs = 10\n",
    "    cropped = True\n",
    "    # weights =  torch.tensor([0.206119, 0.793881],dtype=torch.float32)\n",
    "\n",
    "    clip_val = 1000.\n",
    "    batch_size = 64\n",
    "    # gradient_accumulation_steps = 1\n",
    "\n",
    "    lr = 1e-3\n",
    "    weight_decay=1e-2\n",
    "    \n",
    "    resolution = 224\n",
    "    samples_per_class = 500"
   ]
  },
  {
   "cell_type": "code",
   "execution_count": 5,
   "id": "b9c7659c",
   "metadata": {
    "execution": {
     "iopub.execute_input": "2024-05-12T05:34:53.320306Z",
     "iopub.status.busy": "2024-05-12T05:34:53.319991Z",
     "iopub.status.idle": "2024-05-12T05:34:58.588347Z",
     "shell.execute_reply": "2024-05-12T05:34:58.587780Z"
    },
    "papermill": {
     "duration": 5.283135,
     "end_time": "2024-05-12T05:34:58.591157",
     "exception": false,
     "start_time": "2024-05-12T05:34:53.308022",
     "status": "completed"
    },
    "tags": []
   },
   "outputs": [
    {
     "name": "stderr",
     "output_type": "stream",
     "text": [
      "\u001b[34m\u001b[1mwandb\u001b[0m: Currently logged in as: \u001b[33maakashks_\u001b[0m. Use \u001b[1m`wandb login --relogin`\u001b[0m to force relogin\n"
     ]
    },
    {
     "name": "stderr",
     "output_type": "stream",
     "text": [
      "\u001b[34m\u001b[1mwandb\u001b[0m: wandb version 0.17.0 is available!  To upgrade, please run:\n",
      "\u001b[34m\u001b[1mwandb\u001b[0m:  $ pip install wandb --upgrade\n"
     ]
    },
    {
     "name": "stderr",
     "output_type": "stream",
     "text": [
      "\u001b[34m\u001b[1mwandb\u001b[0m: Tracking run with wandb version 0.16.5\n"
     ]
    },
    {
     "name": "stderr",
     "output_type": "stream",
     "text": [
      "\u001b[34m\u001b[1mwandb\u001b[0m: Run data is saved locally in \u001b[35m\u001b[1m/scratch/aakash_ks.iitr/dr-scnn/wandb/run-20240512_110455-ovorgw5r\u001b[0m\n",
      "\u001b[34m\u001b[1mwandb\u001b[0m: Run \u001b[1m`wandb offline`\u001b[0m to turn off syncing.\n"
     ]
    },
    {
     "name": "stderr",
     "output_type": "stream",
     "text": [
      "\u001b[34m\u001b[1mwandb\u001b[0m: Syncing run \u001b[33mfresh-frog-60\u001b[0m\n"
     ]
    },
    {
     "name": "stderr",
     "output_type": "stream",
     "text": [
      "\u001b[34m\u001b[1mwandb\u001b[0m: ⭐️ View project at \u001b[34m\u001b[4mhttps://wandb.ai/aakashks_/hello-world\u001b[0m\n"
     ]
    },
    {
     "name": "stderr",
     "output_type": "stream",
     "text": [
      "\u001b[34m\u001b[1mwandb\u001b[0m: 🚀 View run at \u001b[34m\u001b[4mhttps://wandb.ai/aakashks_/hello-world/runs/ovorgw5r/workspace\u001b[0m\n"
     ]
    }
   ],
   "source": [
    "import wandb\n",
    "# from kaggle_secrets import UserSecretsClient\n",
    "# user_secrets = UserSecretsClient()\n",
    "# wandb.login(key=user_secrets.get_secret(\"wandb_api\"))\n",
    "\n",
    "run = wandb.init(\n",
    "    project=\"hello-world\", \n",
    "    dir=OUTPUT_FOLDER,\n",
    "    config={\n",
    "    k:v for k, v in CFG.__dict__.items() if not k.startswith('__')}\n",
    ")"
   ]
  },
  {
   "cell_type": "code",
   "execution_count": 6,
   "id": "87f8e3af",
   "metadata": {
    "execution": {
     "iopub.execute_input": "2024-05-12T05:34:58.623694Z",
     "iopub.status.busy": "2024-05-12T05:34:58.623343Z",
     "iopub.status.idle": "2024-05-12T05:34:58.628125Z",
     "shell.execute_reply": "2024-05-12T05:34:58.627253Z"
    },
    "papermill": {
     "duration": 0.022021,
     "end_time": "2024-05-12T05:34:58.630167",
     "exception": false,
     "start_time": "2024-05-12T05:34:58.608146",
     "status": "completed"
    },
    "tags": []
   },
   "outputs": [],
   "source": [
    "device = torch.device(CFG.device)"
   ]
  },
  {
   "cell_type": "markdown",
   "id": "b42256f9",
   "metadata": {
    "id": "7Ve34id2b7uu",
    "papermill": {
     "duration": 0.011507,
     "end_time": "2024-05-12T05:34:58.654268",
     "exception": false,
     "start_time": "2024-05-12T05:34:58.642761",
     "status": "completed"
    },
    "tags": []
   },
   "source": [
    "# Load train data"
   ]
  },
  {
   "cell_type": "code",
   "execution_count": 7,
   "id": "5e215465",
   "metadata": {
    "execution": {
     "iopub.execute_input": "2024-05-12T05:34:58.677121Z",
     "iopub.status.busy": "2024-05-12T05:34:58.676572Z",
     "iopub.status.idle": "2024-05-12T05:34:58.753443Z",
     "shell.execute_reply": "2024-05-12T05:34:58.752629Z"
    },
    "id": "mq-oqFtvkpix",
    "papermill": {
     "duration": 0.091273,
     "end_time": "2024-05-12T05:34:58.756420",
     "exception": false,
     "start_time": "2024-05-12T05:34:58.665147",
     "status": "completed"
    },
    "tags": []
   },
   "outputs": [
    {
     "data": {
      "text/html": [
       "<div>\n",
       "<style scoped>\n",
       "    .dataframe tbody tr th:only-of-type {\n",
       "        vertical-align: middle;\n",
       "    }\n",
       "\n",
       "    .dataframe tbody tr th {\n",
       "        vertical-align: top;\n",
       "    }\n",
       "\n",
       "    .dataframe thead th {\n",
       "        text-align: right;\n",
       "    }\n",
       "</style>\n",
       "<table border=\"1\" class=\"dataframe\">\n",
       "  <thead>\n",
       "    <tr style=\"text-align: right;\">\n",
       "      <th></th>\n",
       "      <th>Unnamed: 0.1</th>\n",
       "      <th>Unnamed: 0</th>\n",
       "      <th>image</th>\n",
       "      <th>level</th>\n",
       "    </tr>\n",
       "  </thead>\n",
       "  <tbody>\n",
       "    <tr>\n",
       "      <th>0</th>\n",
       "      <td>15757</td>\n",
       "      <td>15767</td>\n",
       "      <td>19762_right</td>\n",
       "      <td>2</td>\n",
       "    </tr>\n",
       "    <tr>\n",
       "      <th>1</th>\n",
       "      <td>14454</td>\n",
       "      <td>14463</td>\n",
       "      <td>18143_right</td>\n",
       "      <td>4</td>\n",
       "    </tr>\n",
       "    <tr>\n",
       "      <th>2</th>\n",
       "      <td>21242</td>\n",
       "      <td>21256</td>\n",
       "      <td>26793_left</td>\n",
       "      <td>0</td>\n",
       "    </tr>\n",
       "    <tr>\n",
       "      <th>3</th>\n",
       "      <td>21359</td>\n",
       "      <td>21373</td>\n",
       "      <td>26929_right</td>\n",
       "      <td>2</td>\n",
       "    </tr>\n",
       "    <tr>\n",
       "      <th>4</th>\n",
       "      <td>15611</td>\n",
       "      <td>15621</td>\n",
       "      <td>19553_right</td>\n",
       "      <td>0</td>\n",
       "    </tr>\n",
       "    <tr>\n",
       "      <th>...</th>\n",
       "      <td>...</td>\n",
       "      <td>...</td>\n",
       "      <td>...</td>\n",
       "      <td>...</td>\n",
       "    </tr>\n",
       "    <tr>\n",
       "      <th>35103</th>\n",
       "      <td>13414</td>\n",
       "      <td>13423</td>\n",
       "      <td>16843_right</td>\n",
       "      <td>0</td>\n",
       "    </tr>\n",
       "    <tr>\n",
       "      <th>35104</th>\n",
       "      <td>1905</td>\n",
       "      <td>1908</td>\n",
       "      <td>2369_left</td>\n",
       "      <td>2</td>\n",
       "    </tr>\n",
       "    <tr>\n",
       "      <th>35105</th>\n",
       "      <td>216</td>\n",
       "      <td>216</td>\n",
       "      <td>244_left</td>\n",
       "      <td>0</td>\n",
       "    </tr>\n",
       "    <tr>\n",
       "      <th>35106</th>\n",
       "      <td>19345</td>\n",
       "      <td>19357</td>\n",
       "      <td>24421_right</td>\n",
       "      <td>0</td>\n",
       "    </tr>\n",
       "    <tr>\n",
       "      <th>35107</th>\n",
       "      <td>14225</td>\n",
       "      <td>14234</td>\n",
       "      <td>17869_left</td>\n",
       "      <td>0</td>\n",
       "    </tr>\n",
       "  </tbody>\n",
       "</table>\n",
       "<p>35108 rows × 4 columns</p>\n",
       "</div>"
      ],
      "text/plain": [
       "       Unnamed: 0.1  Unnamed: 0        image  level\n",
       "0             15757       15767  19762_right      2\n",
       "1             14454       14463  18143_right      4\n",
       "2             21242       21256   26793_left      0\n",
       "3             21359       21373  26929_right      2\n",
       "4             15611       15621  19553_right      0\n",
       "...             ...         ...          ...    ...\n",
       "35103         13414       13423  16843_right      0\n",
       "35104          1905        1908    2369_left      2\n",
       "35105           216         216     244_left      0\n",
       "35106         19345       19357  24421_right      0\n",
       "35107         14225       14234   17869_left      0\n",
       "\n",
       "[35108 rows x 4 columns]"
      ]
     },
     "execution_count": 7,
     "metadata": {},
     "output_type": "execute_result"
    }
   ],
   "source": [
    "# train_data = pd.read_csv(os.path.join(DATA_FOLDER, 'trainLabels.csv'))\n",
    "train_data = pd.read_csv(os.path.join(DATA_FOLDER, 'trainLabels_cropped.csv')).sample(frac=1).reset_index(drop=True)\n",
    "train_data"
   ]
  },
  {
   "cell_type": "code",
   "execution_count": 8,
   "id": "72b17865",
   "metadata": {
    "execution": {
     "iopub.execute_input": "2024-05-12T05:34:58.790231Z",
     "iopub.status.busy": "2024-05-12T05:34:58.789842Z",
     "iopub.status.idle": "2024-05-12T05:34:58.821359Z",
     "shell.execute_reply": "2024-05-12T05:34:58.820477Z"
    },
    "papermill": {
     "duration": 0.049801,
     "end_time": "2024-05-12T05:34:58.823927",
     "exception": false,
     "start_time": "2024-05-12T05:34:58.774126",
     "status": "completed"
    },
    "tags": []
   },
   "outputs": [
    {
     "data": {
      "text/plain": [
       "19944"
      ]
     },
     "execution_count": 8,
     "metadata": {},
     "output_type": "execute_result"
    }
   ],
   "source": [
    "# remove all images from the csv if they are not in the folder\n",
    "lst = map(lambda x: x[:-5], os.listdir(TRAIN_DATA_FOLDER))\n",
    "train_data = train_data[train_data.image.isin(lst)]\n",
    "len(train_data)"
   ]
  },
  {
   "cell_type": "code",
   "execution_count": 9,
   "id": "b6bf6a16",
   "metadata": {
    "execution": {
     "iopub.execute_input": "2024-05-12T05:34:58.858221Z",
     "iopub.status.busy": "2024-05-12T05:34:58.857904Z",
     "iopub.status.idle": "2024-05-12T05:34:58.867491Z",
     "shell.execute_reply": "2024-05-12T05:34:58.866482Z"
    },
    "papermill": {
     "duration": 0.027666,
     "end_time": "2024-05-12T05:34:58.869739",
     "exception": false,
     "start_time": "2024-05-12T05:34:58.842073",
     "status": "completed"
    },
    "tags": []
   },
   "outputs": [
    {
     "data": {
      "text/plain": [
       "level\n",
       "0    14637\n",
       "2     2982\n",
       "1     1405\n",
       "3      498\n",
       "4      422\n",
       "Name: count, dtype: int64"
      ]
     },
     "execution_count": 9,
     "metadata": {},
     "output_type": "execute_result"
    }
   ],
   "source": [
    "train_data.level.value_counts()"
   ]
  },
  {
   "cell_type": "code",
   "execution_count": 10,
   "id": "52f86444",
   "metadata": {
    "execution": {
     "iopub.execute_input": "2024-05-12T05:34:58.898393Z",
     "iopub.status.busy": "2024-05-12T05:34:58.897931Z",
     "iopub.status.idle": "2024-05-12T05:34:58.909277Z",
     "shell.execute_reply": "2024-05-12T05:34:58.908419Z"
    },
    "papermill": {
     "duration": 0.02705,
     "end_time": "2024-05-12T05:34:58.911157",
     "exception": false,
     "start_time": "2024-05-12T05:34:58.884107",
     "status": "completed"
    },
    "tags": []
   },
   "outputs": [
    {
     "data": {
      "text/plain": [
       "level\n",
       "0    500\n",
       "2    500\n",
       "1    500\n",
       "3    498\n",
       "4    422\n",
       "Name: count, dtype: int64"
      ]
     },
     "execution_count": 10,
     "metadata": {},
     "output_type": "execute_result"
    }
   ],
   "source": [
    "# take only 100 samples from each class\n",
    "train_data = train_data.groupby('level').head(CFG.samples_per_class).reset_index(drop=True)\n",
    "train_data.level.value_counts()"
   ]
  },
  {
   "cell_type": "markdown",
   "id": "c220c997",
   "metadata": {
    "id": "1Mu24W3Xkpix",
    "papermill": {
     "duration": 0.01108,
     "end_time": "2024-05-12T05:34:58.934120",
     "exception": false,
     "start_time": "2024-05-12T05:34:58.923040",
     "status": "completed"
    },
    "tags": []
   },
   "source": [
    "# Dataset"
   ]
  },
  {
   "cell_type": "code",
   "execution_count": 11,
   "id": "88b5c729",
   "metadata": {
    "execution": {
     "iopub.execute_input": "2024-05-12T05:34:58.956817Z",
     "iopub.status.busy": "2024-05-12T05:34:58.956328Z",
     "iopub.status.idle": "2024-05-12T05:34:58.968132Z",
     "shell.execute_reply": "2024-05-12T05:34:58.967188Z"
    },
    "papermill": {
     "duration": 0.024994,
     "end_time": "2024-05-12T05:34:58.969822",
     "exception": false,
     "start_time": "2024-05-12T05:34:58.944828",
     "status": "completed"
    },
    "tags": []
   },
   "outputs": [],
   "source": [
    "from torchvision.transforms import functional as func\n",
    "\n",
    "class CustomTransform:\n",
    "    def __init__(self, output_size=(CFG.resolution, CFG.resolution), radius_factor=0.9):\n",
    "        self.output_size = output_size\n",
    "        self.radius_factor = radius_factor\n",
    "\n",
    "    def __call__(self, img):\n",
    "        # Assuming img is a PIL Image\n",
    "        # Normalize and preprocess as previously defined\n",
    "        img = func.resize(img, int(min(img.size) / self.radius_factor))\n",
    "        img_tensor = func.to_tensor(img)\n",
    "        mean, std = img_tensor.mean([1, 2]), img_tensor.std([1, 2])\n",
    "        img_normalized = func.normalize(img_tensor, mean.tolist(), std.tolist())\n",
    "        kernel_size = 15\n",
    "        padding = kernel_size // 2\n",
    "        avg_pool = torch.nn.AvgPool2d(kernel_size, stride=1, padding=padding)\n",
    "        local_avg = avg_pool(img_normalized.unsqueeze(0)).squeeze(0)\n",
    "        img_subtracted = img_normalized - local_avg\n",
    "        center_crop_size = int(min(img_subtracted.shape[1:]) * self.radius_factor)\n",
    "        img_cropped = func.center_crop(img_subtracted, [center_crop_size, center_crop_size])\n",
    "\n",
    "        # Apply augmentations\n",
    "        img_resized = func.resize(img_cropped, self.output_size)\n",
    "\n",
    "        return img_resized"
   ]
  },
  {
   "cell_type": "code",
   "execution_count": 12,
   "id": "895310c8",
   "metadata": {
    "execution": {
     "iopub.execute_input": "2024-05-12T05:34:58.989759Z",
     "iopub.status.busy": "2024-05-12T05:34:58.989329Z",
     "iopub.status.idle": "2024-05-12T05:34:58.996878Z",
     "shell.execute_reply": "2024-05-12T05:34:58.995997Z"
    },
    "papermill": {
     "duration": 0.019092,
     "end_time": "2024-05-12T05:34:58.998419",
     "exception": false,
     "start_time": "2024-05-12T05:34:58.979327",
     "status": "completed"
    },
    "tags": []
   },
   "outputs": [],
   "source": [
    "# train_transforms = CustomTransform()\n",
    "\n",
    "train_transforms = v2.Compose([\n",
    "    CustomTransform(),\n",
    "    # v2.RandomResizedCrop(CFG.resolution, scale=(0.8, 1.0)),  # Krizhevsky style random cropping\n",
    "    v2.RandomHorizontalFlip(),  # Random horizontal flip\n",
    "    v2.RandomVerticalFlip(),  # Random vertical flip\n",
    "    v2.GaussianBlur(kernel_size=(5, 5), sigma=(0.1, 2)),  # Gaussian blur with random kernel size and sigma\n",
    "    v2.RandomRotation(degrees=(0, 90)),  # Random rotation between 0 and 360 degrees\n",
    "    v2.ToDtype(torch.float32, scale=False),\n",
    "])\n",
    "\n",
    "val_transforms = v2.Compose([\n",
    "    CustomTransform(),\n",
    "    v2.ToDtype(torch.float32, scale=False),\n",
    "])"
   ]
  },
  {
   "cell_type": "code",
   "execution_count": 13,
   "id": "b43d2120",
   "metadata": {
    "execution": {
     "iopub.execute_input": "2024-05-12T05:34:59.017171Z",
     "iopub.status.busy": "2024-05-12T05:34:59.016751Z",
     "iopub.status.idle": "2024-05-12T05:34:59.023616Z",
     "shell.execute_reply": "2024-05-12T05:34:59.022797Z"
    },
    "id": "_mAcIdn2kpiy",
    "papermill": {
     "duration": 0.018011,
     "end_time": "2024-05-12T05:34:59.024993",
     "exception": false,
     "start_time": "2024-05-12T05:34:59.006982",
     "status": "completed"
    },
    "scrolled": true,
    "tags": []
   },
   "outputs": [],
   "source": [
    "class ImageTrainDataset(Dataset):\n",
    "    def __init__(\n",
    "        self,\n",
    "        folder,\n",
    "        data,\n",
    "        transforms,\n",
    "    ):\n",
    "        self.folder = folder\n",
    "        self.data = data\n",
    "        self.transforms = transforms\n",
    "\n",
    "    def __len__(self):\n",
    "        return len(self.data)\n",
    "\n",
    "    def __getitem__(self, index):\n",
    "        d = self.data.loc[index]\n",
    "        image = Image.open(f\"{self.folder}{d.image}.jpeg\")\n",
    "        image = self.transforms(image)\n",
    "        label = d.level\n",
    "\n",
    "        return image, torch.tensor(label, dtype=torch.long)"
   ]
  },
  {
   "cell_type": "code",
   "execution_count": 14,
   "id": "262cc676",
   "metadata": {
    "execution": {
     "iopub.execute_input": "2024-05-12T05:34:59.041736Z",
     "iopub.status.busy": "2024-05-12T05:34:59.041390Z",
     "iopub.status.idle": "2024-05-12T05:34:59.487278Z",
     "shell.execute_reply": "2024-05-12T05:34:59.486844Z"
    },
    "papermill": {
     "duration": 0.455388,
     "end_time": "2024-05-12T05:34:59.488431",
     "exception": false,
     "start_time": "2024-05-12T05:34:59.033043",
     "status": "completed"
    },
    "tags": []
   },
   "outputs": [
    {
     "data": {
      "text/plain": [
       "<matplotlib.image.AxesImage at 0x7faa8b58bb10>"
      ]
     },
     "execution_count": 14,
     "metadata": {},
     "output_type": "execute_result"
    },
    {
     "data": {
      "image/png": "[encoded data removed]",
      "text/plain": [
       "<Figure size 1280x960 with 1 Axes>"
      ]
     },
     "metadata": {},
     "output_type": "display_data"
    }
   ],
   "source": [
    "# visualize the transformations\n",
    "train_dataset = ImageTrainDataset(TRAIN_DATA_FOLDER, train_data, train_transforms)\n",
    "image, label = train_dataset[15]\n",
    "transformed_img_pil = func.to_pil_image(image)\n",
    "plt.imshow(transformed_img_pil)"
   ]
  },
  {
   "cell_type": "markdown",
   "id": "2ca15d6a",
   "metadata": {
    "id": "OzgB1JpAv3qg",
    "papermill": {
     "duration": 0.00798,
     "end_time": "2024-05-12T05:34:59.505348",
     "exception": false,
     "start_time": "2024-05-12T05:34:59.497368",
     "status": "completed"
    },
    "tags": []
   },
   "source": [
    "# Metric"
   ]
  },
  {
   "cell_type": "code",
   "execution_count": 15,
   "id": "440eeaa0",
   "metadata": {
    "execution": {
     "iopub.execute_input": "2024-05-12T05:34:59.521453Z",
     "iopub.status.busy": "2024-05-12T05:34:59.521139Z",
     "iopub.status.idle": "2024-05-12T05:34:59.636527Z",
     "shell.execute_reply": "2024-05-12T05:34:59.635434Z"
    },
    "id": "WNxSAhBrxJ-G",
    "papermill": {
     "duration": 0.126348,
     "end_time": "2024-05-12T05:34:59.639366",
     "exception": false,
     "start_time": "2024-05-12T05:34:59.513018",
     "status": "completed"
    },
    "tags": []
   },
   "outputs": [],
   "source": [
    "from sklearn.metrics import f1_score as sklearn_f1\n",
    "from sklearn.metrics import confusion_matrix, roc_auc_score, accuracy_score, precision_score"
   ]
  },
  {
   "cell_type": "code",
   "execution_count": 16,
   "id": "6f573add",
   "metadata": {
    "execution": {
     "iopub.execute_input": "2024-05-12T05:34:59.683646Z",
     "iopub.status.busy": "2024-05-12T05:34:59.682855Z",
     "iopub.status.idle": "2024-05-12T05:34:59.688510Z",
     "shell.execute_reply": "2024-05-12T05:34:59.687503Z"
    },
    "id": "n0u9VgXTv7VU",
    "papermill": {
     "duration": 0.028339,
     "end_time": "2024-05-12T05:34:59.690704",
     "exception": false,
     "start_time": "2024-05-12T05:34:59.662365",
     "status": "completed"
    },
    "tags": []
   },
   "outputs": [],
   "source": [
    "# def find_best_threshold(targets, predictions):\n",
    "#     score_5 = sklearn_f1(targets, predictions > 0.5)\n",
    "#     best_score = 0\n",
    "#     best_th = -1\n",
    "#     for i in range(100):\n",
    "#         threshold =  i/100\n",
    "#         _score = sklearn_f1(targets, predictions > threshold)\n",
    "#         if _score > best_score:\n",
    "#             best_score = _score\n",
    "#             best_th = threshold\n",
    "\n",
    "#     tn, fp, fn, tp = confusion_matrix(targets.numpy(), predictions.numpy() > best_th).ravel()\n",
    "#     print(f\"tp: {tp}, tn: {tn}, fp: {fp}, fn: {fn}\")\n",
    "#     return score_5, best_score, best_th"
   ]
  },
  {
   "cell_type": "markdown",
   "id": "14381fec",
   "metadata": {
    "id": "Zyfw9PLdkpiz",
    "papermill": {
     "duration": 0.014772,
     "end_time": "2024-05-12T05:34:59.721693",
     "exception": false,
     "start_time": "2024-05-12T05:34:59.706921",
     "status": "completed"
    },
    "tags": []
   },
   "source": [
    "# Train and evaluate functions"
   ]
  },
  {
   "cell_type": "code",
   "execution_count": 17,
   "id": "0d147cc6",
   "metadata": {
    "execution": {
     "iopub.execute_input": "2024-05-12T05:34:59.750487Z",
     "iopub.status.busy": "2024-05-12T05:34:59.749976Z",
     "iopub.status.idle": "2024-05-12T05:34:59.755608Z",
     "shell.execute_reply": "2024-05-12T05:34:59.754441Z"
    },
    "papermill": {
     "duration": 0.021754,
     "end_time": "2024-05-12T05:34:59.757461",
     "exception": false,
     "start_time": "2024-05-12T05:34:59.735707",
     "status": "completed"
    },
    "tags": []
   },
   "outputs": [],
   "source": [
    "class style:\n",
    "    BLUE = '\\033[94m'\n",
    "    GREEN = '\\033[92m'\n",
    "    YELLOW = '\\033[93m'\n",
    "    END = '\\033[0m'\n",
    "    BOLD = '\\033[1m'"
   ]
  },
  {
   "cell_type": "code",
   "execution_count": 18,
   "id": "5d1bbe99",
   "metadata": {
    "execution": {
     "iopub.execute_input": "2024-05-12T05:34:59.782545Z",
     "iopub.status.busy": "2024-05-12T05:34:59.782100Z",
     "iopub.status.idle": "2024-05-12T05:34:59.787921Z",
     "shell.execute_reply": "2024-05-12T05:34:59.786855Z"
    },
    "id": "KKt67LPn9YtB",
    "papermill": {
     "duration": 0.019968,
     "end_time": "2024-05-12T05:34:59.789516",
     "exception": false,
     "start_time": "2024-05-12T05:34:59.769548",
     "status": "completed"
    },
    "tags": []
   },
   "outputs": [],
   "source": [
    "def seed_everything(seed=42):\n",
    "    random.seed(seed)\n",
    "    os.environ['PYTHONHASHSEED'] = str(seed)\n",
    "    np.random.seed(seed)\n",
    "    torch.manual_seed(seed)\n",
    "    torch.cuda.manual_seed(seed)"
   ]
  },
  {
   "cell_type": "code",
   "execution_count": 19,
   "id": "deee2472",
   "metadata": {
    "execution": {
     "iopub.execute_input": "2024-05-12T05:34:59.847328Z",
     "iopub.status.busy": "2024-05-12T05:34:59.846920Z",
     "iopub.status.idle": "2024-05-12T05:34:59.862247Z",
     "shell.execute_reply": "2024-05-12T05:34:59.861060Z"
    },
    "id": "yXcFJ6IYkpiz",
    "papermill": {
     "duration": 0.027603,
     "end_time": "2024-05-12T05:34:59.863620",
     "exception": false,
     "start_time": "2024-05-12T05:34:59.836017",
     "status": "completed"
    },
    "tags": []
   },
   "outputs": [],
   "source": [
    "def evaluate_model(cfg, model, data_loader, loss_criterion, epoch=-1):\n",
    "    # loss_fn = nn.CrossEntropyLoss(weight=cfg.weights.to(device), label_smoothing=0.1)\n",
    "    loss_fn = loss_criterion\n",
    "\n",
    "    model.eval()\n",
    "    val_loss = 0\n",
    "\n",
    "    targets = []\n",
    "    predictions = []\n",
    "\n",
    "    total_len = len(data_loader)\n",
    "    tk0 = tqdm(enumerate(data_loader), total=total_len)\n",
    "    \n",
    "    with torch.no_grad():\n",
    "        for step, (images, labels) in tk0:\n",
    "            images = images.to(device)\n",
    "            target = labels.to(device)\n",
    "\n",
    "            logits = model(images)\n",
    "\n",
    "            loss = loss_fn(logits, target)\n",
    "            val_loss += loss.item()\n",
    "\n",
    "            targets.append(target.detach().cpu())\n",
    "            predictions.append(logits.detach().cpu())\n",
    "            del images, target, logits\n",
    "\n",
    "    targets = torch.cat(targets, dim=0)\n",
    "    predictions = torch.cat(predictions, dim=0)\n",
    "    predictions = F.softmax(predictions, dim=1)\n",
    "\n",
    "    val_loss /= total_len\n",
    "    # base_score, best_score, best_th = find_best_threshold(targets, predictions[:, 1])\n",
    "    # For multi-class classification, you might need the class with the highest probability\n",
    "    predicted_classes = predictions.argmax(dim=1)\n",
    "\n",
    "    roc_auc = roc_auc_score(targets.numpy(), predictions.numpy(), multi_class='ovo')\n",
    "\n",
    "    # Calculate accuracy\n",
    "    accuracy = accuracy_score(targets.numpy(), predicted_classes.numpy())\n",
    "\n",
    "    precision = precision_score(targets.numpy(), predicted_classes.numpy(), average='weighted')\n",
    "\n",
    "    print(f'Epoch {epoch}: validation loss = {val_loss:.4f} auc = {roc_auc:.4f} accuracy = {accuracy:.4f} precision = {precision:.4f}')\n",
    "    return val_loss, roc_auc, accuracy, precision"
   ]
  },
  {
   "cell_type": "code",
   "execution_count": 20,
   "id": "2bb0a70b",
   "metadata": {
    "execution": {
     "iopub.execute_input": "2024-05-12T05:34:59.883376Z",
     "iopub.status.busy": "2024-05-12T05:34:59.882947Z",
     "iopub.status.idle": "2024-05-12T05:34:59.899372Z",
     "shell.execute_reply": "2024-05-12T05:34:59.898314Z"
    },
    "id": "nZFniP2hkpi0",
    "papermill": {
     "duration": 0.027974,
     "end_time": "2024-05-12T05:34:59.900746",
     "exception": false,
     "start_time": "2024-05-12T05:34:59.872772",
     "status": "completed"
    },
    "tags": []
   },
   "outputs": [],
   "source": [
    "\n",
    "def train_epoch(cfg, model, train_loader, loss_criterion, optimizer, scheduler, epoch):\n",
    "    scaler = torch.cuda.amp.GradScaler(enabled=cfg.apex)\n",
    "    # loss_fn = nn.CrossEntropyLoss(weight=cfg.weights.to(device), label_smoothing=0.1)\n",
    "    loss_fn = loss_criterion\n",
    "\n",
    "    model.train()\n",
    "    train_loss = 0\n",
    "    learning_rate_history = []\n",
    "\n",
    "    targets = []\n",
    "    predictions = []\n",
    "\n",
    "    total_len = len(train_loader)\n",
    "    tk0 = tqdm(enumerate(train_loader), total=total_len)\n",
    "    for step, (images, labels) in tk0:\n",
    "        images = images.to(device, non_blocking=True)\n",
    "        target = labels.to(device, non_blocking=True)\n",
    "\n",
    "        # https://pytorch.org/blog/accelerating-training-on-nvidia-gpus-with-pytorch-automatic-mixed-precision/\n",
    "        with torch.cuda.amp.autocast(enabled=cfg.apex):\n",
    "            logits = model(images)\n",
    "            loss = loss_fn(logits, target)\n",
    "\n",
    "        scaler.scale(loss).backward()\n",
    "        torch.nn.utils.clip_grad_norm_(model.parameters(), max_norm=cfg.clip_val)\n",
    "\n",
    "        train_loss += loss.item()\n",
    "        scaler.step(optimizer)\n",
    "        scaler.update()\n",
    "        optimizer.zero_grad()\n",
    "\n",
    "        if scheduler is None:\n",
    "            lr = optimizer.param_groups[0]['lr']\n",
    "        else:\n",
    "            scheduler.step()\n",
    "            lr = scheduler.get_last_lr()[0]\n",
    "\n",
    "        tk0.set_description(f\"Epoch {epoch} training {step+1}/{total_len} [LR {lr:0.6f}] - loss: {train_loss/(step+1):.4f}\")\n",
    "        learning_rate_history.append(lr)\n",
    "\n",
    "        targets.append(target.detach().cpu())\n",
    "        predictions.append(logits.detach().cpu())\n",
    "        del images, target\n",
    "\n",
    "    targets = torch.cat(targets, dim=0)\n",
    "    predictions = torch.cat(predictions, dim=0)\n",
    "    predictions = F.softmax(predictions, dim=1)\n",
    "\n",
    "    train_loss /= total_len\n",
    "    # For multi-class classification, you might need the class with the highest probability\n",
    "    predicted_classes = predictions.argmax(dim=1)\n",
    "\n",
    "    roc_auc = roc_auc_score(targets.numpy(), predictions.numpy(), multi_class='ovo')\n",
    "\n",
    "    # Calculate accuracy\n",
    "    accuracy = accuracy_score(targets.numpy(), predicted_classes.numpy())\n",
    "\n",
    "    precision = precision_score(targets.numpy(), predicted_classes.numpy(), average='weighted')\n",
    "\n",
    "    print(f'Epoch {epoch}: training loss = {train_loss:.4f} auc = {roc_auc:.4f} accuracy = {accuracy:.4f} precision = {precision:.4f}')\n",
    "    return train_loss, learning_rate_history, roc_auc, accuracy, precision"
   ]
  },
  {
   "cell_type": "markdown",
   "id": "cf86eb34",
   "metadata": {
    "id": "qN83vJk4xCA3",
    "papermill": {
     "duration": 0.008211,
     "end_time": "2024-05-12T05:34:59.917308",
     "exception": false,
     "start_time": "2024-05-12T05:34:59.909097",
     "status": "completed"
    },
    "tags": []
   },
   "source": [
    "# Train model"
   ]
  },
  {
   "cell_type": "markdown",
   "id": "56861f2c",
   "metadata": {
    "id": "8NyHYtzwZT8h",
    "papermill": {
     "duration": 0.00797,
     "end_time": "2024-05-12T05:34:59.933395",
     "exception": false,
     "start_time": "2024-05-12T05:34:59.925425",
     "status": "completed"
    },
    "tags": []
   },
   "source": [
    "## Split data\n",
    "\n",
    "The distribution of classes in the training data is not balance so using StratifiedKFold will ensure that the distrubution of positive and negative samples in all folds will match the original distributions."
   ]
  },
  {
   "cell_type": "code",
   "execution_count": 21,
   "id": "8c298996",
   "metadata": {
    "execution": {
     "iopub.execute_input": "2024-05-12T05:34:59.950272Z",
     "iopub.status.busy": "2024-05-12T05:34:59.949914Z",
     "iopub.status.idle": "2024-05-12T05:35:00.126760Z",
     "shell.execute_reply": "2024-05-12T05:35:00.125952Z"
    },
    "id": "HaYXa749AEes",
    "outputId": "65b6c941-0e6e-4503-b513-574264d657ce",
    "papermill": {
     "duration": 0.18831,
     "end_time": "2024-05-12T05:35:00.129651",
     "exception": false,
     "start_time": "2024-05-12T05:34:59.941341",
     "status": "completed"
    },
    "tags": []
   },
   "outputs": [
    {
     "name": "stderr",
     "output_type": "stream",
     "text": [
      "/home/aakash_ks.iitr/miniconda3/envs/py311/lib/python3.11/site-packages/seaborn/_oldcore.py:1119: FutureWarning: use_inf_as_na option is deprecated and will be removed in a future version. Convert inf values to NaN before operating instead.\n",
      "  with pd.option_context('mode.use_inf_as_na', True):\n"
     ]
    },
    {
     "data": {
      "text/plain": [
       "<Axes: xlabel='level', ylabel='Count'>"
      ]
     },
     "execution_count": 21,
     "metadata": {},
     "output_type": "execute_result"
    },
    {
     "data": {
      "image/png": "[encoded data removed]",
      "text/plain": [
       "<Figure size 800x400 with 1 Axes>"
      ]
     },
     "metadata": {},
     "output_type": "display_data"
    }
   ],
   "source": [
    "plt.figure(figsize=(4,2))\n",
    "sns.histplot(train_data[\"level\"])"
   ]
  },
  {
   "cell_type": "code",
   "execution_count": 22,
   "id": "900f34c6",
   "metadata": {
    "execution": {
     "iopub.execute_input": "2024-05-12T05:35:00.174384Z",
     "iopub.status.busy": "2024-05-12T05:35:00.174073Z",
     "iopub.status.idle": "2024-05-12T05:35:00.202952Z",
     "shell.execute_reply": "2024-05-12T05:35:00.201940Z"
    },
    "id": "DRHeo8pr56FX",
    "papermill": {
     "duration": 0.05205,
     "end_time": "2024-05-12T05:35:00.205574",
     "exception": false,
     "start_time": "2024-05-12T05:35:00.153524",
     "status": "completed"
    },
    "tags": []
   },
   "outputs": [],
   "source": [
    "from sklearn.model_selection import StratifiedKFold\n",
    "\n",
    "sgkf = StratifiedKFold(n_splits=CFG.N_folds, random_state=CFG.seed, shuffle=True)\n",
    "for i, (train_index, test_index) in enumerate(sgkf.split(train_data[\"image\"].values, train_data[\"level\"].values)):\n",
    "    train_data.loc[test_index, \"fold\"] = i"
   ]
  },
  {
   "cell_type": "code",
   "execution_count": 23,
   "id": "3cd8e91a",
   "metadata": {
    "execution": {
     "iopub.execute_input": "2024-05-12T05:35:00.251145Z",
     "iopub.status.busy": "2024-05-12T05:35:00.250492Z",
     "iopub.status.idle": "2024-05-12T05:35:00.257427Z",
     "shell.execute_reply": "2024-05-12T05:35:00.256164Z"
    },
    "papermill": {
     "duration": 0.030465,
     "end_time": "2024-05-12T05:35:00.259802",
     "exception": false,
     "start_time": "2024-05-12T05:35:00.229337",
     "status": "completed"
    },
    "tags": []
   },
   "outputs": [],
   "source": [
    "def create_model():\n",
    "    model = timm.create_model(CFG.model_name, num_classes=NUM_CLASSES, pretrained=True)\n",
    "\n",
    "#     model = models.resnet50(models.ResNet50_Weights.SENTINEL2_ALL_DINO)\n",
    "#     wd = torch.concat([model.conv1.weight[:, :13, ...], model.conv1.weight[:, :7, ...]], dim=1)\n",
    "#     model.conv1 = nn.Conv2d(20, 64, 7, 2, 3, bias=False)\n",
    "#     model.conv1.weight = nn.Parameter(wd)\n",
    "#     model.fc = nn.Linear(in_features=2048, out_features=2, bias=True)\n",
    "\n",
    "    return model.to(device)"
   ]
  },
  {
   "cell_type": "code",
   "execution_count": 24,
   "id": "9a88a6bf",
   "metadata": {
    "execution": {
     "iopub.execute_input": "2024-05-12T05:35:00.294293Z",
     "iopub.status.busy": "2024-05-12T05:35:00.293729Z",
     "iopub.status.idle": "2024-05-12T05:35:00.423918Z",
     "shell.execute_reply": "2024-05-12T05:35:00.422881Z"
    },
    "papermill": {
     "duration": 0.149444,
     "end_time": "2024-05-12T05:35:00.426164",
     "exception": false,
     "start_time": "2024-05-12T05:35:00.276720",
     "status": "completed"
    },
    "tags": []
   },
   "outputs": [],
   "source": [
    "from sklearn.manifold import TSNE\n",
    "import matplotlib.colors as mcolors\n",
    "\n",
    "def get_embeddings(model, data_loader):\n",
    "    model.eval()\n",
    "    \n",
    "    # remove the last layer (fc) of model to obtain embeddings\n",
    "    model = nn.Sequential(*list(model.children())[:-1])\n",
    "    \n",
    "    features = []\n",
    "    targets = []\n",
    "\n",
    "    total_len = len(data_loader)\n",
    "    tk0 = tqdm(enumerate(data_loader), total=total_len)\n",
    "    with torch.no_grad():\n",
    "        for step, (images, labels) in tk0:\n",
    "            images = images.to(device)\n",
    "            target = labels.to(device)\n",
    "\n",
    "            embds = model(images)\n",
    "\n",
    "            features.append(embds.detach().cpu())\n",
    "            targets.append(target.detach().cpu())\n",
    "\n",
    "    features = torch.cat(features, dim=0)\n",
    "    targets = torch.cat(targets, dim=0)\n",
    "    \n",
    "    # store the embeddings for future use\n",
    "    torch.save(features, os.path.join(wandb.run.dir, f\"embeddings.pth\"))\n",
    "    torch.save(targets, os.path.join(wandb.run.dir, f\"targets.pth\"))\n",
    "\n",
    "    return features, targets\n",
    "\n",
    "\n",
    "def plot_tsne(embeddings, labels):\n",
    "    # Apply t-SNE to the embeddings\n",
    "    tsne = TSNE(n_components=2, verbose=1, perplexity=40, n_iter=300)\n",
    "    tsne_results = tsne.fit_transform(embeddings.numpy())\n",
    "\n",
    "    # Define the number of unique labels/classes\n",
    "    num_classes = len(np.unique(labels.numpy()))\n",
    "    # Create a custom color map with specific color transitions\n",
    "    colors = ['blue', 'green', 'yellow', 'orange', 'red']\n",
    "    cmap = mcolors.LinearSegmentedColormap.from_list(\"Custom\", colors, N=num_classes)\n",
    "\n",
    "    # Create a boundary norm with boundaries and colors\n",
    "    norm = mcolors.BoundaryNorm(np.arange(-0.5, num_classes + 0.5, 1), cmap.N)\n",
    "\n",
    "    plt.figure(figsize=(10, 8))\n",
    "    scatter = plt.scatter(tsne_results[:, 0], tsne_results[:, 1], c=labels, cmap=cmap, norm=norm, alpha=0.7)\n",
    "    colorbar = plt.colorbar(scatter, ticks=np.arange(num_classes))\n",
    "    colorbar.set_label('Severity Level')\n",
    "    colorbar.set_ticklabels(np.arange(num_classes))  # Set discrete labels if needed\n",
    "    plt.title('t-SNE of Image Embeddings with Discrete Severity Levels')\n",
    "    plt.xlabel('t-SNE Axis 1')\n",
    "    plt.ylabel('t-SNE Axis 2')\n",
    "    plt.show()\n"
   ]
  },
  {
   "cell_type": "markdown",
   "id": "ed2ad506",
   "metadata": {
    "id": "rF9BFqS8AXBY",
    "papermill": {
     "duration": 0.019869,
     "end_time": "2024-05-12T05:35:00.469919",
     "exception": false,
     "start_time": "2024-05-12T05:35:00.450050",
     "status": "completed"
    },
    "tags": []
   },
   "source": [
    "## Train folds"
   ]
  },
  {
   "cell_type": "code",
   "execution_count": 25,
   "id": "2451d252",
   "metadata": {
    "execution": {
     "iopub.execute_input": "2024-05-12T05:35:00.505843Z",
     "iopub.status.busy": "2024-05-12T05:35:00.505182Z",
     "iopub.status.idle": "2024-05-12T05:37:40.713753Z",
     "shell.execute_reply": "2024-05-12T05:37:40.712651Z"
    },
    "id": "7CFfmp3CxDG5",
    "outputId": "952103d3-bbd9-449f-e9cf-26d5c2608aea",
    "papermill": {
     "duration": 158.928142,
     "end_time": "2024-05-12T05:37:39.415942",
     "exception": false,
     "start_time": "2024-05-12T05:35:00.487800",
     "status": "completed"
    },
    "scrolled": true,
    "tags": []
   },
   "outputs": [
    {
     "name": "stderr",
     "output_type": "stream",
     "text": [
      "/home/aakash_ks.iitr/miniconda3/envs/py311/lib/python3.11/site-packages/torch/utils/data/dataloader.py:558: UserWarning: This DataLoader will create 40 worker processes in total. Our suggested max number of worker in current system is 16, which is smaller than what this DataLoader is going to create. Please be aware that excessive worker creation might get DataLoader running slow or even freeze, lower the worker number to avoid potential slowness/freeze if necessary.\n",
      "  warnings.warn(_create_warning_msg(\n"
     ]
    },
    {
     "name": "stdout",
     "output_type": "stream",
     "text": [
      "Model parameters: 23_518_277\n"
     ]
    },
    {
     "name": "stderr",
     "output_type": "stream",
     "text": [
      "\r",
      "  0%|                                                                              | 0/30 [00:00<?, ?it/s]"
     ]
    },
    {
     "name": "stderr",
     "output_type": "stream",
     "text": [
      "\r",
      "Epoch 0 training 1/30 [LR 0.001000] - loss: 1.6209:   0%|                          | 0/30 [01:58<?, ?it/s]"
     ]
    },
    {
     "name": "stderr",
     "output_type": "stream",
     "text": [
      "\r",
      "Epoch 0 training 1/30 [LR 0.001000] - loss: 1.6209:   3%|▌                | 1/30 [01:58<57:27, 118.87s/it]"
     ]
    },
    {
     "name": "stderr",
     "output_type": "stream",
     "text": [
      "\r",
      "Epoch 0 training 2/30 [LR 0.001000] - loss: 1.6114:   3%|▌                | 1/30 [01:58<57:27, 118.87s/it]"
     ]
    },
    {
     "name": "stderr",
     "output_type": "stream",
     "text": [
      "\r",
      "Epoch 0 training 3/30 [LR 0.001000] - loss: 1.6095:   3%|▌                | 1/30 [01:59<57:27, 118.87s/it]"
     ]
    },
    {
     "name": "stderr",
     "output_type": "stream",
     "text": [
      "\r",
      "Epoch 0 training 3/30 [LR 0.001000] - loss: 1.6095:  10%|█▊                | 3/30 [01:59<13:53, 30.88s/it]"
     ]
    },
    {
     "name": "stderr",
     "output_type": "stream",
     "text": [
      "\r",
      "Epoch 0 training 4/30 [LR 0.001000] - loss: 1.6083:  10%|█▊                | 3/30 [01:59<13:53, 30.88s/it]"
     ]
    },
    {
     "name": "stderr",
     "output_type": "stream",
     "text": [
      "\r",
      "Epoch 0 training 5/30 [LR 0.000999] - loss: 1.6052:  10%|█▊                | 3/30 [01:59<13:53, 30.88s/it]"
     ]
    },
    {
     "name": "stderr",
     "output_type": "stream",
     "text": [
      "\r",
      "Epoch 0 training 5/30 [LR 0.000999] - loss: 1.6052:  17%|███               | 5/30 [01:59<06:16, 15.05s/it]"
     ]
    },
    {
     "name": "stderr",
     "output_type": "stream",
     "text": [
      "\r",
      "Epoch 0 training 6/30 [LR 0.000999] - loss: 1.6053:  17%|███               | 5/30 [01:59<06:16, 15.05s/it]"
     ]
    },
    {
     "name": "stderr",
     "output_type": "stream",
     "text": [
      "\r",
      "Epoch 0 training 7/30 [LR 0.000999] - loss: 1.6036:  17%|███               | 5/30 [01:59<06:16, 15.05s/it]"
     ]
    },
    {
     "name": "stderr",
     "output_type": "stream",
     "text": [
      "\r",
      "Epoch 0 training 7/30 [LR 0.000999] - loss: 1.6036:  23%|████▏             | 7/30 [01:59<03:20,  8.71s/it]"
     ]
    },
    {
     "name": "stderr",
     "output_type": "stream",
     "text": [
      "\r",
      "Epoch 0 training 8/30 [LR 0.000998] - loss: 1.6092:  23%|████▏             | 7/30 [01:59<03:20,  8.71s/it]"
     ]
    },
    {
     "name": "stderr",
     "output_type": "stream",
     "text": [
      "\r",
      "Epoch 0 training 9/30 [LR 0.000998] - loss: 1.6058:  23%|████▏             | 7/30 [01:59<03:20,  8.71s/it]"
     ]
    },
    {
     "name": "stderr",
     "output_type": "stream",
     "text": [
      "\r",
      "Epoch 0 training 9/30 [LR 0.000998] - loss: 1.6058:  30%|█████▍            | 9/30 [01:59<01:54,  5.46s/it]"
     ]
    },
    {
     "name": "stderr",
     "output_type": "stream",
     "text": [
      "\r",
      "Epoch 0 training 10/30 [LR 0.000997] - loss: 1.6051:  30%|█████            | 9/30 [01:59<01:54,  5.46s/it]"
     ]
    },
    {
     "name": "stderr",
     "output_type": "stream",
     "text": [
      "\r",
      "Epoch 0 training 11/30 [LR 0.000997] - loss: 1.6032:  30%|█████            | 9/30 [01:59<01:54,  5.46s/it]"
     ]
    },
    {
     "name": "stderr",
     "output_type": "stream",
     "text": [
      "\r",
      "Epoch 0 training 11/30 [LR 0.000997] - loss: 1.6032:  37%|█████▊          | 11/30 [01:59<01:08,  3.58s/it]"
     ]
    },
    {
     "name": "stderr",
     "output_type": "stream",
     "text": [
      "\r",
      "Epoch 0 training 12/30 [LR 0.000996] - loss: 1.6017:  37%|█████▊          | 11/30 [01:59<01:08,  3.58s/it]"
     ]
    },
    {
     "name": "stderr",
     "output_type": "stream",
     "text": [
      "\r",
      "Epoch 0 training 13/30 [LR 0.000995] - loss: 1.5991:  37%|█████▊          | 11/30 [01:59<01:08,  3.58s/it]"
     ]
    },
    {
     "name": "stderr",
     "output_type": "stream",
     "text": [
      "\r",
      "Epoch 0 training 13/30 [LR 0.000995] - loss: 1.5991:  43%|██████▉         | 13/30 [01:59<00:41,  2.42s/it]"
     ]
    },
    {
     "name": "stderr",
     "output_type": "stream",
     "text": [
      "\r",
      "Epoch 0 training 14/30 [LR 0.000995] - loss: 1.5968:  43%|██████▉         | 13/30 [01:59<00:41,  2.42s/it]"
     ]
    },
    {
     "name": "stderr",
     "output_type": "stream",
     "text": [
      "\r",
      "Epoch 0 training 15/30 [LR 0.000994] - loss: 1.5964:  43%|██████▉         | 13/30 [02:00<00:41,  2.42s/it]"
     ]
    },
    {
     "name": "stderr",
     "output_type": "stream",
     "text": [
      "\r",
      "Epoch 0 training 15/30 [LR 0.000994] - loss: 1.5964:  50%|████████        | 15/30 [02:00<00:24,  1.66s/it]"
     ]
    },
    {
     "name": "stderr",
     "output_type": "stream",
     "text": [
      "\r",
      "Epoch 0 training 16/30 [LR 0.000993] - loss: 1.5969:  50%|████████        | 15/30 [02:00<00:24,  1.66s/it]"
     ]
    },
    {
     "name": "stderr",
     "output_type": "stream",
     "text": [
      "\r",
      "Epoch 0 training 17/30 [LR 0.000992] - loss: 1.5958:  50%|████████        | 15/30 [02:00<00:24,  1.66s/it]"
     ]
    },
    {
     "name": "stderr",
     "output_type": "stream",
     "text": [
      "\r",
      "Epoch 0 training 17/30 [LR 0.000992] - loss: 1.5958:  57%|█████████       | 17/30 [02:00<00:15,  1.17s/it]"
     ]
    },
    {
     "name": "stderr",
     "output_type": "stream",
     "text": [
      "\r",
      "Epoch 0 training 18/30 [LR 0.000991] - loss: 1.5946:  57%|█████████       | 17/30 [02:00<00:15,  1.17s/it]"
     ]
    },
    {
     "name": "stderr",
     "output_type": "stream",
     "text": [
      "\r",
      "Epoch 0 training 19/30 [LR 0.000990] - loss: 1.5926:  57%|█████████       | 17/30 [02:00<00:15,  1.17s/it]"
     ]
    },
    {
     "name": "stderr",
     "output_type": "stream",
     "text": [
      "\r",
      "Epoch 0 training 19/30 [LR 0.000990] - loss: 1.5926:  63%|██████████▏     | 19/30 [02:00<00:09,  1.20it/s]"
     ]
    },
    {
     "name": "stderr",
     "output_type": "stream",
     "text": [
      "\r",
      "Epoch 0 training 20/30 [LR 0.000989] - loss: 1.5901:  63%|██████████▏     | 19/30 [02:00<00:09,  1.20it/s]"
     ]
    },
    {
     "name": "stderr",
     "output_type": "stream",
     "text": [
      "\r",
      "Epoch 0 training 21/30 [LR 0.000988] - loss: 1.5878:  63%|██████████▏     | 19/30 [02:00<00:09,  1.20it/s]"
     ]
    },
    {
     "name": "stderr",
     "output_type": "stream",
     "text": [
      "\r",
      "Epoch 0 training 21/30 [LR 0.000988] - loss: 1.5878:  70%|███████████▏    | 21/30 [02:00<00:05,  1.66it/s]"
     ]
    },
    {
     "name": "stderr",
     "output_type": "stream",
     "text": [
      "\r",
      "Epoch 0 training 22/30 [LR 0.000987] - loss: 1.5864:  70%|███████████▏    | 21/30 [02:00<00:05,  1.66it/s]"
     ]
    },
    {
     "name": "stderr",
     "output_type": "stream",
     "text": [
      "\r",
      "Epoch 0 training 23/30 [LR 0.000986] - loss: 1.5842:  70%|███████████▏    | 21/30 [02:00<00:05,  1.66it/s]"
     ]
    },
    {
     "name": "stderr",
     "output_type": "stream",
     "text": [
      "\r",
      "Epoch 0 training 23/30 [LR 0.000986] - loss: 1.5842:  77%|████████████▎   | 23/30 [02:00<00:03,  2.25it/s]"
     ]
    },
    {
     "name": "stderr",
     "output_type": "stream",
     "text": [
      "\r",
      "Epoch 0 training 24/30 [LR 0.000984] - loss: 1.5829:  77%|████████████▎   | 23/30 [02:00<00:03,  2.25it/s]"
     ]
    },
    {
     "name": "stderr",
     "output_type": "stream",
     "text": [
      "\r",
      "Epoch 0 training 25/30 [LR 0.000983] - loss: 1.5800:  77%|████████████▎   | 23/30 [02:00<00:03,  2.25it/s]"
     ]
    },
    {
     "name": "stderr",
     "output_type": "stream",
     "text": [
      "\r",
      "Epoch 0 training 25/30 [LR 0.000983] - loss: 1.5800:  83%|█████████████▎  | 25/30 [02:00<00:01,  2.98it/s]"
     ]
    },
    {
     "name": "stderr",
     "output_type": "stream",
     "text": [
      "\r",
      "Epoch 0 training 26/30 [LR 0.000982] - loss: 1.5782:  83%|█████████████▎  | 25/30 [02:01<00:01,  2.98it/s]"
     ]
    },
    {
     "name": "stderr",
     "output_type": "stream",
     "text": [
      "\r",
      "Epoch 0 training 27/30 [LR 0.000980] - loss: 1.5748:  83%|█████████████▎  | 25/30 [02:01<00:01,  2.98it/s]"
     ]
    },
    {
     "name": "stderr",
     "output_type": "stream",
     "text": [
      "\r",
      "Epoch 0 training 27/30 [LR 0.000980] - loss: 1.5748:  90%|██████████████▍ | 27/30 [02:01<00:00,  3.84it/s]"
     ]
    },
    {
     "name": "stderr",
     "output_type": "stream",
     "text": [
      "\r",
      "Epoch 0 training 28/30 [LR 0.000979] - loss: 1.5744:  90%|██████████████▍ | 27/30 [02:01<00:00,  3.84it/s]"
     ]
    },
    {
     "name": "stderr",
     "output_type": "stream",
     "text": [
      "\r",
      "Epoch 0 training 29/30 [LR 0.000977] - loss: 1.5730:  90%|██████████████▍ | 27/30 [02:01<00:00,  3.84it/s]"
     ]
    },
    {
     "name": "stderr",
     "output_type": "stream",
     "text": [
      "\r",
      "Epoch 0 training 29/30 [LR 0.000977] - loss: 1.5730:  97%|███████████████▍| 29/30 [02:01<00:00,  4.82it/s]"
     ]
    },
    {
     "name": "stderr",
     "output_type": "stream",
     "text": [
      "\r",
      "Epoch 0 training 30/30 [LR 0.000976] - loss: 1.5717:  97%|███████████████▍| 29/30 [02:01<00:00,  4.82it/s]"
     ]
    },
    {
     "name": "stderr",
     "output_type": "stream",
     "text": [
      "\r",
      "Epoch 0 training 30/30 [LR 0.000976] - loss: 1.5717: 100%|████████████████| 30/30 [02:01<00:00,  4.05s/it]"
     ]
    },
    {
     "name": "stderr",
     "output_type": "stream",
     "text": [
      "\n"
     ]
    },
    {
     "name": "stdout",
     "output_type": "stream",
     "text": [
      "Epoch 0: training loss = 1.5717 auc = 0.5959 accuracy = 0.2406 precision = 0.2818\n"
     ]
    },
    {
     "name": "stderr",
     "output_type": "stream",
     "text": [
      "/home/aakash_ks.iitr/miniconda3/envs/py311/lib/python3.11/site-packages/torch/utils/data/dataloader.py:558: UserWarning: This DataLoader will create 40 worker processes in total. Our suggested max number of worker in current system is 16, which is smaller than what this DataLoader is going to create. Please be aware that excessive worker creation might get DataLoader running slow or even freeze, lower the worker number to avoid potential slowness/freeze if necessary.\n",
      "  warnings.warn(_create_warning_msg(\n"
     ]
    },
    {
     "name": "stderr",
     "output_type": "stream",
     "text": [
      "\r",
      "  0%|                                                                               | 0/8 [00:00<?, ?it/s]"
     ]
    },
    {
     "name": "stderr",
     "output_type": "stream",
     "text": [
      "\r",
      "  0%|                                                                               | 0/8 [00:31<?, ?it/s]"
     ]
    },
    {
     "name": "stderr",
     "output_type": "stream",
     "text": [
      "\n"
     ]
    },
    {
     "ename": "KeyboardInterrupt",
     "evalue": "",
     "output_type": "error",
     "traceback": [
      "\u001b[0;31m---------------------------------------------------------------------------\u001b[0m",
      "\u001b[0;31mKeyboardInterrupt\u001b[0m                         Traceback (most recent call last)",
      "Cell \u001b[0;32mIn[25], line 48\u001b[0m\n\u001b[1;32m     45\u001b[0m \u001b[38;5;28;01mfor\u001b[39;00m epoch \u001b[38;5;129;01min\u001b[39;00m \u001b[38;5;28mrange\u001b[39m(\u001b[38;5;241m0\u001b[39m, CFG\u001b[38;5;241m.\u001b[39mepochs):\n\u001b[1;32m     46\u001b[0m     train_loss, train_lr, train_auc, train_accuracy, train_precision \u001b[38;5;241m=\u001b[39m train_epoch(CFG, model, train_loader, loss_criterion, optimizer, scheduler, epoch)\n\u001b[0;32m---> 48\u001b[0m     val_loss, val_auc, val_accuracy, val_precision \u001b[38;5;241m=\u001b[39m evaluate_model(CFG, model, valid_loader, loss_criterion, epoch)\n\u001b[1;32m     50\u001b[0m     \u001b[38;5;66;03m# Log metrics to wandb\u001b[39;00m\n\u001b[1;32m     51\u001b[0m     wandb\u001b[38;5;241m.\u001b[39mlog({\n\u001b[1;32m     52\u001b[0m         \u001b[38;5;124m'\u001b[39m\u001b[38;5;124mtrain_loss\u001b[39m\u001b[38;5;124m'\u001b[39m: train_loss,\n\u001b[1;32m     53\u001b[0m         \u001b[38;5;124m'\u001b[39m\u001b[38;5;124mtrain_auc\u001b[39m\u001b[38;5;124m'\u001b[39m: train_auc,\n\u001b[0;32m   (...)\u001b[0m\n\u001b[1;32m     60\u001b[0m         \u001b[38;5;124m'\u001b[39m\u001b[38;5;124mlearning_rate\u001b[39m\u001b[38;5;124m'\u001b[39m: train_lr[\u001b[38;5;241m-\u001b[39m\u001b[38;5;241m1\u001b[39m]  \u001b[38;5;66;03m# Log the last learning rate of the epoch\u001b[39;00m\n\u001b[1;32m     61\u001b[0m     })\n",
      "Cell \u001b[0;32mIn[19], line 15\u001b[0m, in \u001b[0;36mevaluate_model\u001b[0;34m(cfg, model, data_loader, loss_criterion, epoch)\u001b[0m\n\u001b[1;32m     12\u001b[0m tk0 \u001b[38;5;241m=\u001b[39m tqdm(\u001b[38;5;28menumerate\u001b[39m(data_loader), total\u001b[38;5;241m=\u001b[39mtotal_len)\n\u001b[1;32m     14\u001b[0m \u001b[38;5;28;01mwith\u001b[39;00m torch\u001b[38;5;241m.\u001b[39mno_grad():\n\u001b[0;32m---> 15\u001b[0m     \u001b[38;5;28;01mfor\u001b[39;00m step, (images, labels) \u001b[38;5;129;01min\u001b[39;00m tk0:\n\u001b[1;32m     16\u001b[0m         images \u001b[38;5;241m=\u001b[39m images\u001b[38;5;241m.\u001b[39mto(device)\n\u001b[1;32m     17\u001b[0m         target \u001b[38;5;241m=\u001b[39m labels\u001b[38;5;241m.\u001b[39mto(device)\n",
      "File \u001b[0;32m~/miniconda3/envs/py311/lib/python3.11/site-packages/tqdm/std.py:1181\u001b[0m, in \u001b[0;36mtqdm.__iter__\u001b[0;34m(self)\u001b[0m\n\u001b[1;32m   1178\u001b[0m time \u001b[38;5;241m=\u001b[39m \u001b[38;5;28mself\u001b[39m\u001b[38;5;241m.\u001b[39m_time\n\u001b[1;32m   1180\u001b[0m \u001b[38;5;28;01mtry\u001b[39;00m:\n\u001b[0;32m-> 1181\u001b[0m     \u001b[38;5;28;01mfor\u001b[39;00m obj \u001b[38;5;129;01min\u001b[39;00m iterable:\n\u001b[1;32m   1182\u001b[0m         \u001b[38;5;28;01myield\u001b[39;00m obj\n\u001b[1;32m   1183\u001b[0m         \u001b[38;5;66;03m# Update and possibly print the progressbar.\u001b[39;00m\n\u001b[1;32m   1184\u001b[0m         \u001b[38;5;66;03m# Note: does not call self.update(1) for speed optimisation.\u001b[39;00m\n",
      "File \u001b[0;32m~/miniconda3/envs/py311/lib/python3.11/site-packages/torch/utils/data/dataloader.py:631\u001b[0m, in \u001b[0;36m_BaseDataLoaderIter.__next__\u001b[0;34m(self)\u001b[0m\n\u001b[1;32m    628\u001b[0m \u001b[38;5;28;01mif\u001b[39;00m \u001b[38;5;28mself\u001b[39m\u001b[38;5;241m.\u001b[39m_sampler_iter \u001b[38;5;129;01mis\u001b[39;00m \u001b[38;5;28;01mNone\u001b[39;00m:\n\u001b[1;32m    629\u001b[0m     \u001b[38;5;66;03m# TODO(https://github.com/pytorch/pytorch/issues/76750)\u001b[39;00m\n\u001b[1;32m    630\u001b[0m     \u001b[38;5;28mself\u001b[39m\u001b[38;5;241m.\u001b[39m_reset()  \u001b[38;5;66;03m# type: ignore[call-arg]\u001b[39;00m\n\u001b[0;32m--> 631\u001b[0m data \u001b[38;5;241m=\u001b[39m \u001b[38;5;28mself\u001b[39m\u001b[38;5;241m.\u001b[39m_next_data()\n\u001b[1;32m    632\u001b[0m \u001b[38;5;28mself\u001b[39m\u001b[38;5;241m.\u001b[39m_num_yielded \u001b[38;5;241m+\u001b[39m\u001b[38;5;241m=\u001b[39m \u001b[38;5;241m1\u001b[39m\n\u001b[1;32m    633\u001b[0m \u001b[38;5;28;01mif\u001b[39;00m \u001b[38;5;28mself\u001b[39m\u001b[38;5;241m.\u001b[39m_dataset_kind \u001b[38;5;241m==\u001b[39m _DatasetKind\u001b[38;5;241m.\u001b[39mIterable \u001b[38;5;129;01mand\u001b[39;00m \\\n\u001b[1;32m    634\u001b[0m         \u001b[38;5;28mself\u001b[39m\u001b[38;5;241m.\u001b[39m_IterableDataset_len_called \u001b[38;5;129;01mis\u001b[39;00m \u001b[38;5;129;01mnot\u001b[39;00m \u001b[38;5;28;01mNone\u001b[39;00m \u001b[38;5;129;01mand\u001b[39;00m \\\n\u001b[1;32m    635\u001b[0m         \u001b[38;5;28mself\u001b[39m\u001b[38;5;241m.\u001b[39m_num_yielded \u001b[38;5;241m>\u001b[39m \u001b[38;5;28mself\u001b[39m\u001b[38;5;241m.\u001b[39m_IterableDataset_len_called:\n",
      "File \u001b[0;32m~/miniconda3/envs/py311/lib/python3.11/site-packages/torch/utils/data/dataloader.py:1329\u001b[0m, in \u001b[0;36m_MultiProcessingDataLoaderIter._next_data\u001b[0;34m(self)\u001b[0m\n\u001b[1;32m   1326\u001b[0m     \u001b[38;5;28;01mreturn\u001b[39;00m \u001b[38;5;28mself\u001b[39m\u001b[38;5;241m.\u001b[39m_process_data(data)\n\u001b[1;32m   1328\u001b[0m \u001b[38;5;28;01massert\u001b[39;00m \u001b[38;5;129;01mnot\u001b[39;00m \u001b[38;5;28mself\u001b[39m\u001b[38;5;241m.\u001b[39m_shutdown \u001b[38;5;129;01mand\u001b[39;00m \u001b[38;5;28mself\u001b[39m\u001b[38;5;241m.\u001b[39m_tasks_outstanding \u001b[38;5;241m>\u001b[39m \u001b[38;5;241m0\u001b[39m\n\u001b[0;32m-> 1329\u001b[0m idx, data \u001b[38;5;241m=\u001b[39m \u001b[38;5;28mself\u001b[39m\u001b[38;5;241m.\u001b[39m_get_data()\n\u001b[1;32m   1330\u001b[0m \u001b[38;5;28mself\u001b[39m\u001b[38;5;241m.\u001b[39m_tasks_outstanding \u001b[38;5;241m-\u001b[39m\u001b[38;5;241m=\u001b[39m \u001b[38;5;241m1\u001b[39m\n\u001b[1;32m   1331\u001b[0m \u001b[38;5;28;01mif\u001b[39;00m \u001b[38;5;28mself\u001b[39m\u001b[38;5;241m.\u001b[39m_dataset_kind \u001b[38;5;241m==\u001b[39m _DatasetKind\u001b[38;5;241m.\u001b[39mIterable:\n\u001b[1;32m   1332\u001b[0m     \u001b[38;5;66;03m# Check for _IterableDatasetStopIteration\u001b[39;00m\n",
      "File \u001b[0;32m~/miniconda3/envs/py311/lib/python3.11/site-packages/torch/utils/data/dataloader.py:1285\u001b[0m, in \u001b[0;36m_MultiProcessingDataLoaderIter._get_data\u001b[0;34m(self)\u001b[0m\n\u001b[1;32m   1283\u001b[0m \u001b[38;5;28;01melif\u001b[39;00m \u001b[38;5;28mself\u001b[39m\u001b[38;5;241m.\u001b[39m_pin_memory:\n\u001b[1;32m   1284\u001b[0m     \u001b[38;5;28;01mwhile\u001b[39;00m \u001b[38;5;28mself\u001b[39m\u001b[38;5;241m.\u001b[39m_pin_memory_thread\u001b[38;5;241m.\u001b[39mis_alive():\n\u001b[0;32m-> 1285\u001b[0m         success, data \u001b[38;5;241m=\u001b[39m \u001b[38;5;28mself\u001b[39m\u001b[38;5;241m.\u001b[39m_try_get_data()\n\u001b[1;32m   1286\u001b[0m         \u001b[38;5;28;01mif\u001b[39;00m success:\n\u001b[1;32m   1287\u001b[0m             \u001b[38;5;28;01mreturn\u001b[39;00m data\n",
      "File \u001b[0;32m~/miniconda3/envs/py311/lib/python3.11/site-packages/torch/utils/data/dataloader.py:1133\u001b[0m, in \u001b[0;36m_MultiProcessingDataLoaderIter._try_get_data\u001b[0;34m(self, timeout)\u001b[0m\n\u001b[1;32m   1120\u001b[0m \u001b[38;5;28;01mdef\u001b[39;00m \u001b[38;5;21m_try_get_data\u001b[39m(\u001b[38;5;28mself\u001b[39m, timeout\u001b[38;5;241m=\u001b[39m_utils\u001b[38;5;241m.\u001b[39mMP_STATUS_CHECK_INTERVAL):\n\u001b[1;32m   1121\u001b[0m     \u001b[38;5;66;03m# Tries to fetch data from `self._data_queue` once for a given timeout.\u001b[39;00m\n\u001b[1;32m   1122\u001b[0m     \u001b[38;5;66;03m# This can also be used as inner loop of fetching without timeout, with\u001b[39;00m\n\u001b[0;32m   (...)\u001b[0m\n\u001b[1;32m   1130\u001b[0m     \u001b[38;5;66;03m# Returns a 2-tuple:\u001b[39;00m\n\u001b[1;32m   1131\u001b[0m     \u001b[38;5;66;03m#   (bool: whether successfully get data, any: data if successful else None)\u001b[39;00m\n\u001b[1;32m   1132\u001b[0m     \u001b[38;5;28;01mtry\u001b[39;00m:\n\u001b[0;32m-> 1133\u001b[0m         data \u001b[38;5;241m=\u001b[39m \u001b[38;5;28mself\u001b[39m\u001b[38;5;241m.\u001b[39m_data_queue\u001b[38;5;241m.\u001b[39mget(timeout\u001b[38;5;241m=\u001b[39mtimeout)\n\u001b[1;32m   1134\u001b[0m         \u001b[38;5;28;01mreturn\u001b[39;00m (\u001b[38;5;28;01mTrue\u001b[39;00m, data)\n\u001b[1;32m   1135\u001b[0m     \u001b[38;5;28;01mexcept\u001b[39;00m \u001b[38;5;167;01mException\u001b[39;00m \u001b[38;5;28;01mas\u001b[39;00m e:\n\u001b[1;32m   1136\u001b[0m         \u001b[38;5;66;03m# At timeout and error, we manually check whether any worker has\u001b[39;00m\n\u001b[1;32m   1137\u001b[0m         \u001b[38;5;66;03m# failed. Note that this is the only mechanism for Windows to detect\u001b[39;00m\n\u001b[1;32m   1138\u001b[0m         \u001b[38;5;66;03m# worker failures.\u001b[39;00m\n",
      "File \u001b[0;32m~/miniconda3/envs/py311/lib/python3.11/queue.py:180\u001b[0m, in \u001b[0;36mQueue.get\u001b[0;34m(self, block, timeout)\u001b[0m\n\u001b[1;32m    178\u001b[0m         \u001b[38;5;28;01mif\u001b[39;00m remaining \u001b[38;5;241m<\u001b[39m\u001b[38;5;241m=\u001b[39m \u001b[38;5;241m0.0\u001b[39m:\n\u001b[1;32m    179\u001b[0m             \u001b[38;5;28;01mraise\u001b[39;00m Empty\n\u001b[0;32m--> 180\u001b[0m         \u001b[38;5;28mself\u001b[39m\u001b[38;5;241m.\u001b[39mnot_empty\u001b[38;5;241m.\u001b[39mwait(remaining)\n\u001b[1;32m    181\u001b[0m item \u001b[38;5;241m=\u001b[39m \u001b[38;5;28mself\u001b[39m\u001b[38;5;241m.\u001b[39m_get()\n\u001b[1;32m    182\u001b[0m \u001b[38;5;28mself\u001b[39m\u001b[38;5;241m.\u001b[39mnot_full\u001b[38;5;241m.\u001b[39mnotify()\n",
      "File \u001b[0;32m~/miniconda3/envs/py311/lib/python3.11/threading.py:331\u001b[0m, in \u001b[0;36mCondition.wait\u001b[0;34m(self, timeout)\u001b[0m\n\u001b[1;32m    329\u001b[0m \u001b[38;5;28;01melse\u001b[39;00m:\n\u001b[1;32m    330\u001b[0m     \u001b[38;5;28;01mif\u001b[39;00m timeout \u001b[38;5;241m>\u001b[39m \u001b[38;5;241m0\u001b[39m:\n\u001b[0;32m--> 331\u001b[0m         gotit \u001b[38;5;241m=\u001b[39m waiter\u001b[38;5;241m.\u001b[39macquire(\u001b[38;5;28;01mTrue\u001b[39;00m, timeout)\n\u001b[1;32m    332\u001b[0m     \u001b[38;5;28;01melse\u001b[39;00m:\n\u001b[1;32m    333\u001b[0m         gotit \u001b[38;5;241m=\u001b[39m waiter\u001b[38;5;241m.\u001b[39macquire(\u001b[38;5;28;01mFalse\u001b[39;00m)\n",
      "\u001b[0;31mKeyboardInterrupt\u001b[0m: "
     ]
    }
   ],
   "source": [
    "for FOLD in CFG.train_folds:\n",
    "    seed_everything(CFG.seed)\n",
    "\n",
    "    # PREPARE DATA\n",
    "    fold_train_data = train_data[train_data[\"fold\"] != FOLD].reset_index(drop=True)\n",
    "    fold_valid_data = train_data[train_data[\"fold\"] == FOLD].reset_index(drop=True)\n",
    "\n",
    "    train_dataset = ImageTrainDataset(TRAIN_DATA_FOLDER, fold_train_data, transforms=train_transforms)\n",
    "    valid_dataset = ImageTrainDataset(TRAIN_DATA_FOLDER, fold_valid_data, transforms=val_transforms)\n",
    "\n",
    "    train_loader = DataLoader(\n",
    "            train_dataset,\n",
    "            batch_size=CFG.batch_size,\n",
    "            shuffle=True,\n",
    "            num_workers=os.cpu_count(),\n",
    "            pin_memory=True,\n",
    "            drop_last=True\n",
    "        )\n",
    "\n",
    "    valid_loader = DataLoader(\n",
    "        valid_dataset,\n",
    "        batch_size=CFG.batch_size,\n",
    "        shuffle=False,\n",
    "        num_workers=os.cpu_count(),\n",
    "        pin_memory=True,\n",
    "        drop_last=False,\n",
    "    )\n",
    "\n",
    "    # PREPARE MODEL, OPTIMIZER AND SCHEDULER\n",
    "    model = create_model()\n",
    "    print(f\"Model parameters: {sum(p.numel() for p in model.parameters() if p.requires_grad):_}\")\n",
    "\n",
    "    optimizer = torch.optim.AdamW(model.parameters(), lr=CFG.lr, weight_decay=CFG.weight_decay)\n",
    "    scheduler = torch.optim.lr_scheduler.CosineAnnealingLR(\n",
    "        optimizer, eta_min=1e-6, T_max =CFG.epochs * len(train_loader),\n",
    "        )\n",
    "    \n",
    "    loss_criterion = nn.CrossEntropyLoss()\n",
    "\n",
    "    # TRAIN FOLD\n",
    "    best_score = 0\n",
    "    \n",
    "    wandb.run.tags = [f\"fold_{FOLD}\"]\n",
    "    \n",
    "    for epoch in range(0, CFG.epochs):\n",
    "        train_loss, train_lr, train_auc, train_accuracy, train_precision = train_epoch(CFG, model, train_loader, loss_criterion, optimizer, scheduler, epoch)\n",
    "\n",
    "        val_loss, val_auc, val_accuracy, val_precision = evaluate_model(CFG, model, valid_loader, loss_criterion, epoch)\n",
    "        \n",
    "        # Log metrics to wandb\n",
    "        wandb.log({\n",
    "            'train_loss': train_loss,\n",
    "            'train_auc': train_auc,\n",
    "            'train_accuracy': train_accuracy,\n",
    "            'train_precision': train_precision,\n",
    "            'val_loss': val_loss,\n",
    "            'val_auc': val_auc,\n",
    "            'val_accuracy': val_accuracy,\n",
    "            'val_precision': val_precision,\n",
    "            'learning_rate': train_lr[-1]  # Log the last learning rate of the epoch\n",
    "        })\n",
    "\n",
    "        if (val_auc > best_score):\n",
    "            print(f\"{style.GREEN}New best score: {best_score:.4f} -> {val_auc:.4f}{style.END}\")\n",
    "            best_score = val_auc\n",
    "            torch.save(model.state_dict(), os.path.join(wandb.run.dir, f'best_model_fold_{FOLD}.pth'))\n",
    "            \n",
    "\n",
    "    # plot a tsne plot of all the images using embeddings from the model\n",
    "    full_dataset = ImageTrainDataset(TRAIN_DATA_FOLDER, train_data, transforms=val_transforms)\n",
    "    loader = DataLoader(\n",
    "        full_dataset,\n",
    "        batch_size=CFG.batch_size,\n",
    "        shuffle=False,\n",
    "        num_workers=os.cpu_count(),\n",
    "        pin_memory=True,\n",
    "        drop_last=False,\n",
    "    )\n",
    "    \n",
    "    features, targets = get_embeddings(model, loader)\n",
    "    plot_tsne(features, targets)"
   ]
  },
  {
   "cell_type": "code",
   "execution_count": null,
   "id": "bd89b1ab",
   "metadata": {
    "papermill": {
     "duration": null,
     "end_time": null,
     "exception": null,
     "start_time": null,
     "status": "completed"
    },
    "tags": []
   },
   "outputs": [],
   "source": [
    "wandb.finish()"
   ]
  },
  {
   "cell_type": "code",
   "execution_count": null,
   "id": "170f4772",
   "metadata": {
    "papermill": {
     "duration": null,
     "end_time": null,
     "exception": null,
     "start_time": null,
     "status": "completed"
    },
    "tags": []
   },
   "outputs": [],
   "source": []
  }
 ],
 "metadata": {
  "accelerator": "GPU",
  "colab": {
   "provenance": [],
   "toc_visible": true
  },
  "kaggle": {
   "accelerator": "gpu",
   "dataSources": [
    {
     "datasetId": 4568125,
     "sourceId": 7801430,
     "sourceType": "datasetVersion"
    },
    {
     "datasetId": 4568781,
     "sourceId": 7877494,
     "sourceType": "datasetVersion"
    }
   ],
   "dockerImageVersionId": 30664,
   "isGpuEnabled": true,
   "isInternetEnabled": true,
   "language": "python",
   "sourceType": "notebook"
  },
  "kernelspec": {
   "display_name": "Python 3 (ipykernel)",
   "language": "python",
   "name": "python3"
  },
  "language_info": {
   "codemirror_mode": {
    "name": "ipython",
    "version": 3
   },
   "file_extension": ".py",
   "mimetype": "text/x-python",
   "name": "python",
   "nbconvert_exporter": "python",
   "pygments_lexer": "ipython3",
   "version": "3.11.9"
  },
  "papermill": {
   "default_parameters": {},
   "duration": 176.228023,
   "end_time": "2024-05-12T05:37:42.672797",
   "environment_variables": {},
   "exception": null,
   "input_path": "model_full_train.ipynb",
   "output_path": "output/o2.ipynb",
   "parameters": {},
   "start_time": "2024-05-12T05:34:46.444774",
   "version": "2.6.0"
  },
  "widgets": {
   "application/vnd.jupyter.widget-state+json": {
    "08d2c86ce4ab4b9e813473170145d4af": {
     "model_module": "@jupyter-widgets/controls",
     "model_module_version": "1.5.0",
     "model_name": "HTMLModel",
     "state": {
      "_dom_classes": [],
      "_model_module": "@jupyter-widgets/controls",
      "_model_module_version": "1.5.0",
      "_model_name": "HTMLModel",
      "_view_count": null,
      "_view_module": "@jupyter-widgets/controls",
      "_view_module_version": "1.5.0",
      "_view_name": "HTMLView",
      "description": "",
      "description_tooltip": null,
      "layout": "IPY_MODEL_96fb1b36ead648c4a4ebebb74c9fcf2c",
      "placeholder": "​",
      "style": "IPY_MODEL_af10206931434c6fbfde31af25affbfa",
      "value": "model.safetensors: 100%"
     }
    },
    "103798aed0c64914b55a691a4d22253e": {
     "model_module": "@jupyter-widgets/controls",
     "model_module_version": "1.5.0",
     "model_name": "HTMLModel",
     "state": {
      "_dom_classes": [],
      "_model_module": "@jupyter-widgets/controls",
      "_model_module_version": "1.5.0",
      "_model_name": "HTMLModel",
      "_view_count": null,
      "_view_module": "@jupyter-widgets/controls",
      "_view_module_version": "1.5.0",
      "_view_name": "HTMLView",
      "description": "",
      "description_tooltip": null,
      "layout": "IPY_MODEL_4420cb88a6a74540a671a529e7320589",
      "placeholder": "​",
      "style": "IPY_MODEL_6b7cb0c6580d4caba2c4f8385749a145",
      "value": " 124M/124M [00:00&lt;00:00, 384MB/s]"
     }
    },
    "2831af4d288b45b688ba9b5992dce3f4": {
     "model_module": "@jupyter-widgets/controls",
     "model_module_version": "1.5.0",
     "model_name": "FloatProgressModel",
     "state": {
      "_dom_classes": [],
      "_model_module": "@jupyter-widgets/controls",
      "_model_module_version": "1.5.0",
      "_model_name": "FloatProgressModel",
      "_view_count": null,
      "_view_module": "@jupyter-widgets/controls",
      "_view_module_version": "1.5.0",
      "_view_name": "ProgressView",
      "bar_style": "success",
      "description": "",
      "description_tooltip": null,
      "layout": "IPY_MODEL_a3763df1b6564f319afc8d67073af72f",
      "max": 124450218,
      "min": 0,
      "orientation": "horizontal",
      "style": "IPY_MODEL_a4c3f492a9b946a0b72df7ea6bb188a9",
      "value": 124450218
     }
    },
    "4420cb88a6a74540a671a529e7320589": {
     "model_module": "@jupyter-widgets/base",
     "model_module_version": "1.2.0",
     "model_name": "LayoutModel",
     "state": {
      "_model_module": "@jupyter-widgets/base",
      "_model_module_version": "1.2.0",
      "_model_name": "LayoutModel",
      "_view_count": null,
      "_view_module": "@jupyter-widgets/base",
      "_view_module_version": "1.2.0",
      "_view_name": "LayoutView",
      "align_content": null,
      "align_items": null,
      "align_self": null,
      "border": null,
      "bottom": null,
      "display": null,
      "flex": null,
      "flex_flow": null,
      "grid_area": null,
      "grid_auto_columns": null,
      "grid_auto_flow": null,
      "grid_auto_rows": null,
      "grid_column": null,
      "grid_gap": null,
      "grid_row": null,
      "grid_template_areas": null,
      "grid_template_columns": null,
      "grid_template_rows": null,
      "height": null,
      "justify_content": null,
      "justify_items": null,
      "left": null,
      "margin": null,
      "max_height": null,
      "max_width": null,
      "min_height": null,
      "min_width": null,
      "object_fit": null,
      "object_position": null,
      "order": null,
      "overflow": null,
      "overflow_x": null,
      "overflow_y": null,
      "padding": null,
      "right": null,
      "top": null,
      "visibility": null,
      "width": null
     }
    },
    "6b7cb0c6580d4caba2c4f8385749a145": {
     "model_module": "@jupyter-widgets/controls",
     "model_module_version": "1.5.0",
     "model_name": "DescriptionStyleModel",
     "state": {
      "_model_module": "@jupyter-widgets/controls",
      "_model_module_version": "1.5.0",
      "_model_name": "DescriptionStyleModel",
      "_view_count": null,
      "_view_module": "@jupyter-widgets/base",
      "_view_module_version": "1.2.0",
      "_view_name": "StyleView",
      "description_width": ""
     }
    },
    "87901707be784b03998e8b8093255ea6": {
     "model_module": "@jupyter-widgets/base",
     "model_module_version": "1.2.0",
     "model_name": "LayoutModel",
     "state": {
      "_model_module": "@jupyter-widgets/base",
      "_model_module_version": "1.2.0",
      "_model_name": "LayoutModel",
      "_view_count": null,
      "_view_module": "@jupyter-widgets/base",
      "_view_module_version": "1.2.0",
      "_view_name": "LayoutView",
      "align_content": null,
      "align_items": null,
      "align_self": null,
      "border": null,
      "bottom": null,
      "display": null,
      "flex": null,
      "flex_flow": null,
      "grid_area": null,
      "grid_auto_columns": null,
      "grid_auto_flow": null,
      "grid_auto_rows": null,
      "grid_column": null,
      "grid_gap": null,
      "grid_row": null,
      "grid_template_areas": null,
      "grid_template_columns": null,
      "grid_template_rows": null,
      "height": null,
      "justify_content": null,
      "justify_items": null,
      "left": null,
      "margin": null,
      "max_height": null,
      "max_width": null,
      "min_height": null,
      "min_width": null,
      "object_fit": null,
      "object_position": null,
      "order": null,
      "overflow": null,
      "overflow_x": null,
      "overflow_y": null,
      "padding": null,
      "right": null,
      "top": null,
      "visibility": null,
      "width": null
     }
    },
    "96fb1b36ead648c4a4ebebb74c9fcf2c": {
     "model_module": "@jupyter-widgets/base",
     "model_module_version": "1.2.0",
     "model_name": "LayoutModel",
     "state": {
      "_model_module": "@jupyter-widgets/base",
      "_model_module_version": "1.2.0",
      "_model_name": "LayoutModel",
      "_view_count": null,
      "_view_module": "@jupyter-widgets/base",
      "_view_module_version": "1.2.0",
      "_view_name": "LayoutView",
      "align_content": null,
      "align_items": null,
      "align_self": null,
      "border": null,
      "bottom": null,
      "display": null,
      "flex": null,
      "flex_flow": null,
      "grid_area": null,
      "grid_auto_columns": null,
      "grid_auto_flow": null,
      "grid_auto_rows": null,
      "grid_column": null,
      "grid_gap": null,
      "grid_row": null,
      "grid_template_areas": null,
      "grid_template_columns": null,
      "grid_template_rows": null,
      "height": null,
      "justify_content": null,
      "justify_items": null,
      "left": null,
      "margin": null,
      "max_height": null,
      "max_width": null,
      "min_height": null,
      "min_width": null,
      "object_fit": null,
      "object_position": null,
      "order": null,
      "overflow": null,
      "overflow_x": null,
      "overflow_y": null,
      "padding": null,
      "right": null,
      "top": null,
      "visibility": null,
      "width": null
     }
    },
    "a3763df1b6564f319afc8d67073af72f": {
     "model_module": "@jupyter-widgets/base",
     "model_module_version": "1.2.0",
     "model_name": "LayoutModel",
     "state": {
      "_model_module": "@jupyter-widgets/base",
      "_model_module_version": "1.2.0",
      "_model_name": "LayoutModel",
      "_view_count": null,
      "_view_module": "@jupyter-widgets/base",
      "_view_module_version": "1.2.0",
      "_view_name": "LayoutView",
      "align_content": null,
      "align_items": null,
      "align_self": null,
      "border": null,
      "bottom": null,
      "display": null,
      "flex": null,
      "flex_flow": null,
      "grid_area": null,
      "grid_auto_columns": null,
      "grid_auto_flow": null,
      "grid_auto_rows": null,
      "grid_column": null,
      "grid_gap": null,
      "grid_row": null,
      "grid_template_areas": null,
      "grid_template_columns": null,
      "grid_template_rows": null,
      "height": null,
      "justify_content": null,
      "justify_items": null,
      "left": null,
      "margin": null,
      "max_height": null,
      "max_width": null,
      "min_height": null,
      "min_width": null,
      "object_fit": null,
      "object_position": null,
      "order": null,
      "overflow": null,
      "overflow_x": null,
      "overflow_y": null,
      "padding": null,
      "right": null,
      "top": null,
      "visibility": null,
      "width": null
     }
    },
    "a4c3f492a9b946a0b72df7ea6bb188a9": {
     "model_module": "@jupyter-widgets/controls",
     "model_module_version": "1.5.0",
     "model_name": "ProgressStyleModel",
     "state": {
      "_model_module": "@jupyter-widgets/controls",
      "_model_module_version": "1.5.0",
      "_model_name": "ProgressStyleModel",
      "_view_count": null,
      "_view_module": "@jupyter-widgets/base",
      "_view_module_version": "1.2.0",
      "_view_name": "StyleView",
      "bar_color": null,
      "description_width": ""
     }
    },
    "af10206931434c6fbfde31af25affbfa": {
     "model_module": "@jupyter-widgets/controls",
     "model_module_version": "1.5.0",
     "model_name": "DescriptionStyleModel",
     "state": {
      "_model_module": "@jupyter-widgets/controls",
      "_model_module_version": "1.5.0",
      "_model_name": "DescriptionStyleModel",
      "_view_count": null,
      "_view_module": "@jupyter-widgets/base",
      "_view_module_version": "1.2.0",
      "_view_name": "StyleView",
      "description_width": ""
     }
    },
    "b53d0ba4ae3e496092fdf021cb4097aa": {
     "model_module": "@jupyter-widgets/controls",
     "model_module_version": "1.5.0",
     "model_name": "HBoxModel",
     "state": {
      "_dom_classes": [],
      "_model_module": "@jupyter-widgets/controls",
      "_model_module_version": "1.5.0",
      "_model_name": "HBoxModel",
      "_view_count": null,
      "_view_module": "@jupyter-widgets/controls",
      "_view_module_version": "1.5.0",
      "_view_name": "HBoxView",
      "box_style": "",
      "children": [
       "IPY_MODEL_08d2c86ce4ab4b9e813473170145d4af",
       "IPY_MODEL_2831af4d288b45b688ba9b5992dce3f4",
       "IPY_MODEL_103798aed0c64914b55a691a4d22253e"
      ],
      "layout": "IPY_MODEL_87901707be784b03998e8b8093255ea6"
     }
    }
   }
  }
 },
 "nbformat": 4,
 "nbformat_minor": 5
}