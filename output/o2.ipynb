{
 "cells": [
  {
   "cell_type": "markdown",
   "id": "632978c6",
   "metadata": {
    "tags": [
     "papermill-error-cell-tag"
    ]
   },
   "source": [
    "<span style=\"color:red; font-family:Helvetica Neue, Helvetica, Arial, sans-serif; font-size:2em;\">An Exception was encountered at '<a href=\"#papermill-error-cell\">In [25]</a>'.</span>"
   ]
  },
  {
   "cell_type": "markdown",
   "id": "02f21048",
   "metadata": {
    "id": "JC-p4CpT1_Lc",
    "papermill": {
     "duration": 0.021397,
     "end_time": "2024-05-12T00:38:11.336933",
     "exception": false,
     "start_time": "2024-05-12T00:38:11.315536",
     "status": "completed"
    },
    "tags": []
   },
   "source": [
    "# Load Data"
   ]
  },
  {
   "cell_type": "code",
   "execution_count": 1,
   "id": "d7fb42ac",
   "metadata": {
    "execution": {
     "iopub.execute_input": "2024-05-12T00:38:11.367554Z",
     "iopub.status.busy": "2024-05-12T00:38:11.366978Z",
     "iopub.status.idle": "2024-05-12T00:38:11.379366Z",
     "shell.execute_reply": "2024-05-12T00:38:11.378420Z"
    },
    "id": "gr9MjCphpOPx",
    "papermill": {
     "duration": 0.029162,
     "end_time": "2024-05-12T00:38:11.381693",
     "exception": false,
     "start_time": "2024-05-12T00:38:11.352531",
     "status": "completed"
    },
    "tags": []
   },
   "outputs": [],
   "source": [
    "# where we will unpack data\n",
    "# OUTPUT_FOLDER = \"/kaggle/working/\"\n",
    "# DATA_FOLDER = \"/kaggle/input/solfune-satellite/\"\n",
    "# TRAIN_DATA_FOLDER = DATA_FOLDER + 'train/'\n",
    "\n",
    "OUTPUT_FOLDER = \"/scratch/aakash_ks.iitr/dr-scnn/\"\n",
    "DATA_FOLDER = \"/scratch/aakash_ks.iitr/data/diabetic-retinopathy/\"\n",
    "TRAIN_DATA_FOLDER = DATA_FOLDER + 'resized_train/'\n",
    "# TRAIN_DATA_FOLDER = DATA_FOLDER + 'resized_train_c/'\n",
    "\n",
    "# TEST_DATA_FOLDER = DATA_FOLDER + 'test/'"
   ]
  },
  {
   "cell_type": "markdown",
   "id": "2c08aedf",
   "metadata": {
    "id": "dOaKi5h92DBb",
    "papermill": {
     "duration": 0.010228,
     "end_time": "2024-05-12T00:38:11.402912",
     "exception": false,
     "start_time": "2024-05-12T00:38:11.392684",
     "status": "completed"
    },
    "tags": []
   },
   "source": [
    "# Imports"
   ]
  },
  {
   "cell_type": "code",
   "execution_count": 2,
   "id": "99ebd88c",
   "metadata": {
    "execution": {
     "iopub.execute_input": "2024-05-12T00:38:11.424353Z",
     "iopub.status.busy": "2024-05-12T00:38:11.423782Z",
     "iopub.status.idle": "2024-05-12T00:38:12.673831Z",
     "shell.execute_reply": "2024-05-12T00:38:12.673324Z"
    },
    "id": "NNdj2cxdkpiv",
    "papermill": {
     "duration": 1.263955,
     "end_time": "2024-05-12T00:38:12.676863",
     "exception": false,
     "start_time": "2024-05-12T00:38:11.412908",
     "status": "completed"
    },
    "tags": []
   },
   "outputs": [],
   "source": [
    "import os\n",
    "import random\n",
    "import numpy as np\n",
    "import pandas as pd\n",
    "import matplotlib.pyplot as plt\n",
    "import seaborn as sns\n",
    "from tqdm import tqdm\n",
    "\n",
    "from PIL import Image"
   ]
  },
  {
   "cell_type": "code",
   "execution_count": 3,
   "id": "4006e9a9",
   "metadata": {
    "execution": {
     "iopub.execute_input": "2024-05-12T00:38:12.708652Z",
     "iopub.status.busy": "2024-05-12T00:38:12.708433Z",
     "iopub.status.idle": "2024-05-12T00:38:16.180355Z",
     "shell.execute_reply": "2024-05-12T00:38:16.179819Z"
    },
    "id": "7yoCqGCB2jIS",
    "papermill": {
     "duration": 3.488744,
     "end_time": "2024-05-12T00:38:16.182062",
     "exception": false,
     "start_time": "2024-05-12T00:38:12.693318",
     "status": "completed"
    },
    "tags": []
   },
   "outputs": [
    {
     "name": "stderr",
     "output_type": "stream",
     "text": [
      "/home/aakash_ks.iitr/miniconda3/envs/py311/lib/python3.11/site-packages/tqdm/auto.py:21: TqdmWarning: IProgress not found. Please update jupyter and ipywidgets. See https://ipywidgets.readthedocs.io/en/stable/user_install.html\n",
      "  from .autonotebook import tqdm as notebook_tqdm\n"
     ]
    }
   ],
   "source": [
    "import torch\n",
    "import torch.nn.functional as F\n",
    "import torch.nn as nn\n",
    "\n",
    "from torch.utils.data import DataLoader, Dataset, WeightedRandomSampler\n",
    "from torchvision.transforms import v2\n",
    "\n",
    "import timm"
   ]
  },
  {
   "cell_type": "code",
   "execution_count": 4,
   "id": "1521eb9f",
   "metadata": {
    "execution": {
     "iopub.execute_input": "2024-05-12T00:38:16.201645Z",
     "iopub.status.busy": "2024-05-12T00:38:16.201274Z",
     "iopub.status.idle": "2024-05-12T00:38:16.214134Z",
     "shell.execute_reply": "2024-05-12T00:38:16.213695Z"
    },
    "id": "8Ejzj4rDx_GK",
    "papermill": {
     "duration": 0.02391,
     "end_time": "2024-05-12T00:38:16.215564",
     "exception": false,
     "start_time": "2024-05-12T00:38:16.191654",
     "status": "completed"
    },
    "tags": []
   },
   "outputs": [],
   "source": [
    "\n",
    "NUM_CLASSES = 5\n",
    "\n",
    "class CFG:\n",
    "    seed = 29\n",
    "    N_folds = 5\n",
    "    train_folds = [0] # [0,1,2,3,4]\n",
    "\n",
    "    device = 'cuda' if torch.cuda.is_available() else 'cpu'\n",
    "    apex=True # use half precision\n",
    "\n",
    "    # model_name = \"maxvit_tiny_tf_512\"\n",
    "    model_name = \"resnet50.a1_in1k\"\n",
    "    epochs = 20\n",
    "    cropped = False\n",
    "    # weights =  torch.tensor([0.206119, 0.793881],dtype=torch.float32)\n",
    "\n",
    "    clip_val = 1000.\n",
    "    batch_size = 32\n",
    "    # gradient_accumulation_steps = 1\n",
    "\n",
    "    lr = 1e-4\n",
    "    weight_decay=1e-2\n",
    "    \n",
    "    resolution = 224"
   ]
  },
  {
   "cell_type": "code",
   "execution_count": 5,
   "id": "9b696308",
   "metadata": {
    "execution": {
     "iopub.execute_input": "2024-05-12T00:38:16.232691Z",
     "iopub.status.busy": "2024-05-12T00:38:16.232545Z",
     "iopub.status.idle": "2024-05-12T00:38:21.237272Z",
     "shell.execute_reply": "2024-05-12T00:38:21.236585Z"
    },
    "papermill": {
     "duration": 5.014926,
     "end_time": "2024-05-12T00:38:21.238697",
     "exception": false,
     "start_time": "2024-05-12T00:38:16.223771",
     "status": "completed"
    },
    "tags": []
   },
   "outputs": [
    {
     "name": "stderr",
     "output_type": "stream",
     "text": [
      "\u001b[34m\u001b[1mwandb\u001b[0m: Currently logged in as: \u001b[33maakashks_\u001b[0m. Use \u001b[1m`wandb login --relogin`\u001b[0m to force relogin\n"
     ]
    },
    {
     "name": "stderr",
     "output_type": "stream",
     "text": [
      "\u001b[34m\u001b[1mwandb\u001b[0m: wandb version 0.17.0 is available!  To upgrade, please run:\n",
      "\u001b[34m\u001b[1mwandb\u001b[0m:  $ pip install wandb --upgrade\n"
     ]
    },
    {
     "name": "stderr",
     "output_type": "stream",
     "text": [
      "\u001b[34m\u001b[1mwandb\u001b[0m: Tracking run with wandb version 0.16.5\n"
     ]
    },
    {
     "name": "stderr",
     "output_type": "stream",
     "text": [
      "\u001b[34m\u001b[1mwandb\u001b[0m: Run data is saved locally in \u001b[35m\u001b[1m/scratch/aakash_ks.iitr/dr-scnn/wandb/run-20240512_060817-gdxin7zu\u001b[0m\n",
      "\u001b[34m\u001b[1mwandb\u001b[0m: Run \u001b[1m`wandb offline`\u001b[0m to turn off syncing.\n"
     ]
    },
    {
     "name": "stderr",
     "output_type": "stream",
     "text": [
      "\u001b[34m\u001b[1mwandb\u001b[0m: Syncing run \u001b[33mgrateful-wind-49\u001b[0m\n"
     ]
    },
    {
     "name": "stderr",
     "output_type": "stream",
     "text": [
      "\u001b[34m\u001b[1mwandb\u001b[0m: ⭐️ View project at \u001b[34m\u001b[4mhttps://wandb.ai/aakashks_/hello-world\u001b[0m\n"
     ]
    },
    {
     "name": "stderr",
     "output_type": "stream",
     "text": [
      "\u001b[34m\u001b[1mwandb\u001b[0m: 🚀 View run at \u001b[34m\u001b[4mhttps://wandb.ai/aakashks_/hello-world/runs/gdxin7zu/workspace\u001b[0m\n"
     ]
    }
   ],
   "source": [
    "import wandb\n",
    "# from kaggle_secrets import UserSecretsClient\n",
    "# user_secrets = UserSecretsClient()\n",
    "# wandb.login(key=user_secrets.get_secret(\"wandb_api\"))\n",
    "\n",
    "run = wandb.init(\n",
    "    project=\"hello-world\", \n",
    "    dir=OUTPUT_FOLDER,\n",
    "    config={\n",
    "    k:v for k, v in CFG.__dict__.items() if not k.startswith('__')}\n",
    ")"
   ]
  },
  {
   "cell_type": "code",
   "execution_count": 6,
   "id": "59763f24",
   "metadata": {
    "execution": {
     "iopub.execute_input": "2024-05-12T00:38:21.255435Z",
     "iopub.status.busy": "2024-05-12T00:38:21.255116Z",
     "iopub.status.idle": "2024-05-12T00:38:21.258906Z",
     "shell.execute_reply": "2024-05-12T00:38:21.258296Z"
    },
    "papermill": {
     "duration": 0.013065,
     "end_time": "2024-05-12T00:38:21.260083",
     "exception": false,
     "start_time": "2024-05-12T00:38:21.247018",
     "status": "completed"
    },
    "tags": []
   },
   "outputs": [],
   "source": [
    "device = torch.device(CFG.device)"
   ]
  },
  {
   "cell_type": "markdown",
   "id": "259422fe",
   "metadata": {
    "id": "7Ve34id2b7uu",
    "papermill": {
     "duration": 0.006348,
     "end_time": "2024-05-12T00:38:21.272971",
     "exception": false,
     "start_time": "2024-05-12T00:38:21.266623",
     "status": "completed"
    },
    "tags": []
   },
   "source": [
    "# Load train data"
   ]
  },
  {
   "cell_type": "code",
   "execution_count": 7,
   "id": "f3e53ff8",
   "metadata": {
    "execution": {
     "iopub.execute_input": "2024-05-12T00:38:21.286647Z",
     "iopub.status.busy": "2024-05-12T00:38:21.286358Z",
     "iopub.status.idle": "2024-05-12T00:38:21.328355Z",
     "shell.execute_reply": "2024-05-12T00:38:21.327622Z"
    },
    "id": "mq-oqFtvkpix",
    "papermill": {
     "duration": 0.050845,
     "end_time": "2024-05-12T00:38:21.330102",
     "exception": false,
     "start_time": "2024-05-12T00:38:21.279257",
     "status": "completed"
    },
    "tags": []
   },
   "outputs": [
    {
     "data": {
      "text/html": [
       "<div>\n",
       "<style scoped>\n",
       "    .dataframe tbody tr th:only-of-type {\n",
       "        vertical-align: middle;\n",
       "    }\n",
       "\n",
       "    .dataframe tbody tr th {\n",
       "        vertical-align: top;\n",
       "    }\n",
       "\n",
       "    .dataframe thead th {\n",
       "        text-align: right;\n",
       "    }\n",
       "</style>\n",
       "<table border=\"1\" class=\"dataframe\">\n",
       "  <thead>\n",
       "    <tr style=\"text-align: right;\">\n",
       "      <th></th>\n",
       "      <th>image</th>\n",
       "      <th>level</th>\n",
       "    </tr>\n",
       "  </thead>\n",
       "  <tbody>\n",
       "    <tr>\n",
       "      <th>0</th>\n",
       "      <td>10_left</td>\n",
       "      <td>0</td>\n",
       "    </tr>\n",
       "    <tr>\n",
       "      <th>1</th>\n",
       "      <td>10_right</td>\n",
       "      <td>0</td>\n",
       "    </tr>\n",
       "    <tr>\n",
       "      <th>2</th>\n",
       "      <td>13_left</td>\n",
       "      <td>0</td>\n",
       "    </tr>\n",
       "    <tr>\n",
       "      <th>3</th>\n",
       "      <td>13_right</td>\n",
       "      <td>0</td>\n",
       "    </tr>\n",
       "    <tr>\n",
       "      <th>4</th>\n",
       "      <td>15_left</td>\n",
       "      <td>1</td>\n",
       "    </tr>\n",
       "    <tr>\n",
       "      <th>...</th>\n",
       "      <td>...</td>\n",
       "      <td>...</td>\n",
       "    </tr>\n",
       "    <tr>\n",
       "      <th>35121</th>\n",
       "      <td>44347_right</td>\n",
       "      <td>0</td>\n",
       "    </tr>\n",
       "    <tr>\n",
       "      <th>35122</th>\n",
       "      <td>44348_left</td>\n",
       "      <td>0</td>\n",
       "    </tr>\n",
       "    <tr>\n",
       "      <th>35123</th>\n",
       "      <td>44348_right</td>\n",
       "      <td>0</td>\n",
       "    </tr>\n",
       "    <tr>\n",
       "      <th>35124</th>\n",
       "      <td>44349_left</td>\n",
       "      <td>0</td>\n",
       "    </tr>\n",
       "    <tr>\n",
       "      <th>35125</th>\n",
       "      <td>44349_right</td>\n",
       "      <td>1</td>\n",
       "    </tr>\n",
       "  </tbody>\n",
       "</table>\n",
       "<p>35126 rows × 2 columns</p>\n",
       "</div>"
      ],
      "text/plain": [
       "             image  level\n",
       "0          10_left      0\n",
       "1         10_right      0\n",
       "2          13_left      0\n",
       "3         13_right      0\n",
       "4          15_left      1\n",
       "...            ...    ...\n",
       "35121  44347_right      0\n",
       "35122   44348_left      0\n",
       "35123  44348_right      0\n",
       "35124   44349_left      0\n",
       "35125  44349_right      1\n",
       "\n",
       "[35126 rows x 2 columns]"
      ]
     },
     "execution_count": 7,
     "metadata": {},
     "output_type": "execute_result"
    }
   ],
   "source": [
    "train_data = pd.read_csv(os.path.join(DATA_FOLDER, 'trainLabels.csv'))\n",
    "# train_data = pd.read_csv(os.path.join(DATA_FOLDER, 'trainLabels_cropped.csv'))\n",
    "train_data"
   ]
  },
  {
   "cell_type": "code",
   "execution_count": 8,
   "id": "56263ef8",
   "metadata": {
    "execution": {
     "iopub.execute_input": "2024-05-12T00:38:21.351694Z",
     "iopub.status.busy": "2024-05-12T00:38:21.351345Z",
     "iopub.status.idle": "2024-05-12T00:38:21.392148Z",
     "shell.execute_reply": "2024-05-12T00:38:21.391248Z"
    },
    "papermill": {
     "duration": 0.054239,
     "end_time": "2024-05-12T00:38:21.394821",
     "exception": false,
     "start_time": "2024-05-12T00:38:21.340582",
     "status": "completed"
    },
    "tags": []
   },
   "outputs": [
    {
     "data": {
      "text/plain": [
       "35126"
      ]
     },
     "execution_count": 8,
     "metadata": {},
     "output_type": "execute_result"
    }
   ],
   "source": [
    "# remove all images from the csv if they are not in the folder\n",
    "lst = map(lambda x: x[:-5], os.listdir(TRAIN_DATA_FOLDER))\n",
    "train_data = train_data[train_data.image.isin(lst)]\n",
    "len(train_data)"
   ]
  },
  {
   "cell_type": "code",
   "execution_count": 9,
   "id": "e8e108fa",
   "metadata": {
    "execution": {
     "iopub.execute_input": "2024-05-12T00:38:21.427291Z",
     "iopub.status.busy": "2024-05-12T00:38:21.426979Z",
     "iopub.status.idle": "2024-05-12T00:38:21.432871Z",
     "shell.execute_reply": "2024-05-12T00:38:21.432232Z"
    },
    "papermill": {
     "duration": 0.022672,
     "end_time": "2024-05-12T00:38:21.434814",
     "exception": false,
     "start_time": "2024-05-12T00:38:21.412142",
     "status": "completed"
    },
    "tags": []
   },
   "outputs": [
    {
     "data": {
      "text/plain": [
       "level\n",
       "0    25810\n",
       "2     5292\n",
       "1     2443\n",
       "3      873\n",
       "4      708\n",
       "Name: count, dtype: int64"
      ]
     },
     "execution_count": 9,
     "metadata": {},
     "output_type": "execute_result"
    }
   ],
   "source": [
    "train_data.level.value_counts()"
   ]
  },
  {
   "cell_type": "code",
   "execution_count": 10,
   "id": "d1d4dc41",
   "metadata": {
    "execution": {
     "iopub.execute_input": "2024-05-12T00:38:21.459889Z",
     "iopub.status.busy": "2024-05-12T00:38:21.459711Z",
     "iopub.status.idle": "2024-05-12T00:38:21.467587Z",
     "shell.execute_reply": "2024-05-12T00:38:21.466725Z"
    },
    "papermill": {
     "duration": 0.022017,
     "end_time": "2024-05-12T00:38:21.469292",
     "exception": false,
     "start_time": "2024-05-12T00:38:21.447275",
     "status": "completed"
    },
    "tags": []
   },
   "outputs": [
    {
     "data": {
      "text/plain": [
       "level\n",
       "0    1000\n",
       "1    1000\n",
       "2    1000\n",
       "3     873\n",
       "4     708\n",
       "Name: count, dtype: int64"
      ]
     },
     "execution_count": 10,
     "metadata": {},
     "output_type": "execute_result"
    }
   ],
   "source": [
    "# take only 100 samples from each class\n",
    "train_data = train_data.groupby('level').head(1000).reset_index(drop=True)\n",
    "train_data.level.value_counts()"
   ]
  },
  {
   "cell_type": "markdown",
   "id": "7e97b634",
   "metadata": {
    "id": "1Mu24W3Xkpix",
    "papermill": {
     "duration": 0.010087,
     "end_time": "2024-05-12T00:38:21.490042",
     "exception": false,
     "start_time": "2024-05-12T00:38:21.479955",
     "status": "completed"
    },
    "tags": []
   },
   "source": [
    "# Dataset"
   ]
  },
  {
   "cell_type": "code",
   "execution_count": 11,
   "id": "49a81d08",
   "metadata": {
    "execution": {
     "iopub.execute_input": "2024-05-12T00:38:21.510705Z",
     "iopub.status.busy": "2024-05-12T00:38:21.510233Z",
     "iopub.status.idle": "2024-05-12T00:38:21.520442Z",
     "shell.execute_reply": "2024-05-12T00:38:21.519648Z"
    },
    "papermill": {
     "duration": 0.022376,
     "end_time": "2024-05-12T00:38:21.522055",
     "exception": false,
     "start_time": "2024-05-12T00:38:21.499679",
     "status": "completed"
    },
    "tags": []
   },
   "outputs": [],
   "source": [
    "from torchvision.transforms import functional as func\n",
    "\n",
    "class CustomTransform:\n",
    "    def __init__(self, output_size=(CFG.resolution, CFG.resolution), radius_factor=0.9):\n",
    "        self.output_size = output_size\n",
    "        self.radius_factor = radius_factor\n",
    "\n",
    "    def __call__(self, img):\n",
    "        # Assuming img is a PIL Image\n",
    "        # Normalize and preprocess as previously defined\n",
    "        img = func.resize(img, int(min(img.size) / self.radius_factor))\n",
    "        img_tensor = func.to_tensor(img)\n",
    "        mean, std = img_tensor.mean([1, 2]), img_tensor.std([1, 2])\n",
    "        img_normalized = func.normalize(img_tensor, mean.tolist(), std.tolist())\n",
    "        kernel_size = 15\n",
    "        padding = kernel_size // 2\n",
    "        avg_pool = torch.nn.AvgPool2d(kernel_size, stride=1, padding=padding)\n",
    "        local_avg = avg_pool(img_normalized.unsqueeze(0)).squeeze(0)\n",
    "        img_subtracted = img_normalized - local_avg\n",
    "        center_crop_size = int(min(img_subtracted.shape[1:]) * self.radius_factor)\n",
    "        img_cropped = func.center_crop(img_subtracted, [center_crop_size, center_crop_size])\n",
    "\n",
    "        # Apply augmentations\n",
    "        img_resized = func.resize(img_cropped, self.output_size)\n",
    "\n",
    "        return img_resized"
   ]
  },
  {
   "cell_type": "code",
   "execution_count": 12,
   "id": "c40420f2",
   "metadata": {
    "execution": {
     "iopub.execute_input": "2024-05-12T00:38:21.541225Z",
     "iopub.status.busy": "2024-05-12T00:38:21.540763Z",
     "iopub.status.idle": "2024-05-12T00:38:21.547914Z",
     "shell.execute_reply": "2024-05-12T00:38:21.546923Z"
    },
    "papermill": {
     "duration": 0.018302,
     "end_time": "2024-05-12T00:38:21.549467",
     "exception": false,
     "start_time": "2024-05-12T00:38:21.531165",
     "status": "completed"
    },
    "tags": []
   },
   "outputs": [],
   "source": [
    "# train_transforms = CustomTransform()\n",
    "\n",
    "train_transforms = v2.Compose([\n",
    "    CustomTransform(),\n",
    "    # v2.RandomResizedCrop(CFG.resolution, scale=(0.8, 1.0)),  # Krizhevsky style random cropping\n",
    "    v2.RandomHorizontalFlip(),  # Random horizontal flip\n",
    "    v2.RandomVerticalFlip(),  # Random vertical flip\n",
    "    v2.GaussianBlur(kernel_size=(5, 5), sigma=(0.1, 2)),  # Gaussian blur with random kernel size and sigma\n",
    "    v2.RandomRotation(degrees=(0, 90)),  # Random rotation between 0 and 360 degrees\n",
    "    v2.ToDtype(torch.float32, scale=False),\n",
    "])\n",
    "\n",
    "val_transforms = v2.Compose([\n",
    "    CustomTransform(),\n",
    "    v2.ToDtype(torch.float32, scale=False),\n",
    "])"
   ]
  },
  {
   "cell_type": "code",
   "execution_count": 13,
   "id": "09872453",
   "metadata": {
    "execution": {
     "iopub.execute_input": "2024-05-12T00:38:21.566799Z",
     "iopub.status.busy": "2024-05-12T00:38:21.566400Z",
     "iopub.status.idle": "2024-05-12T00:38:21.573219Z",
     "shell.execute_reply": "2024-05-12T00:38:21.572387Z"
    },
    "id": "_mAcIdn2kpiy",
    "papermill": {
     "duration": 0.017067,
     "end_time": "2024-05-12T00:38:21.574633",
     "exception": false,
     "start_time": "2024-05-12T00:38:21.557566",
     "status": "completed"
    },
    "scrolled": true,
    "tags": []
   },
   "outputs": [],
   "source": [
    "class ImageTrainDataset(Dataset):\n",
    "    def __init__(\n",
    "        self,\n",
    "        folder,\n",
    "        data,\n",
    "        transforms,\n",
    "    ):\n",
    "        self.folder = folder\n",
    "        self.data = data\n",
    "        self.transforms = transforms\n",
    "\n",
    "    def __len__(self):\n",
    "        return len(self.data)\n",
    "\n",
    "    def __getitem__(self, index):\n",
    "        d = self.data.loc[index]\n",
    "        image = Image.open(f\"{self.folder}{d.image}.jpeg\")\n",
    "        image = self.transforms(image)\n",
    "        label = d.level\n",
    "\n",
    "        return image, torch.tensor(label, dtype=torch.long)"
   ]
  },
  {
   "cell_type": "code",
   "execution_count": 14,
   "id": "2dae7b90",
   "metadata": {
    "execution": {
     "iopub.execute_input": "2024-05-12T00:38:21.590702Z",
     "iopub.status.busy": "2024-05-12T00:38:21.590336Z",
     "iopub.status.idle": "2024-05-12T00:38:21.593816Z",
     "shell.execute_reply": "2024-05-12T00:38:21.593108Z"
    },
    "papermill": {
     "duration": 0.013,
     "end_time": "2024-05-12T00:38:21.595063",
     "exception": false,
     "start_time": "2024-05-12T00:38:21.582063",
     "status": "completed"
    },
    "tags": []
   },
   "outputs": [],
   "source": [
    "# # visualize the transformations\n",
    "# train_dataset = ImageTrainDataset(TRAIN_DATA_FOLDER, train_data, train_transforms)\n",
    "# image, label = train_dataset[10]\n",
    "# transformed_img_pil = func.to_pil_image(image)\n",
    "# plt.imshow(transformed_img_pil)"
   ]
  },
  {
   "cell_type": "markdown",
   "id": "15f89072",
   "metadata": {
    "id": "OzgB1JpAv3qg",
    "papermill": {
     "duration": 0.006983,
     "end_time": "2024-05-12T00:38:21.609049",
     "exception": false,
     "start_time": "2024-05-12T00:38:21.602066",
     "status": "completed"
    },
    "tags": []
   },
   "source": [
    "# Metric"
   ]
  },
  {
   "cell_type": "code",
   "execution_count": 15,
   "id": "646ca51b",
   "metadata": {
    "execution": {
     "iopub.execute_input": "2024-05-12T00:38:21.623596Z",
     "iopub.status.busy": "2024-05-12T00:38:21.623301Z",
     "iopub.status.idle": "2024-05-12T00:38:21.738828Z",
     "shell.execute_reply": "2024-05-12T00:38:21.737859Z"
    },
    "id": "WNxSAhBrxJ-G",
    "papermill": {
     "duration": 0.124492,
     "end_time": "2024-05-12T00:38:21.740262",
     "exception": false,
     "start_time": "2024-05-12T00:38:21.615770",
     "status": "completed"
    },
    "tags": []
   },
   "outputs": [],
   "source": [
    "from sklearn.metrics import f1_score as sklearn_f1\n",
    "from sklearn.metrics import confusion_matrix, roc_auc_score"
   ]
  },
  {
   "cell_type": "code",
   "execution_count": 16,
   "id": "659c80ab",
   "metadata": {
    "execution": {
     "iopub.execute_input": "2024-05-12T00:38:21.766852Z",
     "iopub.status.busy": "2024-05-12T00:38:21.766325Z",
     "iopub.status.idle": "2024-05-12T00:38:21.770763Z",
     "shell.execute_reply": "2024-05-12T00:38:21.769921Z"
    },
    "id": "n0u9VgXTv7VU",
    "papermill": {
     "duration": 0.019115,
     "end_time": "2024-05-12T00:38:21.772471",
     "exception": false,
     "start_time": "2024-05-12T00:38:21.753356",
     "status": "completed"
    },
    "tags": []
   },
   "outputs": [],
   "source": [
    "# def find_best_threshold(targets, predictions):\n",
    "#     score_5 = sklearn_f1(targets, predictions > 0.5)\n",
    "#     best_score = 0\n",
    "#     best_th = -1\n",
    "#     for i in range(100):\n",
    "#         threshold =  i/100\n",
    "#         _score = sklearn_f1(targets, predictions > threshold)\n",
    "#         if _score > best_score:\n",
    "#             best_score = _score\n",
    "#             best_th = threshold\n",
    "\n",
    "#     tn, fp, fn, tp = confusion_matrix(targets.numpy(), predictions.numpy() > best_th).ravel()\n",
    "#     print(f\"tp: {tp}, tn: {tn}, fp: {fp}, fn: {fn}\")\n",
    "#     return score_5, best_score, best_th"
   ]
  },
  {
   "cell_type": "markdown",
   "id": "c1bba985",
   "metadata": {
    "id": "Zyfw9PLdkpiz",
    "papermill": {
     "duration": 0.010198,
     "end_time": "2024-05-12T00:38:21.793517",
     "exception": false,
     "start_time": "2024-05-12T00:38:21.783319",
     "status": "completed"
    },
    "tags": []
   },
   "source": [
    "# Train and evaluate functions"
   ]
  },
  {
   "cell_type": "code",
   "execution_count": 17,
   "id": "556d0d75",
   "metadata": {
    "execution": {
     "iopub.execute_input": "2024-05-12T00:38:21.813896Z",
     "iopub.status.busy": "2024-05-12T00:38:21.813580Z",
     "iopub.status.idle": "2024-05-12T00:38:21.817556Z",
     "shell.execute_reply": "2024-05-12T00:38:21.816756Z"
    },
    "papermill": {
     "duration": 0.015568,
     "end_time": "2024-05-12T00:38:21.818928",
     "exception": false,
     "start_time": "2024-05-12T00:38:21.803360",
     "status": "completed"
    },
    "tags": []
   },
   "outputs": [],
   "source": [
    "class style:\n",
    "    BLUE = '\\033[94m'\n",
    "    GREEN = '\\033[92m'\n",
    "    YELLOW = '\\033[93m'\n",
    "    END = '\\033[0m'\n",
    "    BOLD = '\\033[1m'"
   ]
  },
  {
   "cell_type": "code",
   "execution_count": 18,
   "id": "6ac57979",
   "metadata": {
    "execution": {
     "iopub.execute_input": "2024-05-12T00:38:21.837847Z",
     "iopub.status.busy": "2024-05-12T00:38:21.837553Z",
     "iopub.status.idle": "2024-05-12T00:38:21.841580Z",
     "shell.execute_reply": "2024-05-12T00:38:21.840988Z"
    },
    "id": "KKt67LPn9YtB",
    "papermill": {
     "duration": 0.014858,
     "end_time": "2024-05-12T00:38:21.842858",
     "exception": false,
     "start_time": "2024-05-12T00:38:21.828000",
     "status": "completed"
    },
    "tags": []
   },
   "outputs": [],
   "source": [
    "def seed_everything(seed=42):\n",
    "    random.seed(seed)\n",
    "    os.environ['PYTHONHASHSEED'] = str(seed)\n",
    "    np.random.seed(seed)\n",
    "    torch.manual_seed(seed)\n",
    "    torch.cuda.manual_seed(seed)"
   ]
  },
  {
   "cell_type": "code",
   "execution_count": 19,
   "id": "30d7c627",
   "metadata": {
    "execution": {
     "iopub.execute_input": "2024-05-12T00:38:21.896134Z",
     "iopub.status.busy": "2024-05-12T00:38:21.895557Z",
     "iopub.status.idle": "2024-05-12T00:38:21.907621Z",
     "shell.execute_reply": "2024-05-12T00:38:21.906687Z"
    },
    "id": "yXcFJ6IYkpiz",
    "papermill": {
     "duration": 0.022337,
     "end_time": "2024-05-12T00:38:21.908967",
     "exception": false,
     "start_time": "2024-05-12T00:38:21.886630",
     "status": "completed"
    },
    "tags": []
   },
   "outputs": [],
   "source": [
    "def evaluate_model(cfg, model, data_loader, loss_criterion, epoch=-1):\n",
    "    # loss_fn = nn.CrossEntropyLoss(weight=cfg.weights.to(device), label_smoothing=0.1)\n",
    "    loss_fn = loss_criterion\n",
    "\n",
    "    model.eval()\n",
    "    val_loss = 0\n",
    "\n",
    "    targets = []\n",
    "    predictions = []\n",
    "\n",
    "    total_len = len(data_loader)\n",
    "    tk0 = tqdm(enumerate(data_loader), total=total_len)\n",
    "    for step, (images, labels) in tk0:\n",
    "        images = images.to(device)\n",
    "        target = labels.to(device)\n",
    "\n",
    "        with torch.no_grad():\n",
    "            logits = model(images)\n",
    "\n",
    "        loss = loss_fn(logits, target)\n",
    "        val_loss += loss.item()\n",
    "\n",
    "        targets.append(target.detach().cpu())\n",
    "        predictions.append(logits.detach().cpu())\n",
    "        del images, target, logits\n",
    "\n",
    "    targets = torch.cat(targets, dim=0)\n",
    "    predictions = torch.cat(predictions, dim=0)\n",
    "    predictions = F.sigmoid(predictions)\n",
    "\n",
    "    val_loss /= total_len\n",
    "    # base_score, best_score, best_th = find_best_threshold(targets, predictions[:, 1])\n",
    "    roc_auc = roc_auc_score(targets.numpy(), predictions.numpy(), multi_class='ovo')\n",
    "    # roc_auc = 1\n",
    "\n",
    "    print(f'Epoch {epoch} validation loss = {val_loss:.4f} auc = {roc_auc:.4f}')\n",
    "    return val_loss, roc_auc"
   ]
  },
  {
   "cell_type": "code",
   "execution_count": 20,
   "id": "f3c29011",
   "metadata": {
    "execution": {
     "iopub.execute_input": "2024-05-12T00:38:21.924571Z",
     "iopub.status.busy": "2024-05-12T00:38:21.924235Z",
     "iopub.status.idle": "2024-05-12T00:38:21.939241Z",
     "shell.execute_reply": "2024-05-12T00:38:21.938356Z"
    },
    "id": "nZFniP2hkpi0",
    "papermill": {
     "duration": 0.024539,
     "end_time": "2024-05-12T00:38:21.940636",
     "exception": false,
     "start_time": "2024-05-12T00:38:21.916097",
     "status": "completed"
    },
    "tags": []
   },
   "outputs": [],
   "source": [
    "\n",
    "def train_epoch(cfg, model, train_loader, loss_criterion, optimizer, scheduler, epoch):\n",
    "    scaler = torch.cuda.amp.GradScaler(enabled=cfg.apex)\n",
    "    # loss_fn = nn.CrossEntropyLoss(weight=cfg.weights.to(device), label_smoothing=0.1)\n",
    "    loss_fn = loss_criterion\n",
    "\n",
    "    model.train()\n",
    "    train_loss = 0\n",
    "    learning_rate_history = []\n",
    "\n",
    "    targets = []\n",
    "    predictions = []\n",
    "\n",
    "    total_len = len(train_loader)\n",
    "    tk0 = tqdm(enumerate(train_loader), total=total_len)\n",
    "    for step, (images, labels) in tk0:\n",
    "        images = images.to(device, non_blocking=True)\n",
    "        target = labels.to(device, non_blocking=True)\n",
    "\n",
    "        # https://pytorch.org/blog/accelerating-training-on-nvidia-gpus-with-pytorch-automatic-mixed-precision/\n",
    "        with torch.cuda.amp.autocast(enabled=cfg.apex):\n",
    "            logits = model(images)\n",
    "            loss = loss_fn(logits, target)\n",
    "\n",
    "        scaler.scale(loss).backward()\n",
    "        torch.nn.utils.clip_grad_norm_(model.parameters(), max_norm=cfg.clip_val)\n",
    "\n",
    "        train_loss += loss.item()\n",
    "        scaler.step(optimizer)\n",
    "        scaler.update()\n",
    "        optimizer.zero_grad()\n",
    "\n",
    "        if scheduler is None:\n",
    "            lr = optimizer.param_groups[0]['lr']\n",
    "        else:\n",
    "            scheduler.step()\n",
    "            lr = scheduler.get_last_lr()[0]\n",
    "\n",
    "        tk0.set_description(f\"Epoch {epoch} training {step+1}/{total_len} [LR {lr:0.6f}] - loss: {train_loss/(step+1):.4f}\")\n",
    "        learning_rate_history.append(lr)\n",
    "\n",
    "        targets.append(target.detach().cpu())\n",
    "        predictions.append(logits.detach().cpu())\n",
    "        del images, target\n",
    "\n",
    "    targets = torch.cat(targets, dim=0)\n",
    "    predictions = torch.cat(predictions, dim=0)\n",
    "    predictions = F.sigmoid(predictions)\n",
    "\n",
    "    train_loss /= total_len\n",
    "    roc_auc = roc_auc_score(targets.numpy(), predictions.numpy(), multi_class='ovo')\n",
    "    # roc_auc = 1\n",
    "\n",
    "    print(f'Epoch {epoch} train loss = {train_loss:.4f}, auc = {roc_auc:.4f}')\n",
    "    return train_loss, learning_rate_history, roc_auc"
   ]
  },
  {
   "cell_type": "markdown",
   "id": "41992424",
   "metadata": {
    "id": "qN83vJk4xCA3",
    "papermill": {
     "duration": 0.006567,
     "end_time": "2024-05-12T00:38:21.953885",
     "exception": false,
     "start_time": "2024-05-12T00:38:21.947318",
     "status": "completed"
    },
    "tags": []
   },
   "source": [
    "# Train model"
   ]
  },
  {
   "cell_type": "markdown",
   "id": "883e34d8",
   "metadata": {
    "id": "8NyHYtzwZT8h",
    "papermill": {
     "duration": 0.006337,
     "end_time": "2024-05-12T00:38:21.966769",
     "exception": false,
     "start_time": "2024-05-12T00:38:21.960432",
     "status": "completed"
    },
    "tags": []
   },
   "source": [
    "## Split data\n",
    "\n",
    "The distribution of classes in the training data is not balance so using StratifiedKFold will ensure that the distrubution of positive and negative samples in all folds will match the original distributions."
   ]
  },
  {
   "cell_type": "code",
   "execution_count": 21,
   "id": "8fe0ebfc",
   "metadata": {
    "execution": {
     "iopub.execute_input": "2024-05-12T00:38:21.980716Z",
     "iopub.status.busy": "2024-05-12T00:38:21.980334Z",
     "iopub.status.idle": "2024-05-12T00:38:21.983799Z",
     "shell.execute_reply": "2024-05-12T00:38:21.983096Z"
    },
    "id": "HaYXa749AEes",
    "outputId": "65b6c941-0e6e-4503-b513-574264d657ce",
    "papermill": {
     "duration": 0.011866,
     "end_time": "2024-05-12T00:38:21.984944",
     "exception": false,
     "start_time": "2024-05-12T00:38:21.973078",
     "status": "completed"
    },
    "tags": []
   },
   "outputs": [],
   "source": [
    "# plt.figure(figsize=(4,2))\n",
    "# sns.histplot(train_data[\"label\"])"
   ]
  },
  {
   "cell_type": "code",
   "execution_count": 22,
   "id": "a1e46496",
   "metadata": {
    "execution": {
     "iopub.execute_input": "2024-05-12T00:38:21.998587Z",
     "iopub.status.busy": "2024-05-12T00:38:21.998262Z",
     "iopub.status.idle": "2024-05-12T00:38:22.021789Z",
     "shell.execute_reply": "2024-05-12T00:38:22.020834Z"
    },
    "id": "DRHeo8pr56FX",
    "papermill": {
     "duration": 0.031798,
     "end_time": "2024-05-12T00:38:22.022974",
     "exception": false,
     "start_time": "2024-05-12T00:38:21.991176",
     "status": "completed"
    },
    "tags": []
   },
   "outputs": [],
   "source": [
    "from sklearn.model_selection import StratifiedKFold\n",
    "\n",
    "sgkf = StratifiedKFold(n_splits=CFG.N_folds, random_state=CFG.seed, shuffle=True)\n",
    "for i, (train_index, test_index) in enumerate(sgkf.split(train_data[\"image\"].values, train_data[\"level\"].values)):\n",
    "    train_data.loc[test_index, \"fold\"] = i"
   ]
  },
  {
   "cell_type": "code",
   "execution_count": 23,
   "id": "008635cf",
   "metadata": {
    "execution": {
     "iopub.execute_input": "2024-05-12T00:38:22.036085Z",
     "iopub.status.busy": "2024-05-12T00:38:22.035608Z",
     "iopub.status.idle": "2024-05-12T00:38:22.039219Z",
     "shell.execute_reply": "2024-05-12T00:38:22.038494Z"
    },
    "papermill": {
     "duration": 0.011423,
     "end_time": "2024-05-12T00:38:22.040322",
     "exception": false,
     "start_time": "2024-05-12T00:38:22.028899",
     "status": "completed"
    },
    "tags": []
   },
   "outputs": [],
   "source": [
    "# from torchgeo import models\n",
    "# from torch import nn"
   ]
  },
  {
   "cell_type": "code",
   "execution_count": 24,
   "id": "e99d91b2",
   "metadata": {
    "execution": {
     "iopub.execute_input": "2024-05-12T00:38:22.053036Z",
     "iopub.status.busy": "2024-05-12T00:38:22.052753Z",
     "iopub.status.idle": "2024-05-12T00:38:22.056906Z",
     "shell.execute_reply": "2024-05-12T00:38:22.056042Z"
    },
    "papermill": {
     "duration": 0.011766,
     "end_time": "2024-05-12T00:38:22.057923",
     "exception": false,
     "start_time": "2024-05-12T00:38:22.046157",
     "status": "completed"
    },
    "tags": []
   },
   "outputs": [],
   "source": [
    "def create_model():\n",
    "    model = timm.create_model(CFG.model_name, in_chans=3, num_classes=NUM_CLASSES, pretrained=True)\n",
    "\n",
    "#     model = models.resnet50(models.ResNet50_Weights.SENTINEL2_ALL_DINO)\n",
    "#     wd = torch.concat([model.conv1.weight[:, :13, ...], model.conv1.weight[:, :7, ...]], dim=1)\n",
    "#     model.conv1 = nn.Conv2d(20, 64, 7, 2, 3, bias=False)\n",
    "#     model.conv1.weight = nn.Parameter(wd)\n",
    "#     model.fc = nn.Linear(in_features=2048, out_features=2, bias=True)\n",
    "\n",
    "    return model.to(device)"
   ]
  },
  {
   "cell_type": "markdown",
   "id": "fe8b2489",
   "metadata": {
    "id": "rF9BFqS8AXBY",
    "papermill": {
     "duration": 0.005809,
     "end_time": "2024-05-12T00:38:22.069488",
     "exception": false,
     "start_time": "2024-05-12T00:38:22.063679",
     "status": "completed"
    },
    "tags": []
   },
   "source": [
    "## Train folds"
   ]
  },
  {
   "cell_type": "markdown",
   "id": "209999e0",
   "metadata": {
    "tags": [
     "papermill-error-cell-tag"
    ]
   },
   "source": [
    "<span id=\"papermill-error-cell\" style=\"color:red; font-family:Helvetica Neue, Helvetica, Arial, sans-serif; font-size:2em;\">Execution using papermill encountered an exception here and stopped:</span>"
   ]
  },
  {
   "cell_type": "code",
   "execution_count": 25,
   "id": "97734698",
   "metadata": {
    "execution": {
     "iopub.execute_input": "2024-05-12T00:38:22.082252Z",
     "iopub.status.busy": "2024-05-12T00:38:22.081937Z",
     "iopub.status.idle": "2024-05-12T00:41:22.114432Z",
     "shell.execute_reply": "2024-05-12T00:41:22.113472Z"
    },
    "id": "7CFfmp3CxDG5",
    "outputId": "952103d3-bbd9-449f-e9cf-26d5c2608aea",
    "papermill": {
     "duration": 180.04227,
     "end_time": "2024-05-12T00:41:22.117523",
     "exception": true,
     "start_time": "2024-05-12T00:38:22.075253",
     "status": "failed"
    },
    "scrolled": true,
    "tags": []
   },
   "outputs": [
    {
     "name": "stdout",
     "output_type": "stream",
     "text": [
      "Model parameters: 23_518_277\n"
     ]
    },
    {
     "name": "stderr",
     "output_type": "stream",
     "text": [
      "\r",
      "  0%|                                                                             | 0/114 [00:00<?, ?it/s]"
     ]
    },
    {
     "name": "stderr",
     "output_type": "stream",
     "text": [
      "\r",
      "Epoch 0 training 1/114 [LR 0.000100] - loss: 1.6150:   0%|                        | 0/114 [00:24<?, ?it/s]"
     ]
    },
    {
     "name": "stderr",
     "output_type": "stream",
     "text": [
      "\r",
      "Epoch 0 training 1/114 [LR 0.000100] - loss: 1.6150:   1%|▏               | 1/114 [00:24<46:43, 24.81s/it]"
     ]
    },
    {
     "name": "stderr",
     "output_type": "stream",
     "text": [
      "\r",
      "Epoch 0 training 2/114 [LR 0.000100] - loss: 1.6205:   1%|▏               | 1/114 [00:24<46:43, 24.81s/it]"
     ]
    },
    {
     "name": "stderr",
     "output_type": "stream",
     "text": [
      "\r",
      "Epoch 0 training 3/114 [LR 0.000100] - loss: 1.6240:   1%|▏               | 1/114 [00:24<46:43, 24.81s/it]"
     ]
    },
    {
     "name": "stderr",
     "output_type": "stream",
     "text": [
      "\r",
      "Epoch 0 training 3/114 [LR 0.000100] - loss: 1.6240:   3%|▍               | 3/114 [00:24<11:58,  6.47s/it]"
     ]
    },
    {
     "name": "stderr",
     "output_type": "stream",
     "text": [
      "\r",
      "Epoch 0 training 4/114 [LR 0.000100] - loss: 1.6231:   3%|▍               | 3/114 [00:24<11:58,  6.47s/it]"
     ]
    },
    {
     "name": "stderr",
     "output_type": "stream",
     "text": [
      "\r",
      "Epoch 0 training 5/114 [LR 0.000100] - loss: 1.6211:   3%|▍               | 3/114 [00:25<11:58,  6.47s/it]"
     ]
    },
    {
     "name": "stderr",
     "output_type": "stream",
     "text": [
      "\r",
      "Epoch 0 training 6/114 [LR 0.000100] - loss: 1.6181:   3%|▍               | 3/114 [00:25<11:58,  6.47s/it]"
     ]
    },
    {
     "name": "stderr",
     "output_type": "stream",
     "text": [
      "\r",
      "Epoch 0 training 6/114 [LR 0.000100] - loss: 1.6181:   5%|▊               | 6/114 [00:25<04:33,  2.53s/it]"
     ]
    },
    {
     "name": "stderr",
     "output_type": "stream",
     "text": [
      "\r",
      "Epoch 0 training 7/114 [LR 0.000100] - loss: 1.6148:   5%|▊               | 6/114 [00:25<04:33,  2.53s/it]"
     ]
    },
    {
     "name": "stderr",
     "output_type": "stream",
     "text": [
      "\r",
      "Epoch 0 training 8/114 [LR 0.000100] - loss: 1.6152:   5%|▊               | 6/114 [00:25<04:33,  2.53s/it]"
     ]
    },
    {
     "name": "stderr",
     "output_type": "stream",
     "text": [
      "\r",
      "Epoch 0 training 9/114 [LR 0.000100] - loss: 1.6139:   5%|▊               | 6/114 [00:25<04:33,  2.53s/it]"
     ]
    },
    {
     "name": "stderr",
     "output_type": "stream",
     "text": [
      "\r",
      "Epoch 0 training 9/114 [LR 0.000100] - loss: 1.6139:   8%|█▎              | 9/114 [00:25<02:24,  1.37s/it]"
     ]
    },
    {
     "name": "stderr",
     "output_type": "stream",
     "text": [
      "\r",
      "Epoch 0 training 10/114 [LR 0.000100] - loss: 1.6133:   8%|█▏             | 9/114 [00:25<02:24,  1.37s/it]"
     ]
    },
    {
     "name": "stderr",
     "output_type": "stream",
     "text": [
      "\r",
      "Epoch 0 training 11/114 [LR 0.000100] - loss: 1.6116:   8%|█▏             | 9/114 [00:25<02:24,  1.37s/it]"
     ]
    },
    {
     "name": "stderr",
     "output_type": "stream",
     "text": [
      "\r",
      "Epoch 0 training 12/114 [LR 0.000100] - loss: 1.6101:   8%|█▏             | 9/114 [00:25<02:24,  1.37s/it]"
     ]
    },
    {
     "name": "stderr",
     "output_type": "stream",
     "text": [
      "\r",
      "Epoch 0 training 12/114 [LR 0.000100] - loss: 1.6101:  11%|█▍            | 12/114 [00:25<01:25,  1.19it/s]"
     ]
    },
    {
     "name": "stderr",
     "output_type": "stream",
     "text": [
      "\r",
      "Epoch 0 training 13/114 [LR 0.000100] - loss: 1.6106:  11%|█▍            | 12/114 [00:25<01:25,  1.19it/s]"
     ]
    },
    {
     "name": "stderr",
     "output_type": "stream",
     "text": [
      "\r",
      "Epoch 0 training 14/114 [LR 0.000100] - loss: 1.6097:  11%|█▍            | 12/114 [00:25<01:25,  1.19it/s]"
     ]
    },
    {
     "name": "stderr",
     "output_type": "stream",
     "text": [
      "\r",
      "Epoch 0 training 15/114 [LR 0.000100] - loss: 1.6077:  11%|█▍            | 12/114 [00:25<01:25,  1.19it/s]"
     ]
    },
    {
     "name": "stderr",
     "output_type": "stream",
     "text": [
      "\r",
      "Epoch 0 training 15/114 [LR 0.000100] - loss: 1.6077:  13%|█▊            | 15/114 [00:25<00:54,  1.81it/s]"
     ]
    },
    {
     "name": "stderr",
     "output_type": "stream",
     "text": [
      "\r",
      "Epoch 0 training 16/114 [LR 0.000100] - loss: 1.6081:  13%|█▊            | 15/114 [00:25<00:54,  1.81it/s]"
     ]
    },
    {
     "name": "stderr",
     "output_type": "stream",
     "text": [
      "\r",
      "Epoch 0 training 16/114 [LR 0.000100] - loss: 1.6081:  13%|█▊            | 15/114 [00:39<00:54,  1.81it/s]"
     ]
    },
    {
     "name": "stderr",
     "output_type": "stream",
     "text": [
      "\r",
      "Epoch 0 training 17/114 [LR 0.000100] - loss: 1.6074:  13%|█▊            | 15/114 [00:44<00:54,  1.81it/s]"
     ]
    },
    {
     "name": "stderr",
     "output_type": "stream",
     "text": [
      "\r",
      "Epoch 0 training 17/114 [LR 0.000100] - loss: 1.6074:  15%|██            | 17/114 [00:44<04:35,  2.84s/it]"
     ]
    },
    {
     "name": "stderr",
     "output_type": "stream",
     "text": [
      "\r",
      "Epoch 0 training 18/114 [LR 0.000100] - loss: 1.6074:  15%|██            | 17/114 [00:44<04:35,  2.84s/it]"
     ]
    },
    {
     "name": "stderr",
     "output_type": "stream",
     "text": [
      "\r",
      "Epoch 0 training 18/114 [LR 0.000100] - loss: 1.6074:  16%|██▏           | 18/114 [00:44<03:56,  2.46s/it]"
     ]
    },
    {
     "name": "stderr",
     "output_type": "stream",
     "text": [
      "\r",
      "Epoch 0 training 19/114 [LR 0.000100] - loss: 1.6071:  16%|██▏           | 18/114 [00:44<03:56,  2.46s/it]"
     ]
    },
    {
     "name": "stderr",
     "output_type": "stream",
     "text": [
      "\r",
      "Epoch 0 training 20/114 [LR 0.000100] - loss: 1.6057:  16%|██▏           | 18/114 [00:44<03:56,  2.46s/it]"
     ]
    },
    {
     "name": "stderr",
     "output_type": "stream",
     "text": [
      "\r",
      "Epoch 0 training 20/114 [LR 0.000100] - loss: 1.6057:  18%|██▍           | 20/114 [00:44<02:42,  1.73s/it]"
     ]
    },
    {
     "name": "stderr",
     "output_type": "stream",
     "text": [
      "\r",
      "Epoch 0 training 21/114 [LR 0.000100] - loss: 1.6058:  18%|██▍           | 20/114 [00:45<02:42,  1.73s/it]"
     ]
    },
    {
     "name": "stderr",
     "output_type": "stream",
     "text": [
      "\r",
      "Epoch 0 training 22/114 [LR 0.000100] - loss: 1.6057:  18%|██▍           | 20/114 [00:45<02:42,  1.73s/it]"
     ]
    },
    {
     "name": "stderr",
     "output_type": "stream",
     "text": [
      "\r",
      "Epoch 0 training 22/114 [LR 0.000100] - loss: 1.6057:  19%|██▋           | 22/114 [00:45<01:52,  1.22s/it]"
     ]
    },
    {
     "name": "stderr",
     "output_type": "stream",
     "text": [
      "\r",
      "Epoch 0 training 23/114 [LR 0.000100] - loss: 1.6058:  19%|██▋           | 22/114 [00:45<01:52,  1.22s/it]"
     ]
    },
    {
     "name": "stderr",
     "output_type": "stream",
     "text": [
      "\r",
      "Epoch 0 training 24/114 [LR 0.000100] - loss: 1.6057:  19%|██▋           | 22/114 [00:45<01:52,  1.22s/it]"
     ]
    },
    {
     "name": "stderr",
     "output_type": "stream",
     "text": [
      "\r",
      "Epoch 0 training 24/114 [LR 0.000100] - loss: 1.6057:  21%|██▉           | 24/114 [00:45<01:18,  1.15it/s]"
     ]
    },
    {
     "name": "stderr",
     "output_type": "stream",
     "text": [
      "\r",
      "Epoch 0 training 25/114 [LR 0.000100] - loss: 1.6057:  21%|██▉           | 24/114 [00:45<01:18,  1.15it/s]"
     ]
    },
    {
     "name": "stderr",
     "output_type": "stream",
     "text": [
      "\r",
      "Epoch 0 training 26/114 [LR 0.000100] - loss: 1.6058:  21%|██▉           | 24/114 [00:45<01:18,  1.15it/s]"
     ]
    },
    {
     "name": "stderr",
     "output_type": "stream",
     "text": [
      "\r",
      "Epoch 0 training 26/114 [LR 0.000100] - loss: 1.6058:  23%|███▏          | 26/114 [00:45<00:54,  1.60it/s]"
     ]
    },
    {
     "name": "stderr",
     "output_type": "stream",
     "text": [
      "\r",
      "Epoch 0 training 27/114 [LR 0.000100] - loss: 1.6062:  23%|███▏          | 26/114 [00:45<00:54,  1.60it/s]"
     ]
    },
    {
     "name": "stderr",
     "output_type": "stream",
     "text": [
      "\r",
      "Epoch 0 training 28/114 [LR 0.000100] - loss: 1.6059:  23%|███▏          | 26/114 [00:45<00:54,  1.60it/s]"
     ]
    },
    {
     "name": "stderr",
     "output_type": "stream",
     "text": [
      "\r",
      "Epoch 0 training 28/114 [LR 0.000100] - loss: 1.6059:  25%|███▍          | 28/114 [00:45<00:38,  2.21it/s]"
     ]
    },
    {
     "name": "stderr",
     "output_type": "stream",
     "text": [
      "\r",
      "Epoch 0 training 29/114 [LR 0.000100] - loss: 1.6052:  25%|███▍          | 28/114 [00:45<00:38,  2.21it/s]"
     ]
    },
    {
     "name": "stderr",
     "output_type": "stream",
     "text": [
      "\r",
      "Epoch 0 training 30/114 [LR 0.000100] - loss: 1.6057:  25%|███▍          | 28/114 [00:45<00:38,  2.21it/s]"
     ]
    },
    {
     "name": "stderr",
     "output_type": "stream",
     "text": [
      "\r",
      "Epoch 0 training 30/114 [LR 0.000100] - loss: 1.6057:  26%|███▋          | 30/114 [00:45<00:28,  2.98it/s]"
     ]
    },
    {
     "name": "stderr",
     "output_type": "stream",
     "text": [
      "\r",
      "Epoch 0 training 31/114 [LR 0.000100] - loss: 1.6058:  26%|███▋          | 30/114 [00:46<00:28,  2.98it/s]"
     ]
    },
    {
     "name": "stderr",
     "output_type": "stream",
     "text": [
      "\r",
      "Epoch 0 training 32/114 [LR 0.000100] - loss: 1.6054:  26%|███▋          | 30/114 [00:46<00:28,  2.98it/s]"
     ]
    },
    {
     "name": "stderr",
     "output_type": "stream",
     "text": [
      "\r",
      "Epoch 0 training 32/114 [LR 0.000100] - loss: 1.6054:  28%|███▉          | 32/114 [00:46<00:28,  2.90it/s]"
     ]
    },
    {
     "name": "stderr",
     "output_type": "stream",
     "text": [
      "\r",
      "Epoch 0 training 32/114 [LR 0.000100] - loss: 1.6054:  28%|███▉          | 32/114 [00:59<00:28,  2.90it/s]"
     ]
    },
    {
     "name": "stderr",
     "output_type": "stream",
     "text": [
      "\r",
      "Epoch 0 training 33/114 [LR 0.000100] - loss: 1.6045:  28%|███▉          | 32/114 [01:05<00:28,  2.90it/s]"
     ]
    },
    {
     "name": "stderr",
     "output_type": "stream",
     "text": [
      "\r",
      "Epoch 0 training 33/114 [LR 0.000100] - loss: 1.6045:  29%|████          | 33/114 [01:05<04:53,  3.62s/it]"
     ]
    },
    {
     "name": "stderr",
     "output_type": "stream",
     "text": [
      "\r",
      "Epoch 0 training 34/114 [LR 0.000100] - loss: 1.6041:  29%|████          | 33/114 [01:05<04:53,  3.62s/it]"
     ]
    },
    {
     "name": "stderr",
     "output_type": "stream",
     "text": [
      "\r",
      "Epoch 0 training 34/114 [LR 0.000100] - loss: 1.6041:  30%|████▏         | 34/114 [01:05<04:01,  3.02s/it]"
     ]
    },
    {
     "name": "stderr",
     "output_type": "stream",
     "text": [
      "\r",
      "Epoch 0 training 35/114 [LR 0.000100] - loss: 1.6031:  30%|████▏         | 34/114 [01:06<04:01,  3.02s/it]"
     ]
    },
    {
     "name": "stderr",
     "output_type": "stream",
     "text": [
      "\r",
      "Epoch 0 training 35/114 [LR 0.000100] - loss: 1.6031:  31%|████▎         | 35/114 [01:06<03:24,  2.58s/it]"
     ]
    },
    {
     "name": "stderr",
     "output_type": "stream",
     "text": [
      "\r",
      "Epoch 0 training 36/114 [LR 0.000100] - loss: 1.6025:  31%|████▎         | 35/114 [01:06<03:24,  2.58s/it]"
     ]
    },
    {
     "name": "stderr",
     "output_type": "stream",
     "text": [
      "\r",
      "Epoch 0 training 37/114 [LR 0.000100] - loss: 1.6018:  31%|████▎         | 35/114 [01:06<03:24,  2.58s/it]"
     ]
    },
    {
     "name": "stderr",
     "output_type": "stream",
     "text": [
      "\r",
      "Epoch 0 training 37/114 [LR 0.000100] - loss: 1.6018:  32%|████▌         | 37/114 [01:06<02:03,  1.60s/it]"
     ]
    },
    {
     "name": "stderr",
     "output_type": "stream",
     "text": [
      "\r",
      "Epoch 0 training 38/114 [LR 0.000100] - loss: 1.6012:  32%|████▌         | 37/114 [01:07<02:03,  1.60s/it]"
     ]
    },
    {
     "name": "stderr",
     "output_type": "stream",
     "text": [
      "\r",
      "Epoch 0 training 39/114 [LR 0.000100] - loss: 1.6009:  32%|████▌         | 37/114 [01:07<02:03,  1.60s/it]"
     ]
    },
    {
     "name": "stderr",
     "output_type": "stream",
     "text": [
      "\r",
      "Epoch 0 training 39/114 [LR 0.000100] - loss: 1.6009:  34%|████▊         | 39/114 [01:07<01:18,  1.05s/it]"
     ]
    },
    {
     "name": "stderr",
     "output_type": "stream",
     "text": [
      "\r",
      "Epoch 0 training 40/114 [LR 0.000100] - loss: 1.6009:  34%|████▊         | 39/114 [01:07<01:18,  1.05s/it]"
     ]
    },
    {
     "name": "stderr",
     "output_type": "stream",
     "text": [
      "\r",
      "Epoch 0 training 41/114 [LR 0.000100] - loss: 1.6008:  34%|████▊         | 39/114 [01:07<01:18,  1.05s/it]"
     ]
    },
    {
     "name": "stderr",
     "output_type": "stream",
     "text": [
      "\r",
      "Epoch 0 training 41/114 [LR 0.000100] - loss: 1.6008:  36%|█████         | 41/114 [01:07<00:52,  1.40it/s]"
     ]
    },
    {
     "name": "stderr",
     "output_type": "stream",
     "text": [
      "\r",
      "Epoch 0 training 42/114 [LR 0.000100] - loss: 1.6009:  36%|█████         | 41/114 [01:07<00:52,  1.40it/s]"
     ]
    },
    {
     "name": "stderr",
     "output_type": "stream",
     "text": [
      "\r",
      "Epoch 0 training 43/114 [LR 0.000100] - loss: 1.6007:  36%|█████         | 41/114 [01:07<00:52,  1.40it/s]"
     ]
    },
    {
     "name": "stderr",
     "output_type": "stream",
     "text": [
      "\r",
      "Epoch 0 training 43/114 [LR 0.000100] - loss: 1.6007:  38%|█████▎        | 43/114 [01:07<00:35,  1.99it/s]"
     ]
    },
    {
     "name": "stderr",
     "output_type": "stream",
     "text": [
      "\r",
      "Epoch 0 training 44/114 [LR 0.000100] - loss: 1.6000:  38%|█████▎        | 43/114 [01:07<00:35,  1.99it/s]"
     ]
    },
    {
     "name": "stderr",
     "output_type": "stream",
     "text": [
      "\r",
      "Epoch 0 training 45/114 [LR 0.000100] - loss: 1.5990:  38%|█████▎        | 43/114 [01:07<00:35,  1.99it/s]"
     ]
    },
    {
     "name": "stderr",
     "output_type": "stream",
     "text": [
      "\r",
      "Epoch 0 training 45/114 [LR 0.000100] - loss: 1.5990:  39%|█████▌        | 45/114 [01:07<00:25,  2.74it/s]"
     ]
    },
    {
     "name": "stderr",
     "output_type": "stream",
     "text": [
      "\r",
      "Epoch 0 training 46/114 [LR 0.000100] - loss: 1.5992:  39%|█████▌        | 45/114 [01:07<00:25,  2.74it/s]"
     ]
    },
    {
     "name": "stderr",
     "output_type": "stream",
     "text": [
      "\r",
      "Epoch 0 training 47/114 [LR 0.000100] - loss: 1.5986:  39%|█████▌        | 45/114 [01:08<00:25,  2.74it/s]"
     ]
    },
    {
     "name": "stderr",
     "output_type": "stream",
     "text": [
      "\r",
      "Epoch 0 training 47/114 [LR 0.000100] - loss: 1.5986:  41%|█████▊        | 47/114 [01:08<00:28,  2.35it/s]"
     ]
    },
    {
     "name": "stderr",
     "output_type": "stream",
     "text": [
      "\r",
      "Epoch 0 training 48/114 [LR 0.000100] - loss: 1.5982:  41%|█████▊        | 47/114 [01:08<00:28,  2.35it/s]"
     ]
    },
    {
     "name": "stderr",
     "output_type": "stream",
     "text": [
      "\r",
      "Epoch 0 training 48/114 [LR 0.000100] - loss: 1.5982:  41%|█████▊        | 47/114 [01:20<00:28,  2.35it/s]"
     ]
    },
    {
     "name": "stderr",
     "output_type": "stream",
     "text": [
      "\r",
      "Epoch 0 training 49/114 [LR 0.000100] - loss: 1.5976:  41%|█████▊        | 47/114 [01:26<00:28,  2.35it/s]"
     ]
    },
    {
     "name": "stderr",
     "output_type": "stream",
     "text": [
      "\r",
      "Epoch 0 training 49/114 [LR 0.000100] - loss: 1.5976:  43%|██████        | 49/114 [01:26<03:21,  3.10s/it]"
     ]
    },
    {
     "name": "stderr",
     "output_type": "stream",
     "text": [
      "\r",
      "Epoch 0 training 50/114 [LR 0.000100] - loss: 1.5971:  43%|██████        | 49/114 [01:27<03:21,  3.10s/it]"
     ]
    },
    {
     "name": "stderr",
     "output_type": "stream",
     "text": [
      "\r",
      "Epoch 0 training 50/114 [LR 0.000100] - loss: 1.5971:  44%|██████▏       | 50/114 [01:27<02:49,  2.65s/it]"
     ]
    },
    {
     "name": "stderr",
     "output_type": "stream",
     "text": [
      "\r",
      "Epoch 0 training 51/114 [LR 0.000100] - loss: 1.5971:  44%|██████▏       | 50/114 [01:30<02:49,  2.65s/it]"
     ]
    },
    {
     "name": "stderr",
     "output_type": "stream",
     "text": [
      "\r",
      "Epoch 0 training 51/114 [LR 0.000100] - loss: 1.5971:  45%|██████▎       | 51/114 [01:30<02:57,  2.82s/it]"
     ]
    },
    {
     "name": "stderr",
     "output_type": "stream",
     "text": [
      "\r",
      "Epoch 0 training 52/114 [LR 0.000100] - loss: 1.5972:  45%|██████▎       | 51/114 [01:30<02:57,  2.82s/it]"
     ]
    },
    {
     "name": "stderr",
     "output_type": "stream",
     "text": [
      "\r",
      "Epoch 0 training 53/114 [LR 0.000100] - loss: 1.5973:  45%|██████▎       | 51/114 [01:31<02:57,  2.82s/it]"
     ]
    },
    {
     "name": "stderr",
     "output_type": "stream",
     "text": [
      "\r",
      "Epoch 0 training 53/114 [LR 0.000100] - loss: 1.5973:  46%|██████▌       | 53/114 [01:31<01:49,  1.80s/it]"
     ]
    },
    {
     "name": "stderr",
     "output_type": "stream",
     "text": [
      "\r",
      "Epoch 0 training 54/114 [LR 0.000100] - loss: 1.5976:  46%|██████▌       | 53/114 [01:31<01:49,  1.80s/it]"
     ]
    },
    {
     "name": "stderr",
     "output_type": "stream",
     "text": [
      "\r",
      "Epoch 0 training 55/114 [LR 0.000100] - loss: 1.5969:  46%|██████▌       | 53/114 [01:31<01:49,  1.80s/it]"
     ]
    },
    {
     "name": "stderr",
     "output_type": "stream",
     "text": [
      "\r",
      "Epoch 0 training 55/114 [LR 0.000100] - loss: 1.5969:  48%|██████▊       | 55/114 [01:31<01:10,  1.20s/it]"
     ]
    },
    {
     "name": "stderr",
     "output_type": "stream",
     "text": [
      "\r",
      "Epoch 0 training 56/114 [LR 0.000100] - loss: 1.5967:  48%|██████▊       | 55/114 [01:31<01:10,  1.20s/it]"
     ]
    },
    {
     "name": "stderr",
     "output_type": "stream",
     "text": [
      "\r",
      "Epoch 0 training 57/114 [LR 0.000100] - loss: 1.5964:  48%|██████▊       | 55/114 [01:31<01:10,  1.20s/it]"
     ]
    },
    {
     "name": "stderr",
     "output_type": "stream",
     "text": [
      "\r",
      "Epoch 0 training 57/114 [LR 0.000100] - loss: 1.5964:  50%|███████       | 57/114 [01:31<00:46,  1.21it/s]"
     ]
    },
    {
     "name": "stderr",
     "output_type": "stream",
     "text": [
      "\r",
      "Epoch 0 training 58/114 [LR 0.000100] - loss: 1.5963:  50%|███████       | 57/114 [01:31<00:46,  1.21it/s]"
     ]
    },
    {
     "name": "stderr",
     "output_type": "stream",
     "text": [
      "\r",
      "Epoch 0 training 59/114 [LR 0.000100] - loss: 1.5955:  50%|███████       | 57/114 [01:31<00:46,  1.21it/s]"
     ]
    },
    {
     "name": "stderr",
     "output_type": "stream",
     "text": [
      "\r",
      "Epoch 0 training 59/114 [LR 0.000100] - loss: 1.5955:  52%|███████▏      | 59/114 [01:31<00:31,  1.73it/s]"
     ]
    },
    {
     "name": "stderr",
     "output_type": "stream",
     "text": [
      "\r",
      "Epoch 0 training 60/114 [LR 0.000100] - loss: 1.5956:  52%|███████▏      | 59/114 [01:31<00:31,  1.73it/s]"
     ]
    },
    {
     "name": "stderr",
     "output_type": "stream",
     "text": [
      "\r",
      "Epoch 0 training 61/114 [LR 0.000100] - loss: 1.5955:  52%|███████▏      | 59/114 [01:31<00:31,  1.73it/s]"
     ]
    },
    {
     "name": "stderr",
     "output_type": "stream",
     "text": [
      "\r",
      "Epoch 0 training 62/114 [LR 0.000100] - loss: 1.5959:  52%|███████▏      | 59/114 [01:31<00:31,  1.73it/s]"
     ]
    },
    {
     "name": "stderr",
     "output_type": "stream",
     "text": [
      "\r",
      "Epoch 0 training 62/114 [LR 0.000100] - loss: 1.5959:  54%|███████▌      | 62/114 [01:31<00:18,  2.77it/s]"
     ]
    },
    {
     "name": "stderr",
     "output_type": "stream",
     "text": [
      "\r",
      "Epoch 0 training 63/114 [LR 0.000100] - loss: 1.5960:  54%|███████▌      | 62/114 [01:31<00:18,  2.77it/s]"
     ]
    },
    {
     "name": "stderr",
     "output_type": "stream",
     "text": [
      "\r",
      "Epoch 0 training 64/114 [LR 0.000100] - loss: 1.5959:  54%|███████▌      | 62/114 [01:31<00:18,  2.77it/s]"
     ]
    },
    {
     "name": "stderr",
     "output_type": "stream",
     "text": [
      "\r",
      "Epoch 0 training 65/114 [LR 0.000100] - loss: 1.5957:  54%|███████▌      | 62/114 [01:49<00:18,  2.77it/s]"
     ]
    },
    {
     "name": "stderr",
     "output_type": "stream",
     "text": [
      "\r",
      "Epoch 0 training 65/114 [LR 0.000100] - loss: 1.5957:  57%|███████▉      | 65/114 [01:49<01:59,  2.44s/it]"
     ]
    },
    {
     "name": "stderr",
     "output_type": "stream",
     "text": [
      "\r",
      "Epoch 0 training 66/114 [LR 0.000100] - loss: 1.5952:  57%|███████▉      | 65/114 [01:50<01:59,  2.44s/it]"
     ]
    },
    {
     "name": "stderr",
     "output_type": "stream",
     "text": [
      "\r",
      "Epoch 0 training 66/114 [LR 0.000100] - loss: 1.5952:  58%|████████      | 66/114 [01:50<01:45,  2.20s/it]"
     ]
    },
    {
     "name": "stderr",
     "output_type": "stream",
     "text": [
      "\r",
      "Epoch 0 training 67/114 [LR 0.000100] - loss: 1.5964:  58%|████████      | 66/114 [01:54<01:45,  2.20s/it]"
     ]
    },
    {
     "name": "stderr",
     "output_type": "stream",
     "text": [
      "\r",
      "Epoch 0 training 68/114 [LR 0.000100] - loss: 1.5973:  58%|████████      | 66/114 [01:54<01:45,  2.20s/it]"
     ]
    },
    {
     "name": "stderr",
     "output_type": "stream",
     "text": [
      "\r",
      "Epoch 0 training 68/114 [LR 0.000100] - loss: 1.5973:  60%|████████▎     | 68/114 [01:54<01:37,  2.12s/it]"
     ]
    },
    {
     "name": "stderr",
     "output_type": "stream",
     "text": [
      "\r",
      "Epoch 0 training 69/114 [LR 0.000100] - loss: 1.5965:  60%|████████▎     | 68/114 [01:54<01:37,  2.12s/it]"
     ]
    },
    {
     "name": "stderr",
     "output_type": "stream",
     "text": [
      "\r",
      "Epoch 0 training 70/114 [LR 0.000100] - loss: 1.5965:  60%|████████▎     | 68/114 [01:54<01:37,  2.12s/it]"
     ]
    },
    {
     "name": "stderr",
     "output_type": "stream",
     "text": [
      "\r",
      "Epoch 0 training 70/114 [LR 0.000100] - loss: 1.5965:  61%|████████▌     | 70/114 [01:54<01:05,  1.50s/it]"
     ]
    },
    {
     "name": "stderr",
     "output_type": "stream",
     "text": [
      "\r",
      "Epoch 0 training 71/114 [LR 0.000100] - loss: 1.5966:  61%|████████▌     | 70/114 [01:54<01:05,  1.50s/it]"
     ]
    },
    {
     "name": "stderr",
     "output_type": "stream",
     "text": [
      "\r",
      "Epoch 0 training 72/114 [LR 0.000100] - loss: 1.5964:  61%|████████▌     | 70/114 [01:54<01:05,  1.50s/it]"
     ]
    },
    {
     "name": "stderr",
     "output_type": "stream",
     "text": [
      "\r",
      "Epoch 0 training 72/114 [LR 0.000100] - loss: 1.5964:  63%|████████▊     | 72/114 [01:54<00:44,  1.07s/it]"
     ]
    },
    {
     "name": "stderr",
     "output_type": "stream",
     "text": [
      "\r",
      "Epoch 0 training 73/114 [LR 0.000100] - loss: 1.5965:  63%|████████▊     | 72/114 [01:54<00:44,  1.07s/it]"
     ]
    },
    {
     "name": "stderr",
     "output_type": "stream",
     "text": [
      "\r",
      "Epoch 0 training 74/114 [LR 0.000100] - loss: 1.5960:  63%|████████▊     | 72/114 [01:54<00:44,  1.07s/it]"
     ]
    },
    {
     "name": "stderr",
     "output_type": "stream",
     "text": [
      "\r",
      "Epoch 0 training 74/114 [LR 0.000100] - loss: 1.5960:  65%|█████████     | 74/114 [01:54<00:30,  1.31it/s]"
     ]
    },
    {
     "name": "stderr",
     "output_type": "stream",
     "text": [
      "\r",
      "Epoch 0 training 75/114 [LR 0.000100] - loss: 1.5957:  65%|█████████     | 74/114 [01:54<00:30,  1.31it/s]"
     ]
    },
    {
     "name": "stderr",
     "output_type": "stream",
     "text": [
      "\r",
      "Epoch 0 training 76/114 [LR 0.000100] - loss: 1.5959:  65%|█████████     | 74/114 [01:54<00:30,  1.31it/s]"
     ]
    },
    {
     "name": "stderr",
     "output_type": "stream",
     "text": [
      "\r",
      "Epoch 0 training 76/114 [LR 0.000100] - loss: 1.5959:  67%|█████████▎    | 76/114 [01:54<00:20,  1.81it/s]"
     ]
    },
    {
     "name": "stderr",
     "output_type": "stream",
     "text": [
      "\r",
      "Epoch 0 training 77/114 [LR 0.000100] - loss: 1.5963:  67%|█████████▎    | 76/114 [01:54<00:20,  1.81it/s]"
     ]
    },
    {
     "name": "stderr",
     "output_type": "stream",
     "text": [
      "\r",
      "Epoch 0 training 78/114 [LR 0.000100] - loss: 1.5955:  67%|█████████▎    | 76/114 [01:54<00:20,  1.81it/s]"
     ]
    },
    {
     "name": "stderr",
     "output_type": "stream",
     "text": [
      "\r",
      "Epoch 0 training 79/114 [LR 0.000100] - loss: 1.5955:  67%|█████████▎    | 76/114 [01:54<00:20,  1.81it/s]"
     ]
    },
    {
     "name": "stderr",
     "output_type": "stream",
     "text": [
      "\r",
      "Epoch 0 training 79/114 [LR 0.000100] - loss: 1.5955:  69%|█████████▋    | 79/114 [01:54<00:12,  2.82it/s]"
     ]
    },
    {
     "name": "stderr",
     "output_type": "stream",
     "text": [
      "\r",
      "Epoch 0 training 80/114 [LR 0.000100] - loss: 1.5959:  69%|█████████▋    | 79/114 [01:54<00:12,  2.82it/s]"
     ]
    },
    {
     "name": "stderr",
     "output_type": "stream",
     "text": [
      "\r",
      "Epoch 0 training 80/114 [LR 0.000100] - loss: 1.5959:  69%|█████████▋    | 79/114 [02:10<00:12,  2.82it/s]"
     ]
    },
    {
     "name": "stderr",
     "output_type": "stream",
     "text": [
      "\r",
      "Epoch 0 training 81/114 [LR 0.000100] - loss: 1.5959:  69%|█████████▋    | 79/114 [02:12<00:12,  2.82it/s]"
     ]
    },
    {
     "name": "stderr",
     "output_type": "stream",
     "text": [
      "\r",
      "Epoch 0 training 81/114 [LR 0.000100] - loss: 1.5959:  71%|█████████▉    | 81/114 [02:12<01:26,  2.64s/it]"
     ]
    },
    {
     "name": "stderr",
     "output_type": "stream",
     "text": [
      "\r",
      "Epoch 0 training 82/114 [LR 0.000100] - loss: 1.5952:  71%|█████████▉    | 81/114 [02:13<01:26,  2.64s/it]"
     ]
    },
    {
     "name": "stderr",
     "output_type": "stream",
     "text": [
      "\r",
      "Epoch 0 training 82/114 [LR 0.000100] - loss: 1.5952:  72%|██████████    | 82/114 [02:13<01:14,  2.32s/it]"
     ]
    },
    {
     "name": "stderr",
     "output_type": "stream",
     "text": [
      "\r",
      "Epoch 0 training 83/114 [LR 0.000100] - loss: 1.5949:  72%|██████████    | 82/114 [02:16<01:14,  2.32s/it]"
     ]
    },
    {
     "name": "stderr",
     "output_type": "stream",
     "text": [
      "\r",
      "Epoch 0 training 84/114 [LR 0.000100] - loss: 1.5947:  72%|██████████    | 82/114 [02:17<01:14,  2.32s/it]"
     ]
    },
    {
     "name": "stderr",
     "output_type": "stream",
     "text": [
      "\r",
      "Epoch 0 training 84/114 [LR 0.000100] - loss: 1.5947:  74%|██████████▎   | 84/114 [02:17<01:06,  2.22s/it]"
     ]
    },
    {
     "name": "stderr",
     "output_type": "stream",
     "text": [
      "\r",
      "Epoch 0 training 85/114 [LR 0.000100] - loss: 1.5940:  74%|██████████▎   | 84/114 [02:17<01:06,  2.22s/it]"
     ]
    },
    {
     "name": "stderr",
     "output_type": "stream",
     "text": [
      "\r",
      "Epoch 0 training 86/114 [LR 0.000100] - loss: 1.5941:  74%|██████████▎   | 84/114 [02:17<01:06,  2.22s/it]"
     ]
    },
    {
     "name": "stderr",
     "output_type": "stream",
     "text": [
      "\r",
      "Epoch 0 training 86/114 [LR 0.000100] - loss: 1.5941:  75%|██████████▌   | 86/114 [02:17<00:43,  1.55s/it]"
     ]
    },
    {
     "name": "stderr",
     "output_type": "stream",
     "text": [
      "\r",
      "Epoch 0 training 87/114 [LR 0.000100] - loss: 1.5936:  75%|██████████▌   | 86/114 [02:17<00:43,  1.55s/it]"
     ]
    },
    {
     "name": "stderr",
     "output_type": "stream",
     "text": [
      "\r",
      "Epoch 0 training 88/114 [LR 0.000100] - loss: 1.5932:  75%|██████████▌   | 86/114 [02:17<00:43,  1.55s/it]"
     ]
    },
    {
     "name": "stderr",
     "output_type": "stream",
     "text": [
      "\r",
      "Epoch 0 training 88/114 [LR 0.000100] - loss: 1.5932:  77%|██████████▊   | 88/114 [02:17<00:28,  1.09s/it]"
     ]
    },
    {
     "name": "stderr",
     "output_type": "stream",
     "text": [
      "\r",
      "Epoch 0 training 89/114 [LR 0.000100] - loss: 1.5933:  77%|██████████▊   | 88/114 [02:17<00:28,  1.09s/it]"
     ]
    },
    {
     "name": "stderr",
     "output_type": "stream",
     "text": [
      "\r",
      "Epoch 0 training 90/114 [LR 0.000100] - loss: 1.5933:  77%|██████████▊   | 88/114 [02:17<00:28,  1.09s/it]"
     ]
    },
    {
     "name": "stderr",
     "output_type": "stream",
     "text": [
      "\r",
      "Epoch 0 training 90/114 [LR 0.000100] - loss: 1.5933:  79%|███████████   | 90/114 [02:17<00:18,  1.30it/s]"
     ]
    },
    {
     "name": "stderr",
     "output_type": "stream",
     "text": [
      "\r",
      "Epoch 0 training 91/114 [LR 0.000100] - loss: 1.5931:  79%|███████████   | 90/114 [02:17<00:18,  1.30it/s]"
     ]
    },
    {
     "name": "stderr",
     "output_type": "stream",
     "text": [
      "\r",
      "Epoch 0 training 92/114 [LR 0.000100] - loss: 1.5935:  79%|███████████   | 90/114 [02:17<00:18,  1.30it/s]"
     ]
    },
    {
     "name": "stderr",
     "output_type": "stream",
     "text": [
      "\r",
      "Epoch 0 training 93/114 [LR 0.000100] - loss: 1.5936:  79%|███████████   | 90/114 [02:17<00:18,  1.30it/s]"
     ]
    },
    {
     "name": "stderr",
     "output_type": "stream",
     "text": [
      "\r",
      "Epoch 0 training 93/114 [LR 0.000100] - loss: 1.5936:  82%|███████████▍  | 93/114 [02:17<00:10,  2.06it/s]"
     ]
    },
    {
     "name": "stderr",
     "output_type": "stream",
     "text": [
      "\r",
      "Epoch 0 training 94/114 [LR 0.000100] - loss: 1.5931:  82%|███████████▍  | 93/114 [02:17<00:10,  2.06it/s]"
     ]
    },
    {
     "name": "stderr",
     "output_type": "stream",
     "text": [
      "\r",
      "Epoch 0 training 95/114 [LR 0.000100] - loss: 1.5930:  82%|███████████▍  | 93/114 [02:17<00:10,  2.06it/s]"
     ]
    },
    {
     "name": "stderr",
     "output_type": "stream",
     "text": [
      "\r",
      "Epoch 0 training 96/114 [LR 0.000100] - loss: 1.5929:  82%|███████████▍  | 93/114 [02:17<00:10,  2.06it/s]"
     ]
    },
    {
     "name": "stderr",
     "output_type": "stream",
     "text": [
      "\r",
      "Epoch 0 training 96/114 [LR 0.000100] - loss: 1.5929:  84%|███████████▊  | 96/114 [02:17<00:05,  3.05it/s]"
     ]
    },
    {
     "name": "stderr",
     "output_type": "stream",
     "text": [
      "\r",
      "Epoch 0 training 96/114 [LR 0.000100] - loss: 1.5929:  84%|███████████▊  | 96/114 [02:30<00:05,  3.05it/s]"
     ]
    },
    {
     "name": "stderr",
     "output_type": "stream",
     "text": [
      "\r",
      "Epoch 0 training 97/114 [LR 0.000100] - loss: 1.5927:  84%|███████████▊  | 96/114 [02:34<00:05,  3.05it/s]"
     ]
    },
    {
     "name": "stderr",
     "output_type": "stream",
     "text": [
      "\r",
      "Epoch 0 training 97/114 [LR 0.000100] - loss: 1.5927:  85%|███████████▉  | 97/114 [02:34<00:47,  2.81s/it]"
     ]
    },
    {
     "name": "stderr",
     "output_type": "stream",
     "text": [
      "\r",
      "Epoch 0 training 98/114 [LR 0.000100] - loss: 1.5931:  85%|███████████▉  | 97/114 [02:35<00:47,  2.81s/it]"
     ]
    },
    {
     "name": "stderr",
     "output_type": "stream",
     "text": [
      "\r",
      "Epoch 0 training 98/114 [LR 0.000100] - loss: 1.5931:  86%|████████████  | 98/114 [02:35<00:38,  2.42s/it]"
     ]
    },
    {
     "name": "stderr",
     "output_type": "stream",
     "text": [
      "\r",
      "Epoch 0 training 99/114 [LR 0.000100] - loss: 1.5929:  86%|████████████  | 98/114 [02:39<00:38,  2.42s/it]"
     ]
    },
    {
     "name": "stderr",
     "output_type": "stream",
     "text": [
      "\r",
      "Epoch 0 training 100/114 [LR 0.000100] - loss: 1.5926:  86%|███████████▏ | 98/114 [02:39<00:38,  2.42s/it]"
     ]
    },
    {
     "name": "stderr",
     "output_type": "stream",
     "text": [
      "\r",
      "Epoch 0 training 100/114 [LR 0.000100] - loss: 1.5926:  88%|██████████▌ | 100/114 [02:39<00:31,  2.28s/it]"
     ]
    },
    {
     "name": "stderr",
     "output_type": "stream",
     "text": [
      "\r",
      "Epoch 0 training 101/114 [LR 0.000100] - loss: 1.5928:  88%|██████████▌ | 100/114 [02:39<00:31,  2.28s/it]"
     ]
    },
    {
     "name": "stderr",
     "output_type": "stream",
     "text": [
      "\r",
      "Epoch 0 training 102/114 [LR 0.000100] - loss: 1.5928:  88%|██████████▌ | 100/114 [02:39<00:31,  2.28s/it]"
     ]
    },
    {
     "name": "stderr",
     "output_type": "stream",
     "text": [
      "\r",
      "Epoch 0 training 102/114 [LR 0.000100] - loss: 1.5928:  89%|██████████▋ | 102/114 [02:39<00:18,  1.57s/it]"
     ]
    },
    {
     "name": "stderr",
     "output_type": "stream",
     "text": [
      "\r",
      "Epoch 0 training 103/114 [LR 0.000100] - loss: 1.5924:  89%|██████████▋ | 102/114 [02:39<00:18,  1.57s/it]"
     ]
    },
    {
     "name": "stderr",
     "output_type": "stream",
     "text": [
      "\r",
      "Epoch 0 training 104/114 [LR 0.000099] - loss: 1.5927:  89%|██████████▋ | 102/114 [02:39<00:18,  1.57s/it]"
     ]
    },
    {
     "name": "stderr",
     "output_type": "stream",
     "text": [
      "\r",
      "Epoch 0 training 104/114 [LR 0.000099] - loss: 1.5927:  91%|██████████▉ | 104/114 [02:39<00:10,  1.10s/it]"
     ]
    },
    {
     "name": "stderr",
     "output_type": "stream",
     "text": [
      "\r",
      "Epoch 0 training 105/114 [LR 0.000099] - loss: 1.5924:  91%|██████████▉ | 104/114 [02:39<00:10,  1.10s/it]"
     ]
    },
    {
     "name": "stderr",
     "output_type": "stream",
     "text": [
      "\r",
      "Epoch 0 training 106/114 [LR 0.000099] - loss: 1.5918:  91%|██████████▉ | 104/114 [02:39<00:10,  1.10s/it]"
     ]
    },
    {
     "name": "stderr",
     "output_type": "stream",
     "text": [
      "\r",
      "Epoch 0 training 106/114 [LR 0.000099] - loss: 1.5918:  93%|███████████▏| 106/114 [02:39<00:06,  1.29it/s]"
     ]
    },
    {
     "name": "stderr",
     "output_type": "stream",
     "text": [
      "\r",
      "Epoch 0 training 107/114 [LR 0.000099] - loss: 1.5915:  93%|███████████▏| 106/114 [02:39<00:06,  1.29it/s]"
     ]
    },
    {
     "name": "stderr",
     "output_type": "stream",
     "text": [
      "\r",
      "Epoch 0 training 108/114 [LR 0.000099] - loss: 1.5914:  93%|███████████▏| 106/114 [02:41<00:06,  1.29it/s]"
     ]
    },
    {
     "name": "stderr",
     "output_type": "stream",
     "text": [
      "\r",
      "Epoch 0 training 108/114 [LR 0.000099] - loss: 1.5914:  95%|███████████▎| 108/114 [02:41<00:05,  1.17it/s]"
     ]
    },
    {
     "name": "stderr",
     "output_type": "stream",
     "text": [
      "\r",
      "Epoch 0 training 109/114 [LR 0.000099] - loss: 1.5908:  95%|███████████▎| 108/114 [02:42<00:05,  1.17it/s]"
     ]
    },
    {
     "name": "stderr",
     "output_type": "stream",
     "text": [
      "\r",
      "Epoch 0 training 110/114 [LR 0.000099] - loss: 1.5907:  95%|███████████▎| 108/114 [02:42<00:05,  1.17it/s]"
     ]
    },
    {
     "name": "stderr",
     "output_type": "stream",
     "text": [
      "\r",
      "Epoch 0 training 110/114 [LR 0.000099] - loss: 1.5907:  96%|███████████▌| 110/114 [02:42<00:02,  1.63it/s]"
     ]
    },
    {
     "name": "stderr",
     "output_type": "stream",
     "text": [
      "\r",
      "Epoch 0 training 111/114 [LR 0.000099] - loss: 1.5906:  96%|███████████▌| 110/114 [02:42<00:02,  1.63it/s]"
     ]
    },
    {
     "name": "stderr",
     "output_type": "stream",
     "text": [
      "\r",
      "Epoch 0 training 112/114 [LR 0.000099] - loss: 1.5908:  96%|███████████▌| 110/114 [02:42<00:02,  1.63it/s]"
     ]
    },
    {
     "name": "stderr",
     "output_type": "stream",
     "text": [
      "\r",
      "Epoch 0 training 112/114 [LR 0.000099] - loss: 1.5908:  98%|███████████▊| 112/114 [02:42<00:00,  2.24it/s]"
     ]
    },
    {
     "name": "stderr",
     "output_type": "stream",
     "text": [
      "\r",
      "Epoch 0 training 113/114 [LR 0.000099] - loss: 1.5907:  98%|███████████▊| 112/114 [02:55<00:00,  2.24it/s]"
     ]
    },
    {
     "name": "stderr",
     "output_type": "stream",
     "text": [
      "\r",
      "Epoch 0 training 114/114 [LR 0.000099] - loss: 1.5906:  98%|███████████▊| 112/114 [02:56<00:00,  2.24it/s]"
     ]
    },
    {
     "name": "stderr",
     "output_type": "stream",
     "text": [
      "\r",
      "Epoch 0 training 114/114 [LR 0.000099] - loss: 1.5906: 100%|████████████| 114/114 [02:56<00:00,  2.41s/it]"
     ]
    },
    {
     "name": "stderr",
     "output_type": "stream",
     "text": [
      "\r",
      "Epoch 0 training 114/114 [LR 0.000099] - loss: 1.5906: 100%|████████████| 114/114 [02:56<00:00,  1.55s/it]"
     ]
    },
    {
     "name": "stderr",
     "output_type": "stream",
     "text": [
      "\n"
     ]
    },
    {
     "ename": "ValueError",
     "evalue": "Target scores need to be probabilities for multiclass roc_auc, i.e. they should sum up to 1.0 over classes",
     "output_type": "error",
     "traceback": [
      "\u001b[0;31m---------------------------------------------------------------------------\u001b[0m",
      "\u001b[0;31mValueError\u001b[0m                                Traceback (most recent call last)",
      "Cell \u001b[0;32mIn[25], line 60\u001b[0m\n\u001b[1;32m     57\u001b[0m wandb\u001b[38;5;241m.\u001b[39mrun\u001b[38;5;241m.\u001b[39mtags \u001b[38;5;241m=\u001b[39m [\u001b[38;5;124mf\u001b[39m\u001b[38;5;124m\"\u001b[39m\u001b[38;5;124mfold_\u001b[39m\u001b[38;5;132;01m{\u001b[39;00mFOLD\u001b[38;5;132;01m}\u001b[39;00m\u001b[38;5;124m\"\u001b[39m]\n\u001b[1;32m     59\u001b[0m \u001b[38;5;28;01mfor\u001b[39;00m epoch \u001b[38;5;129;01min\u001b[39;00m \u001b[38;5;28mrange\u001b[39m(\u001b[38;5;241m0\u001b[39m, CFG\u001b[38;5;241m.\u001b[39mepochs):\n\u001b[0;32m---> 60\u001b[0m     train_loss, train_lr, train_auc \u001b[38;5;241m=\u001b[39m train_epoch(CFG, model, train_loader, loss_criterion, optimizer, scheduler, epoch)\n\u001b[1;32m     61\u001b[0m     train_loss_history\u001b[38;5;241m.\u001b[39mappend(train_loss)\n\u001b[1;32m     62\u001b[0m     train_score_history\u001b[38;5;241m.\u001b[39mappend(train_auc)\n",
      "Cell \u001b[0;32mIn[20], line 50\u001b[0m, in \u001b[0;36mtrain_epoch\u001b[0;34m(cfg, model, train_loader, loss_criterion, optimizer, scheduler, epoch)\u001b[0m\n\u001b[1;32m     47\u001b[0m predictions \u001b[38;5;241m=\u001b[39m F\u001b[38;5;241m.\u001b[39msigmoid(predictions)\n\u001b[1;32m     49\u001b[0m train_loss \u001b[38;5;241m/\u001b[39m\u001b[38;5;241m=\u001b[39m total_len\n\u001b[0;32m---> 50\u001b[0m roc_auc \u001b[38;5;241m=\u001b[39m roc_auc_score(targets\u001b[38;5;241m.\u001b[39mnumpy(), predictions\u001b[38;5;241m.\u001b[39mnumpy(), multi_class\u001b[38;5;241m=\u001b[39m\u001b[38;5;124m'\u001b[39m\u001b[38;5;124movo\u001b[39m\u001b[38;5;124m'\u001b[39m)\n\u001b[1;32m     51\u001b[0m \u001b[38;5;66;03m# roc_auc = 1\u001b[39;00m\n\u001b[1;32m     53\u001b[0m \u001b[38;5;28mprint\u001b[39m(\u001b[38;5;124mf\u001b[39m\u001b[38;5;124m'\u001b[39m\u001b[38;5;124mEpoch \u001b[39m\u001b[38;5;132;01m{\u001b[39;00mepoch\u001b[38;5;132;01m}\u001b[39;00m\u001b[38;5;124m train loss = \u001b[39m\u001b[38;5;132;01m{\u001b[39;00mtrain_loss\u001b[38;5;132;01m:\u001b[39;00m\u001b[38;5;124m.4f\u001b[39m\u001b[38;5;132;01m}\u001b[39;00m\u001b[38;5;124m, auc = \u001b[39m\u001b[38;5;132;01m{\u001b[39;00mroc_auc\u001b[38;5;132;01m:\u001b[39;00m\u001b[38;5;124m.4f\u001b[39m\u001b[38;5;132;01m}\u001b[39;00m\u001b[38;5;124m'\u001b[39m)\n",
      "File \u001b[0;32m~/miniconda3/envs/py311/lib/python3.11/site-packages/sklearn/utils/_param_validation.py:213\u001b[0m, in \u001b[0;36mvalidate_params.<locals>.decorator.<locals>.wrapper\u001b[0;34m(*args, **kwargs)\u001b[0m\n\u001b[1;32m    207\u001b[0m \u001b[38;5;28;01mtry\u001b[39;00m:\n\u001b[1;32m    208\u001b[0m     \u001b[38;5;28;01mwith\u001b[39;00m config_context(\n\u001b[1;32m    209\u001b[0m         skip_parameter_validation\u001b[38;5;241m=\u001b[39m(\n\u001b[1;32m    210\u001b[0m             prefer_skip_nested_validation \u001b[38;5;129;01mor\u001b[39;00m global_skip_validation\n\u001b[1;32m    211\u001b[0m         )\n\u001b[1;32m    212\u001b[0m     ):\n\u001b[0;32m--> 213\u001b[0m         \u001b[38;5;28;01mreturn\u001b[39;00m func(\u001b[38;5;241m*\u001b[39margs, \u001b[38;5;241m*\u001b[39m\u001b[38;5;241m*\u001b[39mkwargs)\n\u001b[1;32m    214\u001b[0m \u001b[38;5;28;01mexcept\u001b[39;00m InvalidParameterError \u001b[38;5;28;01mas\u001b[39;00m e:\n\u001b[1;32m    215\u001b[0m     \u001b[38;5;66;03m# When the function is just a wrapper around an estimator, we allow\u001b[39;00m\n\u001b[1;32m    216\u001b[0m     \u001b[38;5;66;03m# the function to delegate validation to the estimator, but we replace\u001b[39;00m\n\u001b[1;32m    217\u001b[0m     \u001b[38;5;66;03m# the name of the estimator by the name of the function in the error\u001b[39;00m\n\u001b[1;32m    218\u001b[0m     \u001b[38;5;66;03m# message to avoid confusion.\u001b[39;00m\n\u001b[1;32m    219\u001b[0m     msg \u001b[38;5;241m=\u001b[39m re\u001b[38;5;241m.\u001b[39msub(\n\u001b[1;32m    220\u001b[0m         \u001b[38;5;124mr\u001b[39m\u001b[38;5;124m\"\u001b[39m\u001b[38;5;124mparameter of \u001b[39m\u001b[38;5;124m\\\u001b[39m\u001b[38;5;124mw+ must be\u001b[39m\u001b[38;5;124m\"\u001b[39m,\n\u001b[1;32m    221\u001b[0m         \u001b[38;5;124mf\u001b[39m\u001b[38;5;124m\"\u001b[39m\u001b[38;5;124mparameter of \u001b[39m\u001b[38;5;132;01m{\u001b[39;00mfunc\u001b[38;5;241m.\u001b[39m\u001b[38;5;18m__qualname__\u001b[39m\u001b[38;5;132;01m}\u001b[39;00m\u001b[38;5;124m must be\u001b[39m\u001b[38;5;124m\"\u001b[39m,\n\u001b[1;32m    222\u001b[0m         \u001b[38;5;28mstr\u001b[39m(e),\n\u001b[1;32m    223\u001b[0m     )\n",
      "File \u001b[0;32m~/miniconda3/envs/py311/lib/python3.11/site-packages/sklearn/metrics/_ranking.py:634\u001b[0m, in \u001b[0;36mroc_auc_score\u001b[0;34m(y_true, y_score, average, sample_weight, max_fpr, multi_class, labels)\u001b[0m\n\u001b[1;32m    632\u001b[0m     \u001b[38;5;28;01mif\u001b[39;00m multi_class \u001b[38;5;241m==\u001b[39m \u001b[38;5;124m\"\u001b[39m\u001b[38;5;124mraise\u001b[39m\u001b[38;5;124m\"\u001b[39m:\n\u001b[1;32m    633\u001b[0m         \u001b[38;5;28;01mraise\u001b[39;00m \u001b[38;5;167;01mValueError\u001b[39;00m(\u001b[38;5;124m\"\u001b[39m\u001b[38;5;124mmulti_class must be in (\u001b[39m\u001b[38;5;124m'\u001b[39m\u001b[38;5;124movo\u001b[39m\u001b[38;5;124m'\u001b[39m\u001b[38;5;124m, \u001b[39m\u001b[38;5;124m'\u001b[39m\u001b[38;5;124movr\u001b[39m\u001b[38;5;124m'\u001b[39m\u001b[38;5;124m)\u001b[39m\u001b[38;5;124m\"\u001b[39m)\n\u001b[0;32m--> 634\u001b[0m     \u001b[38;5;28;01mreturn\u001b[39;00m _multiclass_roc_auc_score(\n\u001b[1;32m    635\u001b[0m         y_true, y_score, labels, multi_class, average, sample_weight\n\u001b[1;32m    636\u001b[0m     )\n\u001b[1;32m    637\u001b[0m \u001b[38;5;28;01melif\u001b[39;00m y_type \u001b[38;5;241m==\u001b[39m \u001b[38;5;124m\"\u001b[39m\u001b[38;5;124mbinary\u001b[39m\u001b[38;5;124m\"\u001b[39m:\n\u001b[1;32m    638\u001b[0m     labels \u001b[38;5;241m=\u001b[39m np\u001b[38;5;241m.\u001b[39munique(y_true)\n",
      "File \u001b[0;32m~/miniconda3/envs/py311/lib/python3.11/site-packages/sklearn/metrics/_ranking.py:707\u001b[0m, in \u001b[0;36m_multiclass_roc_auc_score\u001b[0;34m(y_true, y_score, labels, multi_class, average, sample_weight)\u001b[0m\n\u001b[1;32m    705\u001b[0m \u001b[38;5;66;03m# validation of the input y_score\u001b[39;00m\n\u001b[1;32m    706\u001b[0m \u001b[38;5;28;01mif\u001b[39;00m \u001b[38;5;129;01mnot\u001b[39;00m np\u001b[38;5;241m.\u001b[39mallclose(\u001b[38;5;241m1\u001b[39m, y_score\u001b[38;5;241m.\u001b[39msum(axis\u001b[38;5;241m=\u001b[39m\u001b[38;5;241m1\u001b[39m)):\n\u001b[0;32m--> 707\u001b[0m     \u001b[38;5;28;01mraise\u001b[39;00m \u001b[38;5;167;01mValueError\u001b[39;00m(\n\u001b[1;32m    708\u001b[0m         \u001b[38;5;124m\"\u001b[39m\u001b[38;5;124mTarget scores need to be probabilities for multiclass \u001b[39m\u001b[38;5;124m\"\u001b[39m\n\u001b[1;32m    709\u001b[0m         \u001b[38;5;124m\"\u001b[39m\u001b[38;5;124mroc_auc, i.e. they should sum up to 1.0 over classes\u001b[39m\u001b[38;5;124m\"\u001b[39m\n\u001b[1;32m    710\u001b[0m     )\n\u001b[1;32m    712\u001b[0m \u001b[38;5;66;03m# validation for multiclass parameter specifications\u001b[39;00m\n\u001b[1;32m    713\u001b[0m average_options \u001b[38;5;241m=\u001b[39m (\u001b[38;5;124m\"\u001b[39m\u001b[38;5;124mmacro\u001b[39m\u001b[38;5;124m\"\u001b[39m, \u001b[38;5;124m\"\u001b[39m\u001b[38;5;124mweighted\u001b[39m\u001b[38;5;124m\"\u001b[39m, \u001b[38;5;28;01mNone\u001b[39;00m)\n",
      "\u001b[0;31mValueError\u001b[0m: Target scores need to be probabilities for multiclass roc_auc, i.e. they should sum up to 1.0 over classes"
     ]
    }
   ],
   "source": [
    "for FOLD in CFG.train_folds:\n",
    "\n",
    "    seed_everything(CFG.seed)\n",
    "\n",
    "    # PREPARE DATA\n",
    "    fold_train_data = train_data[train_data[\"fold\"] != FOLD].reset_index(drop=True)\n",
    "    fold_valid_data = train_data[train_data[\"fold\"] == FOLD].reset_index(drop=True)\n",
    "\n",
    "    # display(\n",
    "    #     pd.merge(\n",
    "    #         fold_valid_data.groupby(by=[\"label\"])[\"file_name\"].count().rename(\"valid\").reset_index(),\n",
    "    #         fold_train_data.groupby(by=[\"label\"])[\"file_name\"].count().rename(\"train\").reset_index(),\n",
    "    #          on=\"label\", how=\"left\").T,)\n",
    "\n",
    "\n",
    "    train_dataset = ImageTrainDataset(TRAIN_DATA_FOLDER, fold_train_data, transforms=train_transforms)\n",
    "    valid_dataset = ImageTrainDataset(TRAIN_DATA_FOLDER, fold_valid_data, transforms=val_transforms)\n",
    "\n",
    "    train_loader = DataLoader(\n",
    "            train_dataset,\n",
    "            batch_size=CFG.batch_size,\n",
    "            shuffle=True,\n",
    "            num_workers=16,\n",
    "            pin_memory=True,\n",
    "            drop_last=True\n",
    "        )\n",
    "\n",
    "    valid_loader = DataLoader(\n",
    "        valid_dataset,\n",
    "        batch_size=CFG.batch_size,\n",
    "        shuffle=False,\n",
    "        num_workers=16,\n",
    "        pin_memory=True,\n",
    "        drop_last=False,\n",
    "    )\n",
    "\n",
    "    # PREPARE MODEL, OPTIMIZER AND SCHEDULER\n",
    "    model = create_model()\n",
    "    print(f\"Model parameters: {sum(p.numel() for p in model.parameters() if p.requires_grad):_}\")\n",
    "\n",
    "    optimizer = torch.optim.AdamW(model.parameters(), lr=CFG.lr, weight_decay=CFG.weight_decay)\n",
    "    scheduler = torch.optim.lr_scheduler.CosineAnnealingLR(\n",
    "        optimizer, eta_min=1e-6, T_max =CFG.epochs * len(train_loader),\n",
    "        )\n",
    "    \n",
    "    loss_criterion = nn.CrossEntropyLoss()\n",
    "\n",
    "    # TRAIN FOLD\n",
    "    learning_rate_history = []\n",
    "    train_loss_history = []\n",
    "    train_score_history = []\n",
    "    val_loss_history = []\n",
    "    val_score_history = []\n",
    "\n",
    "    best_score = 0\n",
    "    \n",
    "    wandb.run.tags = [f\"fold_{FOLD}\"]\n",
    "    \n",
    "    for epoch in range(0, CFG.epochs):\n",
    "        train_loss, train_lr, train_auc = train_epoch(CFG, model, train_loader, loss_criterion, optimizer, scheduler, epoch)\n",
    "        train_loss_history.append(train_loss)\n",
    "        train_score_history.append(train_auc)\n",
    "        learning_rate_history.extend(train_lr)\n",
    "\n",
    "        val_loss, val_auc = evaluate_model(CFG, model, valid_loader, loss_criterion, epoch)\n",
    "        val_loss_history.append(val_loss)\n",
    "        val_score_history.append(val_auc)\n",
    "        \n",
    "        wandb.log(\n",
    "            {'train': {'loss': train_loss, 'auc': train_auc}, \n",
    "             'val': {'loss': val_loss, 'auc': val_auc}})\n",
    "\n",
    "        if (val_auc > best_score):\n",
    "            print(f\"{style.GREEN}New best score: {best_score:.4f} -> {val_auc:.4f}{style.END}\")\n",
    "            best_score = val_auc\n",
    "            torch.save(model.state_dict(), os.path.join(wandb.run.dir, f'best_model_fold_{FOLD}.pth'))\n",
    "            \n",
    "    # run.log_model(\n",
    "    #     path=os.path.join(wandb.run.dir, 'best_model_fold_{FOLD}'), \n",
    "    #     name=f'{CFG.model_name}_fold_{FOLD}'\n",
    "    # )\n",
    "\n",
    "    # # plot train and validation loss, score and LR\n",
    "    # fig, axes = plt.subplots(1,3, figsize=(12,3))\n",
    "    # axes[0].plot(train_loss_history, label=\"Train\")\n",
    "    # axes[0].plot(val_loss_history, label=\"Valid\")\n",
    "    # axes[0].title.set_text(\"Loss\")\n",
    "    # axes[0].set_xlabel(\"Epoch\")\n",
    "    # axes[0].legend()\n",
    "\n",
    "    # axes[1].plot(train_score_history, label=\"Train\")\n",
    "    # axes[1].plot(val_score_history, label=\"Valid\")\n",
    "    # axes[1].title.set_text(\"F1 score\")\n",
    "    # axes[1].set_xlabel(\"Epoch\")\n",
    "    # axes[1].legend()\n",
    "\n",
    "    # axes[2].plot(learning_rate_history, label=\"LR\")\n",
    "    # axes[2].legend()\n",
    "    # axes[2].title.set_text(\"Learning rate\")\n",
    "    # axes[2].set_xlabel(\"Step\")\n",
    "    # fig.suptitle(f\"Fold {FOLD}\")\n",
    "    # fig.tight_layout()\n",
    "    # plt.show()"
   ]
  },
  {
   "cell_type": "code",
   "execution_count": null,
   "id": "87746a38",
   "metadata": {
    "papermill": {
     "duration": null,
     "end_time": null,
     "exception": null,
     "start_time": null,
     "status": "pending"
    },
    "tags": []
   },
   "outputs": [],
   "source": [
    "wandb.finish()"
   ]
  },
  {
   "cell_type": "code",
   "execution_count": null,
   "id": "4fe4c84e",
   "metadata": {
    "papermill": {
     "duration": null,
     "end_time": null,
     "exception": null,
     "start_time": null,
     "status": "pending"
    },
    "tags": []
   },
   "outputs": [],
   "source": []
  }
 ],
 "metadata": {
  "accelerator": "GPU",
  "colab": {
   "provenance": [],
   "toc_visible": true
  },
  "kaggle": {
   "accelerator": "gpu",
   "dataSources": [
    {
     "datasetId": 4568125,
     "sourceId": 7801430,
     "sourceType": "datasetVersion"
    },
    {
     "datasetId": 4568781,
     "sourceId": 7877494,
     "sourceType": "datasetVersion"
    }
   ],
   "dockerImageVersionId": 30664,
   "isGpuEnabled": true,
   "isInternetEnabled": true,
   "language": "python",
   "sourceType": "notebook"
  },
  "kernelspec": {
   "display_name": "Python 3 (ipykernel)",
   "language": "python",
   "name": "python3"
  },
  "language_info": {
   "codemirror_mode": {
    "name": "ipython",
    "version": 3
   },
   "file_extension": ".py",
   "mimetype": "text/x-python",
   "name": "python",
   "nbconvert_exporter": "python",
   "pygments_lexer": "ipython3",
   "version": "3.11.9"
  },
  "papermill": {
   "default_parameters": {},
   "duration": 195.64318,
   "end_time": "2024-05-12T00:41:25.071734",
   "environment_variables": {},
   "exception": true,
   "input_path": "model_full_train.ipynb",
   "output_path": "output/o2.ipynb",
   "parameters": {},
   "start_time": "2024-05-12T00:38:09.428554",
   "version": "2.6.0"
  },
  "widgets": {
   "application/vnd.jupyter.widget-state+json": {
    "08d2c86ce4ab4b9e813473170145d4af": {
     "model_module": "@jupyter-widgets/controls",
     "model_module_version": "1.5.0",
     "model_name": "HTMLModel",
     "state": {
      "_dom_classes": [],
      "_model_module": "@jupyter-widgets/controls",
      "_model_module_version": "1.5.0",
      "_model_name": "HTMLModel",
      "_view_count": null,
      "_view_module": "@jupyter-widgets/controls",
      "_view_module_version": "1.5.0",
      "_view_name": "HTMLView",
      "description": "",
      "description_tooltip": null,
      "layout": "IPY_MODEL_96fb1b36ead648c4a4ebebb74c9fcf2c",
      "placeholder": "​",
      "style": "IPY_MODEL_af10206931434c6fbfde31af25affbfa",
      "value": "model.safetensors: 100%"
     }
    },
    "103798aed0c64914b55a691a4d22253e": {
     "model_module": "@jupyter-widgets/controls",
     "model_module_version": "1.5.0",
     "model_name": "HTMLModel",
     "state": {
      "_dom_classes": [],
      "_model_module": "@jupyter-widgets/controls",
      "_model_module_version": "1.5.0",
      "_model_name": "HTMLModel",
      "_view_count": null,
      "_view_module": "@jupyter-widgets/controls",
      "_view_module_version": "1.5.0",
      "_view_name": "HTMLView",
      "description": "",
      "description_tooltip": null,
      "layout": "IPY_MODEL_4420cb88a6a74540a671a529e7320589",
      "placeholder": "​",
      "style": "IPY_MODEL_6b7cb0c6580d4caba2c4f8385749a145",
      "value": " 124M/124M [00:00&lt;00:00, 384MB/s]"
     }
    },
    "2831af4d288b45b688ba9b5992dce3f4": {
     "model_module": "@jupyter-widgets/controls",
     "model_module_version": "1.5.0",
     "model_name": "FloatProgressModel",
     "state": {
      "_dom_classes": [],
      "_model_module": "@jupyter-widgets/controls",
      "_model_module_version": "1.5.0",
      "_model_name": "FloatProgressModel",
      "_view_count": null,
      "_view_module": "@jupyter-widgets/controls",
      "_view_module_version": "1.5.0",
      "_view_name": "ProgressView",
      "bar_style": "success",
      "description": "",
      "description_tooltip": null,
      "layout": "IPY_MODEL_a3763df1b6564f319afc8d67073af72f",
      "max": 124450218,
      "min": 0,
      "orientation": "horizontal",
      "style": "IPY_MODEL_a4c3f492a9b946a0b72df7ea6bb188a9",
      "value": 124450218
     }
    },
    "4420cb88a6a74540a671a529e7320589": {
     "model_module": "@jupyter-widgets/base",
     "model_module_version": "1.2.0",
     "model_name": "LayoutModel",
     "state": {
      "_model_module": "@jupyter-widgets/base",
      "_model_module_version": "1.2.0",
      "_model_name": "LayoutModel",
      "_view_count": null,
      "_view_module": "@jupyter-widgets/base",
      "_view_module_version": "1.2.0",
      "_view_name": "LayoutView",
      "align_content": null,
      "align_items": null,
      "align_self": null,
      "border": null,
      "bottom": null,
      "display": null,
      "flex": null,
      "flex_flow": null,
      "grid_area": null,
      "grid_auto_columns": null,
      "grid_auto_flow": null,
      "grid_auto_rows": null,
      "grid_column": null,
      "grid_gap": null,
      "grid_row": null,
      "grid_template_areas": null,
      "grid_template_columns": null,
      "grid_template_rows": null,
      "height": null,
      "justify_content": null,
      "justify_items": null,
      "left": null,
      "margin": null,
      "max_height": null,
      "max_width": null,
      "min_height": null,
      "min_width": null,
      "object_fit": null,
      "object_position": null,
      "order": null,
      "overflow": null,
      "overflow_x": null,
      "overflow_y": null,
      "padding": null,
      "right": null,
      "top": null,
      "visibility": null,
      "width": null
     }
    },
    "6b7cb0c6580d4caba2c4f8385749a145": {
     "model_module": "@jupyter-widgets/controls",
     "model_module_version": "1.5.0",
     "model_name": "DescriptionStyleModel",
     "state": {
      "_model_module": "@jupyter-widgets/controls",
      "_model_module_version": "1.5.0",
      "_model_name": "DescriptionStyleModel",
      "_view_count": null,
      "_view_module": "@jupyter-widgets/base",
      "_view_module_version": "1.2.0",
      "_view_name": "StyleView",
      "description_width": ""
     }
    },
    "87901707be784b03998e8b8093255ea6": {
     "model_module": "@jupyter-widgets/base",
     "model_module_version": "1.2.0",
     "model_name": "LayoutModel",
     "state": {
      "_model_module": "@jupyter-widgets/base",
      "_model_module_version": "1.2.0",
      "_model_name": "LayoutModel",
      "_view_count": null,
      "_view_module": "@jupyter-widgets/base",
      "_view_module_version": "1.2.0",
      "_view_name": "LayoutView",
      "align_content": null,
      "align_items": null,
      "align_self": null,
      "border": null,
      "bottom": null,
      "display": null,
      "flex": null,
      "flex_flow": null,
      "grid_area": null,
      "grid_auto_columns": null,
      "grid_auto_flow": null,
      "grid_auto_rows": null,
      "grid_column": null,
      "grid_gap": null,
      "grid_row": null,
      "grid_template_areas": null,
      "grid_template_columns": null,
      "grid_template_rows": null,
      "height": null,
      "justify_content": null,
      "justify_items": null,
      "left": null,
      "margin": null,
      "max_height": null,
      "max_width": null,
      "min_height": null,
      "min_width": null,
      "object_fit": null,
      "object_position": null,
      "order": null,
      "overflow": null,
      "overflow_x": null,
      "overflow_y": null,
      "padding": null,
      "right": null,
      "top": null,
      "visibility": null,
      "width": null
     }
    },
    "96fb1b36ead648c4a4ebebb74c9fcf2c": {
     "model_module": "@jupyter-widgets/base",
     "model_module_version": "1.2.0",
     "model_name": "LayoutModel",
     "state": {
      "_model_module": "@jupyter-widgets/base",
      "_model_module_version": "1.2.0",
      "_model_name": "LayoutModel",
      "_view_count": null,
      "_view_module": "@jupyter-widgets/base",
      "_view_module_version": "1.2.0",
      "_view_name": "LayoutView",
      "align_content": null,
      "align_items": null,
      "align_self": null,
      "border": null,
      "bottom": null,
      "display": null,
      "flex": null,
      "flex_flow": null,
      "grid_area": null,
      "grid_auto_columns": null,
      "grid_auto_flow": null,
      "grid_auto_rows": null,
      "grid_column": null,
      "grid_gap": null,
      "grid_row": null,
      "grid_template_areas": null,
      "grid_template_columns": null,
      "grid_template_rows": null,
      "height": null,
      "justify_content": null,
      "justify_items": null,
      "left": null,
      "margin": null,
      "max_height": null,
      "max_width": null,
      "min_height": null,
      "min_width": null,
      "object_fit": null,
      "object_position": null,
      "order": null,
      "overflow": null,
      "overflow_x": null,
      "overflow_y": null,
      "padding": null,
      "right": null,
      "top": null,
      "visibility": null,
      "width": null
     }
    },
    "a3763df1b6564f319afc8d67073af72f": {
     "model_module": "@jupyter-widgets/base",
     "model_module_version": "1.2.0",
     "model_name": "LayoutModel",
     "state": {
      "_model_module": "@jupyter-widgets/base",
      "_model_module_version": "1.2.0",
      "_model_name": "LayoutModel",
      "_view_count": null,
      "_view_module": "@jupyter-widgets/base",
      "_view_module_version": "1.2.0",
      "_view_name": "LayoutView",
      "align_content": null,
      "align_items": null,
      "align_self": null,
      "border": null,
      "bottom": null,
      "display": null,
      "flex": null,
      "flex_flow": null,
      "grid_area": null,
      "grid_auto_columns": null,
      "grid_auto_flow": null,
      "grid_auto_rows": null,
      "grid_column": null,
      "grid_gap": null,
      "grid_row": null,
      "grid_template_areas": null,
      "grid_template_columns": null,
      "grid_template_rows": null,
      "height": null,
      "justify_content": null,
      "justify_items": null,
      "left": null,
      "margin": null,
      "max_height": null,
      "max_width": null,
      "min_height": null,
      "min_width": null,
      "object_fit": null,
      "object_position": null,
      "order": null,
      "overflow": null,
      "overflow_x": null,
      "overflow_y": null,
      "padding": null,
      "right": null,
      "top": null,
      "visibility": null,
      "width": null
     }
    },
    "a4c3f492a9b946a0b72df7ea6bb188a9": {
     "model_module": "@jupyter-widgets/controls",
     "model_module_version": "1.5.0",
     "model_name": "ProgressStyleModel",
     "state": {
      "_model_module": "@jupyter-widgets/controls",
      "_model_module_version": "1.5.0",
      "_model_name": "ProgressStyleModel",
      "_view_count": null,
      "_view_module": "@jupyter-widgets/base",
      "_view_module_version": "1.2.0",
      "_view_name": "StyleView",
      "bar_color": null,
      "description_width": ""
     }
    },
    "af10206931434c6fbfde31af25affbfa": {
     "model_module": "@jupyter-widgets/controls",
     "model_module_version": "1.5.0",
     "model_name": "DescriptionStyleModel",
     "state": {
      "_model_module": "@jupyter-widgets/controls",
      "_model_module_version": "1.5.0",
      "_model_name": "DescriptionStyleModel",
      "_view_count": null,
      "_view_module": "@jupyter-widgets/base",
      "_view_module_version": "1.2.0",
      "_view_name": "StyleView",
      "description_width": ""
     }
    },
    "b53d0ba4ae3e496092fdf021cb4097aa": {
     "model_module": "@jupyter-widgets/controls",
     "model_module_version": "1.5.0",
     "model_name": "HBoxModel",
     "state": {
      "_dom_classes": [],
      "_model_module": "@jupyter-widgets/controls",
      "_model_module_version": "1.5.0",
      "_model_name": "HBoxModel",
      "_view_count": null,
      "_view_module": "@jupyter-widgets/controls",
      "_view_module_version": "1.5.0",
      "_view_name": "HBoxView",
      "box_style": "",
      "children": [
       "IPY_MODEL_08d2c86ce4ab4b9e813473170145d4af",
       "IPY_MODEL_2831af4d288b45b688ba9b5992dce3f4",
       "IPY_MODEL_103798aed0c64914b55a691a4d22253e"
      ],
      "layout": "IPY_MODEL_87901707be784b03998e8b8093255ea6"
     }
    }
   }
  }
 },
 "nbformat": 4,
 "nbformat_minor": 5
}