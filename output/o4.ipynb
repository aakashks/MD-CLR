{
 "cells": [
  {
   "cell_type": "markdown",
   "id": "f2ba6106",
   "metadata": {
    "id": "JC-p4CpT1_Lc",
    "papermill": {
     "duration": 0.01818,
     "end_time": "2024-05-12T01:08:43.353058",
     "exception": false,
     "start_time": "2024-05-12T01:08:43.334878",
     "status": "completed"
    },
    "tags": []
   },
   "source": [
    "# Load Data"
   ]
  },
  {
   "cell_type": "code",
   "execution_count": 1,
   "id": "e2fe4596",
   "metadata": {
    "execution": {
     "iopub.execute_input": "2024-05-12T01:08:43.386361Z",
     "iopub.status.busy": "2024-05-12T01:08:43.385786Z",
     "iopub.status.idle": "2024-05-12T01:08:43.398241Z",
     "shell.execute_reply": "2024-05-12T01:08:43.397301Z"
    },
    "id": "gr9MjCphpOPx",
    "papermill": {
     "duration": 0.032627,
     "end_time": "2024-05-12T01:08:43.400745",
     "exception": false,
     "start_time": "2024-05-12T01:08:43.368118",
     "status": "completed"
    },
    "tags": []
   },
   "outputs": [],
   "source": [
    "# where we will unpack data\n",
    "# OUTPUT_FOLDER = \"/kaggle/working/\"\n",
    "# DATA_FOLDER = \"/kaggle/input/solfune-satellite/\"\n",
    "# TRAIN_DATA_FOLDER = DATA_FOLDER + 'train/'\n",
    "\n",
    "OUTPUT_FOLDER = \"/scratch/aakash_ks.iitr/dr-scnn/\"\n",
    "DATA_FOLDER = \"/scratch/aakash_ks.iitr/data/diabetic-retinopathy/\"\n",
    "TRAIN_DATA_FOLDER = DATA_FOLDER + 'resized_train/'\n",
    "# TRAIN_DATA_FOLDER = DATA_FOLDER + 'resized_train_c/'\n",
    "\n",
    "# TEST_DATA_FOLDER = DATA_FOLDER + 'test/'"
   ]
  },
  {
   "cell_type": "markdown",
   "id": "c9201e86",
   "metadata": {
    "id": "dOaKi5h92DBb",
    "papermill": {
     "duration": 0.010422,
     "end_time": "2024-05-12T01:08:43.422827",
     "exception": false,
     "start_time": "2024-05-12T01:08:43.412405",
     "status": "completed"
    },
    "tags": []
   },
   "source": [
    "# Imports"
   ]
  },
  {
   "cell_type": "code",
   "execution_count": 2,
   "id": "40829e7e",
   "metadata": {
    "execution": {
     "iopub.execute_input": "2024-05-12T01:08:43.444094Z",
     "iopub.status.busy": "2024-05-12T01:08:43.443630Z",
     "iopub.status.idle": "2024-05-12T01:08:44.647152Z",
     "shell.execute_reply": "2024-05-12T01:08:44.646538Z"
    },
    "id": "NNdj2cxdkpiv",
    "papermill": {
     "duration": 1.217406,
     "end_time": "2024-05-12T01:08:44.650216",
     "exception": false,
     "start_time": "2024-05-12T01:08:43.432810",
     "status": "completed"
    },
    "tags": []
   },
   "outputs": [],
   "source": [
    "import os\n",
    "import random\n",
    "import numpy as np\n",
    "import pandas as pd\n",
    "import matplotlib.pyplot as plt\n",
    "import seaborn as sns\n",
    "from tqdm import tqdm\n",
    "\n",
    "from PIL import Image"
   ]
  },
  {
   "cell_type": "code",
   "execution_count": 3,
   "id": "722af56b",
   "metadata": {
    "execution": {
     "iopub.execute_input": "2024-05-12T01:08:44.681799Z",
     "iopub.status.busy": "2024-05-12T01:08:44.681144Z",
     "iopub.status.idle": "2024-05-12T01:08:48.198583Z",
     "shell.execute_reply": "2024-05-12T01:08:48.198048Z"
    },
    "id": "7yoCqGCB2jIS",
    "papermill": {
     "duration": 3.53446,
     "end_time": "2024-05-12T01:08:48.200905",
     "exception": false,
     "start_time": "2024-05-12T01:08:44.666445",
     "status": "completed"
    },
    "tags": []
   },
   "outputs": [
    {
     "name": "stderr",
     "output_type": "stream",
     "text": [
      "/home/aakash_ks.iitr/miniconda3/envs/py311/lib/python3.11/site-packages/tqdm/auto.py:21: TqdmWarning: IProgress not found. Please update jupyter and ipywidgets. See https://ipywidgets.readthedocs.io/en/stable/user_install.html\n",
      "  from .autonotebook import tqdm as notebook_tqdm\n"
     ]
    }
   ],
   "source": [
    "import torch\n",
    "import torch.nn.functional as F\n",
    "import torch.nn as nn\n",
    "\n",
    "from torch.utils.data import DataLoader, Dataset, WeightedRandomSampler\n",
    "from torchvision.transforms import v2\n",
    "\n",
    "import timm"
   ]
  },
  {
   "cell_type": "code",
   "execution_count": 4,
   "id": "93582d7d",
   "metadata": {
    "execution": {
     "iopub.execute_input": "2024-05-12T01:08:48.227689Z",
     "iopub.status.busy": "2024-05-12T01:08:48.227438Z",
     "iopub.status.idle": "2024-05-12T01:08:48.241262Z",
     "shell.execute_reply": "2024-05-12T01:08:48.240548Z"
    },
    "id": "8Ejzj4rDx_GK",
    "papermill": {
     "duration": 0.028369,
     "end_time": "2024-05-12T01:08:48.242969",
     "exception": false,
     "start_time": "2024-05-12T01:08:48.214600",
     "status": "completed"
    },
    "tags": []
   },
   "outputs": [],
   "source": [
    "\n",
    "NUM_CLASSES = 5\n",
    "\n",
    "class CFG:\n",
    "    seed = 29\n",
    "    N_folds = 5\n",
    "    train_folds = [0] # [0,1,2,3,4]\n",
    "\n",
    "    device = 'cuda' if torch.cuda.is_available() else 'cpu'\n",
    "    apex=True # use half precision\n",
    "\n",
    "    # model_name = \"maxvit_tiny_tf_512\"\n",
    "    model_name = \"resnet50.a1_in1k\"\n",
    "    epochs = 20\n",
    "    cropped = False\n",
    "    # weights =  torch.tensor([0.206119, 0.793881],dtype=torch.float32)\n",
    "\n",
    "    clip_val = 1000.\n",
    "    batch_size = 64\n",
    "    # gradient_accumulation_steps = 1\n",
    "\n",
    "    lr = 1e-4\n",
    "    weight_decay=1e-2\n",
    "    \n",
    "    resolution = 224"
   ]
  },
  {
   "cell_type": "code",
   "execution_count": 5,
   "id": "1b676737",
   "metadata": {
    "execution": {
     "iopub.execute_input": "2024-05-12T01:08:48.264760Z",
     "iopub.status.busy": "2024-05-12T01:08:48.264527Z",
     "iopub.status.idle": "2024-05-12T01:08:53.524986Z",
     "shell.execute_reply": "2024-05-12T01:08:53.524000Z"
    },
    "papermill": {
     "duration": 5.273959,
     "end_time": "2024-05-12T01:08:53.527657",
     "exception": false,
     "start_time": "2024-05-12T01:08:48.253698",
     "status": "completed"
    },
    "tags": []
   },
   "outputs": [
    {
     "name": "stderr",
     "output_type": "stream",
     "text": [
      "\u001b[34m\u001b[1mwandb\u001b[0m: Currently logged in as: \u001b[33maakashks_\u001b[0m. Use \u001b[1m`wandb login --relogin`\u001b[0m to force relogin\n"
     ]
    },
    {
     "name": "stderr",
     "output_type": "stream",
     "text": [
      "\u001b[34m\u001b[1mwandb\u001b[0m: wandb version 0.17.0 is available!  To upgrade, please run:\n",
      "\u001b[34m\u001b[1mwandb\u001b[0m:  $ pip install wandb --upgrade\n"
     ]
    },
    {
     "name": "stderr",
     "output_type": "stream",
     "text": [
      "\u001b[34m\u001b[1mwandb\u001b[0m: Tracking run with wandb version 0.16.5\n"
     ]
    },
    {
     "name": "stderr",
     "output_type": "stream",
     "text": [
      "\u001b[34m\u001b[1mwandb\u001b[0m: Run data is saved locally in \u001b[35m\u001b[1m/scratch/aakash_ks.iitr/dr-scnn/wandb/run-20240512_063850-x50ekdp6\u001b[0m\n",
      "\u001b[34m\u001b[1mwandb\u001b[0m: Run \u001b[1m`wandb offline`\u001b[0m to turn off syncing.\n"
     ]
    },
    {
     "name": "stderr",
     "output_type": "stream",
     "text": [
      "\u001b[34m\u001b[1mwandb\u001b[0m: Syncing run \u001b[33mfresh-sunset-57\u001b[0m\n"
     ]
    },
    {
     "name": "stderr",
     "output_type": "stream",
     "text": [
      "\u001b[34m\u001b[1mwandb\u001b[0m: ⭐️ View project at \u001b[34m\u001b[4mhttps://wandb.ai/aakashks_/hello-world\u001b[0m\n"
     ]
    },
    {
     "name": "stderr",
     "output_type": "stream",
     "text": [
      "\u001b[34m\u001b[1mwandb\u001b[0m: 🚀 View run at \u001b[34m\u001b[4mhttps://wandb.ai/aakashks_/hello-world/runs/x50ekdp6/workspace\u001b[0m\n"
     ]
    }
   ],
   "source": [
    "import wandb\n",
    "# from kaggle_secrets import UserSecretsClient\n",
    "# user_secrets = UserSecretsClient()\n",
    "# wandb.login(key=user_secrets.get_secret(\"wandb_api\"))\n",
    "\n",
    "run = wandb.init(\n",
    "    project=\"hello-world\", \n",
    "    dir=OUTPUT_FOLDER,\n",
    "    config={\n",
    "    k:v for k, v in CFG.__dict__.items() if not k.startswith('__')}\n",
    ")"
   ]
  },
  {
   "cell_type": "code",
   "execution_count": 6,
   "id": "5a48571b",
   "metadata": {
    "execution": {
     "iopub.execute_input": "2024-05-12T01:08:53.560818Z",
     "iopub.status.busy": "2024-05-12T01:08:53.560471Z",
     "iopub.status.idle": "2024-05-12T01:08:53.565494Z",
     "shell.execute_reply": "2024-05-12T01:08:53.564397Z"
    },
    "papermill": {
     "duration": 0.022617,
     "end_time": "2024-05-12T01:08:53.567747",
     "exception": false,
     "start_time": "2024-05-12T01:08:53.545130",
     "status": "completed"
    },
    "tags": []
   },
   "outputs": [],
   "source": [
    "device = torch.device(CFG.device)"
   ]
  },
  {
   "cell_type": "markdown",
   "id": "5c8e5768",
   "metadata": {
    "id": "7Ve34id2b7uu",
    "papermill": {
     "duration": 0.011626,
     "end_time": "2024-05-12T01:08:53.591936",
     "exception": false,
     "start_time": "2024-05-12T01:08:53.580310",
     "status": "completed"
    },
    "tags": []
   },
   "source": [
    "# Load train data"
   ]
  },
  {
   "cell_type": "code",
   "execution_count": 7,
   "id": "1c702541",
   "metadata": {
    "execution": {
     "iopub.execute_input": "2024-05-12T01:08:53.614946Z",
     "iopub.status.busy": "2024-05-12T01:08:53.614136Z",
     "iopub.status.idle": "2024-05-12T01:08:53.674101Z",
     "shell.execute_reply": "2024-05-12T01:08:53.673283Z"
    },
    "id": "mq-oqFtvkpix",
    "papermill": {
     "duration": 0.074118,
     "end_time": "2024-05-12T01:08:53.677003",
     "exception": false,
     "start_time": "2024-05-12T01:08:53.602885",
     "status": "completed"
    },
    "tags": []
   },
   "outputs": [
    {
     "data": {
      "text/html": [
       "<div>\n",
       "<style scoped>\n",
       "    .dataframe tbody tr th:only-of-type {\n",
       "        vertical-align: middle;\n",
       "    }\n",
       "\n",
       "    .dataframe tbody tr th {\n",
       "        vertical-align: top;\n",
       "    }\n",
       "\n",
       "    .dataframe thead th {\n",
       "        text-align: right;\n",
       "    }\n",
       "</style>\n",
       "<table border=\"1\" class=\"dataframe\">\n",
       "  <thead>\n",
       "    <tr style=\"text-align: right;\">\n",
       "      <th></th>\n",
       "      <th>image</th>\n",
       "      <th>level</th>\n",
       "    </tr>\n",
       "  </thead>\n",
       "  <tbody>\n",
       "    <tr>\n",
       "      <th>0</th>\n",
       "      <td>10_left</td>\n",
       "      <td>0</td>\n",
       "    </tr>\n",
       "    <tr>\n",
       "      <th>1</th>\n",
       "      <td>10_right</td>\n",
       "      <td>0</td>\n",
       "    </tr>\n",
       "    <tr>\n",
       "      <th>2</th>\n",
       "      <td>13_left</td>\n",
       "      <td>0</td>\n",
       "    </tr>\n",
       "    <tr>\n",
       "      <th>3</th>\n",
       "      <td>13_right</td>\n",
       "      <td>0</td>\n",
       "    </tr>\n",
       "    <tr>\n",
       "      <th>4</th>\n",
       "      <td>15_left</td>\n",
       "      <td>1</td>\n",
       "    </tr>\n",
       "    <tr>\n",
       "      <th>...</th>\n",
       "      <td>...</td>\n",
       "      <td>...</td>\n",
       "    </tr>\n",
       "    <tr>\n",
       "      <th>35121</th>\n",
       "      <td>44347_right</td>\n",
       "      <td>0</td>\n",
       "    </tr>\n",
       "    <tr>\n",
       "      <th>35122</th>\n",
       "      <td>44348_left</td>\n",
       "      <td>0</td>\n",
       "    </tr>\n",
       "    <tr>\n",
       "      <th>35123</th>\n",
       "      <td>44348_right</td>\n",
       "      <td>0</td>\n",
       "    </tr>\n",
       "    <tr>\n",
       "      <th>35124</th>\n",
       "      <td>44349_left</td>\n",
       "      <td>0</td>\n",
       "    </tr>\n",
       "    <tr>\n",
       "      <th>35125</th>\n",
       "      <td>44349_right</td>\n",
       "      <td>1</td>\n",
       "    </tr>\n",
       "  </tbody>\n",
       "</table>\n",
       "<p>35126 rows × 2 columns</p>\n",
       "</div>"
      ],
      "text/plain": [
       "             image  level\n",
       "0          10_left      0\n",
       "1         10_right      0\n",
       "2          13_left      0\n",
       "3         13_right      0\n",
       "4          15_left      1\n",
       "...            ...    ...\n",
       "35121  44347_right      0\n",
       "35122   44348_left      0\n",
       "35123  44348_right      0\n",
       "35124   44349_left      0\n",
       "35125  44349_right      1\n",
       "\n",
       "[35126 rows x 2 columns]"
      ]
     },
     "execution_count": 7,
     "metadata": {},
     "output_type": "execute_result"
    }
   ],
   "source": [
    "train_data = pd.read_csv(os.path.join(DATA_FOLDER, 'trainLabels.csv'))\n",
    "# train_data = pd.read_csv(os.path.join(DATA_FOLDER, 'trainLabels_cropped.csv'))\n",
    "train_data"
   ]
  },
  {
   "cell_type": "code",
   "execution_count": 8,
   "id": "720a98d0",
   "metadata": {
    "execution": {
     "iopub.execute_input": "2024-05-12T01:08:53.710134Z",
     "iopub.status.busy": "2024-05-12T01:08:53.709565Z",
     "iopub.status.idle": "2024-05-12T01:08:53.773689Z",
     "shell.execute_reply": "2024-05-12T01:08:53.772902Z"
    },
    "papermill": {
     "duration": 0.08266,
     "end_time": "2024-05-12T01:08:53.776401",
     "exception": false,
     "start_time": "2024-05-12T01:08:53.693741",
     "status": "completed"
    },
    "tags": []
   },
   "outputs": [
    {
     "data": {
      "text/plain": [
       "35126"
      ]
     },
     "execution_count": 8,
     "metadata": {},
     "output_type": "execute_result"
    }
   ],
   "source": [
    "# remove all images from the csv if they are not in the folder\n",
    "lst = map(lambda x: x[:-5], os.listdir(TRAIN_DATA_FOLDER))\n",
    "train_data = train_data[train_data.image.isin(lst)]\n",
    "len(train_data)"
   ]
  },
  {
   "cell_type": "code",
   "execution_count": 9,
   "id": "8daf2e02",
   "metadata": {
    "execution": {
     "iopub.execute_input": "2024-05-12T01:08:53.811337Z",
     "iopub.status.busy": "2024-05-12T01:08:53.810942Z",
     "iopub.status.idle": "2024-05-12T01:08:53.820721Z",
     "shell.execute_reply": "2024-05-12T01:08:53.819742Z"
    },
    "papermill": {
     "duration": 0.028368,
     "end_time": "2024-05-12T01:08:53.822991",
     "exception": false,
     "start_time": "2024-05-12T01:08:53.794623",
     "status": "completed"
    },
    "tags": []
   },
   "outputs": [
    {
     "data": {
      "text/plain": [
       "level\n",
       "0    25810\n",
       "2     5292\n",
       "1     2443\n",
       "3      873\n",
       "4      708\n",
       "Name: count, dtype: int64"
      ]
     },
     "execution_count": 9,
     "metadata": {},
     "output_type": "execute_result"
    }
   ],
   "source": [
    "train_data.level.value_counts()"
   ]
  },
  {
   "cell_type": "code",
   "execution_count": 10,
   "id": "bc65e6ed",
   "metadata": {
    "execution": {
     "iopub.execute_input": "2024-05-12T01:08:53.850344Z",
     "iopub.status.busy": "2024-05-12T01:08:53.849803Z",
     "iopub.status.idle": "2024-05-12T01:08:53.865077Z",
     "shell.execute_reply": "2024-05-12T01:08:53.864189Z"
    },
    "papermill": {
     "duration": 0.030511,
     "end_time": "2024-05-12T01:08:53.866879",
     "exception": false,
     "start_time": "2024-05-12T01:08:53.836368",
     "status": "completed"
    },
    "tags": []
   },
   "outputs": [
    {
     "data": {
      "text/plain": [
       "level\n",
       "0    1000\n",
       "1    1000\n",
       "2    1000\n",
       "3     873\n",
       "4     708\n",
       "Name: count, dtype: int64"
      ]
     },
     "execution_count": 10,
     "metadata": {},
     "output_type": "execute_result"
    }
   ],
   "source": [
    "# take only 100 samples from each class\n",
    "train_data = train_data.groupby('level').head(1000).reset_index(drop=True)\n",
    "train_data.level.value_counts()"
   ]
  },
  {
   "cell_type": "markdown",
   "id": "fcde5339",
   "metadata": {
    "id": "1Mu24W3Xkpix",
    "papermill": {
     "duration": 0.010764,
     "end_time": "2024-05-12T01:08:53.889111",
     "exception": false,
     "start_time": "2024-05-12T01:08:53.878347",
     "status": "completed"
    },
    "tags": []
   },
   "source": [
    "# Dataset"
   ]
  },
  {
   "cell_type": "code",
   "execution_count": 11,
   "id": "7d074d09",
   "metadata": {
    "execution": {
     "iopub.execute_input": "2024-05-12T01:08:53.911427Z",
     "iopub.status.busy": "2024-05-12T01:08:53.910839Z",
     "iopub.status.idle": "2024-05-12T01:08:53.923645Z",
     "shell.execute_reply": "2024-05-12T01:08:53.922499Z"
    },
    "papermill": {
     "duration": 0.025528,
     "end_time": "2024-05-12T01:08:53.925255",
     "exception": false,
     "start_time": "2024-05-12T01:08:53.899727",
     "status": "completed"
    },
    "tags": []
   },
   "outputs": [],
   "source": [
    "from torchvision.transforms import functional as func\n",
    "\n",
    "class CustomTransform:\n",
    "    def __init__(self, output_size=(CFG.resolution, CFG.resolution), radius_factor=0.9):\n",
    "        self.output_size = output_size\n",
    "        self.radius_factor = radius_factor\n",
    "\n",
    "    def __call__(self, img):\n",
    "        # Assuming img is a PIL Image\n",
    "        # Normalize and preprocess as previously defined\n",
    "        img = func.resize(img, int(min(img.size) / self.radius_factor))\n",
    "        img_tensor = func.to_tensor(img)\n",
    "        mean, std = img_tensor.mean([1, 2]), img_tensor.std([1, 2])\n",
    "        img_normalized = func.normalize(img_tensor, mean.tolist(), std.tolist())\n",
    "        kernel_size = 15\n",
    "        padding = kernel_size // 2\n",
    "        avg_pool = torch.nn.AvgPool2d(kernel_size, stride=1, padding=padding)\n",
    "        local_avg = avg_pool(img_normalized.unsqueeze(0)).squeeze(0)\n",
    "        img_subtracted = img_normalized - local_avg\n",
    "        center_crop_size = int(min(img_subtracted.shape[1:]) * self.radius_factor)\n",
    "        img_cropped = func.center_crop(img_subtracted, [center_crop_size, center_crop_size])\n",
    "\n",
    "        # Apply augmentations\n",
    "        img_resized = func.resize(img_cropped, self.output_size)\n",
    "\n",
    "        return img_resized"
   ]
  },
  {
   "cell_type": "code",
   "execution_count": 12,
   "id": "e59192ca",
   "metadata": {
    "execution": {
     "iopub.execute_input": "2024-05-12T01:08:53.944478Z",
     "iopub.status.busy": "2024-05-12T01:08:53.944119Z",
     "iopub.status.idle": "2024-05-12T01:08:53.952056Z",
     "shell.execute_reply": "2024-05-12T01:08:53.950842Z"
    },
    "papermill": {
     "duration": 0.019318,
     "end_time": "2024-05-12T01:08:53.953727",
     "exception": false,
     "start_time": "2024-05-12T01:08:53.934409",
     "status": "completed"
    },
    "tags": []
   },
   "outputs": [],
   "source": [
    "# train_transforms = CustomTransform()\n",
    "\n",
    "train_transforms = v2.Compose([\n",
    "    CustomTransform(),\n",
    "    # v2.RandomResizedCrop(CFG.resolution, scale=(0.8, 1.0)),  # Krizhevsky style random cropping\n",
    "    v2.RandomHorizontalFlip(),  # Random horizontal flip\n",
    "    v2.RandomVerticalFlip(),  # Random vertical flip\n",
    "    v2.GaussianBlur(kernel_size=(5, 5), sigma=(0.1, 2)),  # Gaussian blur with random kernel size and sigma\n",
    "    v2.RandomRotation(degrees=(0, 90)),  # Random rotation between 0 and 360 degrees\n",
    "    v2.ToDtype(torch.float32, scale=False),\n",
    "])\n",
    "\n",
    "val_transforms = v2.Compose([\n",
    "    CustomTransform(),\n",
    "    v2.ToDtype(torch.float32, scale=False),\n",
    "])"
   ]
  },
  {
   "cell_type": "code",
   "execution_count": 13,
   "id": "7b74c1cb",
   "metadata": {
    "execution": {
     "iopub.execute_input": "2024-05-12T01:08:53.971350Z",
     "iopub.status.busy": "2024-05-12T01:08:53.970914Z",
     "iopub.status.idle": "2024-05-12T01:08:53.978104Z",
     "shell.execute_reply": "2024-05-12T01:08:53.977245Z"
    },
    "id": "_mAcIdn2kpiy",
    "papermill": {
     "duration": 0.017602,
     "end_time": "2024-05-12T01:08:53.979579",
     "exception": false,
     "start_time": "2024-05-12T01:08:53.961977",
     "status": "completed"
    },
    "scrolled": true,
    "tags": []
   },
   "outputs": [],
   "source": [
    "class ImageTrainDataset(Dataset):\n",
    "    def __init__(\n",
    "        self,\n",
    "        folder,\n",
    "        data,\n",
    "        transforms,\n",
    "    ):\n",
    "        self.folder = folder\n",
    "        self.data = data\n",
    "        self.transforms = transforms\n",
    "\n",
    "    def __len__(self):\n",
    "        return len(self.data)\n",
    "\n",
    "    def __getitem__(self, index):\n",
    "        d = self.data.loc[index]\n",
    "        image = Image.open(f\"{self.folder}{d.image}.jpeg\")\n",
    "        image = self.transforms(image)\n",
    "        label = d.level\n",
    "\n",
    "        return image, torch.tensor(label, dtype=torch.long)"
   ]
  },
  {
   "cell_type": "code",
   "execution_count": 14,
   "id": "70b6513b",
   "metadata": {
    "execution": {
     "iopub.execute_input": "2024-05-12T01:08:53.995728Z",
     "iopub.status.busy": "2024-05-12T01:08:53.995424Z",
     "iopub.status.idle": "2024-05-12T01:08:53.999136Z",
     "shell.execute_reply": "2024-05-12T01:08:53.998353Z"
    },
    "papermill": {
     "duration": 0.013337,
     "end_time": "2024-05-12T01:08:54.000534",
     "exception": false,
     "start_time": "2024-05-12T01:08:53.987197",
     "status": "completed"
    },
    "tags": []
   },
   "outputs": [],
   "source": [
    "# # visualize the transformations\n",
    "# train_dataset = ImageTrainDataset(TRAIN_DATA_FOLDER, train_data, train_transforms)\n",
    "# image, label = train_dataset[10]\n",
    "# transformed_img_pil = func.to_pil_image(image)\n",
    "# plt.imshow(transformed_img_pil)"
   ]
  },
  {
   "cell_type": "markdown",
   "id": "7cd20561",
   "metadata": {
    "id": "OzgB1JpAv3qg",
    "papermill": {
     "duration": 0.007005,
     "end_time": "2024-05-12T01:08:54.014837",
     "exception": false,
     "start_time": "2024-05-12T01:08:54.007832",
     "status": "completed"
    },
    "tags": []
   },
   "source": [
    "# Metric"
   ]
  },
  {
   "cell_type": "code",
   "execution_count": 15,
   "id": "fc3d78df",
   "metadata": {
    "execution": {
     "iopub.execute_input": "2024-05-12T01:08:54.029598Z",
     "iopub.status.busy": "2024-05-12T01:08:54.029086Z",
     "iopub.status.idle": "2024-05-12T01:08:54.166498Z",
     "shell.execute_reply": "2024-05-12T01:08:54.165658Z"
    },
    "id": "WNxSAhBrxJ-G",
    "papermill": {
     "duration": 0.146725,
     "end_time": "2024-05-12T01:08:54.168402",
     "exception": false,
     "start_time": "2024-05-12T01:08:54.021677",
     "status": "completed"
    },
    "tags": []
   },
   "outputs": [],
   "source": [
    "from sklearn.metrics import f1_score as sklearn_f1\n",
    "from sklearn.metrics import confusion_matrix, roc_auc_score"
   ]
  },
  {
   "cell_type": "code",
   "execution_count": 16,
   "id": "b8265287",
   "metadata": {
    "execution": {
     "iopub.execute_input": "2024-05-12T01:08:54.196009Z",
     "iopub.status.busy": "2024-05-12T01:08:54.195690Z",
     "iopub.status.idle": "2024-05-12T01:08:54.201071Z",
     "shell.execute_reply": "2024-05-12T01:08:54.199811Z"
    },
    "id": "n0u9VgXTv7VU",
    "papermill": {
     "duration": 0.021056,
     "end_time": "2024-05-12T01:08:54.203219",
     "exception": false,
     "start_time": "2024-05-12T01:08:54.182163",
     "status": "completed"
    },
    "tags": []
   },
   "outputs": [],
   "source": [
    "# def find_best_threshold(targets, predictions):\n",
    "#     score_5 = sklearn_f1(targets, predictions > 0.5)\n",
    "#     best_score = 0\n",
    "#     best_th = -1\n",
    "#     for i in range(100):\n",
    "#         threshold =  i/100\n",
    "#         _score = sklearn_f1(targets, predictions > threshold)\n",
    "#         if _score > best_score:\n",
    "#             best_score = _score\n",
    "#             best_th = threshold\n",
    "\n",
    "#     tn, fp, fn, tp = confusion_matrix(targets.numpy(), predictions.numpy() > best_th).ravel()\n",
    "#     print(f\"tp: {tp}, tn: {tn}, fp: {fp}, fn: {fn}\")\n",
    "#     return score_5, best_score, best_th"
   ]
  },
  {
   "cell_type": "markdown",
   "id": "db9e7fd3",
   "metadata": {
    "id": "Zyfw9PLdkpiz",
    "papermill": {
     "duration": 0.010823,
     "end_time": "2024-05-12T01:08:54.225690",
     "exception": false,
     "start_time": "2024-05-12T01:08:54.214867",
     "status": "completed"
    },
    "tags": []
   },
   "source": [
    "# Train and evaluate functions"
   ]
  },
  {
   "cell_type": "code",
   "execution_count": 17,
   "id": "3eab0041",
   "metadata": {
    "execution": {
     "iopub.execute_input": "2024-05-12T01:08:54.247603Z",
     "iopub.status.busy": "2024-05-12T01:08:54.247054Z",
     "iopub.status.idle": "2024-05-12T01:08:54.253054Z",
     "shell.execute_reply": "2024-05-12T01:08:54.251810Z"
    },
    "papermill": {
     "duration": 0.018701,
     "end_time": "2024-05-12T01:08:54.254797",
     "exception": false,
     "start_time": "2024-05-12T01:08:54.236096",
     "status": "completed"
    },
    "tags": []
   },
   "outputs": [],
   "source": [
    "class style:\n",
    "    BLUE = '\\033[94m'\n",
    "    GREEN = '\\033[92m'\n",
    "    YELLOW = '\\033[93m'\n",
    "    END = '\\033[0m'\n",
    "    BOLD = '\\033[1m'"
   ]
  },
  {
   "cell_type": "code",
   "execution_count": 18,
   "id": "93ef79b3",
   "metadata": {
    "execution": {
     "iopub.execute_input": "2024-05-12T01:08:54.274703Z",
     "iopub.status.busy": "2024-05-12T01:08:54.274179Z",
     "iopub.status.idle": "2024-05-12T01:08:54.280405Z",
     "shell.execute_reply": "2024-05-12T01:08:54.279472Z"
    },
    "id": "KKt67LPn9YtB",
    "papermill": {
     "duration": 0.017971,
     "end_time": "2024-05-12T01:08:54.281988",
     "exception": false,
     "start_time": "2024-05-12T01:08:54.264017",
     "status": "completed"
    },
    "tags": []
   },
   "outputs": [],
   "source": [
    "def seed_everything(seed=42):\n",
    "    random.seed(seed)\n",
    "    os.environ['PYTHONHASHSEED'] = str(seed)\n",
    "    np.random.seed(seed)\n",
    "    torch.manual_seed(seed)\n",
    "    torch.cuda.manual_seed(seed)"
   ]
  },
  {
   "cell_type": "code",
   "execution_count": 19,
   "id": "c9037352",
   "metadata": {
    "execution": {
     "iopub.execute_input": "2024-05-12T01:08:54.335558Z",
     "iopub.status.busy": "2024-05-12T01:08:54.334967Z",
     "iopub.status.idle": "2024-05-12T01:08:54.348181Z",
     "shell.execute_reply": "2024-05-12T01:08:54.347209Z"
    },
    "id": "yXcFJ6IYkpiz",
    "papermill": {
     "duration": 0.023361,
     "end_time": "2024-05-12T01:08:54.349577",
     "exception": false,
     "start_time": "2024-05-12T01:08:54.326216",
     "status": "completed"
    },
    "tags": []
   },
   "outputs": [],
   "source": [
    "def evaluate_model(cfg, model, data_loader, loss_criterion, epoch=-1):\n",
    "    # loss_fn = nn.CrossEntropyLoss(weight=cfg.weights.to(device), label_smoothing=0.1)\n",
    "    loss_fn = loss_criterion\n",
    "\n",
    "    model.eval()\n",
    "    val_loss = 0\n",
    "\n",
    "    targets = []\n",
    "    predictions = []\n",
    "\n",
    "    total_len = len(data_loader)\n",
    "    tk0 = tqdm(enumerate(data_loader), total=total_len)\n",
    "    for step, (images, labels) in tk0:\n",
    "        images = images.to(device)\n",
    "        target = labels.to(device)\n",
    "\n",
    "        with torch.no_grad():\n",
    "            logits = model(images)\n",
    "\n",
    "        loss = loss_fn(logits, target)\n",
    "        val_loss += loss.item()\n",
    "\n",
    "        targets.append(target.detach().cpu())\n",
    "        predictions.append(logits.detach().cpu())\n",
    "        del images, target, logits\n",
    "\n",
    "    targets = torch.cat(targets, dim=0)\n",
    "    predictions = torch.cat(predictions, dim=0)\n",
    "    predictions = F.softmax(predictions, dim=1)\n",
    "\n",
    "    val_loss /= total_len\n",
    "    # base_score, best_score, best_th = find_best_threshold(targets, predictions[:, 1])\n",
    "    roc_auc = roc_auc_score(targets.numpy(), predictions.numpy(), multi_class='ovo')\n",
    "    # roc_auc = 1\n",
    "\n",
    "    print(f'Epoch {epoch} validation loss = {val_loss:.4f} auc = {roc_auc:.4f}')\n",
    "    return val_loss, roc_auc"
   ]
  },
  {
   "cell_type": "code",
   "execution_count": 20,
   "id": "8af11e56",
   "metadata": {
    "execution": {
     "iopub.execute_input": "2024-05-12T01:08:54.365600Z",
     "iopub.status.busy": "2024-05-12T01:08:54.365135Z",
     "iopub.status.idle": "2024-05-12T01:08:54.381423Z",
     "shell.execute_reply": "2024-05-12T01:08:54.380402Z"
    },
    "id": "nZFniP2hkpi0",
    "papermill": {
     "duration": 0.025911,
     "end_time": "2024-05-12T01:08:54.382820",
     "exception": false,
     "start_time": "2024-05-12T01:08:54.356909",
     "status": "completed"
    },
    "tags": []
   },
   "outputs": [],
   "source": [
    "\n",
    "def train_epoch(cfg, model, train_loader, loss_criterion, optimizer, scheduler, epoch):\n",
    "    scaler = torch.cuda.amp.GradScaler(enabled=cfg.apex)\n",
    "    # loss_fn = nn.CrossEntropyLoss(weight=cfg.weights.to(device), label_smoothing=0.1)\n",
    "    loss_fn = loss_criterion\n",
    "\n",
    "    model.train()\n",
    "    train_loss = 0\n",
    "    learning_rate_history = []\n",
    "\n",
    "    targets = []\n",
    "    predictions = []\n",
    "\n",
    "    total_len = len(train_loader)\n",
    "    tk0 = tqdm(enumerate(train_loader), total=total_len)\n",
    "    for step, (images, labels) in tk0:\n",
    "        images = images.to(device, non_blocking=True)\n",
    "        target = labels.to(device, non_blocking=True)\n",
    "\n",
    "        # https://pytorch.org/blog/accelerating-training-on-nvidia-gpus-with-pytorch-automatic-mixed-precision/\n",
    "        with torch.cuda.amp.autocast(enabled=cfg.apex):\n",
    "            logits = model(images)\n",
    "            loss = loss_fn(logits, target)\n",
    "\n",
    "        scaler.scale(loss).backward()\n",
    "        torch.nn.utils.clip_grad_norm_(model.parameters(), max_norm=cfg.clip_val)\n",
    "\n",
    "        train_loss += loss.item()\n",
    "        scaler.step(optimizer)\n",
    "        scaler.update()\n",
    "        optimizer.zero_grad()\n",
    "\n",
    "        if scheduler is None:\n",
    "            lr = optimizer.param_groups[0]['lr']\n",
    "        else:\n",
    "            scheduler.step()\n",
    "            lr = scheduler.get_last_lr()[0]\n",
    "\n",
    "        tk0.set_description(f\"Epoch {epoch} training {step+1}/{total_len} [LR {lr:0.6f}] - loss: {train_loss/(step+1):.4f}\")\n",
    "        learning_rate_history.append(lr)\n",
    "\n",
    "        targets.append(target.detach().cpu())\n",
    "        predictions.append(logits.detach().cpu())\n",
    "        del images, target\n",
    "\n",
    "    targets = torch.cat(targets, dim=0)\n",
    "    predictions = torch.cat(predictions, dim=0)\n",
    "    predictions = F.softmax(predictions, dim=1)\n",
    "\n",
    "    train_loss /= total_len\n",
    "    roc_auc = roc_auc_score(targets.numpy(), predictions.numpy(), multi_class='ovo')\n",
    "    # roc_auc = 1\n",
    "\n",
    "    print(f'Epoch {epoch} train loss = {train_loss:.4f}, auc = {roc_auc:.4f}')\n",
    "    return train_loss, learning_rate_history, roc_auc"
   ]
  },
  {
   "cell_type": "markdown",
   "id": "4ed4998f",
   "metadata": {
    "id": "qN83vJk4xCA3",
    "papermill": {
     "duration": 0.00667,
     "end_time": "2024-05-12T01:08:54.396294",
     "exception": false,
     "start_time": "2024-05-12T01:08:54.389624",
     "status": "completed"
    },
    "tags": []
   },
   "source": [
    "# Train model"
   ]
  },
  {
   "cell_type": "markdown",
   "id": "ea4479b7",
   "metadata": {
    "id": "8NyHYtzwZT8h",
    "papermill": {
     "duration": 0.006386,
     "end_time": "2024-05-12T01:08:54.409416",
     "exception": false,
     "start_time": "2024-05-12T01:08:54.403030",
     "status": "completed"
    },
    "tags": []
   },
   "source": [
    "## Split data\n",
    "\n",
    "The distribution of classes in the training data is not balance so using StratifiedKFold will ensure that the distrubution of positive and negative samples in all folds will match the original distributions."
   ]
  },
  {
   "cell_type": "code",
   "execution_count": 21,
   "id": "cb0ef602",
   "metadata": {
    "execution": {
     "iopub.execute_input": "2024-05-12T01:08:54.423289Z",
     "iopub.status.busy": "2024-05-12T01:08:54.422811Z",
     "iopub.status.idle": "2024-05-12T01:08:54.427485Z",
     "shell.execute_reply": "2024-05-12T01:08:54.426247Z"
    },
    "id": "HaYXa749AEes",
    "outputId": "65b6c941-0e6e-4503-b513-574264d657ce",
    "papermill": {
     "duration": 0.013051,
     "end_time": "2024-05-12T01:08:54.428772",
     "exception": false,
     "start_time": "2024-05-12T01:08:54.415721",
     "status": "completed"
    },
    "tags": []
   },
   "outputs": [],
   "source": [
    "# plt.figure(figsize=(4,2))\n",
    "# sns.histplot(train_data[\"label\"])"
   ]
  },
  {
   "cell_type": "code",
   "execution_count": 22,
   "id": "27b72962",
   "metadata": {
    "execution": {
     "iopub.execute_input": "2024-05-12T01:08:54.443365Z",
     "iopub.status.busy": "2024-05-12T01:08:54.442914Z",
     "iopub.status.idle": "2024-05-12T01:08:54.476313Z",
     "shell.execute_reply": "2024-05-12T01:08:54.475186Z"
    },
    "id": "DRHeo8pr56FX",
    "papermill": {
     "duration": 0.044023,
     "end_time": "2024-05-12T01:08:54.478964",
     "exception": false,
     "start_time": "2024-05-12T01:08:54.434941",
     "status": "completed"
    },
    "tags": []
   },
   "outputs": [],
   "source": [
    "from sklearn.model_selection import StratifiedKFold\n",
    "\n",
    "sgkf = StratifiedKFold(n_splits=CFG.N_folds, random_state=CFG.seed, shuffle=True)\n",
    "for i, (train_index, test_index) in enumerate(sgkf.split(train_data[\"image\"].values, train_data[\"level\"].values)):\n",
    "    train_data.loc[test_index, \"fold\"] = i"
   ]
  },
  {
   "cell_type": "code",
   "execution_count": 23,
   "id": "5f9e0d5f",
   "metadata": {
    "execution": {
     "iopub.execute_input": "2024-05-12T01:08:54.514983Z",
     "iopub.status.busy": "2024-05-12T01:08:54.514356Z",
     "iopub.status.idle": "2024-05-12T01:08:54.519388Z",
     "shell.execute_reply": "2024-05-12T01:08:54.518212Z"
    },
    "papermill": {
     "duration": 0.024772,
     "end_time": "2024-05-12T01:08:54.521818",
     "exception": false,
     "start_time": "2024-05-12T01:08:54.497046",
     "status": "completed"
    },
    "tags": []
   },
   "outputs": [],
   "source": [
    "# from torchgeo import models\n",
    "# from torch import nn"
   ]
  },
  {
   "cell_type": "code",
   "execution_count": 24,
   "id": "9105423d",
   "metadata": {
    "execution": {
     "iopub.execute_input": "2024-05-12T01:08:54.550045Z",
     "iopub.status.busy": "2024-05-12T01:08:54.549506Z",
     "iopub.status.idle": "2024-05-12T01:08:54.555993Z",
     "shell.execute_reply": "2024-05-12T01:08:54.554962Z"
    },
    "papermill": {
     "duration": 0.022378,
     "end_time": "2024-05-12T01:08:54.557980",
     "exception": false,
     "start_time": "2024-05-12T01:08:54.535602",
     "status": "completed"
    },
    "tags": []
   },
   "outputs": [],
   "source": [
    "def create_model():\n",
    "    model = timm.create_model(CFG.model_name, in_chans=3, num_classes=NUM_CLASSES, pretrained=True)\n",
    "\n",
    "#     model = models.resnet50(models.ResNet50_Weights.SENTINEL2_ALL_DINO)\n",
    "#     wd = torch.concat([model.conv1.weight[:, :13, ...], model.conv1.weight[:, :7, ...]], dim=1)\n",
    "#     model.conv1 = nn.Conv2d(20, 64, 7, 2, 3, bias=False)\n",
    "#     model.conv1.weight = nn.Parameter(wd)\n",
    "#     model.fc = nn.Linear(in_features=2048, out_features=2, bias=True)\n",
    "\n",
    "    return model.to(device)"
   ]
  },
  {
   "cell_type": "markdown",
   "id": "134f3007",
   "metadata": {
    "id": "rF9BFqS8AXBY",
    "papermill": {
     "duration": 0.011268,
     "end_time": "2024-05-12T01:08:54.581283",
     "exception": false,
     "start_time": "2024-05-12T01:08:54.570015",
     "status": "completed"
    },
    "tags": []
   },
   "source": [
    "## Train folds"
   ]
  },
  {
   "cell_type": "code",
   "execution_count": 25,
   "id": "e5709e51",
   "metadata": {
    "execution": {
     "iopub.execute_input": "2024-05-12T01:08:54.604059Z",
     "iopub.status.busy": "2024-05-12T01:08:54.603463Z"
    },
    "id": "7CFfmp3CxDG5",
    "outputId": "952103d3-bbd9-449f-e9cf-26d5c2608aea",
    "papermill": {
     "duration": null,
     "end_time": null,
     "exception": false,
     "start_time": "2024-05-12T01:08:54.591880",
     "status": "running"
    },
    "scrolled": true,
    "tags": []
   },
   "outputs": [
    {
     "name": "stdout",
     "output_type": "stream",
     "text": [
      "Model parameters: 23_518_277\n"
     ]
    },
    {
     "name": "stderr",
     "output_type": "stream",
     "text": [
      "\r",
      "  0%|                                                                              | 0/57 [00:00<?, ?it/s]"
     ]
    },
    {
     "name": "stderr",
     "output_type": "stream",
     "text": [
      "\r",
      "Epoch 0 training 1/57 [LR 0.000100] - loss: 1.6172:   0%|                          | 0/57 [00:45<?, ?it/s]"
     ]
    }
   ],
   "source": [
    "for FOLD in CFG.train_folds:\n",
    "\n",
    "    seed_everything(CFG.seed)\n",
    "\n",
    "    # PREPARE DATA\n",
    "    fold_train_data = train_data[train_data[\"fold\"] != FOLD].reset_index(drop=True)\n",
    "    fold_valid_data = train_data[train_data[\"fold\"] == FOLD].reset_index(drop=True)\n",
    "\n",
    "    # display(\n",
    "    #     pd.merge(\n",
    "    #         fold_valid_data.groupby(by=[\"label\"])[\"file_name\"].count().rename(\"valid\").reset_index(),\n",
    "    #         fold_train_data.groupby(by=[\"label\"])[\"file_name\"].count().rename(\"train\").reset_index(),\n",
    "    #          on=\"label\", how=\"left\").T,)\n",
    "\n",
    "\n",
    "    train_dataset = ImageTrainDataset(TRAIN_DATA_FOLDER, fold_train_data, transforms=train_transforms)\n",
    "    valid_dataset = ImageTrainDataset(TRAIN_DATA_FOLDER, fold_valid_data, transforms=val_transforms)\n",
    "\n",
    "    train_loader = DataLoader(\n",
    "            train_dataset,\n",
    "            batch_size=CFG.batch_size,\n",
    "            shuffle=True,\n",
    "            num_workers=16,\n",
    "            pin_memory=True,\n",
    "            drop_last=True\n",
    "        )\n",
    "\n",
    "    valid_loader = DataLoader(\n",
    "        valid_dataset,\n",
    "        batch_size=CFG.batch_size,\n",
    "        shuffle=False,\n",
    "        num_workers=16,\n",
    "        pin_memory=True,\n",
    "        drop_last=False,\n",
    "    )\n",
    "\n",
    "    # PREPARE MODEL, OPTIMIZER AND SCHEDULER\n",
    "    model = create_model()\n",
    "    print(f\"Model parameters: {sum(p.numel() for p in model.parameters() if p.requires_grad):_}\")\n",
    "\n",
    "    optimizer = torch.optim.AdamW(model.parameters(), lr=CFG.lr, weight_decay=CFG.weight_decay)\n",
    "    scheduler = torch.optim.lr_scheduler.CosineAnnealingLR(\n",
    "        optimizer, eta_min=1e-6, T_max =CFG.epochs * len(train_loader),\n",
    "        )\n",
    "    \n",
    "    loss_criterion = nn.CrossEntropyLoss()\n",
    "\n",
    "    # TRAIN FOLD\n",
    "    learning_rate_history = []\n",
    "    train_loss_history = []\n",
    "    train_score_history = []\n",
    "    val_loss_history = []\n",
    "    val_score_history = []\n",
    "\n",
    "    best_score = 0\n",
    "    \n",
    "    wandb.run.tags = [f\"fold_{FOLD}\"]\n",
    "    \n",
    "    for epoch in range(0, CFG.epochs):\n",
    "        train_loss, train_lr, train_auc = train_epoch(CFG, model, train_loader, loss_criterion, optimizer, scheduler, epoch)\n",
    "        train_loss_history.append(train_loss)\n",
    "        train_score_history.append(train_auc)\n",
    "        learning_rate_history.extend(train_lr)\n",
    "\n",
    "        val_loss, val_auc = evaluate_model(CFG, model, valid_loader, loss_criterion, epoch)\n",
    "        val_loss_history.append(val_loss)\n",
    "        val_score_history.append(val_auc)\n",
    "        \n",
    "        wandb.log(\n",
    "            {'train': {'loss': train_loss, 'auc': train_auc}, \n",
    "             'val': {'loss': val_loss, 'auc': val_auc}})\n",
    "\n",
    "        if (val_auc > best_score):\n",
    "            print(f\"{style.GREEN}New best score: {best_score:.4f} -> {val_auc:.4f}{style.END}\")\n",
    "            best_score = val_auc\n",
    "            torch.save(model.state_dict(), os.path.join(wandb.run.dir, f'best_model_fold_{FOLD}.pth'))\n",
    "            \n",
    "    # run.log_model(\n",
    "    #     path=os.path.join(wandb.run.dir, 'best_model_fold_{FOLD}'), \n",
    "    #     name=f'{CFG.model_name}_fold_{FOLD}'\n",
    "    # )\n",
    "\n",
    "    # # plot train and validation loss, score and LR\n",
    "    # fig, axes = plt.subplots(1,3, figsize=(12,3))\n",
    "    # axes[0].plot(train_loss_history, label=\"Train\")\n",
    "    # axes[0].plot(val_loss_history, label=\"Valid\")\n",
    "    # axes[0].title.set_text(\"Loss\")\n",
    "    # axes[0].set_xlabel(\"Epoch\")\n",
    "    # axes[0].legend()\n",
    "\n",
    "    # axes[1].plot(train_score_history, label=\"Train\")\n",
    "    # axes[1].plot(val_score_history, label=\"Valid\")\n",
    "    # axes[1].title.set_text(\"F1 score\")\n",
    "    # axes[1].set_xlabel(\"Epoch\")\n",
    "    # axes[1].legend()\n",
    "\n",
    "    # axes[2].plot(learning_rate_history, label=\"LR\")\n",
    "    # axes[2].legend()\n",
    "    # axes[2].title.set_text(\"Learning rate\")\n",
    "    # axes[2].set_xlabel(\"Step\")\n",
    "    # fig.suptitle(f\"Fold {FOLD}\")\n",
    "    # fig.tight_layout()\n",
    "    # plt.show()"
   ]
  },
  {
   "cell_type": "code",
   "execution_count": null,
   "id": "bc2b0bc2",
   "metadata": {
    "papermill": {
     "duration": null,
     "end_time": null,
     "exception": null,
     "start_time": null,
     "status": "pending"
    },
    "tags": []
   },
   "outputs": [],
   "source": [
    "wandb.finish()"
   ]
  },
  {
   "cell_type": "code",
   "execution_count": null,
   "id": "dc9501b8",
   "metadata": {
    "papermill": {
     "duration": null,
     "end_time": null,
     "exception": null,
     "start_time": null,
     "status": "pending"
    },
    "tags": []
   },
   "outputs": [],
   "source": []
  }
 ],
 "metadata": {
  "accelerator": "GPU",
  "colab": {
   "provenance": [],
   "toc_visible": true
  },
  "kaggle": {
   "accelerator": "gpu",
   "dataSources": [
    {
     "datasetId": 4568125,
     "sourceId": 7801430,
     "sourceType": "datasetVersion"
    },
    {
     "datasetId": 4568781,
     "sourceId": 7877494,
     "sourceType": "datasetVersion"
    }
   ],
   "dockerImageVersionId": 30664,
   "isGpuEnabled": true,
   "isInternetEnabled": true,
   "language": "python",
   "sourceType": "notebook"
  },
  "kernelspec": {
   "display_name": "Python 3 (ipykernel)",
   "language": "python",
   "name": "python3"
  },
  "language_info": {
   "codemirror_mode": {
    "name": "ipython",
    "version": 3
   },
   "file_extension": ".py",
   "mimetype": "text/x-python",
   "name": "python",
   "nbconvert_exporter": "python",
   "pygments_lexer": "ipython3",
   "version": "3.11.9"
  },
  "papermill": {
   "default_parameters": {},
   "duration": null,
   "end_time": null,
   "environment_variables": {},
   "exception": null,
   "input_path": "model_full_train.ipynb",
   "output_path": "output/o4.ipynb",
   "parameters": {},
   "start_time": "2024-05-12T01:08:41.353182",
   "version": "2.6.0"
  },
  "widgets": {
   "application/vnd.jupyter.widget-state+json": {
    "08d2c86ce4ab4b9e813473170145d4af": {
     "model_module": "@jupyter-widgets/controls",
     "model_module_version": "1.5.0",
     "model_name": "HTMLModel",
     "state": {
      "_dom_classes": [],
      "_model_module": "@jupyter-widgets/controls",
      "_model_module_version": "1.5.0",
      "_model_name": "HTMLModel",
      "_view_count": null,
      "_view_module": "@jupyter-widgets/controls",
      "_view_module_version": "1.5.0",
      "_view_name": "HTMLView",
      "description": "",
      "description_tooltip": null,
      "layout": "IPY_MODEL_96fb1b36ead648c4a4ebebb74c9fcf2c",
      "placeholder": "​",
      "style": "IPY_MODEL_af10206931434c6fbfde31af25affbfa",
      "value": "model.safetensors: 100%"
     }
    },
    "103798aed0c64914b55a691a4d22253e": {
     "model_module": "@jupyter-widgets/controls",
     "model_module_version": "1.5.0",
     "model_name": "HTMLModel",
     "state": {
      "_dom_classes": [],
      "_model_module": "@jupyter-widgets/controls",
      "_model_module_version": "1.5.0",
      "_model_name": "HTMLModel",
      "_view_count": null,
      "_view_module": "@jupyter-widgets/controls",
      "_view_module_version": "1.5.0",
      "_view_name": "HTMLView",
      "description": "",
      "description_tooltip": null,
      "layout": "IPY_MODEL_4420cb88a6a74540a671a529e7320589",
      "placeholder": "​",
      "style": "IPY_MODEL_6b7cb0c6580d4caba2c4f8385749a145",
      "value": " 124M/124M [00:00&lt;00:00, 384MB/s]"
     }
    },
    "2831af4d288b45b688ba9b5992dce3f4": {
     "model_module": "@jupyter-widgets/controls",
     "model_module_version": "1.5.0",
     "model_name": "FloatProgressModel",
     "state": {
      "_dom_classes": [],
      "_model_module": "@jupyter-widgets/controls",
      "_model_module_version": "1.5.0",
      "_model_name": "FloatProgressModel",
      "_view_count": null,
      "_view_module": "@jupyter-widgets/controls",
      "_view_module_version": "1.5.0",
      "_view_name": "ProgressView",
      "bar_style": "success",
      "description": "",
      "description_tooltip": null,
      "layout": "IPY_MODEL_a3763df1b6564f319afc8d67073af72f",
      "max": 124450218,
      "min": 0,
      "orientation": "horizontal",
      "style": "IPY_MODEL_a4c3f492a9b946a0b72df7ea6bb188a9",
      "value": 124450218
     }
    },
    "4420cb88a6a74540a671a529e7320589": {
     "model_module": "@jupyter-widgets/base",
     "model_module_version": "1.2.0",
     "model_name": "LayoutModel",
     "state": {
      "_model_module": "@jupyter-widgets/base",
      "_model_module_version": "1.2.0",
      "_model_name": "LayoutModel",
      "_view_count": null,
      "_view_module": "@jupyter-widgets/base",
      "_view_module_version": "1.2.0",
      "_view_name": "LayoutView",
      "align_content": null,
      "align_items": null,
      "align_self": null,
      "border": null,
      "bottom": null,
      "display": null,
      "flex": null,
      "flex_flow": null,
      "grid_area": null,
      "grid_auto_columns": null,
      "grid_auto_flow": null,
      "grid_auto_rows": null,
      "grid_column": null,
      "grid_gap": null,
      "grid_row": null,
      "grid_template_areas": null,
      "grid_template_columns": null,
      "grid_template_rows": null,
      "height": null,
      "justify_content": null,
      "justify_items": null,
      "left": null,
      "margin": null,
      "max_height": null,
      "max_width": null,
      "min_height": null,
      "min_width": null,
      "object_fit": null,
      "object_position": null,
      "order": null,
      "overflow": null,
      "overflow_x": null,
      "overflow_y": null,
      "padding": null,
      "right": null,
      "top": null,
      "visibility": null,
      "width": null
     }
    },
    "6b7cb0c6580d4caba2c4f8385749a145": {
     "model_module": "@jupyter-widgets/controls",
     "model_module_version": "1.5.0",
     "model_name": "DescriptionStyleModel",
     "state": {
      "_model_module": "@jupyter-widgets/controls",
      "_model_module_version": "1.5.0",
      "_model_name": "DescriptionStyleModel",
      "_view_count": null,
      "_view_module": "@jupyter-widgets/base",
      "_view_module_version": "1.2.0",
      "_view_name": "StyleView",
      "description_width": ""
     }
    },
    "87901707be784b03998e8b8093255ea6": {
     "model_module": "@jupyter-widgets/base",
     "model_module_version": "1.2.0",
     "model_name": "LayoutModel",
     "state": {
      "_model_module": "@jupyter-widgets/base",
      "_model_module_version": "1.2.0",
      "_model_name": "LayoutModel",
      "_view_count": null,
      "_view_module": "@jupyter-widgets/base",
      "_view_module_version": "1.2.0",
      "_view_name": "LayoutView",
      "align_content": null,
      "align_items": null,
      "align_self": null,
      "border": null,
      "bottom": null,
      "display": null,
      "flex": null,
      "flex_flow": null,
      "grid_area": null,
      "grid_auto_columns": null,
      "grid_auto_flow": null,
      "grid_auto_rows": null,
      "grid_column": null,
      "grid_gap": null,
      "grid_row": null,
      "grid_template_areas": null,
      "grid_template_columns": null,
      "grid_template_rows": null,
      "height": null,
      "justify_content": null,
      "justify_items": null,
      "left": null,
      "margin": null,
      "max_height": null,
      "max_width": null,
      "min_height": null,
      "min_width": null,
      "object_fit": null,
      "object_position": null,
      "order": null,
      "overflow": null,
      "overflow_x": null,
      "overflow_y": null,
      "padding": null,
      "right": null,
      "top": null,
      "visibility": null,
      "width": null
     }
    },
    "96fb1b36ead648c4a4ebebb74c9fcf2c": {
     "model_module": "@jupyter-widgets/base",
     "model_module_version": "1.2.0",
     "model_name": "LayoutModel",
     "state": {
      "_model_module": "@jupyter-widgets/base",
      "_model_module_version": "1.2.0",
      "_model_name": "LayoutModel",
      "_view_count": null,
      "_view_module": "@jupyter-widgets/base",
      "_view_module_version": "1.2.0",
      "_view_name": "LayoutView",
      "align_content": null,
      "align_items": null,
      "align_self": null,
      "border": null,
      "bottom": null,
      "display": null,
      "flex": null,
      "flex_flow": null,
      "grid_area": null,
      "grid_auto_columns": null,
      "grid_auto_flow": null,
      "grid_auto_rows": null,
      "grid_column": null,
      "grid_gap": null,
      "grid_row": null,
      "grid_template_areas": null,
      "grid_template_columns": null,
      "grid_template_rows": null,
      "height": null,
      "justify_content": null,
      "justify_items": null,
      "left": null,
      "margin": null,
      "max_height": null,
      "max_width": null,
      "min_height": null,
      "min_width": null,
      "object_fit": null,
      "object_position": null,
      "order": null,
      "overflow": null,
      "overflow_x": null,
      "overflow_y": null,
      "padding": null,
      "right": null,
      "top": null,
      "visibility": null,
      "width": null
     }
    },
    "a3763df1b6564f319afc8d67073af72f": {
     "model_module": "@jupyter-widgets/base",
     "model_module_version": "1.2.0",
     "model_name": "LayoutModel",
     "state": {
      "_model_module": "@jupyter-widgets/base",
      "_model_module_version": "1.2.0",
      "_model_name": "LayoutModel",
      "_view_count": null,
      "_view_module": "@jupyter-widgets/base",
      "_view_module_version": "1.2.0",
      "_view_name": "LayoutView",
      "align_content": null,
      "align_items": null,
      "align_self": null,
      "border": null,
      "bottom": null,
      "display": null,
      "flex": null,
      "flex_flow": null,
      "grid_area": null,
      "grid_auto_columns": null,
      "grid_auto_flow": null,
      "grid_auto_rows": null,
      "grid_column": null,
      "grid_gap": null,
      "grid_row": null,
      "grid_template_areas": null,
      "grid_template_columns": null,
      "grid_template_rows": null,
      "height": null,
      "justify_content": null,
      "justify_items": null,
      "left": null,
      "margin": null,
      "max_height": null,
      "max_width": null,
      "min_height": null,
      "min_width": null,
      "object_fit": null,
      "object_position": null,
      "order": null,
      "overflow": null,
      "overflow_x": null,
      "overflow_y": null,
      "padding": null,
      "right": null,
      "top": null,
      "visibility": null,
      "width": null
     }
    },
    "a4c3f492a9b946a0b72df7ea6bb188a9": {
     "model_module": "@jupyter-widgets/controls",
     "model_module_version": "1.5.0",
     "model_name": "ProgressStyleModel",
     "state": {
      "_model_module": "@jupyter-widgets/controls",
      "_model_module_version": "1.5.0",
      "_model_name": "ProgressStyleModel",
      "_view_count": null,
      "_view_module": "@jupyter-widgets/base",
      "_view_module_version": "1.2.0",
      "_view_name": "StyleView",
      "bar_color": null,
      "description_width": ""
     }
    },
    "af10206931434c6fbfde31af25affbfa": {
     "model_module": "@jupyter-widgets/controls",
     "model_module_version": "1.5.0",
     "model_name": "DescriptionStyleModel",
     "state": {
      "_model_module": "@jupyter-widgets/controls",
      "_model_module_version": "1.5.0",
      "_model_name": "DescriptionStyleModel",
      "_view_count": null,
      "_view_module": "@jupyter-widgets/base",
      "_view_module_version": "1.2.0",
      "_view_name": "StyleView",
      "description_width": ""
     }
    },
    "b53d0ba4ae3e496092fdf021cb4097aa": {
     "model_module": "@jupyter-widgets/controls",
     "model_module_version": "1.5.0",
     "model_name": "HBoxModel",
     "state": {
      "_dom_classes": [],
      "_model_module": "@jupyter-widgets/controls",
      "_model_module_version": "1.5.0",
      "_model_name": "HBoxModel",
      "_view_count": null,
      "_view_module": "@jupyter-widgets/controls",
      "_view_module_version": "1.5.0",
      "_view_name": "HBoxView",
      "box_style": "",
      "children": [
       "IPY_MODEL_08d2c86ce4ab4b9e813473170145d4af",
       "IPY_MODEL_2831af4d288b45b688ba9b5992dce3f4",
       "IPY_MODEL_103798aed0c64914b55a691a4d22253e"
      ],
      "layout": "IPY_MODEL_87901707be784b03998e8b8093255ea6"
     }
    }
   }
  }
 },
 "nbformat": 4,
 "nbformat_minor": 5
}