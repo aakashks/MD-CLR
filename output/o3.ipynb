{
 "cells": [
  {
   "cell_type": "markdown",
   "id": "4646457d",
   "metadata": {
    "tags": [
     "papermill-error-cell-tag"
    ]
   },
   "source": [
    "<span style=\"color:red; font-family:Helvetica Neue, Helvetica, Arial, sans-serif; font-size:2em;\">An Exception was encountered at '<a href=\"#papermill-error-cell\">In [23]</a>'.</span>"
   ]
  },
  {
   "cell_type": "markdown",
   "id": "5c3a8d6b",
   "metadata": {
    "id": "JC-p4CpT1_Lc",
    "papermill": {
     "duration": 0.016287,
     "end_time": "2024-05-12T01:09:59.283578",
     "exception": false,
     "start_time": "2024-05-12T01:09:59.267291",
     "status": "completed"
    },
    "tags": []
   },
   "source": [
    "# Load Data"
   ]
  },
  {
   "cell_type": "code",
   "execution_count": 1,
   "id": "61a1f986",
   "metadata": {
    "execution": {
     "iopub.execute_input": "2024-05-12T01:09:59.312802Z",
     "iopub.status.busy": "2024-05-12T01:09:59.311380Z",
     "iopub.status.idle": "2024-05-12T01:09:59.323420Z",
     "shell.execute_reply": "2024-05-12T01:09:59.322475Z"
    },
    "id": "gr9MjCphpOPx",
    "papermill": {
     "duration": 0.027559,
     "end_time": "2024-05-12T01:09:59.324781",
     "exception": false,
     "start_time": "2024-05-12T01:09:59.297222",
     "status": "completed"
    },
    "tags": []
   },
   "outputs": [],
   "source": [
    "# where we will unpack data\n",
    "# OUTPUT_FOLDER = \"/kaggle/working/\"\n",
    "# DATA_FOLDER = \"/kaggle/input/solfune-satellite/\"\n",
    "# TRAIN_DATA_FOLDER = DATA_FOLDER + 'train/'\n",
    "\n",
    "OUTPUT_FOLDER = \"/scratch/aakash_ks.iitr/dr-scnn/\"\n",
    "DATA_FOLDER = \"/scratch/aakash_ks.iitr/data/diabetic-retinopathy/\"\n",
    "TRAIN_DATA_FOLDER = DATA_FOLDER + 'resized_train/'\n",
    "# TEST_DATA_FOLDER = DATA_FOLDER + 'test/'"
   ]
  },
  {
   "cell_type": "markdown",
   "id": "32279758",
   "metadata": {
    "id": "dOaKi5h92DBb",
    "papermill": {
     "duration": 0.005354,
     "end_time": "2024-05-12T01:09:59.335739",
     "exception": false,
     "start_time": "2024-05-12T01:09:59.330385",
     "status": "completed"
    },
    "tags": []
   },
   "source": [
    "# Imports"
   ]
  },
  {
   "cell_type": "code",
   "execution_count": 2,
   "id": "71d9b5c1",
   "metadata": {
    "execution": {
     "iopub.execute_input": "2024-05-12T01:09:59.348820Z",
     "iopub.status.busy": "2024-05-12T01:09:59.348227Z",
     "iopub.status.idle": "2024-05-12T01:10:01.088789Z",
     "shell.execute_reply": "2024-05-12T01:10:01.087688Z"
    },
    "id": "NNdj2cxdkpiv",
    "papermill": {
     "duration": 1.749128,
     "end_time": "2024-05-12T01:10:01.090452",
     "exception": false,
     "start_time": "2024-05-12T01:09:59.341324",
     "status": "completed"
    },
    "tags": []
   },
   "outputs": [],
   "source": [
    "import os\n",
    "import random\n",
    "import numpy as np\n",
    "import pandas as pd\n",
    "import matplotlib.pyplot as plt\n",
    "import seaborn as sns\n",
    "from tqdm import tqdm\n",
    "\n",
    "from PIL import Image"
   ]
  },
  {
   "cell_type": "code",
   "execution_count": 3,
   "id": "2d422f18",
   "metadata": {
    "execution": {
     "iopub.execute_input": "2024-05-12T01:10:01.104049Z",
     "iopub.status.busy": "2024-05-12T01:10:01.103536Z",
     "iopub.status.idle": "2024-05-12T01:10:05.760120Z",
     "shell.execute_reply": "2024-05-12T01:10:05.759241Z"
    },
    "id": "7yoCqGCB2jIS",
    "papermill": {
     "duration": 4.665833,
     "end_time": "2024-05-12T01:10:05.762360",
     "exception": false,
     "start_time": "2024-05-12T01:10:01.096527",
     "status": "completed"
    },
    "tags": []
   },
   "outputs": [
    {
     "name": "stderr",
     "output_type": "stream",
     "text": [
      "/home/aakash_ks.iitr/miniconda3/envs/py311/lib/python3.11/site-packages/tqdm/auto.py:21: TqdmWarning: IProgress not found. Please update jupyter and ipywidgets. See https://ipywidgets.readthedocs.io/en/stable/user_install.html\n",
      "  from .autonotebook import tqdm as notebook_tqdm\n"
     ]
    }
   ],
   "source": [
    "import torch\n",
    "import torch.nn.functional as F\n",
    "import torch.nn as nn\n",
    "\n",
    "from torch.utils.data import DataLoader, Dataset, WeightedRandomSampler\n",
    "from torchvision.transforms import v2\n",
    "\n",
    "import timm"
   ]
  },
  {
   "cell_type": "code",
   "execution_count": 4,
   "id": "91cacc12",
   "metadata": {
    "execution": {
     "iopub.execute_input": "2024-05-12T01:10:05.786126Z",
     "iopub.status.busy": "2024-05-12T01:10:05.785268Z",
     "iopub.status.idle": "2024-05-12T01:10:05.814921Z",
     "shell.execute_reply": "2024-05-12T01:10:05.814065Z"
    },
    "id": "8Ejzj4rDx_GK",
    "papermill": {
     "duration": 0.042997,
     "end_time": "2024-05-12T01:10:05.816350",
     "exception": false,
     "start_time": "2024-05-12T01:10:05.773353",
     "status": "completed"
    },
    "tags": []
   },
   "outputs": [],
   "source": [
    "NUM_CLASSES = 5\n",
    "\n",
    "class CFG:\n",
    "    seed = 42\n",
    "    N_folds = 5\n",
    "    train_folds = [0] # [0,1,2,3,4]\n",
    "\n",
    "    device = 'cuda' if torch.cuda.is_available() else 'cpu'\n",
    "    apex=True # use half precision\n",
    "\n",
    "    # model_name = \"maxvit_tiny_tf_512\"\n",
    "    model_name = \"resnet50.a1_in1k\"\n",
    "    epochs = 5\n",
    "    # weights =  torch.tensor([0.206119, 0.793881],dtype=torch.float32)\n",
    "\n",
    "    clip_val = 1000.\n",
    "    batch_size = 64\n",
    "    # gradient_accumulation_steps = 1\n",
    "\n",
    "    lr = 1e-4\n",
    "    weight_decay=1e-2\n",
    "    \n",
    "    resolution = 224"
   ]
  },
  {
   "cell_type": "code",
   "execution_count": 5,
   "id": "9b1e3be7",
   "metadata": {
    "execution": {
     "iopub.execute_input": "2024-05-12T01:10:05.830474Z",
     "iopub.status.busy": "2024-05-12T01:10:05.829703Z",
     "iopub.status.idle": "2024-05-12T01:10:11.050459Z",
     "shell.execute_reply": "2024-05-12T01:10:11.049767Z"
    },
    "papermill": {
     "duration": 5.229748,
     "end_time": "2024-05-12T01:10:11.052090",
     "exception": false,
     "start_time": "2024-05-12T01:10:05.822342",
     "status": "completed"
    },
    "tags": []
   },
   "outputs": [
    {
     "name": "stderr",
     "output_type": "stream",
     "text": [
      "\u001b[34m\u001b[1mwandb\u001b[0m: Currently logged in as: \u001b[33maakashks_\u001b[0m. Use \u001b[1m`wandb login --relogin`\u001b[0m to force relogin\n"
     ]
    },
    {
     "name": "stderr",
     "output_type": "stream",
     "text": [
      "\u001b[34m\u001b[1mwandb\u001b[0m: wandb version 0.17.0 is available!  To upgrade, please run:\n",
      "\u001b[34m\u001b[1mwandb\u001b[0m:  $ pip install wandb --upgrade\n"
     ]
    },
    {
     "name": "stderr",
     "output_type": "stream",
     "text": [
      "\u001b[34m\u001b[1mwandb\u001b[0m: Tracking run with wandb version 0.16.5\n"
     ]
    },
    {
     "name": "stderr",
     "output_type": "stream",
     "text": [
      "\u001b[34m\u001b[1mwandb\u001b[0m: Run data is saved locally in \u001b[35m\u001b[1m/scratch/aakash_ks.iitr/dr-scnn/wandb/run-20240512_064007-0hyhc8tn\u001b[0m\n",
      "\u001b[34m\u001b[1mwandb\u001b[0m: Run \u001b[1m`wandb offline`\u001b[0m to turn off syncing.\n"
     ]
    },
    {
     "name": "stderr",
     "output_type": "stream",
     "text": [
      "\u001b[34m\u001b[1mwandb\u001b[0m: Syncing run \u001b[33mapricot-sun-58\u001b[0m\n"
     ]
    },
    {
     "name": "stderr",
     "output_type": "stream",
     "text": [
      "\u001b[34m\u001b[1mwandb\u001b[0m: ⭐️ View project at \u001b[34m\u001b[4mhttps://wandb.ai/aakashks_/hello-world\u001b[0m\n"
     ]
    },
    {
     "name": "stderr",
     "output_type": "stream",
     "text": [
      "\u001b[34m\u001b[1mwandb\u001b[0m: 🚀 View run at \u001b[34m\u001b[4mhttps://wandb.ai/aakashks_/hello-world/runs/0hyhc8tn/workspace\u001b[0m\n"
     ]
    }
   ],
   "source": [
    "import wandb\n",
    "# from kaggle_secrets import UserSecretsClient\n",
    "# user_secrets = UserSecretsClient()\n",
    "# wandb.login(key=user_secrets.get_secret(\"wandb_api\"))\n",
    "\n",
    "run = wandb.init(\n",
    "    project=\"hello-world\", \n",
    "    dir=OUTPUT_FOLDER,\n",
    "    config={\n",
    "    k:v for k, v in CFG.__dict__.items() if not k.startswith('__')}\n",
    ")"
   ]
  },
  {
   "cell_type": "code",
   "execution_count": 6,
   "id": "cf2bc77d",
   "metadata": {
    "execution": {
     "iopub.execute_input": "2024-05-12T01:10:11.069164Z",
     "iopub.status.busy": "2024-05-12T01:10:11.068536Z",
     "iopub.status.idle": "2024-05-12T01:10:11.071866Z",
     "shell.execute_reply": "2024-05-12T01:10:11.071370Z"
    },
    "papermill": {
     "duration": 0.013306,
     "end_time": "2024-05-12T01:10:11.072928",
     "exception": false,
     "start_time": "2024-05-12T01:10:11.059622",
     "status": "completed"
    },
    "tags": []
   },
   "outputs": [],
   "source": [
    "device = torch.device(CFG.device)"
   ]
  },
  {
   "cell_type": "markdown",
   "id": "fced28df",
   "metadata": {
    "id": "7Ve34id2b7uu",
    "papermill": {
     "duration": 0.005864,
     "end_time": "2024-05-12T01:10:11.084834",
     "exception": false,
     "start_time": "2024-05-12T01:10:11.078970",
     "status": "completed"
    },
    "tags": []
   },
   "source": [
    "# Load train data"
   ]
  },
  {
   "cell_type": "code",
   "execution_count": 7,
   "id": "47cdc79b",
   "metadata": {
    "execution": {
     "iopub.execute_input": "2024-05-12T01:10:11.097491Z",
     "iopub.status.busy": "2024-05-12T01:10:11.096972Z",
     "iopub.status.idle": "2024-05-12T01:10:11.127316Z",
     "shell.execute_reply": "2024-05-12T01:10:11.126817Z"
    },
    "id": "mq-oqFtvkpix",
    "papermill": {
     "duration": 0.037907,
     "end_time": "2024-05-12T01:10:11.128465",
     "exception": false,
     "start_time": "2024-05-12T01:10:11.090558",
     "status": "completed"
    },
    "tags": []
   },
   "outputs": [
    {
     "data": {
      "text/html": [
       "<div>\n",
       "<style scoped>\n",
       "    .dataframe tbody tr th:only-of-type {\n",
       "        vertical-align: middle;\n",
       "    }\n",
       "\n",
       "    .dataframe tbody tr th {\n",
       "        vertical-align: top;\n",
       "    }\n",
       "\n",
       "    .dataframe thead th {\n",
       "        text-align: right;\n",
       "    }\n",
       "</style>\n",
       "<table border=\"1\" class=\"dataframe\">\n",
       "  <thead>\n",
       "    <tr style=\"text-align: right;\">\n",
       "      <th></th>\n",
       "      <th>image</th>\n",
       "      <th>level</th>\n",
       "    </tr>\n",
       "  </thead>\n",
       "  <tbody>\n",
       "    <tr>\n",
       "      <th>0</th>\n",
       "      <td>10_left</td>\n",
       "      <td>0</td>\n",
       "    </tr>\n",
       "    <tr>\n",
       "      <th>1</th>\n",
       "      <td>10_right</td>\n",
       "      <td>0</td>\n",
       "    </tr>\n",
       "    <tr>\n",
       "      <th>2</th>\n",
       "      <td>13_left</td>\n",
       "      <td>0</td>\n",
       "    </tr>\n",
       "    <tr>\n",
       "      <th>3</th>\n",
       "      <td>13_right</td>\n",
       "      <td>0</td>\n",
       "    </tr>\n",
       "    <tr>\n",
       "      <th>4</th>\n",
       "      <td>15_left</td>\n",
       "      <td>1</td>\n",
       "    </tr>\n",
       "    <tr>\n",
       "      <th>...</th>\n",
       "      <td>...</td>\n",
       "      <td>...</td>\n",
       "    </tr>\n",
       "    <tr>\n",
       "      <th>35121</th>\n",
       "      <td>44347_right</td>\n",
       "      <td>0</td>\n",
       "    </tr>\n",
       "    <tr>\n",
       "      <th>35122</th>\n",
       "      <td>44348_left</td>\n",
       "      <td>0</td>\n",
       "    </tr>\n",
       "    <tr>\n",
       "      <th>35123</th>\n",
       "      <td>44348_right</td>\n",
       "      <td>0</td>\n",
       "    </tr>\n",
       "    <tr>\n",
       "      <th>35124</th>\n",
       "      <td>44349_left</td>\n",
       "      <td>0</td>\n",
       "    </tr>\n",
       "    <tr>\n",
       "      <th>35125</th>\n",
       "      <td>44349_right</td>\n",
       "      <td>1</td>\n",
       "    </tr>\n",
       "  </tbody>\n",
       "</table>\n",
       "<p>35126 rows × 2 columns</p>\n",
       "</div>"
      ],
      "text/plain": [
       "             image  level\n",
       "0          10_left      0\n",
       "1         10_right      0\n",
       "2          13_left      0\n",
       "3         13_right      0\n",
       "4          15_left      1\n",
       "...            ...    ...\n",
       "35121  44347_right      0\n",
       "35122   44348_left      0\n",
       "35123  44348_right      0\n",
       "35124   44349_left      0\n",
       "35125  44349_right      1\n",
       "\n",
       "[35126 rows x 2 columns]"
      ]
     },
     "execution_count": 7,
     "metadata": {},
     "output_type": "execute_result"
    }
   ],
   "source": [
    "train_data = pd.read_csv(os.path.join(DATA_FOLDER, 'trainLabels.csv'))\n",
    "train_data"
   ]
  },
  {
   "cell_type": "code",
   "execution_count": 8,
   "id": "1946955e",
   "metadata": {
    "execution": {
     "iopub.execute_input": "2024-05-12T01:10:11.142154Z",
     "iopub.status.busy": "2024-05-12T01:10:11.141842Z",
     "iopub.status.idle": "2024-05-12T01:10:11.172246Z",
     "shell.execute_reply": "2024-05-12T01:10:11.171662Z"
    },
    "papermill": {
     "duration": 0.038579,
     "end_time": "2024-05-12T01:10:11.173429",
     "exception": false,
     "start_time": "2024-05-12T01:10:11.134850",
     "status": "completed"
    },
    "tags": []
   },
   "outputs": [
    {
     "data": {
      "text/plain": [
       "35126"
      ]
     },
     "execution_count": 8,
     "metadata": {},
     "output_type": "execute_result"
    }
   ],
   "source": [
    "# remove all images from the csv if they are not in the folder\n",
    "lst = map(lambda x: x[:-5], os.listdir(TRAIN_DATA_FOLDER))\n",
    "train_data = train_data[train_data.image.isin(lst)]\n",
    "len(train_data)"
   ]
  },
  {
   "cell_type": "code",
   "execution_count": 9,
   "id": "d2d3b8a1",
   "metadata": {
    "execution": {
     "iopub.execute_input": "2024-05-12T01:10:11.187655Z",
     "iopub.status.busy": "2024-05-12T01:10:11.187389Z",
     "iopub.status.idle": "2024-05-12T01:10:11.192534Z",
     "shell.execute_reply": "2024-05-12T01:10:11.192088Z"
    },
    "papermill": {
     "duration": 0.013474,
     "end_time": "2024-05-12T01:10:11.193654",
     "exception": false,
     "start_time": "2024-05-12T01:10:11.180180",
     "status": "completed"
    },
    "tags": []
   },
   "outputs": [
    {
     "data": {
      "text/plain": [
       "level\n",
       "0    25810\n",
       "2     5292\n",
       "1     2443\n",
       "3      873\n",
       "4      708\n",
       "Name: count, dtype: int64"
      ]
     },
     "execution_count": 9,
     "metadata": {},
     "output_type": "execute_result"
    }
   ],
   "source": [
    "train_data.level.value_counts()"
   ]
  },
  {
   "cell_type": "code",
   "execution_count": 10,
   "id": "070fc3cb",
   "metadata": {
    "execution": {
     "iopub.execute_input": "2024-05-12T01:10:11.207893Z",
     "iopub.status.busy": "2024-05-12T01:10:11.207395Z",
     "iopub.status.idle": "2024-05-12T01:10:11.215047Z",
     "shell.execute_reply": "2024-05-12T01:10:11.214588Z"
    },
    "papermill": {
     "duration": 0.015919,
     "end_time": "2024-05-12T01:10:11.216174",
     "exception": false,
     "start_time": "2024-05-12T01:10:11.200255",
     "status": "completed"
    },
    "tags": []
   },
   "outputs": [
    {
     "data": {
      "text/plain": [
       "level\n",
       "0    100\n",
       "1    100\n",
       "2    100\n",
       "4    100\n",
       "3    100\n",
       "Name: count, dtype: int64"
      ]
     },
     "execution_count": 10,
     "metadata": {},
     "output_type": "execute_result"
    }
   ],
   "source": [
    "# take only 100 samples from each class\n",
    "train_data = train_data.groupby('level').head(100).reset_index(drop=True)\n",
    "train_data.level.value_counts()"
   ]
  },
  {
   "cell_type": "markdown",
   "id": "aa42cd0c",
   "metadata": {
    "id": "1Mu24W3Xkpix",
    "papermill": {
     "duration": 0.006519,
     "end_time": "2024-05-12T01:10:11.229459",
     "exception": false,
     "start_time": "2024-05-12T01:10:11.222940",
     "status": "completed"
    },
    "tags": []
   },
   "source": [
    "# Dataset"
   ]
  },
  {
   "cell_type": "code",
   "execution_count": 11,
   "id": "da965c6a",
   "metadata": {
    "execution": {
     "iopub.execute_input": "2024-05-12T01:10:11.243296Z",
     "iopub.status.busy": "2024-05-12T01:10:11.242983Z",
     "iopub.status.idle": "2024-05-12T01:10:11.250242Z",
     "shell.execute_reply": "2024-05-12T01:10:11.249669Z"
    },
    "papermill": {
     "duration": 0.015294,
     "end_time": "2024-05-12T01:10:11.251233",
     "exception": false,
     "start_time": "2024-05-12T01:10:11.235939",
     "status": "completed"
    },
    "tags": []
   },
   "outputs": [],
   "source": [
    "from torchvision.transforms import functional as func\n",
    "\n",
    "class CustomTransform:\n",
    "    def __init__(self, output_size=(CFG.resolution, CFG.resolution), radius_factor=0.9):\n",
    "        self.output_size = output_size\n",
    "        self.radius_factor = radius_factor\n",
    "\n",
    "    def __call__(self, img):\n",
    "        # Assuming img is a PIL Image\n",
    "        # Normalize and preprocess as previously defined\n",
    "        img = func.resize(img, int(min(img.size) / self.radius_factor))\n",
    "        img_tensor = func.to_tensor(img)\n",
    "        mean, std = img_tensor.mean([1, 2]), img_tensor.std([1, 2])\n",
    "        img_normalized = func.normalize(img_tensor, mean.tolist(), std.tolist())\n",
    "        kernel_size = 15\n",
    "        padding = kernel_size // 2\n",
    "        avg_pool = torch.nn.AvgPool2d(kernel_size, stride=1, padding=padding)\n",
    "        local_avg = avg_pool(img_normalized.unsqueeze(0)).squeeze(0)\n",
    "        img_subtracted = img_normalized - local_avg\n",
    "        center_crop_size = int(min(img_subtracted.shape[1:]) * self.radius_factor)\n",
    "        img_cropped = func.center_crop(img_subtracted, [center_crop_size, center_crop_size])\n",
    "\n",
    "        # Apply augmentations\n",
    "        img_resized = func.resize(img_cropped, self.output_size)\n",
    "\n",
    "        return img_resized"
   ]
  },
  {
   "cell_type": "code",
   "execution_count": 12,
   "id": "82bec631",
   "metadata": {
    "execution": {
     "iopub.execute_input": "2024-05-12T01:10:11.265768Z",
     "iopub.status.busy": "2024-05-12T01:10:11.265266Z",
     "iopub.status.idle": "2024-05-12T01:10:11.272912Z",
     "shell.execute_reply": "2024-05-12T01:10:11.272366Z"
    },
    "papermill": {
     "duration": 0.016194,
     "end_time": "2024-05-12T01:10:11.274096",
     "exception": false,
     "start_time": "2024-05-12T01:10:11.257902",
     "status": "completed"
    },
    "tags": []
   },
   "outputs": [],
   "source": [
    "# train_transforms = CustomTransform()\n",
    "\n",
    "train_transforms = v2.Compose([\n",
    "    CustomTransform(),\n",
    "    v2.RandomResizedCrop(CFG.resolution, scale=(0.8, 1.0)),  # Krizhevsky style random cropping\n",
    "    v2.RandomHorizontalFlip(),  # Random horizontal flip\n",
    "    v2.RandomVerticalFlip(),  # Random vertical flip\n",
    "    v2.GaussianBlur(kernel_size=(5, 5), sigma=(0.1, 2)),  # Gaussian blur with random kernel size and sigma\n",
    "    v2.RandomRotation(degrees=(0, 90)),  # Random rotation between 0 and 360 degrees\n",
    "    v2.ToDtype(torch.float32, scale=False),\n",
    "])\n",
    "\n",
    "val_transforms = v2.Compose([\n",
    "    CustomTransform(),\n",
    "    v2.ToDtype(torch.float32, scale=False),\n",
    "])"
   ]
  },
  {
   "cell_type": "code",
   "execution_count": 13,
   "id": "bf7e47eb",
   "metadata": {
    "execution": {
     "iopub.execute_input": "2024-05-12T01:10:11.288578Z",
     "iopub.status.busy": "2024-05-12T01:10:11.287955Z",
     "iopub.status.idle": "2024-05-12T01:10:11.292814Z",
     "shell.execute_reply": "2024-05-12T01:10:11.292295Z"
    },
    "id": "_mAcIdn2kpiy",
    "papermill": {
     "duration": 0.013077,
     "end_time": "2024-05-12T01:10:11.293811",
     "exception": false,
     "start_time": "2024-05-12T01:10:11.280734",
     "status": "completed"
    },
    "scrolled": true,
    "tags": []
   },
   "outputs": [],
   "source": [
    "class ImageTrainDataset(Dataset):\n",
    "    def __init__(\n",
    "        self,\n",
    "        folder,\n",
    "        data,\n",
    "        transforms,\n",
    "    ):\n",
    "        self.folder = folder\n",
    "        self.data = data\n",
    "        self.transforms = transforms\n",
    "\n",
    "    def __len__(self):\n",
    "        return len(self.data)\n",
    "\n",
    "    def __getitem__(self, index):\n",
    "        d = self.data.loc[index]\n",
    "        image = Image.open(f\"{self.folder}{d.image}.jpeg\")\n",
    "        image = self.transforms(image)\n",
    "        label = d.level\n",
    "\n",
    "        return image, torch.tensor(label, dtype=torch.long)"
   ]
  },
  {
   "cell_type": "markdown",
   "id": "770093c1",
   "metadata": {
    "id": "OzgB1JpAv3qg",
    "papermill": {
     "duration": 0.006148,
     "end_time": "2024-05-12T01:10:11.306254",
     "exception": false,
     "start_time": "2024-05-12T01:10:11.300106",
     "status": "completed"
    },
    "tags": []
   },
   "source": [
    "# Loss"
   ]
  },
  {
   "cell_type": "code",
   "execution_count": 14,
   "id": "39986a48",
   "metadata": {
    "execution": {
     "iopub.execute_input": "2024-05-12T01:10:11.319811Z",
     "iopub.status.busy": "2024-05-12T01:10:11.319277Z",
     "iopub.status.idle": "2024-05-12T01:10:11.325682Z",
     "shell.execute_reply": "2024-05-12T01:10:11.325014Z"
    },
    "id": "n0u9VgXTv7VU",
    "papermill": {
     "duration": 0.014247,
     "end_time": "2024-05-12T01:10:11.326674",
     "exception": false,
     "start_time": "2024-05-12T01:10:11.312427",
     "status": "completed"
    },
    "tags": []
   },
   "outputs": [],
   "source": [
    "def contrastive_loss(embeddings, labels, margin=1.0):\n",
    "    distance_matrix = torch.cdist(embeddings, embeddings, p=2)  # Compute pairwise Euclidean distances\n",
    "    matches = labels.unsqueeze(0) == labels.unsqueeze(1)  # Matrix where True indicates matching labels\n",
    "    non_matches = ~matches\n",
    "    \n",
    "    # Select positive and negative pairs\n",
    "    positive_distances = distance_matrix[matches].clamp(min=0.00001)  # Clamp to avoid sqrt of zero\n",
    "    negative_distances = distance_matrix[non_matches].clamp(min=0.00001)\n",
    "    \n",
    "    # Calculate losses for all positives and negative pair combinations\n",
    "    positive_loss = torch.mean(positive_distances)\n",
    "    negative_loss = torch.mean(torch.relu(margin - negative_distances))\n",
    "    \n",
    "    # Total loss combines positive and negative contributions\n",
    "    loss = positive_loss + negative_loss\n",
    "    return loss"
   ]
  },
  {
   "cell_type": "markdown",
   "id": "ad358170",
   "metadata": {
    "id": "Zyfw9PLdkpiz",
    "papermill": {
     "duration": 0.006167,
     "end_time": "2024-05-12T01:10:11.339258",
     "exception": false,
     "start_time": "2024-05-12T01:10:11.333091",
     "status": "completed"
    },
    "tags": []
   },
   "source": [
    "# Train and evaluate functions"
   ]
  },
  {
   "cell_type": "code",
   "execution_count": 15,
   "id": "10f3a1f5",
   "metadata": {
    "execution": {
     "iopub.execute_input": "2024-05-12T01:10:11.352788Z",
     "iopub.status.busy": "2024-05-12T01:10:11.352310Z",
     "iopub.status.idle": "2024-05-12T01:10:11.355598Z",
     "shell.execute_reply": "2024-05-12T01:10:11.354994Z"
    },
    "papermill": {
     "duration": 0.01117,
     "end_time": "2024-05-12T01:10:11.356625",
     "exception": false,
     "start_time": "2024-05-12T01:10:11.345455",
     "status": "completed"
    },
    "tags": []
   },
   "outputs": [],
   "source": [
    "class style:\n",
    "    BLUE = '\\033[94m'\n",
    "    GREEN = '\\033[92m'\n",
    "    YELLOW = '\\033[93m'\n",
    "    END = '\\033[0m'\n",
    "    BOLD = '\\033[1m'"
   ]
  },
  {
   "cell_type": "code",
   "execution_count": 16,
   "id": "cbc63a99",
   "metadata": {
    "execution": {
     "iopub.execute_input": "2024-05-12T01:10:11.370382Z",
     "iopub.status.busy": "2024-05-12T01:10:11.369859Z",
     "iopub.status.idle": "2024-05-12T01:10:11.373540Z",
     "shell.execute_reply": "2024-05-12T01:10:11.372930Z"
    },
    "id": "KKt67LPn9YtB",
    "papermill": {
     "duration": 0.011693,
     "end_time": "2024-05-12T01:10:11.374635",
     "exception": false,
     "start_time": "2024-05-12T01:10:11.362942",
     "status": "completed"
    },
    "tags": []
   },
   "outputs": [],
   "source": [
    "def seed_everything(seed=42):\n",
    "    random.seed(seed)\n",
    "    os.environ['PYTHONHASHSEED'] = str(seed)\n",
    "    np.random.seed(seed)\n",
    "    torch.manual_seed(seed)\n",
    "    torch.cuda.manual_seed(seed)"
   ]
  },
  {
   "cell_type": "code",
   "execution_count": 17,
   "id": "38addfe0",
   "metadata": {
    "execution": {
     "iopub.execute_input": "2024-05-12T01:10:11.388390Z",
     "iopub.status.busy": "2024-05-12T01:10:11.387901Z",
     "iopub.status.idle": "2024-05-12T01:10:11.393238Z",
     "shell.execute_reply": "2024-05-12T01:10:11.392678Z"
    },
    "id": "yXcFJ6IYkpiz",
    "papermill": {
     "duration": 0.013351,
     "end_time": "2024-05-12T01:10:11.394349",
     "exception": false,
     "start_time": "2024-05-12T01:10:11.380998",
     "status": "completed"
    },
    "tags": []
   },
   "outputs": [],
   "source": [
    "def evaluate_model(cfg, model, data_loader, loss_criterion, epoch=-1):\n",
    "    # loss_fn = nn.CrossEntropyLoss(weight=cfg.weights.to(device), label_smoothing=0.1)\n",
    "    loss_fn = loss_criterion\n",
    "\n",
    "    model.eval()\n",
    "    val_loss = 0\n",
    "\n",
    "    targets = []\n",
    "    predictions = []\n",
    "\n",
    "    total_len = len(data_loader)\n",
    "    tk0 = tqdm(enumerate(data_loader), total=total_len)\n",
    "    for step, (images, labels) in tk0:\n",
    "        images = images.to(device)\n",
    "        target = labels.to(device)\n",
    "\n",
    "        with torch.no_grad():\n",
    "            ####################\n",
    "            embeddings = model(images)\n",
    "            loss = loss_fn(embeddings, target)\n",
    "            ####################\n",
    "\n",
    "        val_loss += loss.item()\n",
    "\n",
    "        targets.append(target.detach().cpu())\n",
    "        # predictions.append(logits.detach().cpu())\n",
    "        del images, target, logits\n",
    "\n",
    "    targets = torch.cat(targets, dim=0)\n",
    "    # predictions = torch.cat(predictions, dim=0)\n",
    "    # predictions = F.sigmoid(predictions)\n",
    "\n",
    "    val_loss /= total_len\n",
    "    # base_score, best_score, best_th = find_best_threshold(targets, predictions[:, 1])\n",
    "    # roc_auc = roc_auc_score(targets.numpy(), predictions[:, 1].numpy())\n",
    "    roc_auc = 1\n",
    "\n",
    "    print(f'Epoch {epoch} validation loss = {val_loss:.4f} auc = {roc_auc:.4f}')\n",
    "    return val_loss, roc_auc"
   ]
  },
  {
   "cell_type": "code",
   "execution_count": 18,
   "id": "35f78e2d",
   "metadata": {
    "execution": {
     "iopub.execute_input": "2024-05-12T01:10:11.408114Z",
     "iopub.status.busy": "2024-05-12T01:10:11.407727Z",
     "iopub.status.idle": "2024-05-12T01:10:11.414113Z",
     "shell.execute_reply": "2024-05-12T01:10:11.413640Z"
    },
    "id": "nZFniP2hkpi0",
    "papermill": {
     "duration": 0.014513,
     "end_time": "2024-05-12T01:10:11.415193",
     "exception": false,
     "start_time": "2024-05-12T01:10:11.400680",
     "status": "completed"
    },
    "tags": []
   },
   "outputs": [],
   "source": [
    "def train_epoch(cfg, model, train_loader, loss_criterion, optimizer, scheduler, epoch):\n",
    "    scaler = torch.cuda.amp.GradScaler(enabled=cfg.apex)\n",
    "    # loss_fn = nn.CrossEntropyLoss(weight=cfg.weights.to(device), label_smoothing=0.1)\n",
    "    loss_fn = loss_criterion\n",
    "\n",
    "    model.train()\n",
    "    train_loss = 0\n",
    "    learning_rate_history = []\n",
    "\n",
    "    targets = []\n",
    "    predictions = []\n",
    "\n",
    "    total_len = len(train_loader)\n",
    "    tk0 = tqdm(enumerate(train_loader), total=total_len)\n",
    "    for step, (images, labels) in tk0:\n",
    "        images = images.to(device)\n",
    "        target = labels.to(device)\n",
    "\n",
    "        # https://pytorch.org/blog/accelerating-training-on-nvidia-gpus-with-pytorch-automatic-mixed-precision/\n",
    "        with torch.cuda.amp.autocast(enabled=cfg.apex):\n",
    "            ####################\n",
    "            embeddings = model(images)\n",
    "            loss = loss_fn(embeddings, target)\n",
    "            ####################\n",
    "\n",
    "        scaler.scale(loss).backward()\n",
    "        torch.nn.utils.clip_grad_norm_(model.parameters(), max_norm=cfg.clip_val)\n",
    "\n",
    "        train_loss += loss.item()\n",
    "        scaler.step(optimizer)\n",
    "        scaler.update()\n",
    "        optimizer.zero_grad()\n",
    "\n",
    "        if scheduler is None:\n",
    "            lr = optimizer.param_groups[0]['lr']\n",
    "        else:\n",
    "            scheduler.step()\n",
    "            lr = scheduler.get_last_lr()[0]\n",
    "\n",
    "        tk0.set_description(f\"Epoch {epoch} training {step+1}/{total_len} [LR {lr:0.6f}] - loss: {train_loss/(step+1):.4f}\")\n",
    "        learning_rate_history.append(lr)\n",
    "\n",
    "        # targets.append(target.detach().cpu())\n",
    "        # predictions.append(embeddings.detach().cpu())\n",
    "        del images, target\n",
    "\n",
    "    # targets = torch.cat(targets, dim=0)\n",
    "    # predictions = torch.cat(predictions, dim=0)\n",
    "    # predictions = F.sigmoid(predictions)\n",
    "\n",
    "    train_loss /= total_len\n",
    "    # roc_auc = roc_auc_score(targets.numpy(), predictions[:, 1].numpy())\n",
    "    roc_auc = 1\n",
    "\n",
    "    print(f'Epoch {epoch} train loss = {train_loss:.4f}, auc = {roc_auc:.4f}')\n",
    "    return train_loss, learning_rate_history, roc_auc"
   ]
  },
  {
   "cell_type": "markdown",
   "id": "2e877a4b",
   "metadata": {
    "id": "qN83vJk4xCA3",
    "papermill": {
     "duration": 0.0064,
     "end_time": "2024-05-12T01:10:11.428085",
     "exception": false,
     "start_time": "2024-05-12T01:10:11.421685",
     "status": "completed"
    },
    "tags": []
   },
   "source": [
    "# Train model"
   ]
  },
  {
   "cell_type": "markdown",
   "id": "7ee3418f",
   "metadata": {
    "id": "8NyHYtzwZT8h",
    "papermill": {
     "duration": 0.006449,
     "end_time": "2024-05-12T01:10:11.471088",
     "exception": false,
     "start_time": "2024-05-12T01:10:11.464639",
     "status": "completed"
    },
    "tags": []
   },
   "source": [
    "## Split data\n",
    "\n",
    "The distribution of classes in the training data is not balance so using StratifiedKFold will ensure that the distrubution of positive and negative samples in all folds will match the original distributions."
   ]
  },
  {
   "cell_type": "code",
   "execution_count": 19,
   "id": "868d4bde",
   "metadata": {
    "execution": {
     "iopub.execute_input": "2024-05-12T01:10:11.486424Z",
     "iopub.status.busy": "2024-05-12T01:10:11.485572Z",
     "iopub.status.idle": "2024-05-12T01:10:11.489560Z",
     "shell.execute_reply": "2024-05-12T01:10:11.488716Z"
    },
    "id": "HaYXa749AEes",
    "outputId": "65b6c941-0e6e-4503-b513-574264d657ce",
    "papermill": {
     "duration": 0.013345,
     "end_time": "2024-05-12T01:10:11.490903",
     "exception": false,
     "start_time": "2024-05-12T01:10:11.477558",
     "status": "completed"
    },
    "tags": []
   },
   "outputs": [],
   "source": [
    "# plt.figure(figsize=(4,2))\n",
    "# sns.histplot(train_data[\"label\"])"
   ]
  },
  {
   "cell_type": "code",
   "execution_count": 20,
   "id": "bd228b12",
   "metadata": {
    "execution": {
     "iopub.execute_input": "2024-05-12T01:10:11.505534Z",
     "iopub.status.busy": "2024-05-12T01:10:11.504875Z",
     "iopub.status.idle": "2024-05-12T01:10:11.659659Z",
     "shell.execute_reply": "2024-05-12T01:10:11.659019Z"
    },
    "id": "DRHeo8pr56FX",
    "papermill": {
     "duration": 0.165112,
     "end_time": "2024-05-12T01:10:11.662689",
     "exception": false,
     "start_time": "2024-05-12T01:10:11.497577",
     "status": "completed"
    },
    "tags": []
   },
   "outputs": [],
   "source": [
    "from sklearn.model_selection import StratifiedKFold\n",
    "\n",
    "sgkf = StratifiedKFold(n_splits=CFG.N_folds, random_state=CFG.seed, shuffle=True)\n",
    "for i, (train_index, test_index) in enumerate(sgkf.split(train_data[\"image\"].values, train_data[\"level\"].values)):\n",
    "    train_data.loc[test_index, \"fold\"] = i"
   ]
  },
  {
   "cell_type": "code",
   "execution_count": 21,
   "id": "4bcafdd7",
   "metadata": {
    "execution": {
     "iopub.execute_input": "2024-05-12T01:10:11.696929Z",
     "iopub.status.busy": "2024-05-12T01:10:11.695674Z",
     "iopub.status.idle": "2024-05-12T01:10:11.700233Z",
     "shell.execute_reply": "2024-05-12T01:10:11.699391Z"
    },
    "papermill": {
     "duration": 0.022929,
     "end_time": "2024-05-12T01:10:11.702247",
     "exception": false,
     "start_time": "2024-05-12T01:10:11.679318",
     "status": "completed"
    },
    "tags": []
   },
   "outputs": [],
   "source": [
    "# from torchgeo import models\n",
    "# from torch import nn"
   ]
  },
  {
   "cell_type": "code",
   "execution_count": 22,
   "id": "bb97ee85",
   "metadata": {
    "execution": {
     "iopub.execute_input": "2024-05-12T01:10:11.729232Z",
     "iopub.status.busy": "2024-05-12T01:10:11.728319Z",
     "iopub.status.idle": "2024-05-12T01:10:11.733748Z",
     "shell.execute_reply": "2024-05-12T01:10:11.732935Z"
    },
    "papermill": {
     "duration": 0.020736,
     "end_time": "2024-05-12T01:10:11.735662",
     "exception": false,
     "start_time": "2024-05-12T01:10:11.714926",
     "status": "completed"
    },
    "tags": []
   },
   "outputs": [],
   "source": [
    "def create_model():\n",
    "    ######################\n",
    "    model = timm.create_model(CFG.model_name, num_classes=0)\n",
    "    ######################\n",
    "    \n",
    "    # remove the last layer\n",
    "#     model.fc = nn.Linear(in_features=2048, out_features=2, bias=True)\n",
    "\n",
    "    return model.to(device)"
   ]
  },
  {
   "cell_type": "markdown",
   "id": "7f34c7e4",
   "metadata": {
    "id": "rF9BFqS8AXBY",
    "papermill": {
     "duration": 0.010053,
     "end_time": "2024-05-12T01:10:11.756446",
     "exception": false,
     "start_time": "2024-05-12T01:10:11.746393",
     "status": "completed"
    },
    "tags": []
   },
   "source": [
    "## Train folds"
   ]
  },
  {
   "cell_type": "markdown",
   "id": "1d635bb2",
   "metadata": {
    "tags": [
     "papermill-error-cell-tag"
    ]
   },
   "source": [
    "<span id=\"papermill-error-cell\" style=\"color:red; font-family:Helvetica Neue, Helvetica, Arial, sans-serif; font-size:2em;\">Execution using papermill encountered an exception here and stopped:</span>"
   ]
  },
  {
   "cell_type": "code",
   "execution_count": 23,
   "id": "7b769235",
   "metadata": {
    "execution": {
     "iopub.execute_input": "2024-05-12T01:10:11.774954Z",
     "iopub.status.busy": "2024-05-12T01:10:11.774408Z",
     "iopub.status.idle": "2024-05-12T01:11:51.012597Z",
     "shell.execute_reply": "2024-05-12T01:11:51.011755Z"
    },
    "id": "7CFfmp3CxDG5",
    "outputId": "952103d3-bbd9-449f-e9cf-26d5c2608aea",
    "papermill": {
     "duration": 99.248468,
     "end_time": "2024-05-12T01:11:51.014736",
     "exception": true,
     "start_time": "2024-05-12T01:10:11.766268",
     "status": "failed"
    },
    "scrolled": true,
    "tags": []
   },
   "outputs": [
    {
     "name": "stdout",
     "output_type": "stream",
     "text": [
      "Model parameters: 23_508_032\n"
     ]
    },
    {
     "name": "stderr",
     "output_type": "stream",
     "text": [
      "\r",
      "  0%|                                                                               | 0/6 [00:00<?, ?it/s]"
     ]
    },
    {
     "name": "stderr",
     "output_type": "stream",
     "text": [
      "\r",
      "Epoch 0 training 1/6 [LR 0.000100] - loss: 9.4857:   0%|                            | 0/6 [00:50<?, ?it/s]"
     ]
    },
    {
     "name": "stderr",
     "output_type": "stream",
     "text": [
      "\r",
      "Epoch 0 training 1/6 [LR 0.000100] - loss: 9.4857:  17%|███▎                | 1/6 [00:50<04:10, 50.03s/it]"
     ]
    },
    {
     "name": "stderr",
     "output_type": "stream",
     "text": [
      "\r",
      "Epoch 0 training 2/6 [LR 0.000099] - loss: 8.9171:  17%|███▎                | 1/6 [00:50<04:10, 50.03s/it]"
     ]
    },
    {
     "name": "stderr",
     "output_type": "stream",
     "text": [
      "\r",
      "Epoch 0 training 2/6 [LR 0.000099] - loss: 8.9171:  33%|██████▋             | 2/6 [00:50<01:22, 20.66s/it]"
     ]
    },
    {
     "name": "stderr",
     "output_type": "stream",
     "text": [
      "\r",
      "Epoch 0 training 3/6 [LR 0.000098] - loss: 8.5317:  33%|██████▋             | 2/6 [00:50<01:22, 20.66s/it]"
     ]
    },
    {
     "name": "stderr",
     "output_type": "stream",
     "text": [
      "\r",
      "Epoch 0 training 3/6 [LR 0.000098] - loss: 8.5317:  50%|██████████          | 3/6 [00:50<00:33, 11.27s/it]"
     ]
    },
    {
     "name": "stderr",
     "output_type": "stream",
     "text": [
      "\r",
      "Epoch 0 training 4/6 [LR 0.000096] - loss: 8.2253:  50%|██████████          | 3/6 [00:50<00:33, 11.27s/it]"
     ]
    },
    {
     "name": "stderr",
     "output_type": "stream",
     "text": [
      "\r",
      "Epoch 0 training 5/6 [LR 0.000093] - loss: 7.9179:  50%|██████████          | 3/6 [00:50<00:33, 11.27s/it]"
     ]
    },
    {
     "name": "stderr",
     "output_type": "stream",
     "text": [
      "\r",
      "Epoch 0 training 5/6 [LR 0.000093] - loss: 7.9179:  83%|████████████████▋   | 5/6 [00:50<00:04,  4.95s/it]"
     ]
    },
    {
     "name": "stderr",
     "output_type": "stream",
     "text": [
      "\r",
      "Epoch 0 training 6/6 [LR 0.000091] - loss: 7.7358:  83%|████████████████▋   | 5/6 [00:50<00:04,  4.95s/it]"
     ]
    },
    {
     "name": "stderr",
     "output_type": "stream",
     "text": [
      "\r",
      "Epoch 0 training 6/6 [LR 0.000091] - loss: 7.7358: 100%|████████████████████| 6/6 [00:50<00:00,  8.44s/it]"
     ]
    },
    {
     "name": "stdout",
     "output_type": "stream",
     "text": [
      "Epoch 0 train loss = 7.7358, auc = 1.0000\n"
     ]
    },
    {
     "name": "stderr",
     "output_type": "stream",
     "text": [
      "\n"
     ]
    },
    {
     "name": "stderr",
     "output_type": "stream",
     "text": [
      "\r",
      "  0%|                                                                               | 0/2 [00:00<?, ?it/s]"
     ]
    },
    {
     "name": "stderr",
     "output_type": "stream",
     "text": [
      "\r",
      "  0%|                                                                               | 0/2 [00:43<?, ?it/s]"
     ]
    },
    {
     "name": "stderr",
     "output_type": "stream",
     "text": [
      "\n"
     ]
    },
    {
     "ename": "UnboundLocalError",
     "evalue": "cannot access local variable 'logits' where it is not associated with a value",
     "output_type": "error",
     "traceback": [
      "\u001b[0;31m---------------------------------------------------------------------------\u001b[0m",
      "\u001b[0;31mUnboundLocalError\u001b[0m                         Traceback (most recent call last)",
      "Cell \u001b[0;32mIn[23], line 65\u001b[0m\n\u001b[1;32m     62\u001b[0m train_score_history\u001b[38;5;241m.\u001b[39mappend(train_auc)\n\u001b[1;32m     63\u001b[0m learning_rate_history\u001b[38;5;241m.\u001b[39mextend(train_lr)\n\u001b[0;32m---> 65\u001b[0m val_loss, val_auc \u001b[38;5;241m=\u001b[39m evaluate_model(CFG, model, valid_loader, loss_criterion, epoch)\n\u001b[1;32m     66\u001b[0m val_loss_history\u001b[38;5;241m.\u001b[39mappend(val_loss)\n\u001b[1;32m     67\u001b[0m val_score_history\u001b[38;5;241m.\u001b[39mappend(val_auc)\n",
      "Cell \u001b[0;32mIn[17], line 27\u001b[0m, in \u001b[0;36mevaluate_model\u001b[0;34m(cfg, model, data_loader, loss_criterion, epoch)\u001b[0m\n\u001b[1;32m     25\u001b[0m     targets\u001b[38;5;241m.\u001b[39mappend(target\u001b[38;5;241m.\u001b[39mdetach()\u001b[38;5;241m.\u001b[39mcpu())\n\u001b[1;32m     26\u001b[0m     \u001b[38;5;66;03m# predictions.append(logits.detach().cpu())\u001b[39;00m\n\u001b[0;32m---> 27\u001b[0m     \u001b[38;5;28;01mdel\u001b[39;00m images, target, logits\n\u001b[1;32m     29\u001b[0m targets \u001b[38;5;241m=\u001b[39m torch\u001b[38;5;241m.\u001b[39mcat(targets, dim\u001b[38;5;241m=\u001b[39m\u001b[38;5;241m0\u001b[39m)\n\u001b[1;32m     30\u001b[0m \u001b[38;5;66;03m# predictions = torch.cat(predictions, dim=0)\u001b[39;00m\n\u001b[1;32m     31\u001b[0m \u001b[38;5;66;03m# predictions = F.sigmoid(predictions)\u001b[39;00m\n",
      "\u001b[0;31mUnboundLocalError\u001b[0m: cannot access local variable 'logits' where it is not associated with a value"
     ]
    }
   ],
   "source": [
    "for FOLD in CFG.train_folds:\n",
    "\n",
    "    seed_everything(CFG.seed)\n",
    "\n",
    "    # PREPARE DATA\n",
    "    fold_train_data = train_data[train_data[\"fold\"] != FOLD].reset_index(drop=True)\n",
    "    fold_valid_data = train_data[train_data[\"fold\"] == FOLD].reset_index(drop=True)\n",
    "\n",
    "    # display(\n",
    "    #     pd.merge(\n",
    "    #         fold_valid_data.groupby(by=[\"label\"])[\"file_name\"].count().rename(\"valid\").reset_index(),\n",
    "    #         fold_train_data.groupby(by=[\"label\"])[\"file_name\"].count().rename(\"train\").reset_index(),\n",
    "    #          on=\"label\", how=\"left\").T,)\n",
    "\n",
    "\n",
    "    train_dataset = ImageTrainDataset(TRAIN_DATA_FOLDER, fold_train_data, transforms=train_transforms)\n",
    "    valid_dataset = ImageTrainDataset(TRAIN_DATA_FOLDER, fold_valid_data, transforms=val_transforms)\n",
    "\n",
    "    train_loader = DataLoader(\n",
    "            train_dataset,\n",
    "            batch_size=CFG.batch_size,\n",
    "            shuffle=True,\n",
    "            num_workers=os.cpu_count(),\n",
    "            pin_memory=True,\n",
    "            drop_last=True\n",
    "        )\n",
    "\n",
    "    valid_loader = DataLoader(\n",
    "        valid_dataset,\n",
    "        batch_size=CFG.batch_size,\n",
    "        shuffle=False,\n",
    "        num_workers=os.cpu_count(),\n",
    "        pin_memory=True,\n",
    "        drop_last=False,\n",
    "    )\n",
    "\n",
    "    # PREPARE MODEL, OPTIMIZER AND SCHEDULER\n",
    "    model = create_model()\n",
    "    print(f\"Model parameters: {sum(p.numel() for p in model.parameters() if p.requires_grad):_}\")\n",
    "\n",
    "    optimizer = torch.optim.AdamW(model.parameters(), lr=CFG.lr, weight_decay=CFG.weight_decay)\n",
    "    scheduler = torch.optim.lr_scheduler.CosineAnnealingLR(\n",
    "        optimizer, eta_min=1e-6, T_max =CFG.epochs * len(train_loader),\n",
    "        )\n",
    "    \n",
    "    loss_criterion = contrastive_loss\n",
    "\n",
    "    # TRAIN FOLD\n",
    "    learning_rate_history = []\n",
    "    train_loss_history = []\n",
    "    train_score_history = []\n",
    "    val_loss_history = []\n",
    "    val_score_history = []\n",
    "\n",
    "    best_score = 0\n",
    "    \n",
    "    wandb.run.tags = [f\"fold_{FOLD}\"]\n",
    "    \n",
    "    for epoch in range(0, CFG.epochs):\n",
    "        train_loss, train_lr, train_auc = train_epoch(CFG, model, train_loader, loss_criterion, optimizer, scheduler, epoch)\n",
    "        train_loss_history.append(train_loss)\n",
    "        train_score_history.append(train_auc)\n",
    "        learning_rate_history.extend(train_lr)\n",
    "\n",
    "        val_loss, val_auc = evaluate_model(CFG, model, valid_loader, loss_criterion, epoch)\n",
    "        val_loss_history.append(val_loss)\n",
    "        val_score_history.append(val_auc)\n",
    "        \n",
    "        wandb.log(\n",
    "            {'train': {'loss': train_loss, 'auc': train_auc}, \n",
    "             'val': {'loss': val_loss, 'auc': val_auc}})\n",
    "\n",
    "        if (val_auc >= best_score):\n",
    "            print(f\"{style.GREEN}New best score: {best_score:.4f} -> {val_auc:.4f}{style.END}\")\n",
    "            best_score = val_auc\n",
    "            torch.save(model.state_dict(), os.path.join(wandb.run.dir, f'best_model_fold_{FOLD}.pth'))\n",
    "            \n",
    "    # run.log_model(\n",
    "    #     path=os.path.join(wandb.run.dir, 'best_model_fold_{FOLD}'), \n",
    "    #     name=f'{CFG.model_name}_fold_{FOLD}'\n",
    "    # )\n",
    "\n",
    "    # # plot train and validation loss, score and LR\n",
    "    # fig, axes = plt.subplots(1,3, figsize=(12,3))\n",
    "    # axes[0].plot(train_loss_history, label=\"Train\")\n",
    "    # axes[0].plot(val_loss_history, label=\"Valid\")\n",
    "    # axes[0].title.set_text(\"Loss\")\n",
    "    # axes[0].set_xlabel(\"Epoch\")\n",
    "    # axes[0].legend()\n",
    "\n",
    "    # axes[1].plot(train_score_history, label=\"Train\")\n",
    "    # axes[1].plot(val_score_history, label=\"Valid\")\n",
    "    # axes[1].title.set_text(\"F1 score\")\n",
    "    # axes[1].set_xlabel(\"Epoch\")\n",
    "    # axes[1].legend()\n",
    "\n",
    "    # axes[2].plot(learning_rate_history, label=\"LR\")\n",
    "    # axes[2].legend()\n",
    "    # axes[2].title.set_text(\"Learning rate\")\n",
    "    # axes[2].set_xlabel(\"Step\")\n",
    "    # fig.suptitle(f\"Fold {FOLD}\")\n",
    "    # fig.tight_layout()\n",
    "    # plt.show()"
   ]
  },
  {
   "cell_type": "code",
   "execution_count": null,
   "id": "32ff7f3f",
   "metadata": {
    "papermill": {
     "duration": null,
     "end_time": null,
     "exception": null,
     "start_time": null,
     "status": "pending"
    },
    "tags": []
   },
   "outputs": [],
   "source": [
    "wandb.finish()"
   ]
  },
  {
   "cell_type": "code",
   "execution_count": null,
   "id": "b6eb03c3",
   "metadata": {
    "papermill": {
     "duration": null,
     "end_time": null,
     "exception": null,
     "start_time": null,
     "status": "pending"
    },
    "tags": []
   },
   "outputs": [],
   "source": []
  }
 ],
 "metadata": {
  "accelerator": "GPU",
  "colab": {
   "provenance": [],
   "toc_visible": true
  },
  "kaggle": {
   "accelerator": "gpu",
   "dataSources": [
    {
     "datasetId": 4568125,
     "sourceId": 7801430,
     "sourceType": "datasetVersion"
    },
    {
     "datasetId": 4568781,
     "sourceId": 7877494,
     "sourceType": "datasetVersion"
    }
   ],
   "dockerImageVersionId": 30664,
   "isGpuEnabled": true,
   "isInternetEnabled": true,
   "language": "python",
   "sourceType": "notebook"
  },
  "kernelspec": {
   "display_name": "Python 3 (ipykernel)",
   "language": "python",
   "name": "python3"
  },
  "language_info": {
   "codemirror_mode": {
    "name": "ipython",
    "version": 3
   },
   "file_extension": ".py",
   "mimetype": "text/x-python",
   "name": "python",
   "nbconvert_exporter": "python",
   "pygments_lexer": "ipython3",
   "version": "3.11.9"
  },
  "papermill": {
   "default_parameters": {},
   "duration": 116.762383,
   "end_time": "2024-05-12T01:11:53.896993",
   "environment_variables": {},
   "exception": true,
   "input_path": "model_contrastive.ipynb",
   "output_path": "output/o3.ipynb",
   "parameters": {},
   "start_time": "2024-05-12T01:09:57.134610",
   "version": "2.6.0"
  },
  "widgets": {
   "application/vnd.jupyter.widget-state+json": {
    "08d2c86ce4ab4b9e813473170145d4af": {
     "model_module": "@jupyter-widgets/controls",
     "model_module_version": "1.5.0",
     "model_name": "HTMLModel",
     "state": {
      "_dom_classes": [],
      "_model_module": "@jupyter-widgets/controls",
      "_model_module_version": "1.5.0",
      "_model_name": "HTMLModel",
      "_view_count": null,
      "_view_module": "@jupyter-widgets/controls",
      "_view_module_version": "1.5.0",
      "_view_name": "HTMLView",
      "description": "",
      "description_tooltip": null,
      "layout": "IPY_MODEL_96fb1b36ead648c4a4ebebb74c9fcf2c",
      "placeholder": "​",
      "style": "IPY_MODEL_af10206931434c6fbfde31af25affbfa",
      "value": "model.safetensors: 100%"
     }
    },
    "103798aed0c64914b55a691a4d22253e": {
     "model_module": "@jupyter-widgets/controls",
     "model_module_version": "1.5.0",
     "model_name": "HTMLModel",
     "state": {
      "_dom_classes": [],
      "_model_module": "@jupyter-widgets/controls",
      "_model_module_version": "1.5.0",
      "_model_name": "HTMLModel",
      "_view_count": null,
      "_view_module": "@jupyter-widgets/controls",
      "_view_module_version": "1.5.0",
      "_view_name": "HTMLView",
      "description": "",
      "description_tooltip": null,
      "layout": "IPY_MODEL_4420cb88a6a74540a671a529e7320589",
      "placeholder": "​",
      "style": "IPY_MODEL_6b7cb0c6580d4caba2c4f8385749a145",
      "value": " 124M/124M [00:00&lt;00:00, 384MB/s]"
     }
    },
    "2831af4d288b45b688ba9b5992dce3f4": {
     "model_module": "@jupyter-widgets/controls",
     "model_module_version": "1.5.0",
     "model_name": "FloatProgressModel",
     "state": {
      "_dom_classes": [],
      "_model_module": "@jupyter-widgets/controls",
      "_model_module_version": "1.5.0",
      "_model_name": "FloatProgressModel",
      "_view_count": null,
      "_view_module": "@jupyter-widgets/controls",
      "_view_module_version": "1.5.0",
      "_view_name": "ProgressView",
      "bar_style": "success",
      "description": "",
      "description_tooltip": null,
      "layout": "IPY_MODEL_a3763df1b6564f319afc8d67073af72f",
      "max": 124450218,
      "min": 0,
      "orientation": "horizontal",
      "style": "IPY_MODEL_a4c3f492a9b946a0b72df7ea6bb188a9",
      "value": 124450218
     }
    },
    "4420cb88a6a74540a671a529e7320589": {
     "model_module": "@jupyter-widgets/base",
     "model_module_version": "1.2.0",
     "model_name": "LayoutModel",
     "state": {
      "_model_module": "@jupyter-widgets/base",
      "_model_module_version": "1.2.0",
      "_model_name": "LayoutModel",
      "_view_count": null,
      "_view_module": "@jupyter-widgets/base",
      "_view_module_version": "1.2.0",
      "_view_name": "LayoutView",
      "align_content": null,
      "align_items": null,
      "align_self": null,
      "border": null,
      "bottom": null,
      "display": null,
      "flex": null,
      "flex_flow": null,
      "grid_area": null,
      "grid_auto_columns": null,
      "grid_auto_flow": null,
      "grid_auto_rows": null,
      "grid_column": null,
      "grid_gap": null,
      "grid_row": null,
      "grid_template_areas": null,
      "grid_template_columns": null,
      "grid_template_rows": null,
      "height": null,
      "justify_content": null,
      "justify_items": null,
      "left": null,
      "margin": null,
      "max_height": null,
      "max_width": null,
      "min_height": null,
      "min_width": null,
      "object_fit": null,
      "object_position": null,
      "order": null,
      "overflow": null,
      "overflow_x": null,
      "overflow_y": null,
      "padding": null,
      "right": null,
      "top": null,
      "visibility": null,
      "width": null
     }
    },
    "6b7cb0c6580d4caba2c4f8385749a145": {
     "model_module": "@jupyter-widgets/controls",
     "model_module_version": "1.5.0",
     "model_name": "DescriptionStyleModel",
     "state": {
      "_model_module": "@jupyter-widgets/controls",
      "_model_module_version": "1.5.0",
      "_model_name": "DescriptionStyleModel",
      "_view_count": null,
      "_view_module": "@jupyter-widgets/base",
      "_view_module_version": "1.2.0",
      "_view_name": "StyleView",
      "description_width": ""
     }
    },
    "87901707be784b03998e8b8093255ea6": {
     "model_module": "@jupyter-widgets/base",
     "model_module_version": "1.2.0",
     "model_name": "LayoutModel",
     "state": {
      "_model_module": "@jupyter-widgets/base",
      "_model_module_version": "1.2.0",
      "_model_name": "LayoutModel",
      "_view_count": null,
      "_view_module": "@jupyter-widgets/base",
      "_view_module_version": "1.2.0",
      "_view_name": "LayoutView",
      "align_content": null,
      "align_items": null,
      "align_self": null,
      "border": null,
      "bottom": null,
      "display": null,
      "flex": null,
      "flex_flow": null,
      "grid_area": null,
      "grid_auto_columns": null,
      "grid_auto_flow": null,
      "grid_auto_rows": null,
      "grid_column": null,
      "grid_gap": null,
      "grid_row": null,
      "grid_template_areas": null,
      "grid_template_columns": null,
      "grid_template_rows": null,
      "height": null,
      "justify_content": null,
      "justify_items": null,
      "left": null,
      "margin": null,
      "max_height": null,
      "max_width": null,
      "min_height": null,
      "min_width": null,
      "object_fit": null,
      "object_position": null,
      "order": null,
      "overflow": null,
      "overflow_x": null,
      "overflow_y": null,
      "padding": null,
      "right": null,
      "top": null,
      "visibility": null,
      "width": null
     }
    },
    "96fb1b36ead648c4a4ebebb74c9fcf2c": {
     "model_module": "@jupyter-widgets/base",
     "model_module_version": "1.2.0",
     "model_name": "LayoutModel",
     "state": {
      "_model_module": "@jupyter-widgets/base",
      "_model_module_version": "1.2.0",
      "_model_name": "LayoutModel",
      "_view_count": null,
      "_view_module": "@jupyter-widgets/base",
      "_view_module_version": "1.2.0",
      "_view_name": "LayoutView",
      "align_content": null,
      "align_items": null,
      "align_self": null,
      "border": null,
      "bottom": null,
      "display": null,
      "flex": null,
      "flex_flow": null,
      "grid_area": null,
      "grid_auto_columns": null,
      "grid_auto_flow": null,
      "grid_auto_rows": null,
      "grid_column": null,
      "grid_gap": null,
      "grid_row": null,
      "grid_template_areas": null,
      "grid_template_columns": null,
      "grid_template_rows": null,
      "height": null,
      "justify_content": null,
      "justify_items": null,
      "left": null,
      "margin": null,
      "max_height": null,
      "max_width": null,
      "min_height": null,
      "min_width": null,
      "object_fit": null,
      "object_position": null,
      "order": null,
      "overflow": null,
      "overflow_x": null,
      "overflow_y": null,
      "padding": null,
      "right": null,
      "top": null,
      "visibility": null,
      "width": null
     }
    },
    "a3763df1b6564f319afc8d67073af72f": {
     "model_module": "@jupyter-widgets/base",
     "model_module_version": "1.2.0",
     "model_name": "LayoutModel",
     "state": {
      "_model_module": "@jupyter-widgets/base",
      "_model_module_version": "1.2.0",
      "_model_name": "LayoutModel",
      "_view_count": null,
      "_view_module": "@jupyter-widgets/base",
      "_view_module_version": "1.2.0",
      "_view_name": "LayoutView",
      "align_content": null,
      "align_items": null,
      "align_self": null,
      "border": null,
      "bottom": null,
      "display": null,
      "flex": null,
      "flex_flow": null,
      "grid_area": null,
      "grid_auto_columns": null,
      "grid_auto_flow": null,
      "grid_auto_rows": null,
      "grid_column": null,
      "grid_gap": null,
      "grid_row": null,
      "grid_template_areas": null,
      "grid_template_columns": null,
      "grid_template_rows": null,
      "height": null,
      "justify_content": null,
      "justify_items": null,
      "left": null,
      "margin": null,
      "max_height": null,
      "max_width": null,
      "min_height": null,
      "min_width": null,
      "object_fit": null,
      "object_position": null,
      "order": null,
      "overflow": null,
      "overflow_x": null,
      "overflow_y": null,
      "padding": null,
      "right": null,
      "top": null,
      "visibility": null,
      "width": null
     }
    },
    "a4c3f492a9b946a0b72df7ea6bb188a9": {
     "model_module": "@jupyter-widgets/controls",
     "model_module_version": "1.5.0",
     "model_name": "ProgressStyleModel",
     "state": {
      "_model_module": "@jupyter-widgets/controls",
      "_model_module_version": "1.5.0",
      "_model_name": "ProgressStyleModel",
      "_view_count": null,
      "_view_module": "@jupyter-widgets/base",
      "_view_module_version": "1.2.0",
      "_view_name": "StyleView",
      "bar_color": null,
      "description_width": ""
     }
    },
    "af10206931434c6fbfde31af25affbfa": {
     "model_module": "@jupyter-widgets/controls",
     "model_module_version": "1.5.0",
     "model_name": "DescriptionStyleModel",
     "state": {
      "_model_module": "@jupyter-widgets/controls",
      "_model_module_version": "1.5.0",
      "_model_name": "DescriptionStyleModel",
      "_view_count": null,
      "_view_module": "@jupyter-widgets/base",
      "_view_module_version": "1.2.0",
      "_view_name": "StyleView",
      "description_width": ""
     }
    },
    "b53d0ba4ae3e496092fdf021cb4097aa": {
     "model_module": "@jupyter-widgets/controls",
     "model_module_version": "1.5.0",
     "model_name": "HBoxModel",
     "state": {
      "_dom_classes": [],
      "_model_module": "@jupyter-widgets/controls",
      "_model_module_version": "1.5.0",
      "_model_name": "HBoxModel",
      "_view_count": null,
      "_view_module": "@jupyter-widgets/controls",
      "_view_module_version": "1.5.0",
      "_view_name": "HBoxView",
      "box_style": "",
      "children": [
       "IPY_MODEL_08d2c86ce4ab4b9e813473170145d4af",
       "IPY_MODEL_2831af4d288b45b688ba9b5992dce3f4",
       "IPY_MODEL_103798aed0c64914b55a691a4d22253e"
      ],
      "layout": "IPY_MODEL_87901707be784b03998e8b8093255ea6"
     }
    }
   }
  }
 },
 "nbformat": 4,
 "nbformat_minor": 5
}